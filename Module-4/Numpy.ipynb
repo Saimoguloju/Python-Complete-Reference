{
 "cells": [
  {
   "cell_type": "markdown",
   "id": "b881fecb",
   "metadata": {},
   "source": [
    "## NumPy\n",
    "![Python logo](https://encrypted-tbn0.gstatic.com/images?q=tbn:ANd9GcTkiN-2R8BNLYDu7gn69yC7V-6p441dAJG2MQ&s)"
   ]
  },
  {
   "cell_type": "markdown",
   "id": "313fb2d2",
   "metadata": {},
   "source": [
    "### What is a Python NumPy?\n",
    "NumPy is a Python package which stands for ‘Numerical Python’. It is the core library for \n",
    "scientific computing, which contains a powerful n-dimensional array objects, provide tools for \n",
    "integrating C, C++ etc. It is also useful in linear algebra, random number capability etc. NumPy array \n",
    "can also be used as an efficient multi-dimensional container for generic data. \n",
    "### NumPy Array:\n",
    "Numpy array is a powerful N-dimensional array object which is in the form of rows \n",
    "and columns. We can initialize numpy arrays from nested Python lists and access it elements. Numpy \n",
    "arrays essentially come in two flavors: vectors and matrices. Vectors are strictly 1-d arrays and matrices \n",
    "are 2-d (but you should note a matrix can still have only one row or one column).\n",
    "### How do I install NumPy?\n",
    "To install Python NumPy, go to your command prompt and type “pip install numpy”. Once the \n",
    "installation is completed, go to your IDE and simply import it by typing: “import numpy as np”\n",
    "- Here, I have different elements that are stored in their respective memory locations. It is said to be two dimensional because it has rows as well as columns. In the above image, we have 3 columns and 4 rows available."
   ]
  },
  {
   "cell_type": "code",
   "execution_count": 1,
   "id": "f6e2a890",
   "metadata": {},
   "outputs": [
    {
     "name": "stdout",
     "output_type": "stream",
     "text": [
      "Requirement already satisfied: numpy in c:\\users\\saimo\\appdata\\local\\anaconda3\\lib\\site-packages (1.23.5)\n"
     ]
    },
    {
     "name": "stderr",
     "output_type": "stream",
     "text": [
      "WARNING: There was an error checking the latest version of pip.\n"
     ]
    }
   ],
   "source": [
    "!pip install numpy"
   ]
  },
  {
   "cell_type": "markdown",
   "id": "0a367c2b",
   "metadata": {},
   "source": [
    "#### How to create NumPy arrays :\n",
    "Syntax: numpy.array(object, dtype = None, copy = True, order = None, subok = False, ndmin = 0)\n",
    " "
   ]
  },
  {
   "cell_type": "code",
   "execution_count": 2,
   "id": "5e5aeef3",
   "metadata": {},
   "outputs": [],
   "source": [
    "import numpy as np"
   ]
  },
  {
   "cell_type": "code",
   "execution_count": 3,
   "id": "8a1bf2a4",
   "metadata": {},
   "outputs": [
    {
     "name": "stdout",
     "output_type": "stream",
     "text": [
      "[1 2 3]\n"
     ]
    }
   ],
   "source": [
    "# Single-dimensional Numpy Array:\n",
    "a=np.array([1,2,3])\n",
    "print(a)"
   ]
  },
  {
   "cell_type": "code",
   "execution_count": 4,
   "id": "91f69be5",
   "metadata": {},
   "outputs": [
    {
     "name": "stdout",
     "output_type": "stream",
     "text": [
      "[[1 2 3]\n",
      " [4 5 6]]\n"
     ]
    }
   ],
   "source": [
    "# Multi-dimensional Array:\n",
    "a=np.array([(1,2,3),(4,5,6)])\n",
    "print(a)"
   ]
  },
  {
   "cell_type": "markdown",
   "id": "6ab8f3d8",
   "metadata": {},
   "source": [
    "### NumPy Operations"
   ]
  },
  {
   "cell_type": "markdown",
   "id": "5c2afe67",
   "metadata": {},
   "source": [
    "#### ndim:\n",
    "To find the dimension of the array, whether it is a two-dimensional array or a single \n",
    "dimensional array use ndim function.."
   ]
  },
  {
   "cell_type": "code",
   "execution_count": 5,
   "id": "347d93a7",
   "metadata": {},
   "outputs": [
    {
     "name": "stdout",
     "output_type": "stream",
     "text": [
      "2\n"
     ]
    }
   ],
   "source": [
    "a = np.array([(1,2,3),(4,5,6)])\n",
    "print(a.ndim)"
   ]
  },
  {
   "cell_type": "markdown",
   "id": "9e01f1b4",
   "metadata": {},
   "source": [
    "#### itemsize:\n",
    "To calculate the byte size of each element in array use itemsize(). In the below code, I have \n",
    "defined a single dimensional array and with the help of ‘itemsize’ function, we can find the size \n",
    "of each element"
   ]
  },
  {
   "cell_type": "code",
   "execution_count": 6,
   "id": "863b83b2",
   "metadata": {},
   "outputs": [
    {
     "name": "stdout",
     "output_type": "stream",
     "text": [
      "4\n"
     ]
    }
   ],
   "source": [
    "a = np.array([(1,2,3)])\n",
    "print(a.itemsize)"
   ]
  },
  {
   "cell_type": "markdown",
   "id": "07072460",
   "metadata": {},
   "source": [
    "So every element occupies 4 byte in the above numpy array"
   ]
  },
  {
   "cell_type": "markdown",
   "id": "cb304ce0",
   "metadata": {},
   "source": [
    "#### dtype:\n",
    " if you want to know the data type of a particular element, you can use ‘dtype’ function which will print the datatype along with the size."
   ]
  },
  {
   "cell_type": "code",
   "execution_count": 7,
   "id": "6bd4ccd5",
   "metadata": {},
   "outputs": [
    {
     "name": "stdout",
     "output_type": "stream",
     "text": [
      "int32\n"
     ]
    }
   ],
   "source": [
    "a = np.array([(1,2,3)])\n",
    "print(a.dtype)"
   ]
  },
  {
   "cell_type": "markdown",
   "id": "e89e2057",
   "metadata": {},
   "source": [
    "As you can see, the data type of the array is integer 32 bits. Similarly, you can find the size and shape of \n",
    "the array using ‘size’ and ‘shape’ function respectively."
   ]
  },
  {
   "cell_type": "markdown",
   "id": "bbf94162",
   "metadata": {},
   "source": [
    "#### size: \n",
    " returns the no. of elements present in an array\n",
    "#### shape: \n",
    " it represents the shape of array i.e no. of rows and no. of columns "
   ]
  },
  {
   "cell_type": "code",
   "execution_count": 8,
   "id": "8985b024",
   "metadata": {},
   "outputs": [
    {
     "name": "stdout",
     "output_type": "stream",
     "text": [
      "6\n",
      "(1, 6)\n"
     ]
    }
   ],
   "source": [
    "a = np.array([(1,2,3,4,5,6)])\n",
    "print(a.size)\n",
    "print(a.shape)"
   ]
  },
  {
   "cell_type": "code",
   "execution_count": 9,
   "id": "732f3dec",
   "metadata": {},
   "outputs": [
    {
     "name": "stdout",
     "output_type": "stream",
     "text": [
      "6\n",
      "(2, 3)\n"
     ]
    }
   ],
   "source": [
    "a = np.array([(1,2,3),(4,5,6)])\n",
    "print(a.size)\n",
    "print(a.shape)"
   ]
  },
  {
   "cell_type": "markdown",
   "id": "51e752bd",
   "metadata": {},
   "source": [
    "### reshape:\n",
    "- Reshape is when you change the number of rows and columns which gives a new view to an object. we have 3 columns and 2 rows which has converted into 2 columns and 3 rows."
   ]
  },
  {
   "cell_type": "code",
   "execution_count": 10,
   "id": "5d2856c9",
   "metadata": {},
   "outputs": [
    {
     "name": "stdout",
     "output_type": "stream",
     "text": [
      "original array is\n",
      " [[ 8  9 10]\n",
      " [11 12 13]]\n",
      "after converting\n",
      " [[ 8  9]\n",
      " [10 11]\n",
      " [12 13]]\n"
     ]
    }
   ],
   "source": [
    "a = np.array([(8,9,10),(11,12,13)])\n",
    "print(\"original array is\\n\",a)\n",
    "a=a.reshape(3,2)\n",
    "print(\"after converting\\n\",a)"
   ]
  },
  {
   "cell_type": "markdown",
   "id": "20deb796",
   "metadata": {},
   "source": [
    "### Slicing:\n",
    "Slicing is basically extracting particular set of elements from an array. This slicing operation \n",
    "is pretty much similar to the one which is there in the list as well. Consider the following \n"
   ]
  },
  {
   "cell_type": "markdown",
   "id": "88e37142",
   "metadata": {},
   "source": [
    "```python\n",
    "Syntax for 1d-array:\n",
    "Array_name[start:end:step]\n",
    "Synatax for 2d-array:\n",
    "Array_name[start:end:step, start:end: step]\n",
    "```"
   ]
  },
  {
   "cell_type": "code",
   "execution_count": 11,
   "id": "190bca0d",
   "metadata": {},
   "outputs": [
    {
     "name": "stdout",
     "output_type": "stream",
     "text": [
      "[[1 2 3 4]\n",
      " [3 4 5 6]]\n",
      "[[1 3]\n",
      " [3 5]]\n"
     ]
    }
   ],
   "source": [
    "a=np.array([(1,2,3,4),(3,4,5,6)])\n",
    "print(a)\n",
    "print(a[0:,0::2])"
   ]
  },
  {
   "cell_type": "markdown",
   "id": "ebfa6d00",
   "metadata": {},
   "source": [
    "- min(): returns the minimum element from array \n",
    "- max():returns the maximum element from array\n",
    "- sum():returns the sum off all elements present in an array"
   ]
  },
  {
   "cell_type": "code",
   "execution_count": 12,
   "id": "f79c52dc",
   "metadata": {},
   "outputs": [
    {
     "name": "stdout",
     "output_type": "stream",
     "text": [
      "1\n",
      "3\n",
      "6\n"
     ]
    }
   ],
   "source": [
    "a= np.array([1,2,3])\n",
    "print(a.min()) \n",
    "print(a.max()) \n",
    "print(a.sum())"
   ]
  },
  {
   "cell_type": "markdown",
   "id": "c9698218",
   "metadata": {},
   "source": [
    "above min,max,sum functions works only for one dimensional array."
   ]
  },
  {
   "cell_type": "markdown",
   "id": "015d6025",
   "metadata": {},
   "source": [
    "- For two dimensional array use axis object \n",
    "i.e for columns sum use arrayname.sum(axis=0)\n",
    "- for rows sum use arrayname.sum(axis=1)\n"
   ]
  },
  {
   "cell_type": "code",
   "execution_count": 13,
   "id": "07fc8038",
   "metadata": {},
   "outputs": [
    {
     "name": "stdout",
     "output_type": "stream",
     "text": [
      "[[1 4 3]\n",
      " [0 2 5]]\n",
      "[1 6 8]\n",
      "[8 7]\n",
      "[0 2 3]\n",
      "[1 0]\n",
      "[1 4 5]\n",
      "[4 5]\n"
     ]
    }
   ],
   "source": [
    "a= np.array([(1,4,3),(0,2,5)])\n",
    "print(a)\n",
    "print(a.sum(axis=0)) \n",
    "print(a.sum(axis=1)) \n",
    "print(a.min(axis=0)) \n",
    "print(a.min(axis=1)) \n",
    "print(a.max(axis=0))\n",
    "print(a.max(axis=1))"
   ]
  },
  {
   "cell_type": "markdown",
   "id": "982de3a5",
   "metadata": {},
   "source": [
    "### Square Root & Standard Deviation:"
   ]
  },
  {
   "cell_type": "markdown",
   "id": "503f2837",
   "metadata": {},
   "source": [
    "#### sqrt():\n",
    "it returns array with Square Root of all element present in an array\n",
    "```python\n",
    "syntax:numpy.sqrt(array_name)\n",
    "```\n",
    "#### std():\n",
    ":is a measure of the amount of variation or dispersion of a set of values.\n",
    "In python using std() function we can find the Standard Deviation of the given array values\n",
    "```python\n",
    "Syntax: numpy.std(array_name)\n",
    "```"
   ]
  },
  {
   "cell_type": "code",
   "execution_count": 14,
   "id": "ccb3a65c",
   "metadata": {},
   "outputs": [
    {
     "name": "stdout",
     "output_type": "stream",
     "text": [
      "[[1.         1.41421356 3.        ]\n",
      " [4.         2.         1.        ]]\n",
      "Standard Deviation is: 5.439056290693573\n"
     ]
    }
   ],
   "source": [
    "a=np.array([(1,2,9),(16,4,1,)])\n",
    "print(np.sqrt(a))\n",
    "print(\"Standard Deviation is:\",np.std(a))"
   ]
  },
  {
   "cell_type": "markdown",
   "id": "c0d0cbaa",
   "metadata": {},
   "source": [
    "#### Note:\n",
    "we can also perform addition ,subtraction, multiplication and division operations on arrays"
   ]
  },
  {
   "cell_type": "markdown",
   "id": "b987ccfd",
   "metadata": {},
   "source": [
    "#### for addition/substraction/division/multiplication"
   ]
  },
  {
   "cell_type": "code",
   "execution_count": 15,
   "id": "9299ed51",
   "metadata": {},
   "outputs": [
    {
     "name": "stdout",
     "output_type": "stream",
     "text": [
      "substraction of two arrays is:\n",
      " [[0 0 0]\n",
      " [0 0 0]]\n",
      "addtion of two arrays is:\n",
      " [[ 1  4  9]\n",
      " [ 9 16 25]]\n",
      "division of two arrays is :\n",
      " [[1. 1. 1.]\n",
      " [1. 1. 1.]]\n",
      "multiplication of two arrays is:\n",
      " [[ 1  4  9]\n",
      " [ 9 16 25]]\n"
     ]
    }
   ],
   "source": [
    "x= np.array([(1,2,3),(3,4,5)])\n",
    "y= np.array([(1,2,3),(3,4,5)])\n",
    "print(\"substraction of two arrays is:\\n\",x-y)\n",
    "print(\"addtion of two arrays is:\\n\",x*y)\n",
    "print(\"division of two arrays is :\\n\",x/y)\n",
    "print(\"multiplication of two arrays is:\\n\",x*y)"
   ]
  },
  {
   "cell_type": "markdown",
   "id": "ec1593be",
   "metadata": {},
   "source": [
    "#### Note:\n",
    "(*) is used for array multiplication (multiplication of corresponding elements of two arrays) not \n",
    "matrix multiplication. To multiply two matrices, we use dot() method\n"
   ]
  },
  {
   "cell_type": "code",
   "execution_count": 16,
   "id": "d60511d3",
   "metadata": {},
   "outputs": [
    {
     "name": "stdout",
     "output_type": "stream",
     "text": [
      "[[22 28]\n",
      " [40 52]]\n"
     ]
    }
   ],
   "source": [
    "x= np.array([(1,2,3),(3,4,5)])\n",
    "y= np.array([(1,2),(3,4),(5,6)])\n",
    "print(x.dot(y))"
   ]
  },
  {
   "cell_type": "markdown",
   "id": "d7b91895",
   "metadata": {},
   "source": [
    "### Vertical & Horizontal Stacking\n",
    "if you want to concatenate two arrays and not just add them, you can perform it using two \n",
    "ways – vertical stacking and horizontal stacking."
   ]
  },
  {
   "cell_type": "code",
   "execution_count": 17,
   "id": "3cecd4db",
   "metadata": {},
   "outputs": [
    {
     "name": "stdout",
     "output_type": "stream",
     "text": [
      "vertical stacking of two matrices is:\n",
      " [[1 2 3]\n",
      " [3 4 5]\n",
      " [7 8 9]\n",
      " [4 5 6]]\n",
      "horizontal stacking of two matrices is:\n",
      " [[1 2 3 7 8 9]\n",
      " [3 4 5 4 5 6]]\n"
     ]
    }
   ],
   "source": [
    "x= np.array([(1,2,3),(3,4,5)])\n",
    "y= np.array([(7,8,9),(4,5,6)])\n",
    "print(\"vertical stacking of two matrices is:\\n\",np.vstack((x,y)))\n",
    "print(\"horizontal stacking of two matrices is:\\n\",np.hstack((x,y)))"
   ]
  },
  {
   "cell_type": "markdown",
   "id": "e2e0798a",
   "metadata": {},
   "source": [
    "### ravel():\n",
    "to convert one numpy array into a single column values"
   ]
  },
  {
   "cell_type": "code",
   "execution_count": 18,
   "id": "58ab925d",
   "metadata": {},
   "outputs": [
    {
     "name": "stdout",
     "output_type": "stream",
     "text": [
      "[1 2 3 3 4 5]\n"
     ]
    }
   ],
   "source": [
    "x= np.array([(1,2,3),(3,4,5)])\n",
    "print(x.ravel())"
   ]
  },
  {
   "cell_type": "markdown",
   "id": "101fbf78",
   "metadata": {},
   "source": [
    "### Built-in Methods"
   ]
  },
  {
   "cell_type": "markdown",
   "id": "e34c3284",
   "metadata": {},
   "source": [
    "#### arange():\n",
    "Return evenly spaced values within a given interval.\n",
    "```python\n",
    "Syntax: arrange(start,stop,step, dtype=None)\n",
    "```"
   ]
  },
  {
   "cell_type": "code",
   "execution_count": 19,
   "id": "97cb90b0",
   "metadata": {},
   "outputs": [
    {
     "data": {
      "text/plain": [
       "array([0, 1, 2])"
      ]
     },
     "execution_count": 19,
     "metadata": {},
     "output_type": "execute_result"
    }
   ],
   "source": [
    "np.arange(3)"
   ]
  },
  {
   "cell_type": "code",
   "execution_count": 20,
   "id": "681a35e2",
   "metadata": {},
   "outputs": [
    {
     "data": {
      "text/plain": [
       "array([0., 1., 2., 3.])"
      ]
     },
     "execution_count": 20,
     "metadata": {},
     "output_type": "execute_result"
    }
   ],
   "source": [
    "np.arange(4.0)"
   ]
  },
  {
   "cell_type": "code",
   "execution_count": 21,
   "id": "a8840576",
   "metadata": {},
   "outputs": [
    {
     "data": {
      "text/plain": [
       "array([3, 4, 5, 6])"
      ]
     },
     "execution_count": 21,
     "metadata": {},
     "output_type": "execute_result"
    }
   ],
   "source": [
    "np.arange(3,7)"
   ]
  },
  {
   "cell_type": "code",
   "execution_count": 22,
   "id": "4ac2ecc1",
   "metadata": {},
   "outputs": [
    {
     "data": {
      "text/plain": [
       "array([3, 5, 7, 9])"
      ]
     },
     "execution_count": 22,
     "metadata": {},
     "output_type": "execute_result"
    }
   ],
   "source": [
    "np.arange(3,10,2)"
   ]
  },
  {
   "cell_type": "code",
   "execution_count": 23,
   "id": "f16228b4",
   "metadata": {},
   "outputs": [
    {
     "data": {
      "text/plain": [
       "array([3.+0.j, 5.+0.j, 7.+0.j, 9.+0.j])"
      ]
     },
     "execution_count": 23,
     "metadata": {},
     "output_type": "execute_result"
    }
   ],
   "source": [
    "np.arange(3,10,2,dtype=\"complex\")"
   ]
  },
  {
   "cell_type": "markdown",
   "id": "156250bd",
   "metadata": {},
   "source": [
    "#### zeros():\n",
    "Return a new array of given shape and type, filled with zeros\n",
    "```python\n",
    "Syntax: zeros(shape, dtype=float, order='C')\n",
    "```"
   ]
  },
  {
   "cell_type": "code",
   "execution_count": 24,
   "id": "774234b3",
   "metadata": {},
   "outputs": [
    {
     "data": {
      "text/plain": [
       "array([0., 0., 0., 0., 0.])"
      ]
     },
     "execution_count": 24,
     "metadata": {},
     "output_type": "execute_result"
    }
   ],
   "source": [
    "np.zeros(5)"
   ]
  },
  {
   "cell_type": "code",
   "execution_count": 25,
   "id": "65c81884",
   "metadata": {},
   "outputs": [
    {
     "data": {
      "text/plain": [
       "array([0, 0, 0, 0, 0])"
      ]
     },
     "execution_count": 25,
     "metadata": {},
     "output_type": "execute_result"
    }
   ],
   "source": [
    "np.zeros((5,), dtype=int)"
   ]
  },
  {
   "cell_type": "code",
   "execution_count": 26,
   "id": "7685dd85",
   "metadata": {},
   "outputs": [
    {
     "data": {
      "text/plain": [
       "array([[0.],\n",
       "       [0.]])"
      ]
     },
     "execution_count": 26,
     "metadata": {},
     "output_type": "execute_result"
    }
   ],
   "source": [
    "np.zeros((2, 1))"
   ]
  },
  {
   "cell_type": "code",
   "execution_count": 27,
   "id": "c320fa4f",
   "metadata": {},
   "outputs": [
    {
     "data": {
      "text/plain": [
       "array([[0., 0.],\n",
       "       [0., 0.]])"
      ]
     },
     "execution_count": 27,
     "metadata": {},
     "output_type": "execute_result"
    }
   ],
   "source": [
    "s = (2,2)\n",
    "np.zeros(s)"
   ]
  },
  {
   "cell_type": "code",
   "execution_count": 28,
   "id": "c9e18e3b",
   "metadata": {},
   "outputs": [
    {
     "name": "stdout",
     "output_type": "stream",
     "text": [
      "[[0.]\n",
      " [0.]]\n"
     ]
    }
   ],
   "source": [
    "print(np.zeros((2, 1)))"
   ]
  },
  {
   "cell_type": "markdown",
   "id": "43f49976",
   "metadata": {},
   "source": [
    "#### Ones():\n",
    "Return a new array of given shape and type, filled with ones, and default datatype is float\n",
    "```python\n",
    "Syntax:ones(shape, dtype=None, order='C')\n",
    "```"
   ]
  },
  {
   "cell_type": "code",
   "execution_count": 29,
   "id": "4054d7e9",
   "metadata": {},
   "outputs": [
    {
     "data": {
      "text/plain": [
       "array([1., 1., 1., 1., 1.])"
      ]
     },
     "execution_count": 29,
     "metadata": {},
     "output_type": "execute_result"
    }
   ],
   "source": [
    "np.ones(5)"
   ]
  },
  {
   "cell_type": "code",
   "execution_count": 30,
   "id": "f9f0bcc5",
   "metadata": {},
   "outputs": [
    {
     "data": {
      "text/plain": [
       "array([1, 1, 1, 1, 1])"
      ]
     },
     "execution_count": 30,
     "metadata": {},
     "output_type": "execute_result"
    }
   ],
   "source": [
    "np.ones((5,), dtype=int)"
   ]
  },
  {
   "cell_type": "code",
   "execution_count": 31,
   "id": "178ba780",
   "metadata": {},
   "outputs": [
    {
     "data": {
      "text/plain": [
       "array([[1.],\n",
       "       [1.]])"
      ]
     },
     "execution_count": 31,
     "metadata": {},
     "output_type": "execute_result"
    }
   ],
   "source": [
    "np.ones((2, 1))"
   ]
  },
  {
   "cell_type": "code",
   "execution_count": 32,
   "id": "6c153028",
   "metadata": {},
   "outputs": [
    {
     "data": {
      "text/plain": [
       "array([[1., 1.],\n",
       "       [1., 1.]])"
      ]
     },
     "execution_count": 32,
     "metadata": {},
     "output_type": "execute_result"
    }
   ],
   "source": [
    "s = (2,2)\n",
    "np.ones(s)"
   ]
  },
  {
   "cell_type": "markdown",
   "id": "56ff830f",
   "metadata": {},
   "source": [
    "#### Linspace():\n",
    "Return evenly spaced numbers over a specified interval.\n",
    "```python\n",
    "Syntax:linspace(start, stop, num=50, endpoint=True, retstep=False, dtype=None, axis=0)\n",
    "```"
   ]
  },
  {
   "cell_type": "code",
   "execution_count": 33,
   "id": "1c518356",
   "metadata": {},
   "outputs": [
    {
     "data": {
      "text/plain": [
       "array([2.  , 2.25, 2.5 , 2.75, 3.  ])"
      ]
     },
     "execution_count": 33,
     "metadata": {},
     "output_type": "execute_result"
    }
   ],
   "source": [
    "np.linspace(2.0, 3.0, num=5)"
   ]
  },
  {
   "cell_type": "code",
   "execution_count": 34,
   "id": "3855005b",
   "metadata": {},
   "outputs": [
    {
     "data": {
      "text/plain": [
       "array([2. , 2.2, 2.4, 2.6, 2.8])"
      ]
     },
     "execution_count": 34,
     "metadata": {},
     "output_type": "execute_result"
    }
   ],
   "source": [
    " np.linspace(2.0, 3.0, num=5, endpoint=False)"
   ]
  },
  {
   "cell_type": "code",
   "execution_count": 35,
   "id": "87db68ea",
   "metadata": {},
   "outputs": [
    {
     "data": {
      "text/plain": [
       "(array([2.  , 2.25, 2.5 , 2.75, 3.  ]), 0.25)"
      ]
     },
     "execution_count": 35,
     "metadata": {},
     "output_type": "execute_result"
    }
   ],
   "source": [
    " np.linspace(2.0, 3.0, num=5, retstep=True)"
   ]
  },
  {
   "cell_type": "code",
   "execution_count": 36,
   "id": "37980b00",
   "metadata": {},
   "outputs": [
    {
     "data": {
      "text/plain": [
       "array([  1,  34,  67, 100])"
      ]
     },
     "execution_count": 36,
     "metadata": {},
     "output_type": "execute_result"
    }
   ],
   "source": [
    "np.linspace(1,100,num=4,dtype=int)"
   ]
  },
  {
   "cell_type": "markdown",
   "id": "9d32866f",
   "metadata": {},
   "source": [
    "### random():\n",
    "it returns Random Number Generation array\n",
    " Utility functions of random function"
   ]
  },
  {
   "cell_type": "markdown",
   "id": "f0202548",
   "metadata": {},
   "source": [
    "#### rand():\n",
    "creates array of specifid shape and fills it with random values as per uniform distribution"
   ]
  },
  {
   "cell_type": "code",
   "execution_count": 37,
   "id": "185ccd8a",
   "metadata": {},
   "outputs": [
    {
     "name": "stdout",
     "output_type": "stream",
     "text": [
      "[[0.35481073 0.55122336]\n",
      " [0.49048979 0.69590133]]\n"
     ]
    }
   ],
   "source": [
    "print(np.random.rand(2,2))"
   ]
  },
  {
   "cell_type": "markdown",
   "id": "044f2900",
   "metadata": {},
   "source": [
    "#### randn():\n",
    "creates array of specifid shape and fills it with random values as per standard normal distribution"
   ]
  },
  {
   "cell_type": "code",
   "execution_count": 38,
   "id": "4753a3c7",
   "metadata": {},
   "outputs": [
    {
     "name": "stdout",
     "output_type": "stream",
     "text": [
      "[[-1.30581103 -0.05174023]\n",
      " [-0.77054159 -0.63347237]]\n"
     ]
    }
   ],
   "source": [
    "print(np.random.randn(2,2))"
   ]
  },
  {
   "cell_type": "markdown",
   "id": "6885f181",
   "metadata": {},
   "source": [
    "#### randint():\n",
    "crates array of specified shape and fills it with random integers from low(inclusive) to \n",
    "high(exclusive). If high is not mentioned then the interval will be [0,low]"
   ]
  },
  {
   "cell_type": "markdown",
   "id": "27159ce4",
   "metadata": {},
   "source": [
    "```python\n",
    "Syntax: randint(low, high=None, size=None, dtype='l')\n",
    "```"
   ]
  },
  {
   "cell_type": "code",
   "execution_count": 39,
   "id": "2468bb20",
   "metadata": {},
   "outputs": [
    {
     "name": "stdout",
     "output_type": "stream",
     "text": [
      "[0 0 0 0 0]\n"
     ]
    }
   ],
   "source": [
    "print(np.random.randint(1, size=5))"
   ]
  },
  {
   "cell_type": "code",
   "execution_count": 40,
   "id": "8e4bac12",
   "metadata": {},
   "outputs": [
    {
     "name": "stdout",
     "output_type": "stream",
     "text": [
      "[1 2 0 0 1]\n"
     ]
    }
   ],
   "source": [
    "print(np.random.randint(3, size=5))"
   ]
  },
  {
   "cell_type": "code",
   "execution_count": 41,
   "id": "c920de6a",
   "metadata": {},
   "outputs": [
    {
     "name": "stdout",
     "output_type": "stream",
     "text": [
      "[[4 1 4 3]\n",
      " [1 1 3 2]]\n"
     ]
    }
   ],
   "source": [
    "print(np.random.randint(1,5, size=(2, 4)))"
   ]
  },
  {
   "cell_type": "code",
   "execution_count": 42,
   "id": "df6d0d26",
   "metadata": {},
   "outputs": [
    {
     "name": "stdout",
     "output_type": "stream",
     "text": [
      "[[4 4 4]\n",
      " [4 4 4]]\n"
     ]
    }
   ],
   "source": [
    "print(np.random.randint(4,5, size=(2, 3)))"
   ]
  },
  {
   "cell_type": "markdown",
   "id": "d6fdab2a",
   "metadata": {},
   "source": [
    "#### eye():\n",
    "Creates an identity matrix"
   ]
  },
  {
   "cell_type": "code",
   "execution_count": 43,
   "id": "63105133",
   "metadata": {},
   "outputs": [
    {
     "name": "stdout",
     "output_type": "stream",
     "text": [
      "[[1. 0.]\n",
      " [0. 1.]]\n"
     ]
    }
   ],
   "source": [
    "print(np.eye(2,2))"
   ]
  },
  {
   "cell_type": "code",
   "execution_count": 44,
   "id": "52368254",
   "metadata": {},
   "outputs": [
    {
     "name": "stdout",
     "output_type": "stream",
     "text": [
      "[[1. 0. 0.]\n",
      " [0. 1. 0.]\n",
      " [0. 0. 1.]]\n"
     ]
    }
   ],
   "source": [
    "print(np.eye(3,3))"
   ]
  },
  {
   "cell_type": "code",
   "execution_count": 45,
   "id": "179aa991",
   "metadata": {},
   "outputs": [
    {
     "name": "stdout",
     "output_type": "stream",
     "text": [
      "[[1. 0. 0. 0.]\n",
      " [0. 1. 0. 0.]]\n"
     ]
    }
   ],
   "source": [
    "print(np.eye(2,4))"
   ]
  },
  {
   "cell_type": "markdown",
   "id": "618768b1",
   "metadata": {},
   "source": [
    "####  concatenate():\n",
    "Join a sequence of arrays along an existing axis.\n",
    "```python\n",
    "Synatx: concatenate((a1, a2, ...), axis=0, out=None)\n",
    "```\n",
    "a1, a2, ... : sequence of arrays: The arrays must have the same shape, except in the dimension\n",
    " corresponding to 'axis'."
   ]
  },
  {
   "cell_type": "code",
   "execution_count": 46,
   "id": "0b8db2e1",
   "metadata": {},
   "outputs": [
    {
     "data": {
      "text/plain": [
       "array([[1, 2],\n",
       "       [3, 4],\n",
       "       [5, 6]])"
      ]
     },
     "execution_count": 46,
     "metadata": {},
     "output_type": "execute_result"
    }
   ],
   "source": [
    "a = np.array([[1, 2], [3, 4]])\n",
    "b = np.array([[5, 6]])\n",
    "np.concatenate((a, b), axis=0)"
   ]
  },
  {
   "cell_type": "code",
   "execution_count": 47,
   "id": "6970ba44",
   "metadata": {},
   "outputs": [
    {
     "data": {
      "text/plain": [
       "array([[1, 2, 5],\n",
       "       [3, 4, 6]])"
      ]
     },
     "execution_count": 47,
     "metadata": {},
     "output_type": "execute_result"
    }
   ],
   "source": [
    "a = np.array([[1, 2], [3, 4]])\n",
    "b = np.array([[5, 6]])\n",
    "np.concatenate((a, b.T), axis=1)"
   ]
  },
  {
   "cell_type": "markdown",
   "id": "741960a3",
   "metadata": {},
   "source": [
    "#### Matrix creation using matrix class\n",
    "A matrix is a two-dimensional data structure where numbers are arranged into rows and \n",
    "columns.\n",
    "```python\n",
    "Syntax: numpy.matrix(data, dtype=None, copy=True)\n",
    "```\n",
    "- Returns a matrix from an array-like object, or from a string of data"
   ]
  },
  {
   "cell_type": "code",
   "execution_count": 48,
   "id": "ccee34dd",
   "metadata": {},
   "outputs": [
    {
     "name": "stdout",
     "output_type": "stream",
     "text": [
      "[[1 2]\n",
      " [3 4]]\n"
     ]
    }
   ],
   "source": [
    "a = np.matrix('1 2; 3 4')\n",
    "print(a)"
   ]
  },
  {
   "cell_type": "code",
   "execution_count": 49,
   "id": "5bbd9f52",
   "metadata": {},
   "outputs": [
    {
     "name": "stdout",
     "output_type": "stream",
     "text": [
      "[[1 2]\n",
      " [3 4]]\n"
     ]
    }
   ],
   "source": [
    "a = np.matrix([[1, 2], [3, 4]])\n",
    "print(a)\n"
   ]
  },
  {
   "cell_type": "markdown",
   "id": "c35de2d0",
   "metadata": {},
   "source": [
    "#### Matrix addition(+),substraction(-), multiplication(*)"
   ]
  },
  {
   "cell_type": "code",
   "execution_count": 50,
   "id": "0e89c0c3",
   "metadata": {},
   "outputs": [],
   "source": [
    "x= np.matrix([(1,2,3),(3,4,5),(4,5,6)])\n",
    "y= np.matrix([(1,2,3),(3,4,6),(5,6,7)])"
   ]
  },
  {
   "cell_type": "code",
   "execution_count": 51,
   "id": "26f30d5c",
   "metadata": {},
   "outputs": [
    {
     "name": "stdout",
     "output_type": "stream",
     "text": [
      "addition of two matrices is:\n",
      " [[ 2  4  6]\n",
      " [ 6  8 11]\n",
      " [ 9 11 13]]\n"
     ]
    }
   ],
   "source": [
    "print(\"addition of two matrices is:\\n\",x+y)"
   ]
  },
  {
   "cell_type": "code",
   "execution_count": 52,
   "id": "b03ed55e",
   "metadata": {},
   "outputs": [
    {
     "name": "stdout",
     "output_type": "stream",
     "text": [
      "substraction of two matrices is:\n",
      " [[ 0  0  0]\n",
      " [ 0  0 -1]\n",
      " [-1 -1 -1]]\n"
     ]
    }
   ],
   "source": [
    "print(\"substraction of two matrices is:\\n\",x-y)"
   ]
  },
  {
   "cell_type": "code",
   "execution_count": 53,
   "id": "41b4f24b",
   "metadata": {},
   "outputs": [
    {
     "name": "stdout",
     "output_type": "stream",
     "text": [
      "multiplication of two matrices is:\n",
      " [[22 28 36]\n",
      " [40 52 68]\n",
      " [49 64 84]]\n"
     ]
    }
   ],
   "source": [
    "print(\"multiplication of two matrices is:\\n\",x*y)"
   ]
  },
  {
   "cell_type": "markdown",
   "id": "04b03db6",
   "metadata": {},
   "source": [
    "#### Matrix transpose():\n",
    "The transpose of a matrix is obtained by moving the rows data to the column and columns data \n",
    "to the rows. If we have an array of shape (X, Y) then the transpose of the array will have the shape (Y, \n",
    "X)"
   ]
  },
  {
   "cell_type": "code",
   "execution_count": 54,
   "id": "1061ee9a",
   "metadata": {},
   "outputs": [
    {
     "name": "stdout",
     "output_type": "stream",
     "text": [
      "Original Array:\n",
      " [[1 2 3]\n",
      " [4 5 6]]\n",
      "Transposed Array:\n",
      " [[1 4]\n",
      " [2 5]\n",
      " [3 6]]\n"
     ]
    }
   ],
   "source": [
    "a = np.array([[1, 2, 3], [4, 5, 6]])\n",
    "print(\"Original Array:\\n\",a)\n",
    "a_t = a.transpose()\n",
    "print(\"Transposed Array:\\n\",a_t)"
   ]
  },
  {
   "cell_type": "code",
   "execution_count": 55,
   "id": "b6524dad",
   "metadata": {},
   "outputs": [
    {
     "name": "stdout",
     "output_type": "stream",
     "text": [
      "Original matrix:\n",
      " [[1 2 3]\n",
      " [4 5 6]]\n",
      "Transposed matrix:\n",
      " [[1 4]\n",
      " [2 5]\n",
      " [3 6]]\n"
     ]
    }
   ],
   "source": [
    "a = np.matrix([[1, 2, 3], [4, 5, 6]])\n",
    "print(\"Original matrix:\\n\",a)\n",
    "print(\"Transposed matrix:\\n\",a.T)"
   ]
  },
  {
   "cell_type": "markdown",
   "id": "cac54c19",
   "metadata": {},
   "source": [
    "#### Inverse of a matrix:\n",
    "We use numpy. linalg. inv() function to calculate the inverse of a matrix. The inverse of a matrix is such \n",
    "that if it is multiplied by the original matrix, it results in identity matrix\n"
   ]
  },
  {
   "cell_type": "code",
   "execution_count": 56,
   "id": "3a4ed9db",
   "metadata": {},
   "outputs": [
    {
     "name": "stdout",
     "output_type": "stream",
     "text": [
      "Original matrix:\n",
      "[[1 2]\n",
      " [3 4]]\n",
      "Inverse of a given matrix:\n",
      "[[-2.   1. ]\n",
      " [ 1.5 -0.5]]\n"
     ]
    }
   ],
   "source": [
    "m = np.array([[1,2],[3,4]])\n",
    "print(\"Original matrix:\")\n",
    "print(m)\n",
    "result = np.linalg.inv(m)\n",
    "print(\"Inverse of a given matrix:\")\n",
    "print(result)"
   ]
  },
  {
   "cell_type": "markdown",
   "id": "0a62edb9",
   "metadata": {},
   "source": [
    "## Some additional operations "
   ]
  },
  {
   "cell_type": "code",
   "execution_count": 57,
   "id": "0081615a",
   "metadata": {},
   "outputs": [],
   "source": [
    "from time import process_time"
   ]
  },
  {
   "cell_type": "code",
   "execution_count": 58,
   "id": "df50c58e",
   "metadata": {},
   "outputs": [
    {
     "name": "stdout",
     "output_type": "stream",
     "text": [
      "1.953125\n"
     ]
    }
   ],
   "source": [
    "list1=[i for i in range(10000000)]\n",
    "start_time=process_time()\n",
    "list1=[i+10 for i in list1] #adding five to each number\n",
    "end_time=process_time()\n",
    "print(end_time-start_time)"
   ]
  },
  {
   "cell_type": "code",
   "execution_count": 59,
   "id": "1b3bd3ea",
   "metadata": {},
   "outputs": [
    {
     "name": "stdout",
     "output_type": "stream",
     "text": [
      "0.015625\n"
     ]
    }
   ],
   "source": [
    "array1=np.array([i for i in range(10000000)])\n",
    "start_time=process_time()\n",
    "array1+=10\n",
    "end_time=process_time()\n",
    "print(end_time-start_time)"
   ]
  },
  {
   "cell_type": "code",
   "execution_count": 60,
   "id": "7428add8",
   "metadata": {},
   "outputs": [
    {
     "name": "stdout",
     "output_type": "stream",
     "text": [
      "[1, 2, 3, 4, 5]\n",
      "<class 'list'>\n"
     ]
    }
   ],
   "source": [
    "list1=[1,2,3,4,5]\n",
    "print(list1)\n",
    "print(type(list1))"
   ]
  },
  {
   "cell_type": "code",
   "execution_count": 61,
   "id": "61957461",
   "metadata": {},
   "outputs": [
    {
     "name": "stdout",
     "output_type": "stream",
     "text": [
      "[1 2 3 4 5]\n",
      "<class 'numpy.ndarray'>\n"
     ]
    }
   ],
   "source": [
    "Array1=np.array([1,2,3,4,5])\n",
    "print(Array1)\n",
    "print(type(Array1))"
   ]
  },
  {
   "cell_type": "code",
   "execution_count": 62,
   "id": "d8908f5f",
   "metadata": {},
   "outputs": [
    {
     "name": "stdout",
     "output_type": "stream",
     "text": [
      "[1 3 5 7 9]\n"
     ]
    }
   ],
   "source": [
    "x=np.arange(1,10,2) # from 1 to 10 with step size 2\n",
    "print(x)"
   ]
  },
  {
   "cell_type": "code",
   "execution_count": 63,
   "id": "29e09e88",
   "metadata": {},
   "outputs": [
    {
     "name": "stdout",
     "output_type": "stream",
     "text": [
      "[0.22743127 0.15955624 0.28529162 0.29154501 0.55735255]\n"
     ]
    }
   ],
   "source": [
    "x=np.random.rand(5)\n",
    "print(x)"
   ]
  },
  {
   "cell_type": "code",
   "execution_count": 64,
   "id": "11ec6041",
   "metadata": {},
   "outputs": [
    {
     "name": "stdout",
     "output_type": "stream",
     "text": [
      "[[1 2 3]\n",
      " [4 5 6]\n",
      " [7 8 9]]\n"
     ]
    }
   ],
   "source": [
    "list1=[[1,2,3],[4,5,6],[7,8,9]]\n",
    "my_matrix=np.array(list1)\n",
    "print(my_matrix)"
   ]
  },
  {
   "cell_type": "code",
   "execution_count": 65,
   "id": "5d04d65d",
   "metadata": {},
   "outputs": [
    {
     "name": "stdout",
     "output_type": "stream",
     "text": [
      "[[0.41504954 0.1499676  0.23502305]\n",
      " [0.74382146 0.54170172 0.88294935]]\n"
     ]
    }
   ],
   "source": [
    "# 2*3 matrix contain from zero to one\n",
    "x=np.random.rand(2,3)\n",
    "print(x)"
   ]
  },
  {
   "cell_type": "code",
   "execution_count": 66,
   "id": "4148694e",
   "metadata": {},
   "outputs": [
    {
     "name": "stdout",
     "output_type": "stream",
     "text": [
      "[-0.43220117  1.43000712  1.36736339  0.55426689 -0.30273077]\n"
     ]
    }
   ],
   "source": [
    "# random values follows std normal distribution means whose mean is zero and std dev is 1\n",
    "x=np.random.randn(5)\n",
    "print(x)"
   ]
  },
  {
   "cell_type": "code",
   "execution_count": 67,
   "id": "2e42f36a",
   "metadata": {},
   "outputs": [
    {
     "name": "stdout",
     "output_type": "stream",
     "text": [
      "[[-0.95232934 -0.19883488  0.37950924 -0.24962288]\n",
      " [ 1.17777945 -0.37651001  1.98694541  0.67379512]\n",
      " [ 1.20186166 -0.93266277 -0.64100335 -0.44505077]]\n"
     ]
    }
   ],
   "source": [
    "# random values follows std normal distribution means whose mean is zero and std dev is 1\n",
    "x=np.random.randn(3,4)\n",
    "print(x)"
   ]
  },
  {
   "cell_type": "code",
   "execution_count": 68,
   "id": "3411e3db",
   "metadata": {},
   "outputs": [
    {
     "name": "stdout",
     "output_type": "stream",
     "text": [
      "[[36 80 86 70]\n",
      " [57 79 70 46]\n",
      " [10 70 30 39]]\n"
     ]
    }
   ],
   "source": [
    "x=np.random.randint(10,100,(3,4))\n",
    "print(x)"
   ]
  },
  {
   "cell_type": "code",
   "execution_count": 69,
   "id": "87322eca",
   "metadata": {},
   "outputs": [
    {
     "name": "stdout",
     "output_type": "stream",
     "text": [
      "[[1. 2. 3. 4.]\n",
      " [5. 6. 7. 8.]]\n"
     ]
    },
    {
     "data": {
      "text/plain": [
       "(2, 4)"
      ]
     },
     "execution_count": 69,
     "metadata": {},
     "output_type": "execute_result"
    }
   ],
   "source": [
    "# now create two dimentional array (with defining values at float values)\n",
    "array2=np.array([(1,2,3,4),(5,6,7,8)],dtype=float)\n",
    "print(array2)\n",
    "array2.shape"
   ]
  },
  {
   "cell_type": "code",
   "execution_count": 70,
   "id": "9f65c17b",
   "metadata": {},
   "outputs": [
    {
     "name": "stdout",
     "output_type": "stream",
     "text": [
      "[[[1 2 3]\n",
      "  [4 5 6]]\n",
      "\n",
      " [[1 2 3]\n",
      "  [4 5 6]]]\n"
     ]
    }
   ],
   "source": [
    "arr = np.array([[[1, 2, 3], [4, 5, 6]], [[1, 2, 3], [4, 5, 6]]])\n",
    "print(arr)"
   ]
  },
  {
   "cell_type": "code",
   "execution_count": 71,
   "id": "c23e9e3e",
   "metadata": {},
   "outputs": [
    {
     "name": "stdout",
     "output_type": "stream",
     "text": [
      "[[[[[1 2 3 4]]]]]\n",
      "number of dimensions : 5\n"
     ]
    }
   ],
   "source": [
    "arr = np.array([1, 2, 3, 4], ndmin=5)\n",
    "print(arr)\n",
    "print('number of dimensions :', arr.ndim)"
   ]
  },
  {
   "cell_type": "code",
   "execution_count": 72,
   "id": "6fbd7434",
   "metadata": {},
   "outputs": [
    {
     "name": "stdout",
     "output_type": "stream",
     "text": [
      "[[5 5 5 5]\n",
      " [5 5 5 5]\n",
      " [5 5 5 5]\n",
      " [5 5 5 5]]\n"
     ]
    }
   ],
   "source": [
    "x=np.full((4,4),5)\n",
    "print(x)"
   ]
  },
  {
   "cell_type": "code",
   "execution_count": 73,
   "id": "4a988259",
   "metadata": {},
   "outputs": [
    {
     "name": "stdout",
     "output_type": "stream",
     "text": [
      "[[0.73935559 0.6602988  0.15297479 0.41823396]\n",
      " [0.91701025 0.741273   0.20199678 0.38055958]\n",
      " [0.21309894 0.64396206 0.44031578 0.33161941]]\n"
     ]
    }
   ],
   "source": [
    "# create array with random values\n",
    "x=np.random.random((3,4))\n",
    "print(x)"
   ]
  },
  {
   "cell_type": "code",
   "execution_count": 74,
   "id": "61cd3f16",
   "metadata": {},
   "outputs": [
    {
     "name": "stdout",
     "output_type": "stream",
     "text": [
      "[[74 89 94 69]\n",
      " [85 90 28 40]\n",
      " [77 63 84 42]]\n"
     ]
    }
   ],
   "source": [
    "# create random int values\n",
    "x=np.random.randint(10,100,(3,4))\n",
    "print(x)"
   ]
  },
  {
   "cell_type": "code",
   "execution_count": 75,
   "id": "54fbbca9",
   "metadata": {},
   "outputs": [
    {
     "name": "stdout",
     "output_type": "stream",
     "text": [
      "[10. 15. 20. 25. 30.]\n"
     ]
    }
   ],
   "source": [
    "# creating array of evenly spaced values\n",
    "x=np.linspace(10,30,5)\n",
    "print(x)"
   ]
  },
  {
   "cell_type": "code",
   "execution_count": 76,
   "id": "f7c9442c",
   "metadata": {},
   "outputs": [
    {
     "name": "stdout",
     "output_type": "stream",
     "text": [
      "[10 20 30 40 50]\n"
     ]
    },
    {
     "data": {
      "text/plain": [
       "numpy.ndarray"
      ]
     },
     "execution_count": 76,
     "metadata": {},
     "output_type": "execute_result"
    }
   ],
   "source": [
    "# converting list to array\n",
    "list1=[10,20,30,40,50]\n",
    "array1=np.asarray(list1)\n",
    "print(array1)\n",
    "type(array1)"
   ]
  },
  {
   "cell_type": "code",
   "execution_count": 77,
   "id": "0da65568",
   "metadata": {},
   "outputs": [
    {
     "name": "stdout",
     "output_type": "stream",
     "text": [
      "[[64 95 93 67 30]\n",
      " [67 65 37 80 85]\n",
      " [43 57 73 79 73]\n",
      " [60 58 47 96 73]]\n",
      "Shape of the array:\n",
      "  (4, 5)\n"
     ]
    }
   ],
   "source": [
    "x=np.random.randint(10,99,(4,5))\n",
    "print(x)\n",
    "print(\"Shape of the array:\\n \",x.shape)"
   ]
  },
  {
   "cell_type": "code",
   "execution_count": 78,
   "id": "5616a5ab",
   "metadata": {},
   "outputs": [
    {
     "data": {
      "text/plain": [
       "2"
      ]
     },
     "execution_count": 78,
     "metadata": {},
     "output_type": "execute_result"
    }
   ],
   "source": [
    "# dimenation of the array\n",
    "x.ndim"
   ]
  },
  {
   "cell_type": "code",
   "execution_count": 79,
   "id": "08b9ea7a",
   "metadata": {},
   "outputs": [
    {
     "data": {
      "text/plain": [
       "20"
      ]
     },
     "execution_count": 79,
     "metadata": {},
     "output_type": "execute_result"
    }
   ],
   "source": [
    "# number of the element present in the array\n",
    "x.size"
   ]
  },
  {
   "cell_type": "code",
   "execution_count": 80,
   "id": "a7fdd61c",
   "metadata": {},
   "outputs": [
    {
     "data": {
      "text/plain": [
       "dtype('int32')"
      ]
     },
     "execution_count": 80,
     "metadata": {},
     "output_type": "execute_result"
    }
   ],
   "source": [
    "#checking the datatype of the element in the array\n",
    "x.dtype"
   ]
  },
  {
   "cell_type": "code",
   "execution_count": 81,
   "id": "08e91851",
   "metadata": {},
   "outputs": [
    {
     "name": "stdout",
     "output_type": "stream",
     "text": [
      "[14 11 13 18 16 11 17 14 17 12]\n"
     ]
    }
   ],
   "source": [
    "myarr=np.random.randint(10,20,10)\n",
    "print(myarr)"
   ]
  },
  {
   "cell_type": "code",
   "execution_count": 82,
   "id": "66a2b43f",
   "metadata": {},
   "outputs": [
    {
     "data": {
      "text/plain": [
       "18"
      ]
     },
     "execution_count": 82,
     "metadata": {},
     "output_type": "execute_result"
    }
   ],
   "source": [
    "myarr.max()"
   ]
  },
  {
   "cell_type": "code",
   "execution_count": 83,
   "id": "8b4db05c",
   "metadata": {},
   "outputs": [
    {
     "data": {
      "text/plain": [
       "3"
      ]
     },
     "execution_count": 83,
     "metadata": {},
     "output_type": "execute_result"
    }
   ],
   "source": [
    "# index location of max value\n",
    "myarr.argmax()"
   ]
  },
  {
   "cell_type": "code",
   "execution_count": 84,
   "id": "9939e294",
   "metadata": {},
   "outputs": [
    {
     "data": {
      "text/plain": [
       "11"
      ]
     },
     "execution_count": 84,
     "metadata": {},
     "output_type": "execute_result"
    }
   ],
   "source": [
    "myarr.min()"
   ]
  },
  {
   "cell_type": "code",
   "execution_count": 85,
   "id": "727af875",
   "metadata": {},
   "outputs": [
    {
     "data": {
      "text/plain": [
       "1"
      ]
     },
     "execution_count": 85,
     "metadata": {},
     "output_type": "execute_result"
    }
   ],
   "source": [
    "#index location of min value\n",
    "myarr.argmin()"
   ]
  },
  {
   "cell_type": "code",
   "execution_count": 86,
   "id": "14ad3ae0",
   "metadata": {},
   "outputs": [
    {
     "data": {
      "text/plain": [
       "[1, 2, 3, 4, 5, 6, 7, 8, 9, 10]"
      ]
     },
     "execution_count": 86,
     "metadata": {},
     "output_type": "execute_result"
    }
   ],
   "source": [
    "list1=[1,2,3,4,5]\n",
    "list2=[6,7,8,9,10]\n",
    "list1+list2"
   ]
  },
  {
   "cell_type": "code",
   "execution_count": 87,
   "id": "895c90f1",
   "metadata": {},
   "outputs": [
    {
     "name": "stdout",
     "output_type": "stream",
     "text": [
      "[[11 19 10]\n",
      " [14 11 16]\n",
      " [15 13 19]]\n",
      "[[28 22 27]\n",
      " [20 27 26]\n",
      " [22 27 28]]\n"
     ]
    }
   ],
   "source": [
    "a=np.random.randint(10,20,(3,3))\n",
    "b=np.random.randint(20,30,(3,3))\n",
    "print(a)\n",
    "print(b)"
   ]
  },
  {
   "cell_type": "code",
   "execution_count": 88,
   "id": "6643490b",
   "metadata": {},
   "outputs": [
    {
     "name": "stdout",
     "output_type": "stream",
     "text": [
      "[[39 41 37]\n",
      " [34 38 42]\n",
      " [37 40 47]]\n"
     ]
    }
   ],
   "source": [
    "print(a+b)"
   ]
  },
  {
   "cell_type": "code",
   "execution_count": 89,
   "id": "4ead8e3d",
   "metadata": {},
   "outputs": [
    {
     "name": "stdout",
     "output_type": "stream",
     "text": [
      "[[-17  -3 -17]\n",
      " [ -6 -16 -10]\n",
      " [ -7 -14  -9]]\n"
     ]
    }
   ],
   "source": [
    "print(a-b)"
   ]
  },
  {
   "cell_type": "code",
   "execution_count": 90,
   "id": "dad1164f",
   "metadata": {},
   "outputs": [
    {
     "name": "stdout",
     "output_type": "stream",
     "text": [
      "[[308 418 270]\n",
      " [280 297 416]\n",
      " [330 351 532]]\n"
     ]
    }
   ],
   "source": [
    "print(a*b)"
   ]
  },
  {
   "cell_type": "code",
   "execution_count": 91,
   "id": "14ac56d2",
   "metadata": {},
   "outputs": [
    {
     "name": "stdout",
     "output_type": "stream",
     "text": [
      "[[0.39285714 0.86363636 0.37037037]\n",
      " [0.7        0.40740741 0.61538462]\n",
      " [0.68181818 0.48148148 0.67857143]]\n"
     ]
    }
   ],
   "source": [
    "print(a/b) "
   ]
  },
  {
   "cell_type": "code",
   "execution_count": 92,
   "id": "3ac6aa2e",
   "metadata": {},
   "outputs": [
    {
     "data": {
      "text/plain": [
       "array([ 0,  1,  2,  3,  4,  5,  6,  7,  8,  9, 10])"
      ]
     },
     "execution_count": 92,
     "metadata": {},
     "output_type": "execute_result"
    }
   ],
   "source": [
    "arr=np.arange(0,11)\n",
    "arr"
   ]
  },
  {
   "cell_type": "code",
   "execution_count": 93,
   "id": "56ab295c",
   "metadata": {},
   "outputs": [
    {
     "data": {
      "text/plain": [
       "array([ 0,  2,  4,  6,  8, 10, 12, 14, 16, 18, 20])"
      ]
     },
     "execution_count": 93,
     "metadata": {},
     "output_type": "execute_result"
    }
   ],
   "source": [
    "arr+arr"
   ]
  },
  {
   "cell_type": "code",
   "execution_count": 94,
   "id": "1385ed8c",
   "metadata": {},
   "outputs": [
    {
     "name": "stderr",
     "output_type": "stream",
     "text": [
      "C:\\Users\\Saimo\\AppData\\Local\\Temp\\ipykernel_18876\\1862401812.py:1: RuntimeWarning: invalid value encountered in divide\n",
      "  arr/arr\n"
     ]
    },
    {
     "data": {
      "text/plain": [
       "array([nan,  1.,  1.,  1.,  1.,  1.,  1.,  1.,  1.,  1.,  1.])"
      ]
     },
     "execution_count": 94,
     "metadata": {},
     "output_type": "execute_result"
    }
   ],
   "source": [
    "arr/arr"
   ]
  },
  {
   "cell_type": "code",
   "execution_count": 95,
   "id": "faff8039",
   "metadata": {},
   "outputs": [
    {
     "data": {
      "text/plain": [
       "array([ 0,  1,  2,  3,  4,  5,  6,  7,  8,  9, 10])"
      ]
     },
     "execution_count": 95,
     "metadata": {},
     "output_type": "execute_result"
    }
   ],
   "source": [
    "arr"
   ]
  },
  {
   "cell_type": "code",
   "execution_count": 96,
   "id": "9d83ee7b",
   "metadata": {},
   "outputs": [
    {
     "data": {
      "text/plain": [
       "array([0.        , 1.        , 1.41421356, 1.73205081, 2.        ,\n",
       "       2.23606798, 2.44948974, 2.64575131, 2.82842712, 3.        ,\n",
       "       3.16227766])"
      ]
     },
     "execution_count": 96,
     "metadata": {},
     "output_type": "execute_result"
    }
   ],
   "source": [
    "np.sqrt(arr)"
   ]
  },
  {
   "cell_type": "code",
   "execution_count": 97,
   "id": "a991e054",
   "metadata": {},
   "outputs": [
    {
     "data": {
      "text/plain": [
       "array([ 0.        ,  0.84147098,  0.90929743,  0.14112001, -0.7568025 ,\n",
       "       -0.95892427, -0.2794155 ,  0.6569866 ,  0.98935825,  0.41211849,\n",
       "       -0.54402111])"
      ]
     },
     "execution_count": 97,
     "metadata": {},
     "output_type": "execute_result"
    }
   ],
   "source": [
    "np.sin(arr)"
   ]
  },
  {
   "cell_type": "code",
   "execution_count": 98,
   "id": "65c42904",
   "metadata": {},
   "outputs": [
    {
     "data": {
      "text/plain": [
       "array([ 1.        ,  0.54030231, -0.41614684, -0.9899925 , -0.65364362,\n",
       "        0.28366219,  0.96017029,  0.75390225, -0.14550003, -0.91113026,\n",
       "       -0.83907153])"
      ]
     },
     "execution_count": 98,
     "metadata": {},
     "output_type": "execute_result"
    }
   ],
   "source": [
    "np.cos(arr)"
   ]
  },
  {
   "cell_type": "code",
   "execution_count": 99,
   "id": "1a585e33",
   "metadata": {},
   "outputs": [
    {
     "data": {
      "text/plain": [
       "array([ 0.        ,  1.55740772, -2.18503986, -0.14254654,  1.15782128,\n",
       "       -3.38051501, -0.29100619,  0.87144798, -6.79971146, -0.45231566,\n",
       "        0.64836083])"
      ]
     },
     "execution_count": 99,
     "metadata": {},
     "output_type": "execute_result"
    }
   ],
   "source": [
    "np.tan(arr)"
   ]
  },
  {
   "cell_type": "code",
   "execution_count": 100,
   "id": "fba36d49",
   "metadata": {},
   "outputs": [
    {
     "name": "stderr",
     "output_type": "stream",
     "text": [
      "C:\\Users\\Saimo\\AppData\\Local\\Temp\\ipykernel_18876\\3120950136.py:1: RuntimeWarning: divide by zero encountered in log\n",
      "  np.log(arr)\n"
     ]
    },
    {
     "data": {
      "text/plain": [
       "array([      -inf, 0.        , 0.69314718, 1.09861229, 1.38629436,\n",
       "       1.60943791, 1.79175947, 1.94591015, 2.07944154, 2.19722458,\n",
       "       2.30258509])"
      ]
     },
     "execution_count": 100,
     "metadata": {},
     "output_type": "execute_result"
    }
   ],
   "source": [
    "np.log(arr)"
   ]
  },
  {
   "cell_type": "code",
   "execution_count": 101,
   "id": "931524be",
   "metadata": {},
   "outputs": [
    {
     "data": {
      "text/plain": [
       "array([ 0,  1,  2,  3,  4,  5,  6,  7,  8,  9, 10])"
      ]
     },
     "execution_count": 101,
     "metadata": {},
     "output_type": "execute_result"
    }
   ],
   "source": [
    "arr"
   ]
  },
  {
   "cell_type": "code",
   "execution_count": 102,
   "id": "9a740b44",
   "metadata": {},
   "outputs": [
    {
     "data": {
      "text/plain": [
       "0"
      ]
     },
     "execution_count": 102,
     "metadata": {},
     "output_type": "execute_result"
    }
   ],
   "source": [
    "arr.min()"
   ]
  },
  {
   "cell_type": "code",
   "execution_count": 103,
   "id": "c9f97d63",
   "metadata": {},
   "outputs": [
    {
     "data": {
      "text/plain": [
       "10"
      ]
     },
     "execution_count": 103,
     "metadata": {},
     "output_type": "execute_result"
    }
   ],
   "source": [
    "arr.max()"
   ]
  },
  {
   "cell_type": "code",
   "execution_count": 104,
   "id": "0b500c7d",
   "metadata": {},
   "outputs": [
    {
     "data": {
      "text/plain": [
       "5.0"
      ]
     },
     "execution_count": 104,
     "metadata": {},
     "output_type": "execute_result"
    }
   ],
   "source": [
    "arr.mean()"
   ]
  },
  {
   "cell_type": "code",
   "execution_count": 105,
   "id": "ea0c64da",
   "metadata": {},
   "outputs": [
    {
     "data": {
      "text/plain": [
       "3.1622776601683795"
      ]
     },
     "execution_count": 105,
     "metadata": {},
     "output_type": "execute_result"
    }
   ],
   "source": [
    "arr.std()"
   ]
  },
  {
   "cell_type": "code",
   "execution_count": 106,
   "id": "79598b7d",
   "metadata": {},
   "outputs": [
    {
     "data": {
      "text/plain": [
       "10.0"
      ]
     },
     "execution_count": 106,
     "metadata": {},
     "output_type": "execute_result"
    }
   ],
   "source": [
    "arr.var()"
   ]
  },
  {
   "cell_type": "code",
   "execution_count": 107,
   "id": "99b370bf",
   "metadata": {},
   "outputs": [
    {
     "data": {
      "text/plain": [
       "array([[8, 6, 8, 1, 2],\n",
       "       [7, 8, 9, 9, 5],\n",
       "       [3, 6, 2, 1, 4],\n",
       "       [1, 8, 4, 6, 6],\n",
       "       [9, 3, 5, 2, 4]])"
      ]
     },
     "execution_count": 107,
     "metadata": {},
     "output_type": "execute_result"
    }
   ],
   "source": [
    "arr=np.random.randint(1,10,(5,5))\n",
    "arr"
   ]
  },
  {
   "cell_type": "code",
   "execution_count": 108,
   "id": "024a8d15",
   "metadata": {},
   "outputs": [
    {
     "data": {
      "text/plain": [
       "array([28, 31, 28, 19, 21])"
      ]
     },
     "execution_count": 108,
     "metadata": {},
     "output_type": "execute_result"
    }
   ],
   "source": [
    "arr.sum(axis=0) "
   ]
  },
  {
   "cell_type": "code",
   "execution_count": 109,
   "id": "6efe7cff",
   "metadata": {},
   "outputs": [
    {
     "data": {
      "text/plain": [
       "array([25, 38, 16, 25, 23])"
      ]
     },
     "execution_count": 109,
     "metadata": {},
     "output_type": "execute_result"
    }
   ],
   "source": [
    "arr.sum(axis=1)"
   ]
  },
  {
   "cell_type": "code",
   "execution_count": 110,
   "id": "8c8f86bd",
   "metadata": {},
   "outputs": [
    {
     "name": "stdout",
     "output_type": "stream",
     "text": [
      "[[18 18 11]\n",
      " [10 18 11]]\n"
     ]
    },
    {
     "data": {
      "text/plain": [
       "(2, 3)"
      ]
     },
     "execution_count": 110,
     "metadata": {},
     "output_type": "execute_result"
    }
   ],
   "source": [
    "array1=np.random.randint(10,20,(2,3))\n",
    "print(array1)\n",
    "array1.shape"
   ]
  },
  {
   "cell_type": "code",
   "execution_count": 111,
   "id": "46f61e7a",
   "metadata": {},
   "outputs": [
    {
     "name": "stdout",
     "output_type": "stream",
     "text": [
      "[[18 10]\n",
      " [18 18]\n",
      " [11 11]]\n"
     ]
    },
    {
     "data": {
      "text/plain": [
       "(3, 2)"
      ]
     },
     "execution_count": 111,
     "metadata": {},
     "output_type": "execute_result"
    }
   ],
   "source": [
    "trans=np.transpose(array1)\n",
    "print(trans)\n",
    "trans.shape"
   ]
  },
  {
   "cell_type": "code",
   "execution_count": 112,
   "id": "3152d053",
   "metadata": {},
   "outputs": [
    {
     "name": "stdout",
     "output_type": "stream",
     "text": [
      "[[22 10 29]\n",
      " [29 28 29]]\n",
      "(2, 3)\n"
     ]
    }
   ],
   "source": [
    "a=np.random.randint(10,30,(2,3))\n",
    "print(a)\n",
    "print(a.shape)"
   ]
  },
  {
   "cell_type": "code",
   "execution_count": 113,
   "id": "e51acf08",
   "metadata": {},
   "outputs": [
    {
     "name": "stdout",
     "output_type": "stream",
     "text": [
      "[[22 10]\n",
      " [29 29]\n",
      " [28 29]]\n",
      "(3, 2)\n"
     ]
    }
   ],
   "source": [
    "b=a.reshape(3,2)\n",
    "print(b)\n",
    "print(b.shape)"
   ]
  },
  {
   "cell_type": "markdown",
   "id": "f8cc7594",
   "metadata": {},
   "source": [
    "### Numpy Indexing and selection\n",
    "- Grabbing single element\n",
    "- Grabbing a slice of element\n",
    "- Brodcasting selection\n",
    "- Indexing and selection in two dimentions\n",
    "- Condition Selection\n"
   ]
  },
  {
   "cell_type": "code",
   "execution_count": 114,
   "id": "a1da347e",
   "metadata": {},
   "outputs": [
    {
     "name": "stdout",
     "output_type": "stream",
     "text": [
      "[ 0  1  2  3  4  5  6  7  8  9 10]\n"
     ]
    }
   ],
   "source": [
    "myarr=np.arange(0,11)\n",
    "print(myarr)"
   ]
  },
  {
   "cell_type": "code",
   "execution_count": 115,
   "id": "e9a7457c",
   "metadata": {},
   "outputs": [
    {
     "data": {
      "text/plain": [
       "3"
      ]
     },
     "execution_count": 115,
     "metadata": {},
     "output_type": "execute_result"
    }
   ],
   "source": [
    "myarr[3]"
   ]
  },
  {
   "cell_type": "code",
   "execution_count": 116,
   "id": "474970cc",
   "metadata": {},
   "outputs": [
    {
     "data": {
      "text/plain": [
       "array([3, 4])"
      ]
     },
     "execution_count": 116,
     "metadata": {},
     "output_type": "execute_result"
    }
   ],
   "source": [
    "myarr[3:5] "
   ]
  },
  {
   "cell_type": "code",
   "execution_count": 117,
   "id": "2f4eb531",
   "metadata": {},
   "outputs": [
    {
     "data": {
      "text/plain": [
       "array([0, 1, 2, 3, 4])"
      ]
     },
     "execution_count": 117,
     "metadata": {},
     "output_type": "execute_result"
    }
   ],
   "source": [
    "myarr[:5]"
   ]
  },
  {
   "cell_type": "code",
   "execution_count": 118,
   "id": "4e49124e",
   "metadata": {},
   "outputs": [
    {
     "data": {
      "text/plain": [
       "array([ 5,  6,  7,  8,  9, 10])"
      ]
     },
     "execution_count": 118,
     "metadata": {},
     "output_type": "execute_result"
    }
   ],
   "source": [
    "myarr[5:]"
   ]
  },
  {
   "cell_type": "code",
   "execution_count": 119,
   "id": "76bf3f25",
   "metadata": {},
   "outputs": [
    {
     "data": {
      "text/plain": [
       "array([ 0,  1,  2,  3,  4,  5,  6,  7,  8,  9, 10])"
      ]
     },
     "execution_count": 119,
     "metadata": {},
     "output_type": "execute_result"
    }
   ],
   "source": [
    "myarr"
   ]
  },
  {
   "cell_type": "code",
   "execution_count": 120,
   "id": "c9028e37",
   "metadata": {},
   "outputs": [],
   "source": [
    "myarr[0:5]=100"
   ]
  },
  {
   "cell_type": "code",
   "execution_count": 121,
   "id": "e540de48",
   "metadata": {},
   "outputs": [
    {
     "data": {
      "text/plain": [
       "array([100, 100, 100, 100, 100,   5,   6,   7,   8,   9,  10])"
      ]
     },
     "execution_count": 121,
     "metadata": {},
     "output_type": "execute_result"
    }
   ],
   "source": [
    "myarr"
   ]
  },
  {
   "cell_type": "code",
   "execution_count": 122,
   "id": "2de75f07",
   "metadata": {},
   "outputs": [
    {
     "data": {
      "text/plain": [
       "array([ 0,  1,  2,  3,  4,  5,  6,  7,  8,  9, 10])"
      ]
     },
     "execution_count": 122,
     "metadata": {},
     "output_type": "execute_result"
    }
   ],
   "source": [
    "arr=np.arange(0,11)\n",
    "arr"
   ]
  },
  {
   "cell_type": "code",
   "execution_count": 123,
   "id": "52a80a18",
   "metadata": {},
   "outputs": [
    {
     "data": {
      "text/plain": [
       "array([0, 1, 2, 3, 4])"
      ]
     },
     "execution_count": 123,
     "metadata": {},
     "output_type": "execute_result"
    }
   ],
   "source": [
    "slice_of_array=arr[0:5]\n",
    "slice_of_array"
   ]
  },
  {
   "cell_type": "code",
   "execution_count": 124,
   "id": "96bef81c",
   "metadata": {},
   "outputs": [
    {
     "data": {
      "text/plain": [
       "array([99, 99, 99, 99, 99])"
      ]
     },
     "execution_count": 124,
     "metadata": {},
     "output_type": "execute_result"
    }
   ],
   "source": [
    "slice_of_array[:]=99\n",
    "slice_of_array"
   ]
  },
  {
   "cell_type": "code",
   "execution_count": 125,
   "id": "ffd05dd6",
   "metadata": {},
   "outputs": [
    {
     "data": {
      "text/plain": [
       "array([99, 99, 99, 99, 99,  5,  6,  7,  8,  9, 10])"
      ]
     },
     "execution_count": 125,
     "metadata": {},
     "output_type": "execute_result"
    }
   ],
   "source": [
    "arr"
   ]
  },
  {
   "cell_type": "code",
   "execution_count": 126,
   "id": "e8f67e10",
   "metadata": {},
   "outputs": [],
   "source": [
    "arr_copy=arr.copy()"
   ]
  },
  {
   "cell_type": "code",
   "execution_count": 127,
   "id": "3cc2191e",
   "metadata": {},
   "outputs": [],
   "source": [
    "arr_copy[:]=100"
   ]
  },
  {
   "cell_type": "code",
   "execution_count": 128,
   "id": "0ed93106",
   "metadata": {},
   "outputs": [
    {
     "data": {
      "text/plain": [
       "array([100, 100, 100, 100, 100, 100, 100, 100, 100, 100, 100])"
      ]
     },
     "execution_count": 128,
     "metadata": {},
     "output_type": "execute_result"
    }
   ],
   "source": [
    "arr_copy"
   ]
  },
  {
   "cell_type": "code",
   "execution_count": 129,
   "id": "43bb485c",
   "metadata": {},
   "outputs": [
    {
     "data": {
      "text/plain": [
       "array([99, 99, 99, 99, 99,  5,  6,  7,  8,  9, 10])"
      ]
     },
     "execution_count": 129,
     "metadata": {},
     "output_type": "execute_result"
    }
   ],
   "source": [
    "arr"
   ]
  },
  {
   "cell_type": "code",
   "execution_count": 130,
   "id": "640c3878",
   "metadata": {},
   "outputs": [
    {
     "name": "stdout",
     "output_type": "stream",
     "text": [
      "[7 8 9]\n"
     ]
    }
   ],
   "source": [
    "arr = np.array([[1, 2, 3, 4, 5], [6, 7, 8, 9, 10]])\n",
    "print(arr[1, 1:4])"
   ]
  },
  {
   "cell_type": "code",
   "execution_count": 131,
   "id": "53911a3a",
   "metadata": {},
   "outputs": [
    {
     "name": "stdout",
     "output_type": "stream",
     "text": [
      "[5 6]\n"
     ]
    }
   ],
   "source": [
    "arr = np.array([1, 2, 3, 4, 5, 6, 7])\n",
    "print(arr[-3:-1])"
   ]
  },
  {
   "cell_type": "code",
   "execution_count": 132,
   "id": "dd811f0c",
   "metadata": {},
   "outputs": [
    {
     "data": {
      "text/plain": [
       "array([[21, 55, 24],\n",
       "       [80, 24, 69],\n",
       "       [91, 18, 82]])"
      ]
     },
     "execution_count": 132,
     "metadata": {},
     "output_type": "execute_result"
    }
   ],
   "source": [
    "arr_2d=np.random.randint(10,99,(3,3))\n",
    "arr_2d"
   ]
  },
  {
   "cell_type": "code",
   "execution_count": 133,
   "id": "5b009b77",
   "metadata": {},
   "outputs": [
    {
     "data": {
      "text/plain": [
       "(3, 3)"
      ]
     },
     "execution_count": 133,
     "metadata": {},
     "output_type": "execute_result"
    }
   ],
   "source": [
    "arr_2d.shape"
   ]
  },
  {
   "cell_type": "code",
   "execution_count": 134,
   "id": "c9e2d414",
   "metadata": {},
   "outputs": [
    {
     "data": {
      "text/plain": [
       "array([21, 55, 24])"
      ]
     },
     "execution_count": 134,
     "metadata": {},
     "output_type": "execute_result"
    }
   ],
   "source": [
    "arr_2d[0]"
   ]
  },
  {
   "cell_type": "code",
   "execution_count": 135,
   "id": "762a6a80",
   "metadata": {},
   "outputs": [
    {
     "data": {
      "text/plain": [
       "24"
      ]
     },
     "execution_count": 135,
     "metadata": {},
     "output_type": "execute_result"
    }
   ],
   "source": [
    "# to grab third element in the first row which is 41\n",
    "arr_2d[0][2]"
   ]
  },
  {
   "cell_type": "code",
   "execution_count": 136,
   "id": "9bb58fa4",
   "metadata": {},
   "outputs": [
    {
     "data": {
      "text/plain": [
       "array([[21, 55, 24],\n",
       "       [80, 24, 69],\n",
       "       [91, 18, 82]])"
      ]
     },
     "execution_count": 136,
     "metadata": {},
     "output_type": "execute_result"
    }
   ],
   "source": [
    "# to get some slice or subsection of matrix\n",
    "arr_2d"
   ]
  },
  {
   "cell_type": "code",
   "execution_count": 137,
   "id": "2a113300",
   "metadata": {},
   "outputs": [
    {
     "data": {
      "text/plain": [
       "array([[55, 24],\n",
       "       [24, 69]])"
      ]
     },
     "execution_count": 137,
     "metadata": {},
     "output_type": "execute_result"
    }
   ],
   "source": [
    "arr_2d[:2,1:]"
   ]
  },
  {
   "cell_type": "code",
   "execution_count": 138,
   "id": "d1f66d15",
   "metadata": {},
   "outputs": [
    {
     "name": "stdout",
     "output_type": "stream",
     "text": [
      "2nd element on 1st row:  2\n"
     ]
    }
   ],
   "source": [
    "arr = np.array([[1,2,3,4,5], [6,7,8,9,10]])\n",
    "print('2nd element on 1st row: ', arr[0, 1])"
   ]
  },
  {
   "cell_type": "code",
   "execution_count": 139,
   "id": "c73ba7aa",
   "metadata": {},
   "outputs": [
    {
     "name": "stdout",
     "output_type": "stream",
     "text": [
      "6\n"
     ]
    }
   ],
   "source": [
    "arr = np.array([[[1, 2, 3], [4, 5, 6]], [[7, 8, 9], [10, 11, 12]]])\n",
    "print(arr[0, 1, 2])"
   ]
  },
  {
   "cell_type": "code",
   "execution_count": 140,
   "id": "086e9a65",
   "metadata": {},
   "outputs": [
    {
     "data": {
      "text/plain": [
       "array([ 0,  1,  2,  3,  4,  5,  6,  7,  8,  9, 10])"
      ]
     },
     "execution_count": 140,
     "metadata": {},
     "output_type": "execute_result"
    }
   ],
   "source": [
    "arr=np.arange(0,11)\n",
    "arr "
   ]
  },
  {
   "cell_type": "code",
   "execution_count": 141,
   "id": "d795288e",
   "metadata": {},
   "outputs": [
    {
     "data": {
      "text/plain": [
       "array([False, False, False, False, False,  True,  True,  True,  True,\n",
       "        True,  True])"
      ]
     },
     "execution_count": 141,
     "metadata": {},
     "output_type": "execute_result"
    }
   ],
   "source": [
    "arr>4"
   ]
  },
  {
   "cell_type": "code",
   "execution_count": 142,
   "id": "bd46868a",
   "metadata": {},
   "outputs": [],
   "source": [
    "bool_arr=arr>4"
   ]
  },
  {
   "cell_type": "code",
   "execution_count": 143,
   "id": "ff8644fa",
   "metadata": {},
   "outputs": [
    {
     "data": {
      "text/plain": [
       "array([ 5,  6,  7,  8,  9, 10])"
      ]
     },
     "execution_count": 143,
     "metadata": {},
     "output_type": "execute_result"
    }
   ],
   "source": [
    "arr[bool_arr]"
   ]
  },
  {
   "cell_type": "code",
   "execution_count": 144,
   "id": "daa1188f",
   "metadata": {},
   "outputs": [
    {
     "data": {
      "text/plain": [
       "array([ 5,  6,  7,  8,  9, 10])"
      ]
     },
     "execution_count": 144,
     "metadata": {},
     "output_type": "execute_result"
    }
   ],
   "source": [
    "# same result can be obtained by following code\n",
    "arr[arr>4]"
   ]
  },
  {
   "cell_type": "code",
   "execution_count": 148,
   "id": "19e6de8d",
   "metadata": {},
   "outputs": [
    {
     "name": "stdout",
     "output_type": "stream",
     "text": [
      "--------------- THE END ---------------\n"
     ]
    }
   ],
   "source": [
    "print(\"-----\"*3+\" \"+\"THE END\"+\" \" + \"-----\"*3)"
   ]
  },
  {
   "cell_type": "markdown",
   "id": "7ad2c806",
   "metadata": {},
   "source": [
    "Author: [Moguloju_Sai](https://linktr.ee/Moguloju_Sai)"
   ]
  }
 ],
 "metadata": {
  "kernelspec": {
   "display_name": "Python 3 (ipykernel)",
   "language": "python",
   "name": "python3"
  },
  "language_info": {
   "codemirror_mode": {
    "name": "ipython",
    "version": 3
   },
   "file_extension": ".py",
   "mimetype": "text/x-python",
   "name": "python",
   "nbconvert_exporter": "python",
   "pygments_lexer": "ipython3",
   "version": "3.10.9"
  }
 },
 "nbformat": 4,
 "nbformat_minor": 5
}
