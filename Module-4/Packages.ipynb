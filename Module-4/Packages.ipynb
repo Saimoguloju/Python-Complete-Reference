{
 "cells": [
  {
   "cell_type": "markdown",
   "id": "22e16d68",
   "metadata": {},
   "source": [
    "## Packages\n",
    "![Python logo](https://encrypted-tbn0.gstatic.com/images?q=tbn:ANd9GcSNoZwOcPla1x0alLqb6olLF9JKqjNan7AMj36ZQgQTow&s)"
   ]
  },
  {
   "cell_type": "markdown",
   "id": "42e2163d",
   "metadata": {},
   "source": [
    "```python\n",
    "my_package/\n",
    "    __init__.py\n",
    "    module1.py\n",
    "    module2.py\n",
    "```"
   ]
  },
  {
   "cell_type": "code",
   "execution_count": 1,
   "id": "a6920cab",
   "metadata": {},
   "outputs": [],
   "source": [
    "def func1():\n",
    "    print(\"This is func1 from module1\")"
   ]
  },
  {
   "cell_type": "code",
   "execution_count": 2,
   "id": "b434333d",
   "metadata": {},
   "outputs": [],
   "source": [
    "def func2():\n",
    "    print(\"This is func2 from module2\")"
   ]
  },
  {
   "cell_type": "code",
   "execution_count": 3,
   "id": "84c2dc3a",
   "metadata": {},
   "outputs": [
    {
     "name": "stdout",
     "output_type": "stream",
     "text": [
      "Initializing my_package\n"
     ]
    }
   ],
   "source": [
    "print(\"Initializing my_package\")"
   ]
  },
  {
   "cell_type": "code",
   "execution_count": 4,
   "id": "36747631",
   "metadata": {},
   "outputs": [
    {
     "ename": "ModuleNotFoundError",
     "evalue": "No module named 'my_package'",
     "output_type": "error",
     "traceback": [
      "\u001b[1;31m---------------------------------------------------------------------------\u001b[0m",
      "\u001b[1;31mModuleNotFoundError\u001b[0m                       Traceback (most recent call last)",
      "Cell \u001b[1;32mIn[4], line 1\u001b[0m\n\u001b[1;32m----> 1\u001b[0m \u001b[38;5;28;01mimport\u001b[39;00m \u001b[38;5;21;01mmy_package\u001b[39;00m\n\u001b[0;32m      3\u001b[0m my_package\u001b[38;5;241m.\u001b[39mmodule1\u001b[38;5;241m.\u001b[39mfunc1()\n\u001b[0;32m      4\u001b[0m my_package\u001b[38;5;241m.\u001b[39mmodule2\u001b[38;5;241m.\u001b[39mfunc2()\n",
      "\u001b[1;31mModuleNotFoundError\u001b[0m: No module named 'my_package'"
     ]
    }
   ],
   "source": [
    "import my_package\n",
    "\n",
    "my_package.module1.func1()\n",
    "my_package.module2.func2()"
   ]
  },
  {
   "cell_type": "code",
   "execution_count": 5,
   "id": "9abaa54b",
   "metadata": {},
   "outputs": [
    {
     "ename": "SyntaxError",
     "evalue": "invalid syntax (2764113380.py, line 1)",
     "output_type": "error",
     "traceback": [
      "\u001b[1;36m  Cell \u001b[1;32mIn[5], line 1\u001b[1;36m\u001b[0m\n\u001b[1;33m    Initializing my_package\u001b[0m\n\u001b[1;37m                 ^\u001b[0m\n\u001b[1;31mSyntaxError\u001b[0m\u001b[1;31m:\u001b[0m invalid syntax\n"
     ]
    }
   ],
   "source": [
    "Initializing my_package\n",
    "This is func1 from module1\n",
    "This is func2 from module2"
   ]
  },
  {
   "cell_type": "code",
   "execution_count": 6,
   "id": "9274252a",
   "metadata": {},
   "outputs": [],
   "source": [
    "# module1.py\n",
    "def greet():\n",
    "    print(\"Hello from module1\")"
   ]
  },
  {
   "cell_type": "code",
   "execution_count": 7,
   "id": "138cbb3e",
   "metadata": {},
   "outputs": [],
   "source": [
    "# module2.py\n",
    "def farewell():\n",
    "    print(\"Goodbye from module2\")"
   ]
  },
  {
   "cell_type": "code",
   "execution_count": 8,
   "id": "cbc69a5d",
   "metadata": {},
   "outputs": [],
   "source": [
    "# module3.py\n",
    "def welcome():\n",
    "    print(\"Welcome from module3\")"
   ]
  },
  {
   "cell_type": "code",
   "execution_count": 9,
   "id": "98ba5bda",
   "metadata": {},
   "outputs": [
    {
     "name": "stdout",
     "output_type": "stream",
     "text": [
      "Initializing my_package\n"
     ]
    }
   ],
   "source": [
    "# my_package/__init__.py\n",
    "print(\"Initializing my_package\")"
   ]
  },
  {
   "cell_type": "code",
   "execution_count": 10,
   "id": "6c88497a",
   "metadata": {},
   "outputs": [
    {
     "name": "stdout",
     "output_type": "stream",
     "text": [
      "Initializing sub_package\n"
     ]
    }
   ],
   "source": [
    "# sub_package/__init__.py\n",
    "print(\"Initializing sub_package\")"
   ]
  },
  {
   "cell_type": "code",
   "execution_count": 11,
   "id": "7b861d7b",
   "metadata": {},
   "outputs": [
    {
     "ename": "ModuleNotFoundError",
     "evalue": "No module named 'my_package'",
     "output_type": "error",
     "traceback": [
      "\u001b[1;31m---------------------------------------------------------------------------\u001b[0m",
      "\u001b[1;31mModuleNotFoundError\u001b[0m                       Traceback (most recent call last)",
      "Cell \u001b[1;32mIn[11], line 1\u001b[0m\n\u001b[1;32m----> 1\u001b[0m \u001b[38;5;28;01mimport\u001b[39;00m \u001b[38;5;21;01mmy_package\u001b[39;00m\n\u001b[0;32m      2\u001b[0m \u001b[38;5;28;01mimport\u001b[39;00m \u001b[38;5;21;01mmy_package\u001b[39;00m\u001b[38;5;21;01m.\u001b[39;00m\u001b[38;5;21;01mmodule1\u001b[39;00m\n\u001b[0;32m      3\u001b[0m \u001b[38;5;28;01mimport\u001b[39;00m \u001b[38;5;21;01mmy_package\u001b[39;00m\u001b[38;5;21;01m.\u001b[39;00m\u001b[38;5;21;01mmodule2\u001b[39;00m\n",
      "\u001b[1;31mModuleNotFoundError\u001b[0m: No module named 'my_package'"
     ]
    }
   ],
   "source": [
    "import my_package\n",
    "import my_package.module1\n",
    "import my_package.module2\n",
    "import my_package.sub_package.module3\n",
    "\n",
    "# Accessing functions from module1, module2, and module3\n",
    "my_package.module1.greet()\n",
    "my_package.module2.farewell()\n",
    "my_package.sub_package.module3.welcome()"
   ]
  },
  {
   "cell_type": "code",
   "execution_count": 12,
   "id": "0710f792",
   "metadata": {},
   "outputs": [
    {
     "ename": "ModuleNotFoundError",
     "evalue": "No module named 'math_operations'",
     "output_type": "error",
     "traceback": [
      "\u001b[1;31m---------------------------------------------------------------------------\u001b[0m",
      "\u001b[1;31mModuleNotFoundError\u001b[0m                       Traceback (most recent call last)",
      "Cell \u001b[1;32mIn[12], line 1\u001b[0m\n\u001b[1;32m----> 1\u001b[0m \u001b[38;5;28;01mfrom\u001b[39;00m \u001b[38;5;21;01mmath_operations\u001b[39;00m\u001b[38;5;21;01m.\u001b[39;00m\u001b[38;5;21;01madvanced_operations\u001b[39;00m\u001b[38;5;21;01m.\u001b[39;00m\u001b[38;5;21;01mmultiplication\u001b[39;00m \u001b[38;5;28;01mimport\u001b[39;00m Multiplication\n\u001b[0;32m      3\u001b[0m \u001b[38;5;66;03m# Using Multiplication class\u001b[39;00m\n\u001b[0;32m      4\u001b[0m result_multiplication \u001b[38;5;241m=\u001b[39m Multiplication\u001b[38;5;241m.\u001b[39mmultiply(\u001b[38;5;241m6\u001b[39m, \u001b[38;5;241m7\u001b[39m)\n",
      "\u001b[1;31mModuleNotFoundError\u001b[0m: No module named 'math_operations'"
     ]
    }
   ],
   "source": [
    "from math_operations.advanced_operations.multiplication import Multiplication\n",
    "\n",
    "# Using Multiplication class\n",
    "result_multiplication = Multiplication.multiply(6, 7)\n",
    "print(\"Result of multiplication:\", result_multiplication)"
   ]
  },
  {
   "cell_type": "code",
   "execution_count": 13,
   "id": "bfdeb649",
   "metadata": {},
   "outputs": [
    {
     "name": "stdout",
     "output_type": "stream",
     "text": [
      "---------------------------------------- THE END -----------------------------------\n"
     ]
    }
   ],
   "source": [
    "print(\"--------\"*5,'THE END',\"-------\"*5)"
   ]
  },
  {
   "cell_type": "markdown",
   "id": "db83b0ee",
   "metadata": {},
   "source": [
    "Author: [Moguloju_Sai](https://linktr.ee/Moguloju_Sai)"
   ]
  }
 ],
 "metadata": {
  "kernelspec": {
   "display_name": "Python 3 (ipykernel)",
   "language": "python",
   "name": "python3"
  },
  "language_info": {
   "codemirror_mode": {
    "name": "ipython",
    "version": 3
   },
   "file_extension": ".py",
   "mimetype": "text/x-python",
   "name": "python",
   "nbconvert_exporter": "python",
   "pygments_lexer": "ipython3",
   "version": "3.10.9"
  }
 },
 "nbformat": 4,
 "nbformat_minor": 5
}
