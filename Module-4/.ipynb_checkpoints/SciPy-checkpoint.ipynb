{
 "cells": [
  {
   "cell_type": "markdown",
   "id": "efef470c",
   "metadata": {},
   "source": [
    "## SciPy\n",
    "![Python logo](https://encrypted-tbn0.gstatic.com/images?q=tbn:ANd9GcSwGCkhDjVsU2BhJzlMg3cR6l6l3hIyAQhoRA&s)"
   ]
  },
  {
   "cell_type": "markdown",
   "id": "8ae92b6b",
   "metadata": {},
   "source": [
    "### What is SciPy?\n",
    "SciPy is an Open Source Python-based library, which is used in mathematics, scientific computing, Engineering, \n",
    "and technical computing.\n",
    "###### SciPy also pronounced as \"Sigh Pi.\"\n",
    "The SciPy library depends on NumPy, which provides convenient and fast N-dimensional array manipulation. \n",
    "The SciPy library is built to work with NumPy arrays and provides many user-friendly and efficient numerical \n",
    "practices such as routines for numerical integration and optimization. Together, they run on all popular operating \n",
    "systems, are quick to install and are free of charge. NumPy and SciPy are easy to use, but powerful enough to \n",
    "depend on by some of the world's leading scientists and engineers."
   ]
  },
  {
   "cell_type": "markdown",
   "id": "b9c66ed7",
   "metadata": {},
   "source": [
    "### Why use SciPy\n",
    "SciPy contains varieties of sub packages which help to solve the most common issue related to Scientific \n",
    "Computation.\n",
    "SciPy is the most used Scientific library only second to GNU Scientific Library for C/C++ or Matlab's.\n",
    "Easy to use and understand as well as fast computational power.\n",
    "It can operate on an array of NumPy library."
   ]
  },
  {
   "cell_type": "markdown",
   "id": "659e288c",
   "metadata": {},
   "source": [
    "### Numpy VS SciPy\n",
    "###### Numpy:\n",
    "- Numpy is written in C and use for mathematical or numeric calculation.\n",
    "- It is faster than other Python Libraries\n",
    "- Numpy is the most useful library for Data Science to perform basic calculations.\n",
    "- Numpy contains nothing but array data type which performs the most basic operation like sorting, shaping, indexing, etc.\n",
    "###### SciPy:\n",
    "- SciPy is built in top of the NumPy\n",
    "- SciPy is a fully-featured version of Linear Algebra while Numpy contains only a few features.\n",
    "- Most new Data Science features are available in Scipy rather than Numpy.\n",
    "-  Before start to learning SciPy, you need to know basic functionality as well as different types of an array of NumPy."
   ]
  },
  {
   "cell_type": "markdown",
   "id": "2324769c",
   "metadata": {},
   "source": [
    "### The standard way of import SciPy modules and Numpy:\n",
    "```python\n",
    "#same for other modules\n",
    "from scipy import special \n",
    "import numpy as np\n",
    "```"
   ]
  },
  {
   "cell_type": "markdown",
   "id": "8a77e01f",
   "metadata": {},
   "source": [
    "### Sub-packages of SciPy:\n",
    "##### Linear Algebra:\n",
    "Linear algebra deals with linear equations and their representations using vector spaces and \n",
    "matrices. SciPy is built on ATLAS LAPACK and BLAS libraries and is extremely fast in solving \n",
    "problems related to linear algebra. In addition to all the functions from numpy.linalg, scipy.linalg also \n",
    "provides a number of other advanced functions. Also, if numpy.linalg is not used along with ATLAS \n",
    "LAPACK and BLAS support, scipy.linalg is faster than numpy.linalg. \n",
    "##### Finding the Inverse of a Matrix:\n",
    "Mathematically, the inverse of a matrix A is the matrix B such that AB=I where I is the identity \n",
    "matrix consisting of ones down the main diagonal denoted as B=A-1. In SciPy, this inverse can be \n",
    "obtained using the linalg.inv method"
   ]
  },
  {
   "cell_type": "code",
   "execution_count": 1,
   "id": "b603b709",
   "metadata": {},
   "outputs": [
    {
     "name": "stdout",
     "output_type": "stream",
     "text": [
      "[[-0.6  0.4]\n",
      " [ 0.8 -0.2]]\n"
     ]
    }
   ],
   "source": [
    "import numpy as np\n",
    "from scipy import linalg\n",
    "A = np.array([[1,2], [4,3]])\n",
    "B = linalg.inv(A)\n",
    "print(B)"
   ]
  },
  {
   "cell_type": "markdown",
   "id": "c0d4a416",
   "metadata": {},
   "source": [
    "###### Finding the Determinants:\n",
    "The value derived arithmetically from the coefficients of the matrix is known as the determinant \n",
    "of a square matrix. In SciPy, this can be done using a function det which has the following syntax:\n",
    "```python\n",
    "SYNTAX: det(a)\n",
    "Where a : (M, M) Is a square matrix\n",
    "```"
   ]
  },
  {
   "cell_type": "code",
   "execution_count": 2,
   "id": "c43b8e40",
   "metadata": {},
   "outputs": [
    {
     "name": "stdout",
     "output_type": "stream",
     "text": [
      "-5.0\n"
     ]
    }
   ],
   "source": [
    "A = np.array([[1,2], [4,3]])\n",
    "B = linalg.det(A)\n",
    "print(B)"
   ]
  },
  {
   "cell_type": "markdown",
   "id": "92e65e6d",
   "metadata": {},
   "source": [
    "#### Eigenvalues:\n",
    "Eigenvalues are a specific set of scalars linked with linear equations. The most common problem in linear \n",
    "algebra is eigenvalues and eigenvector which can be easily solved using eig() function."
   ]
  },
  {
   "cell_type": "code",
   "execution_count": 3,
   "id": "e193404f",
   "metadata": {},
   "outputs": [
    {
     "name": "stdout",
     "output_type": "stream",
     "text": [
      "eigenvalues are\n",
      " [ 9.+0.j -1.+0.j]\n",
      "eigenvectors are\n",
      " [[ 0.70710678 -0.5547002 ]\n",
      " [ 0.70710678  0.83205029]]\n"
     ]
    }
   ],
   "source": [
    "#define two dimensional array\n",
    "arr = np.array([[5,4],[6,3]])\n",
    "#pass value into function\n",
    "eg_val, eg_vect = linalg.eig(arr)\n",
    "#get eigenvalues\n",
    "print(\"eigenvalues are\\n\",eg_val)\n",
    "#get eigenvectors\n",
    "print(\"eigenvectors are\\n\",eg_vect)"
   ]
  },
  {
   "cell_type": "markdown",
   "id": "255d4f3f",
   "metadata": {},
   "source": [
    "#### Sub-packages of SciPy:\n",
    "###### Special Function package\n",
    "- scipy.special package contains numerous functions of mathematical physics.\n",
    "- SciPy special function includes Cubic Root, Exponential, Log sum Exponential, Lambert, Permutation and Combinations, Gamma, Bessel, hypergeometric, Kelvin, beta, parabolic cylinder, Relative Error Exponential, etc.\n",
    "###### Cubic Root Function:\n",
    "Cubic Root function finds the cube root of values.\n",
    "```python\n",
    "Syntax: scipy.special.cbrt(x)\n",
    "```"
   ]
  },
  {
   "cell_type": "code",
   "execution_count": 5,
   "id": "20322e83",
   "metadata": {},
   "outputs": [
    {
     "name": "stdout",
     "output_type": "stream",
     "text": [
      "[5. 4.]\n"
     ]
    }
   ],
   "source": [
    "#Find cubic root of 125 & 64 using cbrt() function\n",
    "from scipy.special import cbrt\n",
    "cb = cbrt([125, 64])\n",
    "#print value of cb\n",
    "print(cb)"
   ]
  },
  {
   "cell_type": "markdown",
   "id": "6392c759",
   "metadata": {},
   "source": [
    "##### Exponential and Trigonometric Functions:\n",
    "SciPy’s Special Function package provides a number of functions through which you can \n",
    "find exponents and solve trigonometric problems.\n",
    "```python\n",
    "Syntax for exponential function: special.expn(m)….(n power m== n**m)\n",
    "Syntax for Trigonometric function: special.sindg(degree/value)\n",
    "```"
   ]
  },
  {
   "cell_type": "code",
   "execution_count": 6,
   "id": "4a5422b9",
   "metadata": {},
   "outputs": [
    {
     "name": "stdout",
     "output_type": "stream",
     "text": [
      "100.0\n",
      "16.0\n",
      "0.49999999999999994\n",
      "0.49999999999999994\n"
     ]
    }
   ],
   "source": [
    "from scipy import special\n",
    "a = special.exp10(2)\n",
    "print(a)\n",
    "b = special.exp2(4)\n",
    "print(b)\n",
    "c = special.sindg(30)\n",
    "print(c)\n",
    "d = special.cosdg(60)\n",
    "print(d)"
   ]
  },
  {
   "cell_type": "markdown",
   "id": "6a7cf096",
   "metadata": {},
   "source": [
    "#### Log Sum Exponential Function:\n",
    "Log Sum Exponential computes the log of sum exponential input element.\n",
    "```python\n",
    "Syntax :scipy.special.logsumexp(x)\n",
    "```"
   ]
  },
  {
   "cell_type": "code",
   "execution_count": 8,
   "id": "5bdd9ff6",
   "metadata": {},
   "outputs": [
    {
     "data": {
      "text/plain": [
       "9.45862974442671"
      ]
     },
     "execution_count": 8,
     "metadata": {},
     "output_type": "execute_result"
    }
   ],
   "source": [
    "import scipy\n",
    "from scipy.special import logsumexp\n",
    "a = np.arange(10)\n",
    "scipy.special.logsumexp(a)"
   ]
  },
  {
   "cell_type": "code",
   "execution_count": 9,
   "id": "af353c94",
   "metadata": {},
   "outputs": [
    {
     "data": {
      "text/plain": [
       "9.45862974442671"
      ]
     },
     "execution_count": 9,
     "metadata": {},
     "output_type": "execute_result"
    }
   ],
   "source": [
    "# using numpy\n",
    "import numpy as np\n",
    "a = np.arange(10)\n",
    "np.log(np.sum(np.exp(a)))"
   ]
  },
  {
   "cell_type": "markdown",
   "id": "c61c4fdb",
   "metadata": {},
   "source": [
    "#### Permutations & Combinations:\n",
    "SciPy also gives functionality to calculate Permutations and Combinations.\n",
    "```python\n",
    "Synatax for Combinations - scipy.special.comb(N,k)\n",
    "```"
   ]
  },
  {
   "cell_type": "code",
   "execution_count": 10,
   "id": "1a832fa3",
   "metadata": {},
   "outputs": [
    {
     "name": "stdout",
     "output_type": "stream",
     "text": [
      "10.0\n"
     ]
    }
   ],
   "source": [
    "from scipy.special import comb\n",
    "#find combinations of 5, 2 values using comb(N, k)\n",
    "com = comb(5, 2, exact = False)\n",
    "print(com)\n",
    "# Note: if exact=True it returns int value, else (exact=False) returns float value"
   ]
  },
  {
   "cell_type": "markdown",
   "id": "e97dabdf",
   "metadata": {},
   "source": [
    "```python\n",
    "Syntax for Permutations : scipy.special.perm(N,k)\n",
    "```"
   ]
  },
  {
   "cell_type": "code",
   "execution_count": 11,
   "id": "1669a0d4",
   "metadata": {},
   "outputs": [
    {
     "name": "stdout",
     "output_type": "stream",
     "text": [
      "20\n"
     ]
    }
   ],
   "source": [
    "from scipy.special import perm\n",
    "#find permutation of 5, 2 using perm (N, k) function\n",
    "per = perm(5, 2, exact = True)\n",
    "print(per)"
   ]
  },
  {
   "cell_type": "code",
   "execution_count": 4,
   "id": "b5db1ede",
   "metadata": {},
   "outputs": [
    {
     "name": "stdout",
     "output_type": "stream",
     "text": [
      "Integral result: 0.33333333333333337\n"
     ]
    }
   ],
   "source": [
    "from scipy import integrate\n",
    "\n",
    "# Define the function to integrate\n",
    "def func(x):\n",
    "    return x**2\n",
    "\n",
    "# Integrate func from 0 to 1\n",
    "result, error = integrate.quad(func, 0, 1)\n",
    "print(\"Integral result:\", result)"
   ]
  },
  {
   "cell_type": "code",
   "execution_count": 5,
   "id": "5696e12b",
   "metadata": {},
   "outputs": [
    {
     "name": "stdout",
     "output_type": "stream",
     "text": [
      "Optimization terminated successfully.\n",
      "         Current function value: 0.000066\n",
      "         Iterations: 141\n",
      "         Function evaluations: 243\n",
      "Optimized values: [0.99910115 0.99820923 0.99646346 0.99297555 0.98600385]\n"
     ]
    },
    {
     "name": "stderr",
     "output_type": "stream",
     "text": [
      "C:\\Users\\Saimo\\AppData\\Local\\Temp\\ipykernel_21332\\2748631833.py:9: OptimizeWarning: Unknown solver options: xtol\n",
      "  res = minimize(rosen, x0, method='nelder-mead', options={'xtol': 1e-8, 'disp': True})\n"
     ]
    }
   ],
   "source": [
    "from scipy.optimize import minimize\n",
    "\n",
    "# Define the objective function\n",
    "def rosen(x):\n",
    "    return sum(100.0 * (x[1:] - x[:-1]**2.0)**2.0 + (1 - x[:-1])**2.0)\n",
    "\n",
    "# Minimize the objective function\n",
    "x0 = [1.3, 0.7, 0.8, 1.9, 1.2]\n",
    "res = minimize(rosen, x0, method='nelder-mead', options={'xtol': 1e-8, 'disp': True})\n",
    "print(\"Optimized values:\", res.x)"
   ]
  },
  {
   "cell_type": "code",
   "execution_count": 6,
   "id": "afda781e",
   "metadata": {},
   "outputs": [],
   "source": [
    "from scipy.interpolate import interp1d\n",
    "import numpy as np\n",
    "\n",
    "# Generate some data\n",
    "x = np.linspace(0, 10, num=11, endpoint=True)\n",
    "y = np.cos(-x**2/9.0)\n",
    "\n",
    "# Interpolate the data\n",
    "f = interp1d(x, y)\n",
    "\n",
    "# Interpolate at some new points\n",
    "x_new = np.linspace(0, 10, num=41, endpoint=True)\n",
    "y_new = f(x_new)"
   ]
  },
  {
   "cell_type": "code",
   "execution_count": 7,
   "id": "e6c8c163",
   "metadata": {},
   "outputs": [],
   "source": [
    "from scipy import stats\n",
    "\n",
    "# Generate some random data\n",
    "data = np.random.normal(loc=0, scale=1, size=1000)\n",
    "\n",
    "# Calculate mean and standard deviation\n",
    "mean = np.mean(data)\n",
    "std_dev = np.std(data)\n",
    "\n",
    "# Perform a t-test\n",
    "t_statistic, p_value = stats.ttest_1samp(data, 0)"
   ]
  },
  {
   "cell_type": "code",
   "execution_count": 9,
   "id": "9ad8a1cf",
   "metadata": {},
   "outputs": [],
   "source": [
    " from scipy.sparse import csr_matrix\n",
    "\n",
    "# Create a sparse matrix\n",
    "data = np.array([1, 2, 3])\n",
    "row_indices = np.array([0, 1, 2])\n",
    "col_indices = np.array([1, 2, 0])\n",
    "sparse_matrix = csr_matrix((data, (row_indices, col_indices)), shape=(3, 3))\n",
    "\n",
    "# Perform sparse matrix-vector multiplication\n",
    "vector = np.array([1, 2, 3])\n",
    "result = sparse_matrix.dot(vector)"
   ]
  },
  {
   "cell_type": "code",
   "execution_count": 11,
   "id": "f3d02837",
   "metadata": {},
   "outputs": [
    {
     "name": "stdout",
     "output_type": "stream",
     "text": [
      "------------------------------ THE END ------------------------------\n"
     ]
    }
   ],
   "source": [
    "print(\"------\"*5,'THE END',\"------\"*5)"
   ]
  },
  {
   "cell_type": "markdown",
   "id": "312aacd3",
   "metadata": {},
   "source": [
    "Author: [Moguloju_Sai](https://linktr.ee/Moguloju_Sai)"
   ]
  }
 ],
 "metadata": {
  "kernelspec": {
   "display_name": "Python 3 (ipykernel)",
   "language": "python",
   "name": "python3"
  },
  "language_info": {
   "codemirror_mode": {
    "name": "ipython",
    "version": 3
   },
   "file_extension": ".py",
   "mimetype": "text/x-python",
   "name": "python",
   "nbconvert_exporter": "python",
   "pygments_lexer": "ipython3",
   "version": "3.10.9"
  }
 },
 "nbformat": 4,
 "nbformat_minor": 5
}
