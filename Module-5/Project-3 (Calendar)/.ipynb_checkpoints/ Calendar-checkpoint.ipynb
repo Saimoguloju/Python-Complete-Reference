{
 "cells": [
  {
   "cell_type": "code",
   "execution_count": 1,
   "id": "4abbb5af",
   "metadata": {},
   "outputs": [],
   "source": [
    "def display_cal(year_input, month_input):\n",
    "    \"\"\"\n",
    "    Display a calendar for the desired year and month.\n",
    "\n",
    "    Parameters:\n",
    "    year_input (int): The year for which the calendar is to be displayed.\n",
    "    month_input (int): The month for which the calendar is to be displayed.\n",
    "\n",
    "    \"\"\"\n",
    "    import calendar\n",
    "\n",
    "    print(calendar.month(year_input, month_input))"
   ]
  },
  {
   "cell_type": "code",
   "execution_count": 2,
   "id": "9754b39b",
   "metadata": {},
   "outputs": [],
   "source": [
    "def fetch_year():\n",
    "    \"\"\"\n",
    "    Prompts the user for a valid year and returns the year as an integer.\n",
    "    \"\"\"\n",
    "    while True:\n",
    "        try:\n",
    "            year_input = int(input(\"Enter year: \"))\n",
    "            if year_input < 0:\n",
    "                raise ValueError(\"Year must be a positive integer\")\n",
    "            return year_input\n",
    "        except ValueError:\n",
    "            print(\"Invalid input. Please enter a valid year.\")"
   ]
  },
  {
   "cell_type": "code",
   "execution_count": 3,
   "id": "9ada8917",
   "metadata": {},
   "outputs": [],
   "source": [
    "def fetch_month():\n",
    "    \"\"\"\n",
    "    Function that asks the user to enter a month, validates the input, and returns the valid month.\n",
    "    \"\"\"\n",
    "    while True:\n",
    "        try:\n",
    "            month_input = int(input(\"Enter month: \"))\n",
    "            if month_input < 1 or month_input > 12:\n",
    "                raise ValueError(\"Month must be between 1 and 12\")\n",
    "            return month_input\n",
    "        except ValueError:\n",
    "            print(\"Invalid input. Please enter a valid month.\")"
   ]
  },
  {
   "cell_type": "code",
   "execution_count": 4,
   "id": "25d42b08",
   "metadata": {},
   "outputs": [
    {
     "name": "stdout",
     "output_type": "stream",
     "text": [
      "Enter year: 1001\n",
      "Enter month: 10\n",
      "    October 1001\n",
      "Mo Tu We Th Fr Sa Su\n",
      "          1  2  3  4\n",
      " 5  6  7  8  9 10 11\n",
      "12 13 14 15 16 17 18\n",
      "19 20 21 22 23 24 25\n",
      "26 27 28 29 30 31\n",
      "\n"
     ]
    }
   ],
   "source": [
    "year_input = fetch_year()\n",
    "month_input = fetch_month()\n",
    "\n",
    "display_cal(year_input, month_input)"
   ]
  },
  {
   "cell_type": "code",
   "execution_count": 5,
   "id": "a86b914d",
   "metadata": {},
   "outputs": [
    {
     "name": "stdout",
     "output_type": "stream",
     "text": [
      "------------------------------ THE END ------------------------------\n"
     ]
    }
   ],
   "source": [
    "print(\"------\"*5,'THE END',\"------\"*5)"
   ]
  },
  {
   "cell_type": "markdown",
   "id": "caa38023",
   "metadata": {},
   "source": [
    "Author: [Moguloju_Sai](https://linktr.ee/Moguloju_Sai)"
   ]
  }
 ],
 "metadata": {
  "kernelspec": {
   "display_name": "Python 3 (ipykernel)",
   "language": "python",
   "name": "python3"
  },
  "language_info": {
   "codemirror_mode": {
    "name": "ipython",
    "version": 3
   },
   "file_extension": ".py",
   "mimetype": "text/x-python",
   "name": "python",
   "nbconvert_exporter": "python",
   "pygments_lexer": "ipython3",
   "version": "3.10.9"
  }
 },
 "nbformat": 4,
 "nbformat_minor": 5
}
