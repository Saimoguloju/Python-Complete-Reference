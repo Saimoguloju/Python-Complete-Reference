{
 "cells": [
  {
   "cell_type": "code",
   "execution_count": 1,
   "id": "1bb4bf42",
   "metadata": {},
   "outputs": [],
   "source": [
    "import time\n",
    "from calendar import isleap"
   ]
  },
  {
   "cell_type": "code",
   "execution_count": 2,
   "id": "04768eb7",
   "metadata": {},
   "outputs": [],
   "source": [
    "# judge the leap year\n",
    "def judge_leap_year(year):\n",
    "    if isleap(year):\n",
    "        return True\n",
    "    else:\n",
    "        return False"
   ]
  },
  {
   "cell_type": "code",
   "execution_count": 3,
   "id": "ef737aca",
   "metadata": {},
   "outputs": [],
   "source": [
    "def month_days(month, leap_year):\n",
    "    if month in [1, 3, 5, 7, 8, 10, 12]:\n",
    "        return 31\n",
    "    elif month in [4, 6, 9, 11]:\n",
    "        return 30\n",
    "    elif month == 2 and leap_year:\n",
    "        return 29\n",
    "    elif month == 2 and (not leap_year):\n",
    "        return 28"
   ]
  },
  {
   "cell_type": "code",
   "execution_count": 4,
   "id": "fb04b4f3",
   "metadata": {},
   "outputs": [
    {
     "name": "stdout",
     "output_type": "stream",
     "text": [
      "input your name: sai\n",
      "input your age: 21\n"
     ]
    }
   ],
   "source": [
    "name = input(\"input your name: \")\n",
    "age = input(\"input your age: \")\n",
    "localtime = time.localtime(time.time())"
   ]
  },
  {
   "cell_type": "code",
   "execution_count": 5,
   "id": "531174ba",
   "metadata": {},
   "outputs": [],
   "source": [
    "year = int(age)\n",
    "month = year * 12 + localtime.tm_mon\n",
    "day = 0"
   ]
  },
  {
   "cell_type": "code",
   "execution_count": 6,
   "id": "25673f09",
   "metadata": {},
   "outputs": [],
   "source": [
    "begin_year = int(localtime.tm_year) - year\n",
    "end_year = begin_year + year"
   ]
  },
  {
   "cell_type": "code",
   "execution_count": 7,
   "id": "cb01c39a",
   "metadata": {},
   "outputs": [
    {
     "name": "stdout",
     "output_type": "stream",
     "text": [
      "sai's age is 21 years or 258 months or 7827 days\n"
     ]
    }
   ],
   "source": [
    "for y in range(begin_year, end_year):\n",
    "    if judge_leap_year(y):\n",
    "        day = day + 366\n",
    "    else:\n",
    "        day = day + 365\n",
    "\n",
    "leap_year = judge_leap_year(localtime.tm_year)\n",
    "for m in range(1, localtime.tm_mon):\n",
    "    day = day + month_days(m, leap_year)\n",
    "\n",
    "day = day + localtime.tm_mday\n",
    "print(\"%s's age is %d years or \" % (name, year), end=\"\")\n",
    "print(\"%d months or %d days\" % (month, day))"
   ]
  },
  {
   "cell_type": "code",
   "execution_count": 8,
   "id": "c19c952a",
   "metadata": {},
   "outputs": [
    {
     "name": "stdout",
     "output_type": "stream",
     "text": [
      "------------------------------ THE END ------------------------------\n"
     ]
    }
   ],
   "source": [
    "print(\"------\"*5,'THE END',\"------\"*5)"
   ]
  },
  {
   "cell_type": "markdown",
   "id": "94a67a0f",
   "metadata": {},
   "source": [
    "Author: [Moguloju_Sai](https://linktr.ee/Moguloju_Sai)"
   ]
  }
 ],
 "metadata": {
  "kernelspec": {
   "display_name": "Python 3 (ipykernel)",
   "language": "python",
   "name": "python3"
  },
  "language_info": {
   "codemirror_mode": {
    "name": "ipython",
    "version": 3
   },
   "file_extension": ".py",
   "mimetype": "text/x-python",
   "name": "python",
   "nbconvert_exporter": "python",
   "pygments_lexer": "ipython3",
   "version": "3.10.9"
  }
 },
 "nbformat": 4,
 "nbformat_minor": 5
}
