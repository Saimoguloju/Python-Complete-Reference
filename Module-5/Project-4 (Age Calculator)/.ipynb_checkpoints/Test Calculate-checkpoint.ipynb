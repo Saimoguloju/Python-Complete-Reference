{
 "cells": [
  {
   "cell_type": "code",
   "execution_count": null,
   "id": "9bf64126",
   "metadata": {},
   "outputs": [],
   "source": [
    "import pytest\n",
    "from calculate import judge_leap_year, month_days\n",
    "\n",
    "\n",
    "def test_judge_leap_year():\n",
    "    assert judge_leap_year(2000) == True\n",
    "    assert judge_leap_year(2008) == True\n",
    "    assert judge_leap_year(2023) == False\n",
    "    assert judge_leap_year(1900) == False\n",
    "    assert judge_leap_year(2400) == True\n",
    "    assert judge_leap_year(2100) == False\n",
    "\n",
    "\n",
    "def test_month_days():\n",
    "    assert month_days(7, False) == 31\n",
    "    assert month_days(4, True) == 30\n",
    "    assert month_days(2, True) == 29\n",
    "    assert month_days(2, False) == 28\n",
    "    assert month_days(1, False) == 31\n",
    "    assert month_days(11, True) == 30"
   ]
  }
 ],
 "metadata": {
  "kernelspec": {
   "display_name": "Python 3 (ipykernel)",
   "language": "python",
   "name": "python3"
  },
  "language_info": {
   "codemirror_mode": {
    "name": "ipython",
    "version": 3
   },
   "file_extension": ".py",
   "mimetype": "text/x-python",
   "name": "python",
   "nbconvert_exporter": "python",
   "pygments_lexer": "ipython3",
   "version": "3.10.9"
  }
 },
 "nbformat": 4,
 "nbformat_minor": 5
}
