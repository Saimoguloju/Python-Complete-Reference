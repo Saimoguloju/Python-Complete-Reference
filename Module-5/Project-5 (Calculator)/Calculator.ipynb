{
 "cells": [
  {
   "cell_type": "markdown",
   "id": "749859b9",
   "metadata": {},
   "source": [
    "imports the os and time modules from the Python Standard Library.\n",
    "The os module provides a way of using operating system dependent functionality,\n",
    "like reading or writing to the file system.\n",
    "The time module provides various time-related functions, like getting the current\n",
    "time or pausing the execution of the script."
   ]
  },
  {
   "cell_type": "code",
   "execution_count": 1,
   "id": "9d5c7889",
   "metadata": {},
   "outputs": [],
   "source": [
    "import os\n",
    "import time"
   ]
  },
  {
   "cell_type": "code",
   "execution_count": 2,
   "id": "ff4de8b4",
   "metadata": {},
   "outputs": [],
   "source": [
    "def addition():\n",
    "    \"\"\"This function asks the user to enter a series of numbers separated by spaces.\n",
    "    It then adds all the numbers together and returns the result.\"\"\"\n",
    "    nums = list(map(int, input(\"Enter all numbers separated by space: \").split()))\n",
    "    return sum(nums)"
   ]
  },
  {
   "cell_type": "code",
   "execution_count": 3,
   "id": "9692c810",
   "metadata": {},
   "outputs": [],
   "source": [
    "def subtraction():\n",
    "    \"\"\"This function asks the user to enter two numbers.\n",
    "    It then subtracts the second number from the first and returns the result.\"\"\"\n",
    "    n_1 = float(input(\"Enter first number: \"))\n",
    "    n_2 = float(input(\"Enter second number: \"))\n",
    "\n",
    "    return n_1 - n_2"
   ]
  },
  {
   "cell_type": "code",
   "execution_count": 4,
   "id": "17989d89",
   "metadata": {},
   "outputs": [],
   "source": [
    "def multiplication():\n",
    "    \"\"\"Function asks user to enter a series of numbers separated by spaces.\n",
    "    Then multiply all the numbers together and returns the result.\"\"\"\n",
    "\n",
    "    nums = list(map(int, input(\"Enter all numbers separated by space: \").split()))\n",
    "    result = 1\n",
    "    for num in nums:\n",
    "        result *= num\n",
    "    return result"
   ]
  },
  {
   "cell_type": "code",
   "execution_count": 5,
   "id": "a144875a",
   "metadata": {},
   "outputs": [],
   "source": [
    "def division():\n",
    "    \"\"\"Function divide two numbers\"\"\"\n",
    "    n1 = float(input(\"Enter first number: \"))\n",
    "    n2 = float(input(\"Enter second number: \"))\n",
    "    if n2 == 0:\n",
    "        print(\"Invalid entry\")\n",
    "        return \"Invalid entry\"\n",
    "    print(n1 / n2)\n",
    "\n",
    "    return n1 / n2"
   ]
  },
  {
   "cell_type": "code",
   "execution_count": 6,
   "id": "cba4c746",
   "metadata": {},
   "outputs": [],
   "source": [
    "def average():\n",
    "    \"\"\"This function takes space separated number series and then convert it to a list.\n",
    "    Then calculates the average of that list of numbers.\"\"\"\n",
    "\n",
    "    nums = list(map(int, input(\"Enter all numbers separated by space: \").split()))\n",
    "    return sum(nums) / len(nums)"
   ]
  },
  {
   "cell_type": "code",
   "execution_count": 7,
   "id": "27483399",
   "metadata": {},
   "outputs": [],
   "source": [
    "def factorial(num):\n",
    "    \"\"\"\n",
    "    Function to calculate the factorial of a number.\n",
    "\n",
    "    Takes a number as an argument, calculates the factorial of the number,\n",
    "    and returns the result.\n",
    "    \"\"\"\n",
    "    answer = 1\n",
    "    for i in range(num):\n",
    "        answer *= i + 1\n",
    "    return answer"
   ]
  },
  {
   "cell_type": "code",
   "execution_count": 8,
   "id": "8f3d7dfe",
   "metadata": {},
   "outputs": [],
   "source": [
    "def complex_arithmetic():\n",
    "    \"\"\"\n",
    "    Function to execute complex arithmetic operations such as addition, subtraction, multiplication, and division.\n",
    "\n",
    "    Asks the user to choose the operation and input the complex numbers as real and imaginary parts,\n",
    "    performs the operation, and returns the result.\n",
    "    \"\"\"\n",
    "    print(\"Enter '1' for complex addition\")\n",
    "    print(\"Enter '2' for complex subtraction\")\n",
    "    print(\"Enter '3' for complex multiplication\")\n",
    "    print(\"Enter '4' for complex division\")\n",
    "    choice = input(\"enter your choice\")\n",
    "    if choice == \"1\":\n",
    "        nums = list(map(int, input(\"Enter all numbers separated by space: \").split()))\n",
    "        real_sum = 0\n",
    "        imag_sum = 0\n",
    "        for i in range(0, len(nums) - 1, 2):\n",
    "            real_sum += nums[i]\n",
    "        for i in range(2, len(nums) - 1, 2):\n",
    "            imag_sum += nums[i]\n",
    "        imag_sum += nums[-1]\n",
    "        return f\"{real_sum}+ i{imag_sum}\"\n",
    "\n",
    "    elif choice == \"2\":\n",
    "        nums = list(map(int, input(\"Enter all numbers separated by space: \").split()))\n",
    "        real_sub = nums[0]\n",
    "        imag_sub = nums[1]\n",
    "        for i in range(2, len(nums) - 1, 2):\n",
    "            real_sub -= nums[i]\n",
    "        for i in range(3, len(nums) - 1, 2):\n",
    "            imag_sub -= nums[i]\n",
    "        imag_sub -= nums[-1]\n",
    "        return f\"{real_sub}+ i{imag_sub}\"\n",
    "\n",
    "    elif choice == \"3\":\n",
    "        nums = list(\n",
    "            map(\n",
    "                int,\n",
    "                input(\n",
    "                    \"Enter all numbers separated by space maximum 4 elements: \"\n",
    "                ).split(),\n",
    "            )\n",
    "        )\n",
    "        real = nums[0] * nums[2] - nums[1] * nums[3]\n",
    "        imag = nums[0] * nums[3] + nums[2] * nums[1]\n",
    "        return f\"{real}+ i{imag}\"\n",
    "\n",
    "    elif choice == \"4\":\n",
    "        nums = list(\n",
    "            map(\n",
    "                int,\n",
    "                input(\n",
    "                    \"Enter all numbers separated by space maximum 4 elements: \"\n",
    "                ).split(),\n",
    "            )\n",
    "        )\n",
    "        real = (nums[0] * nums[2] + nums[1] * nums[3]) / (nums[2] ** 2 + nums[3] ** 2)\n",
    "        imag = (nums[1] * nums[2] - nums[0] * nums[3]) / (nums[2] ** 2 + nums[3] ** 2)\n",
    "        return f\"{real}+ i{imag}\""
   ]
  },
  {
   "cell_type": "code",
   "execution_count": 10,
   "id": "07952151",
   "metadata": {},
   "outputs": [
    {
     "name": "stdout",
     "output_type": "stream",
     "text": [
      "Enter '1' for addition\n",
      "Enter '2' for subtraction\n",
      "Enter '3' for multiplication\n",
      "Enter '4' for division\n",
      "Enter '5' for average\n",
      "Enter '6' for factorial\n",
      "Enter '7' for complex arithmetic\n",
      "ENter '8'  for binomial\n",
      "Enter '-1' to exit.\n",
      "\n",
      "Your choice is: 3\n",
      "Enter all numbers separated by space: -1\n",
      "The answer is -1\n",
      "Enter '1' for addition\n",
      "Enter '2' for subtraction\n",
      "Enter '3' for multiplication\n",
      "Enter '4' for division\n",
      "Enter '5' for average\n",
      "Enter '6' for factorial\n",
      "Enter '7' for complex arithmetic\n",
      "ENter '8'  for binomial\n",
      "Enter '-1' to exit.\n",
      "\n",
      "Your choice is: -1\n",
      "Thank you for using the calculator!\n"
     ]
    }
   ],
   "source": [
    "def binomial(num):\n",
    "    \"\"\"\n",
    "    Function to calculate the binomial coefficient.\n",
    "\n",
    "    Takes two numbers as arguments, calculates the binomial coefficient using the formula n!/(k!(n-k)!),\n",
    "    and returns the result.\n",
    "    \"\"\"\n",
    "    result = factorial(num[0]) / (factorial(num[1]) * factorial(num[0] - num[1]))\n",
    "    return result\n",
    "\n",
    "\n",
    "c = 0\n",
    "while c != \"-1\":\n",
    "    print(\"Enter '1' for addition\")\n",
    "    print(\"Enter '2' for subtraction\")\n",
    "    print(\"Enter '3' for multiplication\")\n",
    "    print(\"Enter '4' for division\")\n",
    "    print(\"Enter '5' for average\")\n",
    "    print(\"Enter '6' for factorial\")\n",
    "    print(\"Enter '7' for complex arithmetic\")\n",
    "    print(\"ENter '8'  for binomial\")\n",
    "    print(\"Enter '-1' to exit.\\n\")\n",
    "\n",
    "    c = input(\"Your choice is: \")\n",
    "    if c == \"1\":\n",
    "        res = addition()\n",
    "    elif c == \"2\":\n",
    "        res = subtraction()\n",
    "    elif c == \"3\":\n",
    "        res = multiplication()\n",
    "    elif c == \"4\":\n",
    "        res = division()\n",
    "        if res == \"Invalid entry\":\n",
    "            continue\n",
    "    elif c == \"5\":\n",
    "        res = average()\n",
    "    elif c == \"6\":\n",
    "        num = int(input(\"enter the number: \"))\n",
    "        if num < 0:\n",
    "            print(\"Invalid entry\")\n",
    "            continue\n",
    "        res = factorial(num)\n",
    "    elif c == \"7\":\n",
    "        os.system(\"cls||clear\")\n",
    "        res = complex_arithmetic()\n",
    "    elif c == \"8\":\n",
    "        num = list(map(int, input(\"Enter the number separated by space\").split()))\n",
    "        if num[0] < num[1]:\n",
    "            print(\"Invalid entry\")\n",
    "            continue\n",
    "        res = binomial(num)\n",
    "    elif c == \"-1\":\n",
    "        print(\"Thank you for using the calculator!\")\n",
    "        break\n",
    "    else:\n",
    "        print(\"Sorry, invalid option!\")\n",
    "    os.system(\"cls||clear\")\n",
    "    print(f\"The answer is {res}\")\n",
    "    time.sleep(2)\n",
    "    os.system(\"cls||clear\")"
   ]
  },
  {
   "cell_type": "code",
   "execution_count": 11,
   "id": "39090ef3",
   "metadata": {},
   "outputs": [
    {
     "name": "stdout",
     "output_type": "stream",
     "text": [
      "------------------------------ THE END ------------------------------\n"
     ]
    }
   ],
   "source": [
    "print(\"------\"*5,'THE END',\"------\"*5)"
   ]
  },
  {
   "cell_type": "markdown",
   "id": "4f6dab95",
   "metadata": {},
   "source": [
    "Author: [Moguloju_Sai](https://linktr.ee/Moguloju_Sai)"
   ]
  }
 ],
 "metadata": {
  "kernelspec": {
   "display_name": "Python 3 (ipykernel)",
   "language": "python",
   "name": "python3"
  },
  "language_info": {
   "codemirror_mode": {
    "name": "ipython",
    "version": 3
   },
   "file_extension": ".py",
   "mimetype": "text/x-python",
   "name": "python",
   "nbconvert_exporter": "python",
   "pygments_lexer": "ipython3",
   "version": "3.10.9"
  }
 },
 "nbformat": 4,
 "nbformat_minor": 5
}
