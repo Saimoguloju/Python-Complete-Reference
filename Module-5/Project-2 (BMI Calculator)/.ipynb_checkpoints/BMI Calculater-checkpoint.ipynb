{
 "cells": [
  {
   "cell_type": "code",
   "execution_count": 1,
   "id": "17ab0b9a",
   "metadata": {},
   "outputs": [],
   "source": [
    "import tabulate\n",
    "import csv"
   ]
  },
  {
   "cell_type": "code",
   "execution_count": 2,
   "id": "1ee65b3b",
   "metadata": {},
   "outputs": [],
   "source": [
    "def reference_chart():\n",
    "    \"\"\"\n",
    "    This is a function used to tabulate the data\n",
    "    of the bmi scale for the user, this requries a csv file 'bmi.csv' and two libraries \"csv\" and \"tabulate\".\n",
    "    It won't take any arguments and won't return anything\n",
    "    \"\"\"\n",
    "    list2 = []\n",
    "    with open(\"bmi.csv\") as file1:\n",
    "        list1 = csv.reader(file1)\n",
    "        for line in list1:\n",
    "            list2.append(line)\n",
    "        print(\"Here You can take the reference chart \\n\")\n",
    "        print(tabulate.tabulate(list2[1:], headers=list2[0], tablefmt=\"fancy_grid\"))"
   ]
  },
  {
   "cell_type": "code",
   "execution_count": 3,
   "id": "e5c24df8",
   "metadata": {},
   "outputs": [],
   "source": [
    "def calculate_bmi(height, weight):\n",
    "    \"\"\"\n",
    "    Calculate BMI given height (in meters) and weight (in kilograms).\n",
    "\n",
    "    Args:\n",
    "        height (float): Height in meters.\n",
    "        weight (float): Weight in kilograms.\n",
    "\n",
    "    Returns:\n",
    "        float: Calculated BMI.\n",
    "    \"\"\"\n",
    "    try:\n",
    "        bmi = round(weight / (height**2), 2)\n",
    "        return bmi\n",
    "    except ZeroDivisionError:\n",
    "        return None"
   ]
  },
  {
   "cell_type": "code",
   "execution_count": 4,
   "id": "0643ae3f",
   "metadata": {},
   "outputs": [],
   "source": [
    "def interpret_bmi(bmi):\n",
    "    \"\"\"\n",
    "    Interpret the BMI and provide a classification.\n",
    "\n",
    "    Args:\n",
    "        bmi (float): Calculated BMI.\n",
    "\n",
    "    Returns:\n",
    "        str: BMI interpretation.\n",
    "    \"\"\"\n",
    "    if bmi is None:\n",
    "        return \"Invalid input. Height should be greater than 0.\"\n",
    "\n",
    "    if bmi < 18.5:\n",
    "        return f\"Your BMI is {bmi}, you are underweight.\"\n",
    "    elif bmi < 24.9:\n",
    "        return f\"Your BMI is {bmi}, you have a normal weight.\"\n",
    "    elif bmi < 29.9:\n",
    "        return f\"Your BMI is {bmi}, you are overweight.\"\n",
    "    elif bmi < 34.9:\n",
    "        return f\"Your BMI is {bmi}, you are obese (Class I).\"\n",
    "    elif bmi < 39.9:\n",
    "        return f\"Your BMI is {bmi}, you are obese (Class II).\"\n",
    "    else:\n",
    "        return f\"Your BMI is {bmi}, you are obese (Class III).\""
   ]
  },
  {
   "cell_type": "code",
   "execution_count": 5,
   "id": "dd7fff72",
   "metadata": {},
   "outputs": [],
   "source": [
    "def main():\n",
    "    reference_chart()\n",
    "    try:\n",
    "        height = float(input(\"Enter your height in meters: \"))\n",
    "        weight = float(input(\"Enter your weight in kilograms: \"))\n",
    "\n",
    "        bmi = calculate_bmi(height, weight)\n",
    "        result = interpret_bmi(bmi)\n",
    "        print(result)\n",
    "\n",
    "    except ValueError:\n",
    "        print(\"Invalid input. Please enter numerical values for height and weight.\")"
   ]
  },
  {
   "cell_type": "code",
   "execution_count": 6,
   "id": "982e0aa5",
   "metadata": {},
   "outputs": [
    {
     "name": "stdout",
     "output_type": "stream",
     "text": [
      "Here You can take the reference chart \n",
      "\n",
      "╒═════════════╤═══════════════════╕\n",
      "│ ranges      │ condition         │\n",
      "╞═════════════╪═══════════════════╡\n",
      "│ <18.5       │ underweight       │\n",
      "├─────────────┼───────────────────┤\n",
      "│ 18.5 - 24.9 │ normal            │\n",
      "├─────────────┼───────────────────┤\n",
      "│ 24.9 - 29.9 │ overweight        │\n",
      "├─────────────┼───────────────────┤\n",
      "│ 29.9 - 34.9 │ obese (Class I)   │\n",
      "├─────────────┼───────────────────┤\n",
      "│ 34.9 - 39.9 │ obese (Class II)  │\n",
      "├─────────────┼───────────────────┤\n",
      "│ 39.9<       │ obese (Class III) │\n",
      "╘═════════════╧═══════════════════╛\n",
      "Enter your height in meters: 186\n",
      "Enter your weight in kilograms: 90\n",
      "Your BMI is 0.0, you are underweight.\n"
     ]
    }
   ],
   "source": [
    "if __name__ == \"__main__\":\n",
    "    main()"
   ]
  },
  {
   "cell_type": "code",
   "execution_count": 7,
   "id": "0471d976",
   "metadata": {},
   "outputs": [
    {
     "name": "stdout",
     "output_type": "stream",
     "text": [
      "------------------------------ THE END ------------------------------\n"
     ]
    }
   ],
   "source": [
    "print(\"------\"*5,'THE END',\"------\"*5)"
   ]
  },
  {
   "cell_type": "markdown",
   "id": "4e000228",
   "metadata": {},
   "source": [
    "Author: [Moguloju_Sai](https://linktr.ee/Moguloju_Sai)"
   ]
  }
 ],
 "metadata": {
  "kernelspec": {
   "display_name": "Python 3 (ipykernel)",
   "language": "python",
   "name": "python3"
  },
  "language_info": {
   "codemirror_mode": {
    "name": "ipython",
    "version": 3
   },
   "file_extension": ".py",
   "mimetype": "text/x-python",
   "name": "python",
   "nbconvert_exporter": "python",
   "pygments_lexer": "ipython3",
   "version": "3.10.9"
  }
 },
 "nbformat": 4,
 "nbformat_minor": 5
}
