{
 "cells": [
  {
   "cell_type": "markdown",
   "id": "71994485",
   "metadata": {},
   "source": [
    "# Loops\n",
    "                                                                                                      "
   ]
  },
  {
   "cell_type": "markdown",
   "id": "ca4142b9",
   "metadata": {},
   "source": [
    "![Python logo](data:image/png;base64,iVBORw0KGgoAAAANSUhEUgAAASwAAACoCAMAAABt9SM9AAABCFBMVEX////LbOc4t///dCAutf8ks///w6j/eSdgw//i9P9oxv/4/P//nGv/y7KJ0P/JZeZSv///lpb/j4//pnv/+vf/cRj/cQ//jVHE5//K6v//tJL/uZrJZOb/awD/AAD9+f6a1//Uh+vRfena8f+14f/WjuzNcuj79P2o3P8Ar//HXOX/ZQCc1//r+P//trb/5eX/SUn/8fH/LS3/bGz/0dF7zP//0r2O0v//6+D/nmzViuv/gID/xsb/eHj/Wlrir/Hdo+/x2fj15PrryfblvPP/4NH/ll//2dn/v7/amu7/oqLpxPT14/r/2sn/gj3/9Ov/PDz/Zmb/UVH/HBz/NDTu0vf/h0T/kFScuMgNAAAMW0lEQVR4nO2dCXuayhqAB5yJgFE5iRpIJVIhCiqxaUIwzWIWzdLW2HN62/7/f3JnUNRmMYBg1Mz7EFkkDrzPN8MH4gAAhUKhUCgUCoVCoVAoFMp8yU0nmkJSoYim7OjI3RSmkzyavRBNhGFg7QXTdaMkppOvt2YtI4X3OxTIjmIXIyP3mqtEQvkwayESesnGaxJhFPsYGSNZeUXJPy+rEK0scUIRdMjsWM0Td4spq3BztPbwvK3wsryDA5EFbQlBiAeJ5RyUUd1pZLG6gBCCLJmDQgY5Dl5KVscLFlVWfqu/vt2rp28KeaWg4BelUOjWZ5XlHRs8WWpDs5EqalaGs5GjqYbJsxlRlaQGymiGIWq8Ldh4UmKh6mg2XFRZx12lXt/M9W+2+q1u+qHXS/dAT5lVVn3dDS5PFrA5C/tpyKJq2BprADwj2yLHqwLPOgAaEtsgbziaCTJialEjK1FI97tb9aP1emurvnb0kFOURGsisvrpMCQThQQJLk+WhfDAs7aOVEMScCV0ZSFHNvUMnkOOgYNPxm/wLF6VFxdVVr6urOewLKWl4Obroaskki1lLKt1sx4C8rGbYFIWHMgyVcNQTTFFZAkiFqPqJpvCssxGQ2+YeC0LLq6s/OaH/O9+/WhT6W4qvYGsfn7mNktJdsl4KAvyCA8ay6UyjsHyskYiS+I0S9ORpmkWElK22oC8bGUQD5G2qLISyaNW94+y3v2d7LU+bCfXCrhipgszyipsDo6Hj/KsQYIARS9REIkVceKNidwish2NglGepZA8K4//yIEwQTQphVkjqzccv5yUvsaCySpMzd5djWuzFiKHlsVGsY/RsVnPT6egzH7hQUShTqQhUmffwUj58GdrKpszn0fjM2mHC4Ogz1405V2SO37rLVgicvW33oIlIhfBweP9QGUFoNB/6y1YIqisACQiSOLeDUkqyz8PVJZP+q3WQ7rbowdEP/TqSl6p0yTeH9vkYhoNLJ/8zisR3EnxTugr62+9CUtEmialFAplidjdfestWB52i0Vqyye7RYahtvxBXFFb/hi4orb84Lmitl5nN8uMyFJbUxnHFY2t15iMKxpb0/nyyBW29eWtt2lReRxXNLZe5mlc0dh6ieddUVvP8ZIrauspH190hW19fOutWyxejisaW4+ZFlc0tv7mNVfU1pjXXVFbHn5cUVsD/Lmitgh+XYWzpQuhUOfTF0Lz5ORkYzj9af/19f27CmNLDft7FzFoSaHYOz+9OxxOf35dVhBXIWyF7DeCZZEWeM9DsHdCXk9/fj45w7Kan36cgf0fPw9eWDuYq8C2UqFkkX9C8qwi/LD3+eD8FOw0wck5lnWyB07Bj1vw9eTZlYO6CmprIMunMa/3CCTPT9a/t4f7t+cA3BJZzc/nh7md/z59+veZVUvBXRFbJf8bQ2QNO44gNkg/EdDtK4IdTMChI3dGEAZqbfKb0TnJIjHU/AzAHZG1jyebOy/cxBfGVbDY8mTZtsRB2JBsVlBVlJEExHGGCo0GhJykItZ2dFGUZW7QWonzi6wz8nr238bnc/Bz/+Bg739g7+c/P/aerlkO5QrbKvvemKEsCNSMZcq6YIjAFh2J0wTVsjXN1hyR53RdBBmVZ2WJGwXWnGTtN93R4V2uCfDk4R4+Ijb3bp+sF6oOerHltyZ6sniELJZHEHEaQposabpqmI5hZvQGL8kWqyFomQ0VjQJrTrJ8UhrHVbb43KX3LPOyzGzZp62xLGhBCyHEyViWgBeqBsJDRld1vIroyjJUNAqsCGTtHx4eNsezexPTzadrT2PsKlvuXF881dFpM22GKTLM/e5rtqb8vsCT5fayYfC6TLQIlo6r4VAWxJFluLJQxsIt/DCwIpB18uPg33/Gswd33tT++cZz67/IhKsL8Ktz1c4yRRJfZOTGWu26w/ximKtatn3hvZctjkNwbKv1e0qPCYPUQST9S4ks5Oxhx1P2uOsICG2saPg+MTvsESACWW4zvXd6gMeHB1/PTofL93Z2vgb5nIk6WAYfi7geZncvv18Us50vl5dlpti++nbdyXaYa/CtfH+frVxfdZjs/e63q4snttaUaT0mPEpK4aPxX+nVAE70kq1wisZsnN3t7e/vfD3cad7+PNzbGchqnu/83Dn/xx8b+FSoOtFetb/XyPgLuLgvtWuly93rq1qnutsGHQYwbdCuXHdq1W9fLr/Xrkv3F6AyUROrOKy2lET+Zvt5cmEz+IhknW+cNPdxDnVweHI3qobNT66sDX9gWVeTbdMvUu+Kl+1a9mO1VioXyyX8mq396jAlhgHF4nXnHldGvOy6U6xVJxqwiidr/cPzvLEstxoOZJEqOGqzvgashtWxrIsqiazi9/ssUwFEE5FVYYrfiKwKyGJZF5c1plb9gitmcVJW1f2oQNVwvrJOTk9v939iTaeHn2/vdrw2CwdXsAa+OqpO2eo1zpvK7ats7fpyKOvyW40pkWo4kFUB5do9qP0lK1upDj/KRwOPz28QCqhtdlmnZ2dnX8FXN2k4Pd+YIXUY26p8B6XSRfFXqXrFFKtlplwtVqrV6mWbqTLZ79VKp127KFWru7Vv7Wzx+5eJOujxSurgHuJkSfBpK7IGPkKqFa+RLzIVnIEWK5XxnVnZ8jAj9V7L2b8y1Oykq2kMZekGZ6cE6PYphUScN5ApdwxFMuDFJJkgS92uzBZN1kRsBca3q5EsByGcQGkyLyBZ0xwdnzOrmqabGp7TNR4JvKxBQ5NTnAG0BZQ10crH5mosC0JOwyfQtmXLJoJ6w2QtjrPwWbRpcSbPajYnNQzDVHU8s4iyJmpiXK4mIysjGbJhZPA5DkSSDcWUYRisJuJqh89wLDzDGQ5yFlZWOFtBXI3bLMFOcQIvCo5ocYItZSDkbdEgplxZus6qoq4SWZawmLLC2ArkanQ0lCR8NMQHRUmEAm6vMvgsUJS0DFJZ6A7I0AxyksjZyJYWVFZwW8FcPcqzBv0N4xd3qdsZMesNgxkWeqeKCygrqK2Armb5KmwBZQWzFdgVcIJm7p6r+XzJGpQAtoK7AsAQQ5FZsEcZePi2la0E+BJsVfFpK0xcrSC+bPn+kmLV8WGLxtWI0mu2aHs1QXX619PuBXeKx9TYonH1iNLLsRVT297vxvGp8+FFW3EdB2+SsXzsfHjBVlyu0oqyHcsHz4dnbcXlql9IJJQlrojP2YotF/1TL+SVpe4r74mt2Fz100ebN0fppe7h85GtWM9x0pvxffZ8+MtWgBsiQ7C29LL+uiUw3nPnFZA1thX3dYZVkOXZiv2azErIGtiK//rVasgit8jH27a7rIqsUnkO10VXRRYozeGazMrImgdUVgBWRtbmzM+ofp2VkbVNZfmHygrAh8FFzHTy4SH5J6YyVk0WAEc3gDz+vUUeAU+u1LWi61V/ZWSNdqSHZeWSx8e5JADHXbC1/jDzk2CflLHs/C1LwRMJANa7a9u5fmSPEVsZWWnvqTtEVv8BC0uQyNr8c3y8SWU9Iu09HcWTBQo58LtFrgRHdtl8ZWS57Tqhh0Mst4Un1pIPeOeOHx4i28XVkfU0X8jlxq+RsDKyelvxl7Eysrq/4y9jdWQ9xF/GishqtY6S3V7cNyKsiKwb9wGHvZhLWRFZuWQ+ocS+KysiC3SVfPx3mq2KLPAh9kq4QrLAHG7KWx1Zc2DpZKX4UERS9rLJ0slvTEMgWhEUvmSyLBTyd6aQi6D0JZMlhZXFwghKX05ZUBTRRA9gcOovdeH7liVavCVD0XE7V8WD27nqwNi441U4/GU8dN61LKQ3TJRhVYuD0HFEgSW9L7Aq6RGFzdhIUEkT1eAgy4kNAYqWI0Yka8nuVnZlQZUXIBK1lI402UjJgsU7rGVIminzhiXrMm9meNXKQCAZQFTxCtCVtZ1PzkYhrm9v42FQDbGtVAMJminwJnJk02iYDdm2U5zkmLZmohSyHFtN4bGJl/BuT5BYVm9tVo7eev8DMZSFEAtEQSO9NkFBNvUG0mXDaLByxl2ENRmGkcFjJDnD/q2iqIZLxqAaSg4UU6zAIzYl4ppo6gayLYhUNJIlG6Y4kiXAdyyLxc2VZUNWk7AjyzAQZznIwVPIEKBgQChDVrawIxnCho3f4d6zLHbQrQ7pOgdPDLprh263OoPEAQ3XQINUAr3TaqiFzuDZt970N0AI+fASU3/rLX8L9EwYnEXsr4lCoVAoFAqFQpkL/wegIJJIPE17AAAAAABJRU5ErkJggg==)"
   ]
  },
  {
   "cell_type": "markdown",
   "id": "930cf6a6",
   "metadata": {},
   "source": [
    "- The flow of the programs written in any programming language is sequential by default. Sometimes\n",
    "  we may need to alter the flow of the program. The execution of a specific code may need to be\n",
    "  repeated several numbers of times.\n",
    "- For this purpose, The programming languages provide various types of loops which are capable of\n",
    "  repeating some specific code several numbers of times. Consider the following diagram to understand\n",
    "  the working of a loop statement. "
   ]
  },
  {
   "cell_type": "markdown",
   "id": "ece981de",
   "metadata": {},
   "source": [
    "### Python for loop\n",
    "- The for loop in Python is used to iterate the statements or a part of the program several\n",
    "  times.\n",
    "- It is frequently used to traverse the data structures like list, tuple, or dictionary. i.e it is useful\n",
    "  to iterate over the elements of a sequence or to execute a group of statements repeatedly\n",
    "  depending upon the number of elements in the sequence."
   ]
  },
  {
   "cell_type": "markdown",
   "id": "fd980d02",
   "metadata": {},
   "source": [
    "### Nested for loop in python\n",
    "- Python allows to write one loops inside another loop. The inner loop is executed n number of times for\n",
    "  each iteration of the outer loop. We can write a ‘for loop’ inside a ‘while loop’ or vice-versa or a ‘for\n",
    "  loop’ inside another ‘for loop’ or ‘while loop’ inside another ‘while loop’. Such loops are called as\n",
    "  ***‘nested loops’***."
   ]
  },
  {
   "cell_type": "markdown",
   "id": "20361ac6",
   "metadata": {},
   "source": [
    "### Using ‘else suite’ with for loop\n",
    "- Unlike other languages like C, C++, or Java, python allows us to use the else statement with\n",
    "  the for loop which can be executed only when all the iterations are exhausted. Here, we must\n",
    "  notice that if the loop contains any of the break statement then the else statement will not be\n",
    "  executed.\n",
    "- This else suite is useful when we write programs where searching for an element is done is in\n",
    "  a sequence. When the element is not found, we can indicate that in the else suite easily."
   ]
  },
  {
   "cell_type": "markdown",
   "id": "70835342",
   "metadata": {},
   "source": [
    "### Python while loop\n",
    "- The while loop is also known as a pre-tested loop. In general, a while loop allows a part of the\n",
    "  code to be executed as long as the given condition is true.\n",
    "- It can be viewed as a repeating if statement. The while loop is mostly used in the case where\n",
    "  the number of iterations is not known in advance."
   ]
  },
  {
   "cell_type": "markdown",
   "id": "62bf6274",
   "metadata": {},
   "source": [
    "### Infinite while loop\n",
    "- If the condition given in the while loop never becomes false then the while loop will never\n",
    "  terminate and result into the infinite while loop.\n",
    "- Any non-zero value in the while loop indicates an always-true condition whereas 0 indicates\n",
    "  the always-false condition. This type of approach is useful if we want our program to run\n",
    "  continuously in the loop without any disturbance.\n",
    "- Infinite loops are drawbacks in a program because when the user is caught in an infinite loop,\n",
    "  he/she cannot understand how to come out of the loop. So, it is always recommended to avoid\n",
    "  infinite loops in any program."
   ]
  },
  {
   "cell_type": "markdown",
   "id": "a70a9b02",
   "metadata": {},
   "source": [
    "#### Examples:"
   ]
  },
  {
   "cell_type": "code",
   "execution_count": 1,
   "id": "edc81bc9",
   "metadata": {},
   "outputs": [
    {
     "name": "stdout",
     "output_type": "stream",
     "text": [
      "apple\n",
      "banana\n",
      "cherry\n",
      "0\n",
      "1\n",
      "2\n",
      "3\n",
      "4\n"
     ]
    }
   ],
   "source": [
    "# Example of a for loop iterating over a list\n",
    "fruits = [\"apple\", \"banana\", \"cherry\"]\n",
    "for fruit in fruits:\n",
    "    print(fruit)\n",
    "\n",
    "# Example of a for loop iterating over a range of numbers\n",
    "for i in range(5):\n",
    "    print(i)\n"
   ]
  },
  {
   "cell_type": "code",
   "execution_count": 2,
   "id": "f13ccb5f",
   "metadata": {},
   "outputs": [
    {
     "name": "stdout",
     "output_type": "stream",
     "text": [
      "0\n",
      "1\n",
      "2\n",
      "3\n",
      "4\n"
     ]
    }
   ],
   "source": [
    "# Example of a while loop\n",
    "count = 0\n",
    "while count < 5:\n",
    "    print(count)\n",
    "    count += 1\n"
   ]
  },
  {
   "cell_type": "code",
   "execution_count": 3,
   "id": "c04ede53",
   "metadata": {},
   "outputs": [
    {
     "name": "stdout",
     "output_type": "stream",
     "text": [
      "0\n",
      "1\n",
      "2\n",
      "3\n",
      "4\n"
     ]
    }
   ],
   "source": [
    "# Example of using break statement in a loop\n",
    "for i in range(10):\n",
    "    if i == 5:\n",
    "        break\n",
    "    print(i)\n"
   ]
  },
  {
   "cell_type": "code",
   "execution_count": 4,
   "id": "f2f75e59",
   "metadata": {},
   "outputs": [
    {
     "name": "stdout",
     "output_type": "stream",
     "text": [
      "1\n",
      "3\n",
      "5\n",
      "7\n",
      "9\n"
     ]
    }
   ],
   "source": [
    "# Example of using continue statement in a loop\n",
    "for i in range(10):\n",
    "    if i % 2 == 0:\n",
    "        continue\n",
    "    print(i)\n"
   ]
  },
  {
   "cell_type": "code",
   "execution_count": 5,
   "id": "b8528cf5",
   "metadata": {},
   "outputs": [
    {
     "name": "stdout",
     "output_type": "stream",
     "text": [
      "0\n",
      "1\n",
      "2\n",
      "3\n",
      "4\n",
      "Loop finished normally.\n"
     ]
    }
   ],
   "source": [
    "# Example of using else statement in a loop\n",
    "for i in range(5):\n",
    "    print(i)\n",
    "else:\n",
    "    print(\"Loop finished normally.\")\n"
   ]
  },
  {
   "cell_type": "code",
   "execution_count": 6,
   "id": "8087409d",
   "metadata": {},
   "outputs": [
    {
     "name": "stdout",
     "output_type": "stream",
     "text": [
      "(0, 0)\n",
      "(0, 1)\n",
      "(1, 0)\n",
      "(1, 1)\n",
      "(2, 0)\n",
      "(2, 1)\n"
     ]
    }
   ],
   "source": [
    "# Example of nested loops\n",
    "for i in range(3):\n",
    "    for j in range(2):\n",
    "        print(f\"({i}, {j})\")\n"
   ]
  },
  {
   "cell_type": "code",
   "execution_count": 7,
   "id": "93ce9c2e",
   "metadata": {},
   "outputs": [
    {
     "name": "stdout",
     "output_type": "stream",
     "text": [
      "name: John\n",
      "age: 30\n",
      "city: New York\n"
     ]
    }
   ],
   "source": [
    "# Example of looping through a dictionary\n",
    "person = {\"name\": \"John\", \"age\": 30, \"city\": \"New York\"}\n",
    "\n",
    "# Loop through key-value pairs\n",
    "for key, value in person.items():\n",
    "    print(f\"{key}: {value}\")\n"
   ]
  },
  {
   "cell_type": "code",
   "execution_count": 8,
   "id": "8de13556",
   "metadata": {},
   "outputs": [
    {
     "name": "stdout",
     "output_type": "stream",
     "text": [
      "Index 0: apple\n",
      "Index 1: banana\n",
      "Index 2: cherry\n"
     ]
    }
   ],
   "source": [
    "# Example of looping with index using enumerate()\n",
    "fruits = [\"apple\", \"banana\", \"cherry\"]\n",
    "\n",
    "# Loop through elements with their index\n",
    "for index, fruit in enumerate(fruits):\n",
    "    print(f\"Index {index}: {fruit}\")\n"
   ]
  },
  {
   "cell_type": "code",
   "execution_count": 9,
   "id": "314d363b",
   "metadata": {},
   "outputs": [
    {
     "name": "stdout",
     "output_type": "stream",
     "text": [
      "4\n",
      "3\n",
      "2\n",
      "1\n",
      "0\n"
     ]
    }
   ],
   "source": [
    "# Example of looping over a sequence in reverse\n",
    "for i in reversed(range(5)):\n",
    "    print(i)\n"
   ]
  },
  {
   "cell_type": "code",
   "execution_count": 10,
   "id": "f456db69",
   "metadata": {},
   "outputs": [
    {
     "name": "stdout",
     "output_type": "stream",
     "text": [
      "Alice is 25 years old.\n",
      "Bob is 30 years old.\n",
      "Charlie is 35 years old.\n"
     ]
    }
   ],
   "source": [
    "# Example of looping over multiple sequences using zip()\n",
    "names = [\"Alice\", \"Bob\", \"Charlie\"]\n",
    "ages = [25, 30, 35]\n",
    "\n",
    "# Loop through names and ages simultaneously\n",
    "for name, age in zip(names, ages):\n",
    "    print(f\"{name} is {age} years old.\")\n"
   ]
  },
  {
   "cell_type": "code",
   "execution_count": 11,
   "id": "3a032123",
   "metadata": {},
   "outputs": [
    {
     "name": "stdout",
     "output_type": "stream",
     "text": [
      "0\n",
      "2\n",
      "4\n",
      "6\n",
      "8\n"
     ]
    }
   ],
   "source": [
    "# Example of looping with a specified step size\n",
    "for i in range(0, 10, 2):  # Start from 0, end at 10 (exclusive), step size of 2\n",
    "    print(i)\n"
   ]
  },
  {
   "cell_type": "code",
   "execution_count": 12,
   "id": "164f90dd",
   "metadata": {},
   "outputs": [
    {
     "name": "stdout",
     "output_type": "stream",
     "text": [
      "Generated number: 10\n",
      "Generated number: 9\n",
      "Generated number: 2\n",
      "Generated number: 1\n",
      "Generated number: 7\n",
      "Lucky number 7!\n"
     ]
    }
   ],
   "source": [
    "# Example of looping until a condition is met\n",
    "import random\n",
    "\n",
    "while True:\n",
    "    num = random.randint(1, 10)\n",
    "    print(\"Generated number:\", num)\n",
    "    if num == 7:\n",
    "        print(\"Lucky number 7!\")\n",
    "        break  # Exit the loop when the condition is met\n"
   ]
  },
  {
   "cell_type": "code",
   "execution_count": 13,
   "id": "e108996f",
   "metadata": {},
   "outputs": [
    {
     "name": "stdout",
     "output_type": "stream",
     "text": [
      "0\n",
      "1\n",
      "2\n",
      "3\n",
      "4\n",
      "Loop completed successfully.\n"
     ]
    }
   ],
   "source": [
    "# Example of looping with an else block\n",
    "for i in range(5):\n",
    "    print(i)\n",
    "else:\n",
    "    print(\"Loop completed successfully.\")\n"
   ]
  },
  {
   "cell_type": "code",
   "execution_count": 14,
   "id": "20e1f952",
   "metadata": {},
   "outputs": [
    {
     "name": "stdout",
     "output_type": "stream",
     "text": [
      "o\n",
      "l\n",
      "l\n",
      "e\n",
      "h\n"
     ]
    }
   ],
   "source": [
    "# Example of looping through a string in reverse\n",
    "string = \"hello\"\n",
    "\n",
    "for char in reversed(string):\n",
    "    print(char)\n"
   ]
  },
  {
   "cell_type": "code",
   "execution_count": 15,
   "id": "ea22fabf",
   "metadata": {},
   "outputs": [
    {
     "name": "stdout",
     "output_type": "stream",
     "text": [
      "1\n",
      "3\n",
      "5\n",
      "7\n",
      "9\n"
     ]
    }
   ],
   "source": [
    "# Example of looping with a condition based on the loop variable\n",
    "for i in range(10):\n",
    "    if i % 2 == 0:\n",
    "        continue  # Skip even numbers\n",
    "    print(i)\n"
   ]
  },
  {
   "cell_type": "code",
   "execution_count": 16,
   "id": "a524e499",
   "metadata": {},
   "outputs": [
    {
     "name": "stdout",
     "output_type": "stream",
     "text": [
      "1 2 3 \n",
      "4 5 6 \n",
      "7 8 9 \n"
     ]
    }
   ],
   "source": [
    "# Example of looping over a list of lists (nested lists)\n",
    "matrix = [[1, 2, 3], [4, 5, 6], [7, 8, 9]]\n",
    "\n",
    "for row in matrix:\n",
    "    for element in row:\n",
    "        print(element, end=\" \")\n",
    "    print()  # Print a newline after each row\n"
   ]
  },
  {
   "cell_type": "code",
   "execution_count": 17,
   "id": "0978a88d",
   "metadata": {},
   "outputs": [
    {
     "name": "stdout",
     "output_type": "stream",
     "text": [
      "1\n",
      "3\n",
      "5\n",
      "7\n",
      "9\n"
     ]
    }
   ],
   "source": [
    "# Example of looping with a condition using a while loop\n",
    "num = 1\n",
    "while num <= 10:\n",
    "    print(num)\n",
    "    num += 2  # Increment by 2 for odd numbers\n"
   ]
  },
  {
   "cell_type": "code",
   "execution_count": 18,
   "id": "051dc0e5",
   "metadata": {},
   "outputs": [
    {
     "name": "stdout",
     "output_type": "stream",
     "text": [
      "Modified list: [2, 4, 6, 8, 10]\n"
     ]
    }
   ],
   "source": [
    "# Example of looping over a sequence and modifying elements\n",
    "numbers = [1, 2, 3, 4, 5]\n",
    "\n",
    "# Double each element in the list\n",
    "for i in range(len(numbers)):\n",
    "    numbers[i] *= 2\n",
    "\n",
    "print(\"Modified list:\", numbers)\n"
   ]
  },
  {
   "cell_type": "code",
   "execution_count": 19,
   "id": "c7597b74",
   "metadata": {},
   "outputs": [
    {
     "name": "stdout",
     "output_type": "stream",
     "text": [
      "10\n",
      "8\n",
      "6\n",
      "4\n",
      "2\n"
     ]
    }
   ],
   "source": [
    "# Example of looping over a range in reverse with a specified step size\n",
    "for i in range(10, 0, -2):  # Start from 10, end at 0 (exclusive), step size of -2\n",
    "    print(i)\n"
   ]
  },
  {
   "cell_type": "code",
   "execution_count": 20,
   "id": "5caca9dc",
   "metadata": {},
   "outputs": [
    {
     "name": "stdout",
     "output_type": "stream",
     "text": [
      "name\n",
      "age\n",
      "city\n"
     ]
    }
   ],
   "source": [
    "# Example of looping through a dictionary's keys\n",
    "person = {\"name\": \"Alice\", \"age\": 30, \"city\": \"New York\"}\n",
    "\n",
    "for key in person.keys():\n",
    "    print(key)\n"
   ]
  },
  {
   "cell_type": "code",
   "execution_count": 21,
   "id": "ff733808",
   "metadata": {},
   "outputs": [
    {
     "name": "stdout",
     "output_type": "stream",
     "text": [
      "Alice\n",
      "30\n",
      "New York\n"
     ]
    }
   ],
   "source": [
    "# Example of looping through a dictionary's values\n",
    "person = {\"name\": \"Alice\", \"age\": 30, \"city\": \"New York\"}\n",
    "\n",
    "for value in person.values():\n",
    "    print(value)\n"
   ]
  },
  {
   "cell_type": "code",
   "execution_count": 22,
   "id": "7b1f1c7d",
   "metadata": {},
   "outputs": [
    {
     "name": "stdout",
     "output_type": "stream",
     "text": [
      "name: Alice\n",
      "age: 30\n",
      "city: New York\n"
     ]
    }
   ],
   "source": [
    "# Example of looping through a dictionary's key-value pairs\n",
    "person = {\"name\": \"Alice\", \"age\": 30, \"city\": \"New York\"}\n",
    "\n",
    "for key, value in person.items():\n",
    "    print(f\"{key}: {value}\")\n"
   ]
  },
  {
   "cell_type": "code",
   "execution_count": 23,
   "id": "9ba87132",
   "metadata": {},
   "outputs": [
    {
     "name": "stdout",
     "output_type": "stream",
     "text": [
      "Character at index 0: h\n",
      "Character at index 1: e\n",
      "Character at index 2: l\n",
      "Character at index 3: l\n",
      "Character at index 4: o\n"
     ]
    }
   ],
   "source": [
    "# Example of looping through a string and its indices\n",
    "word = \"hello\"\n",
    "\n",
    "for index, char in enumerate(word):\n",
    "    print(f\"Character at index {index}: {char}\")\n"
   ]
  },
  {
   "cell_type": "code",
   "execution_count": 24,
   "id": "c9c55365",
   "metadata": {},
   "outputs": [
    {
     "name": "stdout",
     "output_type": "stream",
     "text": [
      "Chunk: [1, 2, 3]\n",
      "Chunk: [4, 5, 6]\n",
      "Chunk: [7, 8, 9]\n",
      "Chunk: [10]\n"
     ]
    }
   ],
   "source": [
    "# Example of looping through a list in chunks\n",
    "my_list = [1, 2, 3, 4, 5, 6, 7, 8, 9, 10]\n",
    "chunk_size = 3\n",
    "\n",
    "for i in range(0, len(my_list), chunk_size):\n",
    "    chunk = my_list[i:i+chunk_size]\n",
    "    print(\"Chunk:\", chunk)\n"
   ]
  },
  {
   "cell_type": "code",
   "execution_count": 25,
   "id": "26765452",
   "metadata": {},
   "outputs": [
    {
     "name": "stdout",
     "output_type": "stream",
     "text": [
      "Enter your age: 67\n",
      "You are eligible.\n"
     ]
    }
   ],
   "source": [
    "# Example of using a while loop for user input\n",
    "while True:\n",
    "    age = input(\"Enter your age: \")\n",
    "    if age.isdigit() and int(age) >= 18:\n",
    "        print(\"You are eligible.\")\n",
    "        break\n",
    "    else:\n",
    "        print(\"You are not eligible. Please enter a valid age.\")\n"
   ]
  },
  {
   "cell_type": "code",
   "execution_count": 26,
   "id": "28c04763",
   "metadata": {},
   "outputs": [
    {
     "name": "stdout",
     "output_type": "stream",
     "text": [
      "Alice is 25 years old.\n",
      "Bob is 30 years old.\n",
      "Charlie is 35 years old.\n"
     ]
    }
   ],
   "source": [
    "# Example of looping through a list of tuples\n",
    "students = [(\"Alice\", 25), (\"Bob\", 30), (\"Charlie\", 35)]\n",
    "\n",
    "for name, age in students:\n",
    "    print(f\"{name} is {age} years old.\")\n"
   ]
  },
  {
   "cell_type": "code",
   "execution_count": 27,
   "id": "9647b1e1",
   "metadata": {},
   "outputs": [
    {
     "name": "stdout",
     "output_type": "stream",
     "text": [
      "The character 'a' appears 3 times in the word.\n"
     ]
    }
   ],
   "source": [
    "# Example of looping over a string and counting occurrences of a specific character\n",
    "word = \"banana\"\n",
    "count = 0\n",
    "\n",
    "for char in word:\n",
    "    if char == \"a\":\n",
    "        count += 1\n",
    "\n",
    "print(f\"The character 'a' appears {count} times in the word.\")\n"
   ]
  },
  {
   "cell_type": "code",
   "execution_count": 28,
   "id": "6f6e3362",
   "metadata": {},
   "outputs": [
    {
     "name": "stdout",
     "output_type": "stream",
     "text": [
      "1\n",
      "2\n",
      "3\n",
      "4\n",
      "5\n"
     ]
    }
   ],
   "source": [
    "# Example of looping through a list and breaking the loop when a condition is met\n",
    "numbers = [1, 2, 3, 4, 5, 6, 7, 8, 9, 10]\n",
    "\n",
    "for num in numbers:\n",
    "    if num > 5:\n",
    "        break\n",
    "    print(num)\n"
   ]
  },
  {
   "cell_type": "code",
   "execution_count": 1,
   "id": "9986c79f",
   "metadata": {},
   "outputs": [
    {
     "name": "stdout",
     "output_type": "stream",
     "text": [
      "------------------------------ THE END ------------------------------\n"
     ]
    }
   ],
   "source": [
    "print(\"------\"*5,'THE END',\"------\"*5)"
   ]
  },
  {
   "cell_type": "markdown",
   "id": "55bef43c",
   "metadata": {},
   "source": [
    "Author: [Moguloju_Sai](https://linktr.ee/Moguloju_Sai)"
   ]
  }
 ],
 "metadata": {
  "kernelspec": {
   "display_name": "Python 3 (ipykernel)",
   "language": "python",
   "name": "python3"
  },
  "language_info": {
   "codemirror_mode": {
    "name": "ipython",
    "version": 3
   },
   "file_extension": ".py",
   "mimetype": "text/x-python",
   "name": "python",
   "nbconvert_exporter": "python",
   "pygments_lexer": "ipython3",
   "version": "3.10.9"
  }
 },
 "nbformat": 4,
 "nbformat_minor": 5
}
