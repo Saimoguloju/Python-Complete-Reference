{
 "cells": [
  {
   "cell_type": "markdown",
   "id": "0bd83bef",
   "metadata": {},
   "source": [
    "##  Python Operators\n",
    "                                                                                                     "
   ]
  },
  {
   "cell_type": "markdown",
   "id": "8e691c63",
   "metadata": {},
   "source": [
    "The operator can be defined as a symbol which is responsible for a particular operation between two operands.\n",
    "Operators are the pillars of a program on which the logic is built in a particular programming language. Python\n",
    "provides a variety of operators described as follows.\n",
    "- Arithmetic operators\n",
    "- Comparison operators\n",
    "- Assignment Operators\n",
    "- Logical Operators\n",
    "- Bitwise Operators\n",
    "- Membership Operators\n",
    "- Identity Operators"
   ]
  },
  {
   "cell_type": "markdown",
   "id": "9798289d",
   "metadata": {},
   "source": [
    "### Arithmetic Operators"
   ]
  },
  {
   "cell_type": "code",
   "execution_count": 1,
   "id": "8adfd008",
   "metadata": {},
   "outputs": [
    {
     "name": "stdout",
     "output_type": "stream",
     "text": [
      "15\n",
      "-5\n",
      "0.5\n",
      "50\n",
      "5\n",
      "9765625\n",
      "0\n"
     ]
    }
   ],
   "source": [
    "a = 5\n",
    "b = 10\n",
    "print(a+b)  # Addition\n",
    "print(a-b)  # Subtraction\n",
    "print(a/b)  # Divide\n",
    "print(a*b)  # Multiplication\n",
    "print(a%b)  # Reminder\n",
    "print(a**b) # Exponent\n",
    "print(a//b) # Floor division"
   ]
  },
  {
   "cell_type": "markdown",
   "id": "5a6d3467",
   "metadata": {},
   "source": [
    "### Comparison Operators"
   ]
  },
  {
   "cell_type": "markdown",
   "id": "de203ba4",
   "metadata": {},
   "source": [
    "![Python logo](data:image/png;base64,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)"
   ]
  },
  {
   "cell_type": "code",
   "execution_count": 2,
   "id": "2ef953a0",
   "metadata": {},
   "outputs": [
    {
     "name": "stdout",
     "output_type": "stream",
     "text": [
      "False\n",
      "True\n",
      "False\n",
      "True\n",
      "True\n",
      "False\n"
     ]
    }
   ],
   "source": [
    "a = 14\n",
    "b = 7\n",
    "print(a==b)  # Equals  \n",
    "print(a!=b)  # Not Equals \n",
    "print(a<=b)  # Less than or equal\n",
    "print(a>=b)  # Greater than or equal\n",
    "print(a>b)   # Greater than\n",
    "print(a<b)   # Less than"
   ]
  },
  {
   "cell_type": "markdown",
   "id": "c6c4363d",
   "metadata": {},
   "source": [
    "### Assignment Operators"
   ]
  },
  {
   "cell_type": "code",
   "execution_count": 3,
   "id": "1dbe70af",
   "metadata": {},
   "outputs": [
    {
     "name": "stdout",
     "output_type": "stream",
     "text": [
      "Value of y: 25\n",
      "After adding y to x: 125\n",
      "After subtracting y from x: 100\n",
      "Multiplication of x and y: 2500\n",
      "Remainder of x divided by y: 0\n",
      "After dividing x by y: 4.0\n",
      "x raised to the power y: 100000000000000000000000000000000000000000000000000\n",
      "Floor division of x by y: 4\n"
     ]
    }
   ],
   "source": [
    " x = 100\n",
    "y = 25\n",
    "\n",
    "# Printing the value of y (assignment)\n",
    "print(\"Value of y:\", y)\n",
    "\n",
    "# Adding y to x and printing the result\n",
    "x += y\n",
    "print(\"After adding y to x:\", x)\n",
    "\n",
    "# Subtracting y from x and printing the result\n",
    "x -= y\n",
    "print(\"After subtracting y from x:\", x)\n",
    "\n",
    "# Multiplying x and y and printing the result\n",
    "print(\"Multiplication of x and y:\", x * y)\n",
    "\n",
    "# Finding the remainder of x divided by y and printing the result\n",
    "print(\"Remainder of x divided by y:\", x % y)\n",
    "\n",
    "# Dividing x by y and printing the result\n",
    "x /= y\n",
    "print(\"After dividing x by y:\", x)\n",
    "\n",
    "# Calculating x raised to the power y and printing the result\n",
    "x = 100\n",
    "x **= y\n",
    "print(\"x raised to the power y:\", x)\n",
    "\n",
    "# Floor division of x by y and printing the result\n",
    "x = 100\n",
    "x //= y\n",
    "print(\"Floor division of x by y:\", x)\n"
   ]
  },
  {
   "cell_type": "markdown",
   "id": "6403e0b4",
   "metadata": {},
   "source": [
    "### Logical Operators"
   ]
  },
  {
   "cell_type": "code",
   "execution_count": 4,
   "id": "8e70f635",
   "metadata": {},
   "outputs": [
    {
     "name": "stdout",
     "output_type": "stream",
     "text": [
      "Both x and y are positive.\n",
      "All three variables are positive.\n"
     ]
    }
   ],
   "source": [
    "# Example using the 'and' operator\n",
    "x = 5\n",
    "y = 10\n",
    "z = 15\n",
    "\n",
    "# Check if x is greater than 0 and y is greater than 0\n",
    "if x > 0 and y > 0:\n",
    "    print(\"Both x and y are positive.\")\n",
    "\n",
    "# Check if x is greater than 0 and y is greater than 0 and z is greater than 0\n",
    "if x > 0 and y > 0 and z > 0:\n",
    "    print(\"All three variables are positive.\")\n"
   ]
  },
  {
   "cell_type": "code",
   "execution_count": 5,
   "id": "32b7329f",
   "metadata": {},
   "outputs": [
    {
     "name": "stdout",
     "output_type": "stream",
     "text": [
      "At least one of x and y is positive.\n",
      "At least one of x and y is negative.\n"
     ]
    }
   ],
   "source": [
    "# Example using the 'or' operator\n",
    "x = 5\n",
    "y = -3\n",
    "\n",
    "# Check if at least one of x and y is positive\n",
    "if x > 0 or y > 0:\n",
    "    print(\"At least one of x and y is positive.\")\n",
    "\n",
    "# Another example\n",
    "if x < 0 or y < 0:\n",
    "    print(\"At least one of x and y is negative.\")\n"
   ]
  },
  {
   "cell_type": "code",
   "execution_count": 6,
   "id": "a751dbb8",
   "metadata": {},
   "outputs": [
    {
     "name": "stdout",
     "output_type": "stream",
     "text": [
      "x is not greater than 10.\n",
      "y is False.\n"
     ]
    }
   ],
   "source": [
    "# Example using the 'not' operator\n",
    "x = 5\n",
    "\n",
    "# Check if x is not greater than 10\n",
    "if not x > 10:\n",
    "    print(\"x is not greater than 10.\")\n",
    "\n",
    "# Another example\n",
    "y = False\n",
    "if not y:\n",
    "    print(\"y is False.\")\n"
   ]
  },
  {
   "cell_type": "markdown",
   "id": "6daadd71",
   "metadata": {},
   "source": [
    "### Bitwise Operators"
   ]
  },
  {
   "cell_type": "code",
   "execution_count": 7,
   "id": "4abf3820",
   "metadata": {},
   "outputs": [
    {
     "name": "stdout",
     "output_type": "stream",
     "text": [
      "Bitwise AND of 5 and 3 is: 1\n"
     ]
    }
   ],
   "source": [
    "# Example using the '&' operator (AND)\n",
    "x = 5  # 101 in binary\n",
    "y = 3  # 011 in binary\n",
    "\n",
    "result = x & y  # Bitwise AND of x and y\n",
    "print(\"Bitwise AND of\", x, \"and\", y, \"is:\", result)  # Output: 1 (001 in binary)\n"
   ]
  },
  {
   "cell_type": "code",
   "execution_count": 8,
   "id": "3dd811d5",
   "metadata": {},
   "outputs": [
    {
     "name": "stdout",
     "output_type": "stream",
     "text": [
      "Bitwise OR of 5 and 3 is: 7\n"
     ]
    }
   ],
   "source": [
    "# Example using the '|' operator (OR)\n",
    "x = 5  # 101 in binary\n",
    "y = 3  # 011 in binary\n",
    "\n",
    "result = x | y  # Bitwise OR of x and y\n",
    "print(\"Bitwise OR of\", x, \"and\", y, \"is:\", result)  # Output: 7 (111 in binary)\n"
   ]
  },
  {
   "cell_type": "code",
   "execution_count": 9,
   "id": "55d89199",
   "metadata": {},
   "outputs": [
    {
     "name": "stdout",
     "output_type": "stream",
     "text": [
      "Bitwise XOR of 5 and 3 is: 6\n"
     ]
    }
   ],
   "source": [
    "# Example using the '^' operator (XOR)\n",
    "x = 5  # 101 in binary\n",
    "y = 3  # 011 in binary\n",
    "\n",
    "result = x ^ y  # Bitwise XOR of x and y\n",
    "print(\"Bitwise XOR of\", x, \"and\", y, \"is:\", result)  # Output: 6 (110 in binary)\n"
   ]
  },
  {
   "cell_type": "code",
   "execution_count": 10,
   "id": "b7f5902c",
   "metadata": {},
   "outputs": [
    {
     "name": "stdout",
     "output_type": "stream",
     "text": [
      "Bitwise NOT of 5 is: -6\n"
     ]
    }
   ],
   "source": [
    "# Example using the '~' operator (NOT)\n",
    "x = 5  # 101 in binary\n",
    "\n",
    "result = ~x  # Bitwise NOT of x\n",
    "print(\"Bitwise NOT of\", x, \"is:\", result)  # Output: -6 (Complement of 101 in binary)\n"
   ]
  },
  {
   "cell_type": "code",
   "execution_count": 11,
   "id": "25d72d1c",
   "metadata": {},
   "outputs": [
    {
     "name": "stdout",
     "output_type": "stream",
     "text": [
      "Left shift of 5 by 1 position is: 10\n"
     ]
    }
   ],
   "source": [
    "# Example using the '<<' operator (left shift)\n",
    "x = 5  # 101 in binary\n",
    "\n",
    "result = x << 1  # Left shift x by 1 position\n",
    "print(\"Left shift of\", x, \"by 1 position is:\", result)  # Output: 10 (1010 in binary)\n"
   ]
  },
  {
   "cell_type": "code",
   "execution_count": 12,
   "id": "95001655",
   "metadata": {},
   "outputs": [
    {
     "name": "stdout",
     "output_type": "stream",
     "text": [
      "Right shift of 5 by 1 position is: 2\n"
     ]
    }
   ],
   "source": [
    "# Example using the '>>' operator (right shift)\n",
    "x = 5  # 101 in binary\n",
    "\n",
    "result = x >> 1  # Right shift x by 1 position\n",
    "print(\"Right shift of\", x, \"by 1 position is:\", result)  # Output: 2 (10 in binary)\n"
   ]
  },
  {
   "cell_type": "markdown",
   "id": "b97de295",
   "metadata": {},
   "source": [
    "### Membership Operators"
   ]
  },
  {
   "cell_type": "code",
   "execution_count": 13,
   "id": "f4d8e468",
   "metadata": {},
   "outputs": [
    {
     "name": "stdout",
     "output_type": "stream",
     "text": [
      "3 is present in the list.\n",
      "'o' is present in the string.\n"
     ]
    }
   ],
   "source": [
    "# Example using the 'in' operator\n",
    "my_list = [1, 2, 3, 4, 5]\n",
    "\n",
    "# Check if 3 is present in the list\n",
    "if 3 in my_list:\n",
    "    print(\"3 is present in the list.\")\n",
    "\n",
    "# Another example with strings\n",
    "my_string = \"Hello, world!\"\n",
    "\n",
    "# Check if 'o' is present in the string\n",
    "if 'o' in my_string:\n",
    "    print(\"'o' is present in the string.\")\n"
   ]
  },
  {
   "cell_type": "code",
   "execution_count": 14,
   "id": "fbe96e32",
   "metadata": {},
   "outputs": [
    {
     "name": "stdout",
     "output_type": "stream",
     "text": [
      "6 is not present in the list.\n",
      "'z' is not present in the string.\n"
     ]
    }
   ],
   "source": [
    "# Example using the 'not in' operator\n",
    "my_list = [1, 2, 3, 4, 5]\n",
    "\n",
    "# Check if 6 is not present in the list\n",
    "if 6 not in my_list:\n",
    "    print(\"6 is not present in the list.\")\n",
    "\n",
    "# Another example with strings\n",
    "my_string = \"Hello, world!\"\n",
    "\n",
    "# Check if 'z' is not present in the string\n",
    "if 'z' not in my_string:\n",
    "    print(\"'z' is not present in the string.\")\n"
   ]
  },
  {
   "cell_type": "markdown",
   "id": "6ba6a26e",
   "metadata": {},
   "source": [
    "### Identity Operators"
   ]
  },
  {
   "cell_type": "code",
   "execution_count": 15,
   "id": "83d6a5ad",
   "metadata": {},
   "outputs": [
    {
     "name": "stdout",
     "output_type": "stream",
     "text": [
      "x and y refer to the same object.\n"
     ]
    }
   ],
   "source": [
    "# Example using the 'is' operator\n",
    "x = [1, 2, 3]\n",
    "y = x  # y refers to the same list object as x\n",
    "\n",
    "# Check if x and y refer to the same object\n",
    "if x is y:\n",
    "    print(\"x and y refer to the same object.\")\n"
   ]
  },
  {
   "cell_type": "code",
   "execution_count": 16,
   "id": "acde9758",
   "metadata": {},
   "outputs": [
    {
     "name": "stdout",
     "output_type": "stream",
     "text": [
      "x and y do not refer to the same object.\n"
     ]
    }
   ],
   "source": [
    "# Example using the 'is not' operator\n",
    "x = [1, 2, 3]\n",
    "y = [1, 2, 3]  # y refers to a different list object than x\n",
    "\n",
    "# Check if x and y do not refer to the same object\n",
    "if x is not y:\n",
    "    print(\"x and y do not refer to the same object.\")\n"
   ]
  },
  {
   "cell_type": "code",
   "execution_count": 2,
   "id": "a95d33dc",
   "metadata": {},
   "outputs": [
    {
     "name": "stdout",
     "output_type": "stream",
     "text": [
      "----------------------------------- THE END -----------------------------------\n"
     ]
    }
   ],
   "source": [
    "print(\"-------\"*5,'THE END',\"-------\"*5)"
   ]
  },
  {
   "cell_type": "markdown",
   "id": "6bfc9cd2",
   "metadata": {},
   "source": [
    "Author: [Moguloju_Sai](https://linktr.ee/Moguloju_Sai)"
   ]
  }
 ],
 "metadata": {
  "kernelspec": {
   "display_name": "Python 3 (ipykernel)",
   "language": "python",
   "name": "python3"
  },
  "language_info": {
   "codemirror_mode": {
    "name": "ipython",
    "version": 3
   },
   "file_extension": ".py",
   "mimetype": "text/x-python",
   "name": "python",
   "nbconvert_exporter": "python",
   "pygments_lexer": "ipython3",
   "version": "3.10.9"
  }
 },
 "nbformat": 4,
 "nbformat_minor": 5
}
