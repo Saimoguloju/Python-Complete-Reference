{
 "cells": [
  {
   "cell_type": "markdown",
   "id": "970e0da9",
   "metadata": {},
   "source": [
    "## Python Functions"
   ]
  },
  {
   "cell_type": "markdown",
   "id": "0d06878b",
   "metadata": {},
   "source": [
    "![Python logo](data:image/png;base64,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)"
   ]
  },
  {
   "cell_type": "markdown",
   "id": "91b41ea5",
   "metadata": {},
   "source": [
    "-  A function is a group of statements that execute upon request.\n",
    "-  Functions are the most important aspect of an application. A function can be defined as the\n",
    "   organized block of reusable code which can be called whenever required.\n",
    "-  A function is similar to a program that consists of a group of statements that are intended to\n",
    "   perform a specific task.\n",
    "-  In other words, we can say that the collection of functions creates a program. The function is\n",
    "   also known as procedure or subroutine in other programming languages.\n",
    "-  Python provide us various inbuilt functions like range() or print() or sqrt() or power(). Similar\n",
    "   to these, Python allows programmers to create his/her own functions called as user-defined\n",
    "   functions.\n",
    "-  Functions defined within class statements are also known as methods.\n",
    "-  In Python, functions are objects (values) that are handled like other objects. Thus, you can\n",
    "   pass a function as an argument in a call to another function. \n",
    "-  Similarly, a function can return\n",
    "   another function as the result of a call. A function, just like any other object, can be bound to\n",
    "   a variable, an item in a container, or an attribute of an object. Functions can also be keys into\n",
    "   a dictionary.\n",
    "-  For example, if you need to quickly find a function’s inverse given the function, you could\n",
    "   define a dictionary whose keys and values are functions and then make the dictionary\n",
    "   bidirectional."
   ]
  },
  {
   "cell_type": "markdown",
   "id": "6470f4c5",
   "metadata": {},
   "source": [
    "## Monolithic code:\n"
   ]
  },
  {
   "cell_type": "markdown",
   "id": "5af3ae2b",
   "metadata": {},
   "source": [
    "-  As the number of statements within our block of code increases, the code can become unwieldy. A\n",
    "   single block of code (like in all our programs to this point) that does all the work itself is called\n",
    "   ***monolithic code***.\n",
    "-  Monolithic code that is long and complex is undesirable for several reasons:\n",
    "+  ***It is difficult to write correctly***. All the details in the entire piece of code must be considered\n",
    "   when writing any statement within that code.\n",
    "+  ***It is difficult to debug***. If the sequence of code does not work correctly, it is often difficult to find\n",
    "   the source of the error. The effects of an erroneous statement that appears earlier in the code may\n",
    "   not become apparent until a correct statement later uses the erroneous statement’s incorrect result\n",
    "+  ***It is difficult to extend***. All the details in the entire sequence of code must be well understood\n",
    "   before it can be modified. If the code is complex, this may be a formidable task."
   ]
  },
  {
   "cell_type": "markdown",
   "id": "c582ff39",
   "metadata": {},
   "source": [
    "## Advantage of Functions in Python\n",
    "There are the following advantages of Python functions."
   ]
  },
  {
   "cell_type": "markdown",
   "id": "df290751",
   "metadata": {},
   "source": [
    "- By using functions, we can avoid rewriting same logic/code again and again in a program. i.e\n",
    "  code redundancy can be avoided.\n",
    "- We can call python functions any number of times in a program and from any place in a\n",
    "  program.\n",
    "- We can track a large python program easily when it is divided into multiple functions. Code\n",
    "  maintenance will become easy.\n",
    "- Reusability is the main achievement of python functions.\n",
    "- Functions provide modularity for programming"
   ]
  },
  {
   "cell_type": "markdown",
   "id": "832a72d7",
   "metadata": {},
   "source": [
    "## Function Basics\n",
    "There are two aspects to every Python function:\n"
   ]
  },
  {
   "cell_type": "markdown",
   "id": "95b616df",
   "metadata": {},
   "source": [
    "- Function definition. The definition of a function contains the code that determines the\n",
    "  function’s behavior.\n",
    "- Function invocation. A function is used within a program via a function invocation. we\n",
    "  invoked standard functions that we did not have to define ourselves. Every function has\n",
    "  exactly one definition but may have many invocations.\n",
    "+ An ordinary function definition consists of three parts:\n",
    "- ***Name***—Most Python functions have a name. The name is an identifier. As with variable\n",
    "  names, the name chosen for a function should accurately portray its intended purpose or\n",
    "  describe its functionality. (Python allows specialized anonymous function called lambda\n",
    "  functions)\n",
    "- ***Parameters***—every function definition specifies the parameters that it accepts from callers.\n",
    "  The parameters appear in a parenthesized comma-separated list. The list of parameters is\n",
    "  empty if the function requires no information from code that calls the function.\n",
    "- ***Body***—every function definition has a block of indented statements that constitute the\n",
    "  function’s body. The body contains the code to execute when clients invoke the function. The\n",
    "  code within the body is responsible for producing the result, if any, to return to the client."
   ]
  },
  {
   "cell_type": "markdown",
   "id": "803f817d",
   "metadata": {},
   "source": [
    "## Creating a function\n",
    "In python, we can use ***def*** keyword to define the function. The syntax to define a function in python is\n",
    "given below.\n",
    "```python\n",
    "def function_name([parameters]):\n",
    "\"optional documentation string\"\n",
    "function_suite/function_body\n",
    "```\n",
    "The function block is started with the colon (:) and all the same level block statements remain at the\n",
    "same indentation.\n",
    "- ***function-name*** is an identifier. It is a variable that gets bound (or rebound) to the function object\n",
    "  when def executes.\n",
    "- ***parameters*** is an optional list of identifiers, known as formal parameters or just parameters, that get\n",
    "  bound to the values supplied as arguments when the function is called.\n",
    "- In the simplest case, a function doesn’t have any formal parameters, which means the\n",
    "  function doesn’t take any arguments when it is called. In this case, the function definition has empty\n",
    "  parentheses after function-name.\n",
    "- When a function does take arguments, parameters contain one or more identifiers, separated\n",
    "  by commas (,). In this case, each call to the function supplies values, known as arguments,\n",
    "  corresponding to the parameters listed in the function definition. The parameters are local variables of\n",
    "  the function.\n",
    "- A function can accept any number of parameters that must be the same in the definition and\n",
    "  function calling and each call to the function binds these local variables to the corresponding values\n",
    "  that the caller supplies as arguments.\n",
    "- In the comma-separated list of parameters, zero or more mandatory parameters may be\n",
    "  followed by zero or more ***optional parameters***, where each optional parameter has the syntax:\n",
    "```python\n",
    "Identifier = expression\n",
    "```\n",
    "The def statement evaluates each such expression and saves a reference to the expression’s\n",
    "value, known as the default value for the parameter, among the attributes of the function object.\n",
    "When a function call does not supply an argument corresponding to an optional parameter, the call\n",
    "binds the parameter’s identifier to its default value for that execution of the function. Note that each\n",
    "default value gets computed when the def statement evaluates, not when the resulting function gets\n",
    "called. In particular, this means that the same object, the default value, gets bound to the optional\n",
    "parameter whenever the caller does not supply a corresponding argument. This can be tricky when\n",
    "the default value is a mutable object and the function body alters the parameter. For example:\n",
    "```python \n",
    "def f(x, y=[]):\n",
    "y.append(x)\n",
    "return y\n",
    "print f(23) # prints: [23]\n",
    "prinf f(42) # prints: [23, 42]\n",
    "The second print statement prints [23, 42] because the first call to f altered the\n",
    "default value of y, originally an empty list [], by appending 23 to it.\n",
    "```\n",
    "If you want y to be bound to a new empty list object each time f is called with a single\n",
    "argument, use the following style instead:\n",
    "```python\n",
    "def f(x, y=None):\n",
    "if y is None: y = []\n",
    "y.append(x)\n",
    "return y\n",
    "print f(23) # prints: [23]\n",
    "prinf f(42) # prints: [42]\n",
    "```"
   ]
  },
  {
   "cell_type": "markdown",
   "id": "2e06501b",
   "metadata": {},
   "source": [
    "At the end of the parameters, you may optionally use either or both of the special forms\n",
    "***identifier1*** and ***identifier2***. If both forms are present, the form with two asterisks must be last.\n",
    "- *identifier1 specifies that any call to the function may supply any number of extra positional\n",
    "   arguments\n",
    "- **identifier2 specifies that any call to the function may supply any number of extra named\n",
    "  arguments (positional and named arguments).\n",
    "- Every call to the function binds identifier1 to a tuple whose items are the extra positional\n",
    "  arguments (or the empty tuple, if there are none). Similarly, identifier2 gets bound to a dictionary\n",
    "  whose items are the names and values of the extra named arguments(or the empty dictionary, if\n",
    "  there are none).\n",
    "- Here’s a function that accepts any number of positional arguments and returns their sum:\n"
   ]
  },
  {
   "cell_type": "markdown",
   "id": "c8325c09",
   "metadata": {},
   "source": [
    "```Python\n",
    "def sum_args(*numbers):\n",
    "return sum(numbers)\n",
    "print sum_args(23, 42) # prints: 65\n",
    "```"
   ]
  },
  {
   "cell_type": "markdown",
   "id": "f3452024",
   "metadata": {},
   "source": [
    "- The number of parameters of a function, together with the parameters’ names, the number of\n",
    "  mandatory parameters, and the information on whether (at the end of the parameters) either or both\n",
    "  of the single- and double-asterisk special forms are present, collectively form a specification known as\n",
    "  the function’s signature. A ***function’s signature*** defines the ways in which you can call the function.\n",
    "- The nonempty sequence of statements, known as the function body, does not execute when\n",
    "  the def statement executes. Rather, the ***function body*** executes later, each time the function is called.\n",
    "  Generally, the first statement of function body is an optional ***‘docstring’*** that gives information about\n",
    "  the function.\n",
    "- Docstrings are - unlike regular comments - stored as an attribute of the function they document,\n",
    "  meaning that you can access them programmatically.\n",
    "```python\n",
    "An example function\n",
    "def func():\n",
    "\"\"\"This is a function that does nothing at all\"\"\"\n",
    "return\n",
    "```\n",
    "- The docstring can be accessed using the doc attribute:\n",
    "```python\n",
    "print(func. doc )\n",
    "This is a function that does nothing at all\n",
    "help(func)\n",
    "Help on function func in module main :\n",
    "func()\n",
    "This is a function that does nothing at all\n",
    "```\n",
    "- function. doc is just the actual docstring as a string, while the help function provides general\n",
    "  information about a function, including the docstring.\n",
    "- Followed by docstring, function body constitutes the logic of the function that reflects how to do a task\n",
    "  apart from zero or more occurrences of the ***return*** statement"
   ]
  },
  {
   "cell_type": "markdown",
   "id": "93c35966",
   "metadata": {},
   "source": [
    "### ‘def’ Executes at Runtime\n",
    "- The Python **def** is a true executable statement: when it runs, it creates a new function object\n",
    "  and assigns it to a name along with a list of zero or more arguments (sometimes called parameters) in\n",
    "  parentheses. The argument names in the header are assigned to the objects passed in parentheses at\n",
    "  the point of call. (Remember, all we have in Python is runtime; there is no such thing as a separate\n",
    "  compile time.)\n",
    "- One way to understand this code is to realize that the def is much like an = statement: it\n",
    "  simply assigns a name at runtime. Unlike in compiled languages such as C, Python functions do not\n",
    "  need to be fully defined before the program runs.\n",
    "- ***More generally, defs are not evaluated until they are reached and run, and the code inside\n",
    "  defs is not evaluated until the functions are later called.***\n",
    "- Because it’s a statement, a def can appear anywhere a statement can—even nested in other\n",
    "  statements. For instance, although defs normally are run when the module enclosing them is\n",
    "  imported, it’s also completely legal to nest a function def inside an if statement to select between\n",
    "  alternative definitions:\n",
    "```python\n",
    "if test:\n",
    "def func(): # Define func this way\n",
    "...\n",
    "else:\n",
    "def func(): # Or else this way\n",
    "...\n",
    "...\n",
    "func() # Call the version selected and built\n",
    "```\n"
   ]
  },
  {
   "cell_type": "markdown",
   "id": "29658ef6",
   "metadata": {},
   "source": [
    "### Function calling\n",
    "- A request to execute a function is known as a function call.\n",
    "  In python, a function must be defined before the function calling otherwise the python interpreter\n",
    "  gives an error. Once the function is defined, we can call it from another function or the python\n",
    "  prompt.\n",
    "- To call the function, use the function name followed by the parentheses.\n",
    "```python\n",
    "# Example1: Print a message to prompt the user for input\n",
    "# Function Definition\n",
    "def prompt():\n",
    "print(\"Please enter an integer value: \", end=\"\")\n",
    "# Start of program\n",
    "print(\"This program adds together two integers.\")\n",
    "prompt() # Call the function\n",
    "value1 = int(input())\n",
    "prompt() # Call the function again\n",
    "value2 = int(input())\n",
    "sum = value1 + value2;\n",
    "print(value1, \"+\", value2, \"=\", sum)\n",
    "```\n",
    "The two lines\n",
    "```python\n",
    "def prompt():\n",
    "print(\"Please enter an integer value: \", end=\"\")\n",
    "```\n",
    "- make up the prompt function definition. When called, the function simply prints the message “Please\n",
    "  enter an integer value:” and leaves the cursor on the same line.\n",
    "-  ***The program runs as follows:***\n",
    "1. The program’s execution begins with the first line in the “naked” block; that is, the block that is not\n",
    "   part of the function definition.\n",
    "2. The first executable statement prints the message of the program’s intent.\n",
    "3. The next statement is a call of the prompt function. At this point the program’s execution transfers\n",
    "   to the body of the prompt function. The code within prompt is executed until the end of its body or\n",
    "   until a return statement is encountered. Since prompt contains no return statement, all of prompt’s\n",
    "   body (the one print statement) will be executed.\n",
    "4. When prompt is finished, control is passed back to the point in the code immediately after the call\n",
    "   of prompt.\n",
    "5. The next action after prompt call reads the value of value1 from the keyboard.\n",
    "6. A second call to prompt transfers control back to the code within the prompt function. It again\n",
    "   prints its message.\n",
    "7. When the second call to prompt is finished, control passes back to the point of the second input\n",
    "   statement that assigns value2 from the keyboard.\n",
    "8. The remaining two statements in the code, the arithmetic and printing statements, are executed,\n",
    "   and then the program’s execution terminates.\n",
    "```python\n",
    "#output of above program\n",
    "This program adds together two integers.\n",
    "Please enter an integer value: 10\n",
    "Please enter an integer value: 20\n",
    "10 + 20 = 30\n",
    "#A simple function that prints the message \"Hello Word\" is given below.\n",
    "def hello_world():\n",
    "print(\"hello world\")\n",
    "hello_world()\n",
    "Output:\n",
    "hello world\n",
    "```"
   ]
  },
  {
   "cell_type": "markdown",
   "id": "6bc78d94",
   "metadata": {},
   "source": [
    "###  The return Statement\n"
   ]
  },
  {
   "cell_type": "markdown",
   "id": "8455f450",
   "metadata": {},
   "source": [
    "- The return statement is used to return values from a function.\n",
    "- The return statement takes zero or more values, separated by commas. Using\n",
    "  commas actually returns a single tuple.\n",
    "- To return multiple values, use a tuple or list. Don't forget that (assignment)\n",
    "  unpacking can be used to capture multiple values. Returning multiple items\n",
    "  separated by commas is equivalent to returning a tuple. \n",
    "- The return statement in Python is allowed only inside a function body and can\n",
    "  optionally be followed by an expression.\n",
    "- When return executes, the function terminates, and the value of the expression is\n",
    "  the function’s result.\n",
    "- A function returns None if it terminates by reaching the end of its body or by\n",
    "  executing a return statement that has no expression (or, of course, by executing\n",
    "  ‘return None’). i.e The default value is None.\n",
    "- ***If some return statements in a function have an expression, all return statements\n",
    "  should have an expression.***"
   ]
  },
  {
   "cell_type": "markdown",
   "id": "aec4019f",
   "metadata": {},
   "source": [
    "### Functions are First Class Objects\n",
    "In Python functions are considered as first class objects. It means we can use functions as\n",
    "perfect objects. In fact when we create a function, the python interpreter internally creates\n",
    "an object.\n",
    "- The following things are noteworthy:\n",
    "- It is possible to assign a function to a variable.\n",
    "- It is possible to define one function inside another function.\n",
    "- It is possible to pass a function as parameter to another function\n",
    "- It is possible that a function can return another function"
   ]
  },
  {
   "cell_type": "markdown",
   "id": "d0e8656f",
   "metadata": {},
   "source": [
    "### Pass by Object Reference\n",
    "General means of passing arguments to functions are:\n",
    "- Pass by value\n",
    "- Pass by reference\n",
    "+ Neither of the above two concepts is applicable in python.\n",
    "+ In python everything is an object. An object can be imagined as memory block where we\n",
    "  can store some value.\n",
    "+ Objects are created on heap memory which is available during runtime of a program.\n",
    "  The size of heap depends on RAM of the computer.\n",
    "+ When we pass values like numbers, strings, tuples or list to a function, the references of\n",
    "  these objects are passed to the function.\n",
    "- ***Note:***\n",
    "1. If the object is immutable, the modified value is not available outside the function\n",
    "   and if the object is mutable, the modified value is available outside the function.\n",
    "2. If we create a new object inside a function, it will not be available outside the\n",
    "   function."
   ]
  },
  {
   "cell_type": "markdown",
   "id": "a75f5c82",
   "metadata": {},
   "source": [
    "### Types of arguments "
   ]
  },
  {
   "cell_type": "markdown",
   "id": "299fa340",
   "metadata": {},
   "source": [
    "- Actual Parameters\n",
    "- Formal Parameters"
   ]
  },
  {
   "cell_type": "markdown",
   "id": "a4982d5a",
   "metadata": {},
   "source": [
    "- Parameters are inputs to the function. If a function contains parameters,   then at the time of calling, compulsory we should provide values           otherwise, otherwise we will get error.\n",
    "- There may be several types of arguments (actual parameters) which can be   passed at the\n",
    "  time of function calling.\n",
    "1. Positional arguments\n",
    "2. Keyword arguments\n",
    "3. Default arguments\n",
    "4. Variable-length arguments"
   ]
  },
  {
   "cell_type": "markdown",
   "id": "fc03d7e6",
   "metadata": {},
   "source": [
    "### Positional Arguments\n",
    "- we can provide the arguments at the time of function calling. As far as     the positional arguments are concerned, these are the arguments which are   required to be passed at the time of function calling with the ***exact     match of their positions and number of arguments in the function call and   function definition.***\n",
    "- If we change the order then result may be changed.\n",
    "- If we change the number of arguments then python interpreter will give     error message.\n",
    "  Consider the following example."
   ]
  },
  {
   "cell_type": "code",
   "execution_count": 1,
   "id": "7f13e2f4",
   "metadata": {},
   "outputs": [
    {
     "name": "stdout",
     "output_type": "stream",
     "text": [
      "Enter the name? Sai\n",
      "Hi Sai\n"
     ]
    }
   ],
   "source": [
    "def func(name):\n",
    "    message = \"Hi \"+name\n",
    "    return message\n",
    "name = input(\"Enter the name? \")\n",
    "print(func(name))"
   ]
  },
  {
   "cell_type": "code",
   "execution_count": 2,
   "id": "598a4df3",
   "metadata": {},
   "outputs": [
    {
     "name": "stdout",
     "output_type": "stream",
     "text": [
      "Enter the principle amount? 4\n",
      "Enter the rate of interest? 56\n",
      "Enter the time in years? 77\n",
      "Simple Interest:  172.48\n"
     ]
    }
   ],
   "source": [
    "def simple_interest(p,t,r):\n",
    "    return (p*t*r)/100\n",
    "p = float(input(\"Enter the principle amount? \"))\n",
    "r = float(input(\"Enter the rate of interest? \"))\n",
    "t = float(input(\"Enter the time in years? \"))\n",
    "print(\"Simple Interest: \",simple_interest(p,r,t))"
   ]
  },
  {
   "cell_type": "code",
   "execution_count": 3,
   "id": "6c9ed033",
   "metadata": {},
   "outputs": [
    {
     "data": {
      "text/plain": [
       "30"
      ]
     },
     "execution_count": 3,
     "metadata": {},
     "output_type": "execute_result"
    }
   ],
   "source": [
    "def calculate(a,b):\n",
    "    return a+b\n",
    "calculate(10,20)"
   ]
  },
  {
   "cell_type": "markdown",
   "id": "0d35b8a3",
   "metadata": {},
   "source": [
    "### Keyword arguments\n",
    "- Python allows us to call the function with the keyword arguments. This     kind of function callwill enable us to pass the arguments in the random     order.\n",
    "- ***The name of the arguments is treated as the keywords and matched in     the function calling and definition. If the same match is found             irrespective   of their position, the values of the arguments are copied   in the function   definition.***"
   ]
  },
  {
   "cell_type": "code",
   "execution_count": 4,
   "id": "9e29dc03",
   "metadata": {},
   "outputs": [
    {
     "name": "stdout",
     "output_type": "stream",
     "text": [
      "printing the message with:  sai and  hello\n",
      "printing the message with:  sai and  hello\n"
     ]
    }
   ],
   "source": [
    "def func(name,message):\n",
    "    print(\"printing the message with: \",name, \"and \",message)\n",
    "func(name = \"sai\",message=\"hello\") \n",
    "func(message=\"hello\",name = \"sai\") "
   ]
  },
  {
   "cell_type": "code",
   "execution_count": 5,
   "id": "3c2385ea",
   "metadata": {},
   "outputs": [
    {
     "name": "stdout",
     "output_type": "stream",
     "text": [
      "Simple Interest:  1900.0\n"
     ]
    }
   ],
   "source": [
    "def simple_interest(p,t,r):\n",
    "    return (p*t*r)/100\n",
    "print(\"Simple Interest: \",simple_interest(t=10,r=10,p=1900))"
   ]
  },
  {
   "cell_type": "markdown",
   "id": "cdc95f08",
   "metadata": {},
   "source": [
    "***Note***\n",
    "- 1. If we provide the different name of arguments at the time of function   call, error will be thrown."
   ]
  },
  {
   "cell_type": "code",
   "execution_count": 6,
   "id": "626b9fa3",
   "metadata": {},
   "outputs": [
    {
     "ename": "TypeError",
     "evalue": "simple_interest() got an unexpected keyword argument 'time'",
     "output_type": "error",
     "traceback": [
      "\u001b[1;31m---------------------------------------------------------------------------\u001b[0m",
      "\u001b[1;31mTypeError\u001b[0m                                 Traceback (most recent call last)",
      "Cell \u001b[1;32mIn[6], line 3\u001b[0m\n\u001b[0;32m      1\u001b[0m \u001b[38;5;28;01mdef\u001b[39;00m \u001b[38;5;21msimple_interest\u001b[39m(p,t,r):\n\u001b[0;32m      2\u001b[0m     \u001b[38;5;28;01mreturn\u001b[39;00m (p\u001b[38;5;241m*\u001b[39mt\u001b[38;5;241m*\u001b[39mr)\u001b[38;5;241m/\u001b[39m\u001b[38;5;241m100\u001b[39m\n\u001b[1;32m----> 3\u001b[0m \u001b[38;5;28mprint\u001b[39m(\u001b[38;5;124m\"\u001b[39m\u001b[38;5;124mSimple Interest: \u001b[39m\u001b[38;5;124m\"\u001b[39m,\u001b[43msimple_interest\u001b[49m\u001b[43m(\u001b[49m\u001b[43mtime\u001b[49m\u001b[38;5;241;43m=\u001b[39;49m\u001b[38;5;241;43m10\u001b[39;49m\u001b[43m,\u001b[49m\u001b[43mrate\u001b[49m\u001b[38;5;241;43m=\u001b[39;49m\u001b[38;5;241;43m10\u001b[39;49m\u001b[43m,\u001b[49m\u001b[43mprinciple\u001b[49m\u001b[38;5;241;43m=\u001b[39;49m\u001b[38;5;241;43m1900\u001b[39;49m\u001b[43m)\u001b[49m)\n",
      "\u001b[1;31mTypeError\u001b[0m: simple_interest() got an unexpected keyword argument 'time'"
     ]
    }
   ],
   "source": [
    "def simple_interest(p,t,r):\n",
    "    return (p*t*r)/100\n",
    "print(\"Simple Interest: \",simple_interest(time=10,rate=10,principle=1900))"
   ]
  },
  {
   "cell_type": "markdown",
   "id": "02b0ace1",
   "metadata": {},
   "source": [
    "***Note:***\n",
    "- The python allows us to provide the mix of the positional arguments and     keyword arguments at the time of function call. However, the positional     argument must not begiven after the keyword argument, i.e., once the       keyword argument is encountered in the function call, the following         arguments must also be the keyword arguments.\n"
   ]
  },
  {
   "cell_type": "code",
   "execution_count": 7,
   "id": "fed3d270",
   "metadata": {},
   "outputs": [
    {
     "name": "stdout",
     "output_type": "stream",
     "text": [
      "printing the message with Sai , Vijay ,and Vikram\n"
     ]
    }
   ],
   "source": [
    "def func(name1,message,name2):\n",
    "    print(\"printing the message with\",name1,\",\",message,\",and\",name2)\n",
    "func(\"Sai\",message=\"Vijay\",name2=\"Vikram\")"
   ]
  },
  {
   "cell_type": "code",
   "execution_count": 8,
   "id": "617281b3",
   "metadata": {},
   "outputs": [
    {
     "ename": "SyntaxError",
     "evalue": "positional argument follows keyword argument (2113887300.py, line 3)",
     "output_type": "error",
     "traceback": [
      "\u001b[1;36m  Cell \u001b[1;32mIn[8], line 3\u001b[1;36m\u001b[0m\n\u001b[1;33m    func(\"John\",message=\"hello\",\"David\")\u001b[0m\n\u001b[1;37m                                       ^\u001b[0m\n\u001b[1;31mSyntaxError\u001b[0m\u001b[1;31m:\u001b[0m positional argument follows keyword argument\n"
     ]
    }
   ],
   "source": [
    "def func(name1,message,name2):\n",
    "    print(\"printing the message with\",name1,\",\",message,\",and\",name2)\n",
    "func(\"John\",message=\"hello\",\"David\")"
   ]
  },
  {
   "cell_type": "markdown",
   "id": "358394dd",
   "metadata": {},
   "source": [
    "### Default Arguments\n",
    "- Python allows us to initialize the arguments in the function definition.   If the value of any of the argument is not provided at the time of         function call, then that argument can be initialized with the value given   in the definition even if the argument is not specified at the function     call."
   ]
  },
  {
   "cell_type": "code",
   "execution_count": 9,
   "id": "425a2e8e",
   "metadata": {},
   "outputs": [],
   "source": [
    "def printme(name, age=22):\n",
    "    print(\"My name is\" ,name, \"and age is\", age)"
   ]
  },
  {
   "cell_type": "code",
   "execution_count": 10,
   "id": "60e12e21",
   "metadata": {},
   "outputs": [
    {
     "name": "stdout",
     "output_type": "stream",
     "text": [
      "My name is Sai and age is 22\n"
     ]
    }
   ],
   "source": [
    "printme(name=\"Sai\")"
   ]
  },
  {
   "cell_type": "code",
   "execution_count": 11,
   "id": "9408624f",
   "metadata": {},
   "outputs": [],
   "source": [
    "def printme(name,age=22):\n",
    "    print(\"My name is\",name,\"and age is\",age)"
   ]
  },
  {
   "cell_type": "code",
   "execution_count": 12,
   "id": "c4bae057",
   "metadata": {},
   "outputs": [
    {
     "name": "stdout",
     "output_type": "stream",
     "text": [
      "My name is Sai and age is 22\n"
     ]
    }
   ],
   "source": [
    "printme(name='Sai')"
   ]
  },
  {
   "cell_type": "code",
   "execution_count": 13,
   "id": "de098008",
   "metadata": {},
   "outputs": [
    {
     "name": "stdout",
     "output_type": "stream",
     "text": [
      "My name is vijay and age is 41\n"
     ]
    }
   ],
   "source": [
    "printme(age=41, name = 'vijay')"
   ]
  },
  {
   "cell_type": "markdown",
   "id": "0584135e",
   "metadata": {},
   "source": [
    "***Note***:\n",
    "After default arguments we should not take non default arguments."
   ]
  },
  {
   "cell_type": "markdown",
   "id": "5955a90a",
   "metadata": {},
   "source": [
    "### Variable Length Arguments\n",
    "In the large projects, sometimes programmer may not know the number of arguments to be\n",
    "passed in advance. In such cases, Python provides us the flexibility to provide the comma\n",
    "separated values which are internally treated as tuples at the function call."
   ]
  },
  {
   "cell_type": "markdown",
   "id": "92c905c3",
   "metadata": {},
   "source": [
    "#### Examples"
   ]
  },
  {
   "cell_type": "code",
   "execution_count": 14,
   "id": "26555e53",
   "metadata": {},
   "outputs": [
    {
     "name": "stdout",
     "output_type": "stream",
     "text": [
      "type of passed argument is  <class 'tuple'>\n",
      "printing the passed arguments...\n",
      "Sai\n",
      "Vijay\n",
      "Vikram\n",
      "Adhi\n"
     ]
    }
   ],
   "source": [
    "def printme(*names): #’*names’ parameter takes 0 or more values\n",
    "    print(\"type of passed argument is \",type(names))\n",
    "    print(\"printing the passed arguments...\")\n",
    "    for name in names:\n",
    "        print(name)\n",
    "printme(\"Sai\",\"Vijay\",\"Vikram\",\"Adhi\")"
   ]
  },
  {
   "cell_type": "code",
   "execution_count": 15,
   "id": "25a2de2c",
   "metadata": {},
   "outputs": [
    {
     "name": "stdout",
     "output_type": "stream",
     "text": [
      "type(n) =  <class 'int'>  type(kwargs) =  <class 'dict'>\n",
      "pos_arg =  5\n",
      "key = rno,values = 525\n"
     ]
    }
   ],
   "source": [
    "def display(n,**kwargs):\n",
    "    '''display given values'''\n",
    "    print('type(n) = ',type(n),' type(kwargs) = ', type(kwargs))\n",
    "    print('pos_arg = ',n)\n",
    "    for x,y in kwargs.items():\n",
    "        print('key = {},values = {}'.format(x,y))\n",
    "display(5,rno=525)"
   ]
  },
  {
   "cell_type": "code",
   "execution_count": 16,
   "id": "32e738d6",
   "metadata": {},
   "outputs": [
    {
     "name": "stdout",
     "output_type": "stream",
     "text": [
      "type(n) =  <class 'int'>  type(kwargs) =  <class 'dict'>\n",
      "pos_arg =  5\n",
      "key = rno,values = 525\n",
      "key = name,values = Sai\n"
     ]
    }
   ],
   "source": [
    "display(5,rno=525,name='Sai')"
   ]
  },
  {
   "cell_type": "markdown",
   "id": "696c4112",
   "metadata": {},
   "source": [
    "***Note:***\n",
    "1. We can have combination of variable length arguments and positional        arguments but positional argument should appear before variable length      argument.\n",
    "2. After variable length argument, if we are taking any other arguments        then we should provide values as keyword variable length arguments or      keyword arguments.\n",
    "- Function vs Module vs Library:\n",
    "1. A group of lines with some name is called a function\n",
    "2. A group of functions saved to a file , is called Module\n",
    "3. A group of Modules is nothing but Library\n"
   ]
  },
  {
   "cell_type": "markdown",
   "id": "7286a8d8",
   "metadata": {},
   "source": [
    "### Scope of Variables\n",
    "The scopes of the variables depend upon the location where the variable is being declared.\n",
    "The variable declared in one part of the program may not be accessible to the other parts.\n",
    "- In python, the variables are defined with the two types of scopes.\n",
    "1. Global variables\n",
    "2. Local variables\n",
    "- The variable defined outside any function is known to have a global scope i.e can be\n",
    "accessed through out the program and it becomes a global variable whereas the variable The variable defined outside any function is known to have a global scope i.e can be\n",
    "accessed through out the program and it becomes a global variable whereas the variable\n",
    "\n"
   ]
  },
  {
   "cell_type": "code",
   "execution_count": 17,
   "id": "603b6307",
   "metadata": {},
   "outputs": [
    {
     "name": "stdout",
     "output_type": "stream",
     "text": [
      "hello !! I am going to print a message.\n"
     ]
    }
   ],
   "source": [
    "def print_message():\n",
    "    message = \"hello !! I am going to print a message.\"   \n",
    "    print(message)\n",
    "print_message()"
   ]
  },
  {
   "cell_type": "code",
   "execution_count": 18,
   "id": "50b032e6",
   "metadata": {},
   "outputs": [
    {
     "name": "stdout",
     "output_type": "stream",
     "text": [
      "The sum is 60\n",
      "Value of sum outside the function: 0\n"
     ]
    }
   ],
   "source": [
    "def calculate(*args):\n",
    "    sum=0\n",
    "    for arg in args:\n",
    "        sum = sum +arg\n",
    "    print(\"The sum is\",sum)\n",
    "sum=0\n",
    "calculate(10,20,30) \n",
    "print(\"Value of sum outside the function:\",sum) "
   ]
  },
  {
   "cell_type": "markdown",
   "id": "3ab6ad33",
   "metadata": {},
   "source": [
    "### The Global Keyword:\n",
    "- Keyword ‘global’ is used to refer to global variable inside a function.\n",
    "  When local and global variables have same name, the function, by default   refers to local variable and ignores global variable."
   ]
  },
  {
   "cell_type": "code",
   "execution_count": 19,
   "id": "3aacf93f",
   "metadata": {},
   "outputs": [
    {
     "name": "stdout",
     "output_type": "stream",
     "text": [
      "10\n",
      "10\n"
     ]
    }
   ],
   "source": [
    "a=10\n",
    "def f1():\n",
    "    print(a)\n",
    "def f2():\n",
    "    print(a)\n",
    "f1()\n",
    "f2()"
   ]
  },
  {
   "cell_type": "code",
   "execution_count": 20,
   "id": "b397bf00",
   "metadata": {},
   "outputs": [
    {
     "name": "stdout",
     "output_type": "stream",
     "text": [
      "20\n",
      "10\n"
     ]
    }
   ],
   "source": [
    "a=10\n",
    "def f1():\n",
    "    a=20\n",
    "    print(a)\n",
    "def f2():\n",
    "    print(a)\n",
    "f1()\n",
    "f2()"
   ]
  },
  {
   "cell_type": "markdown",
   "id": "b205849a",
   "metadata": {},
   "source": [
    "### Local Variables\n",
    "which are declared inside a function is called as local variables."
   ]
  },
  {
   "cell_type": "code",
   "execution_count": 21,
   "id": "811329fe",
   "metadata": {},
   "outputs": [
    {
     "name": "stdout",
     "output_type": "stream",
     "text": [
      "10\n"
     ]
    }
   ],
   "source": [
    "def f1():\n",
    "    a=10\n",
    "    print(a)\n",
    "f1()"
   ]
  },
  {
   "cell_type": "code",
   "execution_count": 22,
   "id": "48a76a83",
   "metadata": {},
   "outputs": [
    {
     "name": "stdout",
     "output_type": "stream",
     "text": [
      "10\n",
      "10\n"
     ]
    }
   ],
   "source": [
    "def f1():\n",
    "    a=10\n",
    "    print(a)\n",
    "def f2():\n",
    "    print(a)\n",
    "f1()\n",
    "f2()"
   ]
  },
  {
   "cell_type": "markdown",
   "id": "706a8176",
   "metadata": {},
   "source": [
    "#### Some more examples"
   ]
  },
  {
   "cell_type": "code",
   "execution_count": 23,
   "id": "4d17c2c9",
   "metadata": {},
   "outputs": [
    {
     "name": "stdout",
     "output_type": "stream",
     "text": [
      "20\n",
      "20\n"
     ]
    }
   ],
   "source": [
    "a=10\n",
    "def f1():\n",
    "    global a\n",
    "    a=20\n",
    "    print(a)\n",
    "def f2():\n",
    "    print(a)\n",
    "f1()\n",
    "f2()"
   ]
  },
  {
   "cell_type": "code",
   "execution_count": 24,
   "id": "379673ee",
   "metadata": {},
   "outputs": [
    {
     "name": "stdout",
     "output_type": "stream",
     "text": [
      "10\n",
      "10\n"
     ]
    }
   ],
   "source": [
    "def f1():\n",
    "    global a\n",
    "    a=10\n",
    "    print(a)\n",
    "def f2():\n",
    "    print(a)\n",
    "f1()\n",
    "f2()"
   ]
  },
  {
   "cell_type": "code",
   "execution_count": 25,
   "id": "17faaecc",
   "metadata": {},
   "outputs": [
    {
     "name": "stdout",
     "output_type": "stream",
     "text": [
      "10\n",
      "['a']\n"
     ]
    }
   ],
   "source": [
    "def f1():\n",
    "    a=10\n",
    "    print(a)\n",
    "def f2():\n",
    "    print(['a'])\n",
    "f1()\n",
    "f2()"
   ]
  },
  {
   "cell_type": "code",
   "execution_count": 26,
   "id": "41376466",
   "metadata": {},
   "outputs": [
    {
     "name": "stdout",
     "output_type": "stream",
     "text": [
      "7\n"
     ]
    }
   ],
   "source": [
    "def a(x,y):\n",
    "    return x+y\n",
    "w=a(3,4)\n",
    "print(w)"
   ]
  },
  {
   "cell_type": "code",
   "execution_count": 27,
   "id": "0cd96eaa",
   "metadata": {},
   "outputs": [
    {
     "name": "stdout",
     "output_type": "stream",
     "text": [
      "12\n"
     ]
    }
   ],
   "source": [
    "def a(x,y):\n",
    "    return x*y\n",
    "w=a(3,4)\n",
    "print(w)"
   ]
  },
  {
   "cell_type": "code",
   "execution_count": 28,
   "id": "610fa1c1",
   "metadata": {},
   "outputs": [
    {
     "name": "stdout",
     "output_type": "stream",
     "text": [
      "81\n"
     ]
    }
   ],
   "source": [
    "def a(x,y):\n",
    "    return x**y\n",
    "w=a(3,4)\n",
    "print(w)"
   ]
  },
  {
   "cell_type": "code",
   "execution_count": 29,
   "id": "fab954cf",
   "metadata": {},
   "outputs": [
    {
     "name": "stdout",
     "output_type": "stream",
     "text": [
      "30\n"
     ]
    }
   ],
   "source": [
    "def add():\n",
    "    x=10\n",
    "    y=20\n",
    "    c=x+y\n",
    "    print(c)\n",
    "add()"
   ]
  },
  {
   "cell_type": "code",
   "execution_count": 30,
   "id": "8c2c6b9b",
   "metadata": {},
   "outputs": [
    {
     "name": "stdout",
     "output_type": "stream",
     "text": [
      "-10\n"
     ]
    }
   ],
   "source": [
    "def sub():\n",
    "    x=10\n",
    "    y=20\n",
    "    c=x-y\n",
    "    print(c)\n",
    "sub()"
   ]
  },
  {
   "cell_type": "code",
   "execution_count": 31,
   "id": "33a15bd2",
   "metadata": {},
   "outputs": [
    {
     "name": "stdout",
     "output_type": "stream",
     "text": [
      "9000\n"
     ]
    }
   ],
   "source": [
    "def mut():\n",
    "    x=100\n",
    "    y=90\n",
    "    c=x*y\n",
    "    print(c)\n",
    "mut()"
   ]
  },
  {
   "cell_type": "code",
   "execution_count": 32,
   "id": "5261fd3f",
   "metadata": {},
   "outputs": [
    {
     "name": "stdout",
     "output_type": "stream",
     "text": [
      "1.1111111111111112\n"
     ]
    }
   ],
   "source": [
    "def div():\n",
    "    x=100\n",
    "    y=90\n",
    "    c=x/y\n",
    "    print(c)\n",
    "div()"
   ]
  },
  {
   "cell_type": "code",
   "execution_count": 33,
   "id": "0743ddf6",
   "metadata": {},
   "outputs": [
    {
     "name": "stdout",
     "output_type": "stream",
     "text": [
      "40.0\n",
      "122.66666666666667\n"
     ]
    }
   ],
   "source": [
    "def avg(x,y,z):\n",
    "    return x+y+z/3\n",
    "r1=avg(10,20,30)\n",
    "r2=avg(45,69,26)\n",
    "print(r1)\n",
    "print(r2)"
   ]
  },
  {
   "cell_type": "markdown",
   "id": "35ab5196",
   "metadata": {},
   "source": [
    "### Functions Vs Methods\n",
    "#### Functions\n",
    "- Functions are basically used for code reusability.\n",
    "- Functions are two types:\n",
    "     - Pre-define functions\n",
    "     - user-define functions\n",
    "- Functions can be used inside the class as well as outside of the class.\n",
    "- Functions can be controlled by the recursion.\n",
    "\n",
    "#### Methods\n",
    "- Methods are similar like the Function and the main task of method is code   reusability as similar like the functions.\n",
    "- Methods are always define by the user.\n",
    "- Methods are always used the Object Oriented Programming Language.\n",
    "- Methods are always defined inside the class"
   ]
  },
  {
   "cell_type": "code",
   "execution_count": 1,
   "id": "f176d6c0",
   "metadata": {},
   "outputs": [
    {
     "name": "stdout",
     "output_type": "stream",
     "text": [
      "------------------------------ THE END ------------------------------\n"
     ]
    }
   ],
   "source": [
    "print(\"------\"*5,'THE END','------'*5)"
   ]
  },
  {
   "cell_type": "markdown",
   "id": "fa4e89cd",
   "metadata": {},
   "source": [
    "Author: [Moguloju_Sai](https://linktr.ee/Moguloju_Sai)"
   ]
  }
 ],
 "metadata": {
  "kernelspec": {
   "display_name": "Python 3 (ipykernel)",
   "language": "python",
   "name": "python3"
  },
  "language_info": {
   "codemirror_mode": {
    "name": "ipython",
    "version": 3
   },
   "file_extension": ".py",
   "mimetype": "text/x-python",
   "name": "python",
   "nbconvert_exporter": "python",
   "pygments_lexer": "ipython3",
   "version": "3.10.9"
  }
 },
 "nbformat": 4,
 "nbformat_minor": 5
}
