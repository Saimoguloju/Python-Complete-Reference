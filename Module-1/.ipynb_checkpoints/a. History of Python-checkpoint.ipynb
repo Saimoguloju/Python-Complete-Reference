{
 "cells": [
  {
   "cell_type": "markdown",
   "id": "729d97c5",
   "metadata": {},
   "source": [
    "# [Python](https://python.org)\n",
    "![python logo](https://www.ntuclearninghub.com/documents/39367/4216797/Python-Symbol.png/369e410e-a90f-f887-c2dc-61f7ef761476/)"
   ]
  },
  {
   "cell_type": "markdown",
   "id": "addaa4cc",
   "metadata": {},
   "source": [
    "# Introduction\n",
    "\n",
    " "
   ]
  },
  {
   "cell_type": "markdown",
   "id": "ca89195b",
   "metadata": {},
   "source": [
    " - Python is ageneral purpose high level programming language.\n",
    " - Python was developed by Guido Van Rossam in 1989 while working at National\n",
    "   Research Institute atNetherlands.\n",
    " - But officially Python was made available to public in 1991. The official Date of Birth for\n",
    "   Python is: Feb 20th 1991.\n",
    " - The name Python was selected from the TV Show\n",
    "   ***\"The Complete Monty Python's Circus\"***, which was broadcasted in BBC from 1969 to\n",
    "       1974.\n",
    "+ Guido developed Python language by taking almost all programming features from different\n",
    "  languages\n",
    "   - Functional Programming Features from C\n",
    "   - Object Oriented Programming Features from C++\n",
    "   - Scripting Language Features from Perl and Shell Script\n",
    "   - Modular Programming Features fromModula-3\n",
    "Most of syntax in Python Derived from C and ABC languages"
   ]
  },
  {
   "cell_type": "markdown",
   "id": "f15fa5bc",
   "metadata": {},
   "source": [
    "# History of Python\n",
    " - Python laid its foundation in the late 1980s.\n",
    " - The implementation of Python was started in the December 1989 by Guido Van\n",
    "   Rossum at CWI (Centrum Wiskunde & Informatica) in Netherland.\n",
    " - In February 1991, van Rossum published the code (labeled version 0.9.0) to\n",
    "   alt.sources.\n",
    " - In 1994, Python 1.0 was released with new features like: lambda, map, filter, and\n",
    "   reduce.\n",
    " - Python 2.0 added new features like: list comprehensions, garbage collection system.\n",
    " - On December 3, 2008, Python 3.0 (also called \"Py3K\") was released. It was designed\n",
    "   to rectify fundamental flaw of the language.\n",
    " - ABC programming language is said to be the predecessor of Python language which\n",
    "   was capable of Exception Handling and interfacing with Amoeba Operating System.\n",
    " - Python is influenced by following programming languages:\n",
    "   - ABC language.\n",
    "   - Modula-3"
   ]
  },
  {
   "cell_type": "markdown",
   "id": "f10efb6f",
   "metadata": {},
   "source": [
    "### Python Versions\n",
    "- Python 1.0V introduced in Jan 1994\n",
    "- Python 2.0V introduced in October 2000\n",
    "- Python 3.0V introduced in December 2008\n",
    "   \n",
    "   \n",
    "#### Note: \n",
    "  + Python 3 won't provide backward compatibility to Python2\n",
    "  + i.e there is no guarantee that Python2 programs will run in Python3."
   ]
  },
  {
   "cell_type": "markdown",
   "id": "e0e9f0ef",
   "metadata": {},
   "source": [
    "### Where we can use Python\n",
    "We can use everywhere. The most common important application areas are\n",
    "\n",
    "1. For developing DesktopApplications\n",
    "2. For developing webApplications\n",
    "3. For developing databaseApplications\n",
    "4. For Network Programming\n",
    "5. For developing games\n",
    "6. For Data AnalysisApplications\n",
    "7. For Machine Learning\n",
    "8. For developing Artificial Intelligence Applications\n",
    "9. For IOT"
   ]
  },
  {
   "cell_type": "markdown",
   "id": "e728e52a",
   "metadata": {},
   "source": [
    "![python logo](https://static.javatpoint.com/python/images/python-applications.png)"
   ]
  },
  {
   "cell_type": "markdown",
   "id": "331cc9f6",
   "metadata": {},
   "source": [
    "#### Note:\n",
    " \n",
    "- Internally Google and Youtube use Python coding\n",
    "- NASA and Nework Stock Exchange Applications developed by Python.\n",
    "- Top Software companies like Google, Microsoft, IBM, Yahoo using Python\n"
   ]
  },
  {
   "cell_type": "markdown",
   "id": "6c874f60",
   "metadata": {},
   "source": [
    "### Features of Python:\n",
    "1. Simple and easy to learn\n",
    "2. Freeware and OpenSource\n",
    "3. High Level Programminglanguage\n",
    "4. Platform Independent\n",
    "5. Portability\n",
    "6. Dynamically Typed\n",
    "7. Both Procedure Oriented andObject Oriented\n",
    "8. Interpreted\n",
    "9. Extensible\n",
    "10. Extensive Library"
   ]
  },
  {
   "cell_type": "markdown",
   "id": "5f7a1bf0",
   "metadata": {},
   "source": [
    "![python logo](https://media.licdn.com/dms/image/D4D12AQHEHLbwo8rdSg/article-cover_image-shrink_600_2000/0/1673251056920?e=2147483647&v=beta&t=EgmtXW_H_GGYom-GgMYY-30Gul3U0jKFBAYmFUnyy84) "
   ]
  },
  {
   "cell_type": "markdown",
   "id": "e64510a8",
   "metadata": {},
   "source": [
    "#### Limitations of Python\n",
    "1. Performance wise not upto themark b'z it is interpreted language.\n",
    "2. Not using for mobile Applications\n"
   ]
  },
  {
   "cell_type": "markdown",
   "id": "2cc532f9",
   "metadata": {},
   "source": [
    "## Identifiers"
   ]
  },
  {
   "cell_type": "markdown",
   "id": "50bd3256",
   "metadata": {},
   "source": [
    "- A name in Python program is called identifier.\n",
    "- It can be class name or function name or module name or variable name.\n",
    "           a = 10"
   ]
  },
  {
   "cell_type": "markdown",
   "id": "74c6bb62",
   "metadata": {},
   "source": [
    "### Rules to define identifiers in Python:\n",
    "1. The only allowed characters in Python are\n",
    "- alphabet symbols(either lower case or upper case)\n",
    "- digits(0 to 9)\n",
    "- underscore symbol(_)\n",
    "- By mistake if we are using any other symbol like (dollar) then  we will get syntax error.\n",
    "- cash = 10 √\n",
    "- ca(dollar)h =20 \n",
    "2. Identifier should not starts with digit\n",
    "- 123total \n",
    "- total123 √\n",
    "3. Identifiers are case sensitive. Of course Python language is case sensitive language.\n",
    "- total=10\n",
    "- TOTAL=999\n",
    "- print(total) #10\n",
    "- print(TOTAL) #999\n",
    "4. We cannot use reserved words as identifiers\n",
    "  ***Eg***: for=10\n",
    "5. There is no length limit for Python identifiers. But not recommended to use too lengthy\n",
    "   identifiers."
   ]
  },
  {
   "cell_type": "markdown",
   "id": "faccca32",
   "metadata": {},
   "source": [
    "#### Note:\n",
    "1. Ifidentifierstarts with _ symbol then it indicatesthat it is private\n",
    "2. If identifier starts with (two under score symbols) indicating that strongly private\n",
    "   identifier.\n",
    "3. If the identifier starts and ends with two underscore symbols then the identifier is\n",
    "   languagedefinedspecialname,whichisalsoknownasmagicmethods.\n",
    "***Eg***: ___add___"
   ]
  },
  {
   "cell_type": "markdown",
   "id": "10b83606",
   "metadata": {},
   "source": [
    "### Reserved word or Key words "
   ]
  },
  {
   "cell_type": "markdown",
   "id": "7c6a1208",
   "metadata": {},
   "source": [
    "![Python logo](data:image/png;base64,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)"
   ]
  },
  {
   "cell_type": "code",
   "execution_count": 1,
   "id": "b14276b0",
   "metadata": {},
   "outputs": [
    {
     "data": {
      "text/plain": [
       "['False',\n",
       " 'None',\n",
       " 'True',\n",
       " 'and',\n",
       " 'as',\n",
       " 'assert',\n",
       " 'async',\n",
       " 'await',\n",
       " 'break',\n",
       " 'class',\n",
       " 'continue',\n",
       " 'def',\n",
       " 'del',\n",
       " 'elif',\n",
       " 'else',\n",
       " 'except',\n",
       " 'finally',\n",
       " 'for',\n",
       " 'from',\n",
       " 'global',\n",
       " 'if',\n",
       " 'import',\n",
       " 'in',\n",
       " 'is',\n",
       " 'lambda',\n",
       " 'nonlocal',\n",
       " 'not',\n",
       " 'or',\n",
       " 'pass',\n",
       " 'raise',\n",
       " 'return',\n",
       " 'try',\n",
       " 'while',\n",
       " 'with',\n",
       " 'yield']"
      ]
     },
     "execution_count": 1,
     "metadata": {},
     "output_type": "execute_result"
    }
   ],
   "source": [
    "# There are 33 reserved words available in Python.\n",
    "import keyword\n",
    "keyword.kwlist"
   ]
  },
  {
   "cell_type": "markdown",
   "id": "4d92ffe3",
   "metadata": {},
   "source": [
    "#### Note:\n",
    "1. All Reserved words in Python contain only alphabet symbols.\n",
    "2. Except the following 3 reserved words, all contain only lower case alphabet symbols.\n",
    "- True\n",
    "- False\n",
    "- None"
   ]
  },
  {
   "cell_type": "code",
   "execution_count": 2,
   "id": "735ec26f",
   "metadata": {},
   "outputs": [
    {
     "name": "stdout",
     "output_type": "stream",
     "text": [
      "-------------------- THE END --------------------\n"
     ]
    }
   ],
   "source": [
    "print('----' * 5, 'THE END', '----' * 5)"
   ]
  },
  {
   "cell_type": "markdown",
   "id": "114fdd68",
   "metadata": {},
   "source": [
    "Author: [Moguloju_Sai](https://linktr.ee/Moguloju_Sai)"
   ]
  }
 ],
 "metadata": {
  "kernelspec": {
   "display_name": "Python 3 (ipykernel)",
   "language": "python",
   "name": "python3"
  },
  "language_info": {
   "codemirror_mode": {
    "name": "ipython",
    "version": 3
   },
   "file_extension": ".py",
   "mimetype": "text/x-python",
   "name": "python",
   "nbconvert_exporter": "python",
   "pygments_lexer": "ipython3",
   "version": "3.10.9"
  }
 },
 "nbformat": 4,
 "nbformat_minor": 5
}
