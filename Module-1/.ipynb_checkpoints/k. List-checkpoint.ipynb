{
 "cells": [
  {
   "cell_type": "markdown",
   "id": "245cca2d",
   "metadata": {},
   "source": [
    "##  List"
   ]
  },
  {
   "cell_type": "markdown",
   "id": "ce52553d",
   "metadata": {},
   "source": [
    "![Python logo](data:image/png;base64,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)"
   ]
  },
  {
   "cell_type": "markdown",
   "id": "61a00e59",
   "metadata": {},
   "source": [
    "- If we want to represent a group of individual objects as a single entity    where insertion order preserved and duplicates are allowed, then we should go for List.\n",
    "- insertion order preserved.\n",
    "- duplicate objects are allowed\n",
    "- heterogeneous objects are allowed.\n",
    "- List is dynamic because based on our requirement we can increase the size and decrease the size.\n",
    "- In List the elements will be placed within square brackets and with comma seperator.\n",
    "- We can differentiate duplicate elements by using index and we can preserve insertion order by using index. Hence index will play very important role.\n",
    "- Python supports both positive and negative indexes. +ve index means from left to right where as negative index means right to left\n",
    "- List objects are mutable. i.e. we can change the content."
   ]
  },
  {
   "cell_type": "markdown",
   "id": "6dc5cc59",
   "metadata": {},
   "source": [
    "### Creation of List Objects:"
   ]
  },
  {
   "cell_type": "markdown",
   "id": "b47c929a",
   "metadata": {},
   "source": [
    "#### 1. We can create empty list object as follows"
   ]
  },
  {
   "cell_type": "code",
   "execution_count": 1,
   "id": "20ebd971",
   "metadata": {},
   "outputs": [
    {
     "name": "stdout",
     "output_type": "stream",
     "text": [
      "[]\n",
      "<class 'list'>\n"
     ]
    }
   ],
   "source": [
    "list  = []\n",
    "print(list)\n",
    "print(type(list))"
   ]
  },
  {
   "cell_type": "markdown",
   "id": "de2e5387",
   "metadata": {},
   "source": [
    "#### 2. If we know elements already then we can create list as follows"
   ]
  },
  {
   "cell_type": "code",
   "execution_count": 2,
   "id": "4c8b0017",
   "metadata": {},
   "outputs": [
    {
     "data": {
      "text/plain": [
       "[10, 20, 30, 40, 50]"
      ]
     },
     "execution_count": 2,
     "metadata": {},
     "output_type": "execute_result"
    }
   ],
   "source": [
    "list = [10,20,30,40,50]\n",
    "list"
   ]
  },
  {
   "cell_type": "markdown",
   "id": "bd97b3e2",
   "metadata": {},
   "source": [
    "#### 3. With dynamic input:"
   ]
  },
  {
   "cell_type": "code",
   "execution_count": 3,
   "id": "d956114b",
   "metadata": {},
   "outputs": [
    {
     "name": "stdout",
     "output_type": "stream",
     "text": [
      "Enter List:90,98,87\n",
      "['90,98,87']\n",
      "<class 'list'>\n"
     ]
    }
   ],
   "source": [
    "list = [input(\"Enter List:\")]\n",
    "print(list)\n",
    "print(type(list))"
   ]
  },
  {
   "cell_type": "markdown",
   "id": "6c323550",
   "metadata": {},
   "source": [
    "#### 4. With list() function:"
   ]
  },
  {
   "cell_type": "code",
   "execution_count": 1,
   "id": "9ab0f312",
   "metadata": {},
   "outputs": [
    {
     "name": "stdout",
     "output_type": "stream",
     "text": [
      "['m', 'o', 'g', 'u', 'l', 'o', 'j', 'u', ' ', 's', 'a', 'i']\n"
     ]
    }
   ],
   "source": [
    "s = \"moguloju sai\"\n",
    "l=list(s)\n",
    "print(l)"
   ]
  },
  {
   "cell_type": "markdown",
   "id": "92a48e71",
   "metadata": {},
   "source": [
    "#### 5. With split() function:"
   ]
  },
  {
   "cell_type": "code",
   "execution_count": 3,
   "id": "f1f0efeb",
   "metadata": {},
   "outputs": [
    {
     "name": "stdout",
     "output_type": "stream",
     "text": [
      "['Learning', 'Python', 'is', 'very', 'very', 'easy']\n",
      "<class 'list'>\n"
     ]
    }
   ],
   "source": [
    "s=\"Learning Python is very very easy\"\n",
    "l=s.split()\n",
    "print(l)\n",
    "print(type(l))"
   ]
  },
  {
   "cell_type": "markdown",
   "id": "ef90e8ef",
   "metadata": {},
   "source": [
    "Sometimes we can take list inside another list, such type of lists are called nested lists.\n",
    "```python\n",
    "Eg:[10,20,[30,40]]\n",
    "```"
   ]
  },
  {
   "cell_type": "markdown",
   "id": "9941240d",
   "metadata": {},
   "source": [
    "### Accessing elements of List:\n",
    "We can access elements of the list either by using index or by using slice operator(:)\n",
    "#### 1.By using index:\n",
    "- List follows zero based index. ie index of first element is zero.\n",
    "- List supports both +ve and -ve indexes.\n",
    "- +ve index meant for Left to Right\n",
    "- -ve index meant for Right to Left\n",
    "```python\n",
    "list=[10,20,30,40,50,60]\n",
    "-6 -5 -4 -3 -2 -1\n",
    "10 20 30 40 50 60\n",
    "0 1 2 3 4 5\n",
    "print(list[0]) ==>10\n",
    "print(list[-1]) ==>40\n",
    "print(list[10]) ==>IndexError: list index out of range\n",
    "```"
   ]
  },
  {
   "cell_type": "markdown",
   "id": "afd73d36",
   "metadata": {},
   "source": [
    "#### 2. By using slice operator:\n",
    "```python\n",
    "Syntax:\n",
    "list2= list1[start:stop:step]\n",
    "```\n",
    "- start ==>it indicates the index where slice has to start default value is 0\n",
    "- stop ===>It indicates the index where slice has to end default value is max allowed index of list ie length of the list\n",
    "- step ==>increment value default value is 1"
   ]
  },
  {
   "cell_type": "code",
   "execution_count": 1,
   "id": "350792b6",
   "metadata": {},
   "outputs": [],
   "source": [
    "n=[1,2,3,4,5,6,7,8,9,10]"
   ]
  },
  {
   "cell_type": "code",
   "execution_count": 2,
   "id": "9dc554e1",
   "metadata": {},
   "outputs": [
    {
     "name": "stdout",
     "output_type": "stream",
     "text": [
      "[3, 5, 7]\n"
     ]
    }
   ],
   "source": [
    "print(n[2:7:2])"
   ]
  },
  {
   "cell_type": "code",
   "execution_count": 3,
   "id": "9e88b0eb",
   "metadata": {},
   "outputs": [
    {
     "name": "stdout",
     "output_type": "stream",
     "text": [
      "[5, 7, 9]\n"
     ]
    }
   ],
   "source": [
    "print(n[4::2])"
   ]
  },
  {
   "cell_type": "code",
   "execution_count": 4,
   "id": "d09f0b45",
   "metadata": {},
   "outputs": [
    {
     "name": "stdout",
     "output_type": "stream",
     "text": [
      "[4, 5, 6, 7]\n"
     ]
    }
   ],
   "source": [
    "print(n[3:7])"
   ]
  },
  {
   "cell_type": "code",
   "execution_count": 5,
   "id": "b5a10ebc",
   "metadata": {},
   "outputs": [
    {
     "name": "stdout",
     "output_type": "stream",
     "text": [
      "[9, 7, 5]\n"
     ]
    }
   ],
   "source": [
    "print(n[8:2:-2])"
   ]
  },
  {
   "cell_type": "code",
   "execution_count": 6,
   "id": "bf120471",
   "metadata": {},
   "outputs": [
    {
     "name": "stdout",
     "output_type": "stream",
     "text": [
      "[5, 6, 7, 8, 9, 10]\n"
     ]
    }
   ],
   "source": [
    "print(n[4:100])"
   ]
  },
  {
   "cell_type": "markdown",
   "id": "c2bc319a",
   "metadata": {},
   "source": [
    "### Traversing the elements of List:\n",
    "The sequential access of each element in the list is called traversal."
   ]
  },
  {
   "cell_type": "markdown",
   "id": "e613acd0",
   "metadata": {},
   "source": [
    "#### 1. By using while loop:"
   ]
  },
  {
   "cell_type": "code",
   "execution_count": 4,
   "id": "615ae79b",
   "metadata": {},
   "outputs": [
    {
     "name": "stdout",
     "output_type": "stream",
     "text": [
      "0 1 2 3 4 5 6 7 8 9 10 "
     ]
    }
   ],
   "source": [
    "n=[0,1,2,3,4,5,6,7,8,9,10]\n",
    "i=0\n",
    "while i<len(n):\n",
    "    print(n[i],end=\" \")\n",
    "    i=i+1"
   ]
  },
  {
   "cell_type": "markdown",
   "id": "6ba9a152",
   "metadata": {},
   "source": [
    "#### 2. By using for loop:"
   ]
  },
  {
   "cell_type": "code",
   "execution_count": 5,
   "id": "03231cb0",
   "metadata": {},
   "outputs": [
    {
     "name": "stdout",
     "output_type": "stream",
     "text": [
      "0 1 2 3 4 5 6 7 8 9 10 "
     ]
    }
   ],
   "source": [
    "for n1 in n:\n",
    "    print(n1,end=\" \")"
   ]
  },
  {
   "cell_type": "markdown",
   "id": "68a6290d",
   "metadata": {},
   "source": [
    "#### 3. To display elements by index wise:"
   ]
  },
  {
   "cell_type": "code",
   "execution_count": 6,
   "id": "ffeb7102",
   "metadata": {},
   "outputs": [
    {
     "name": "stdout",
     "output_type": "stream",
     "text": [
      "A is available at positive index: 0 and at negative index: -3\n",
      "B is available at positive index: 1 and at negative index: -2\n",
      "C is available at positive index: 2 and at negative index: -1\n"
     ]
    }
   ],
   "source": [
    "l=[\"A\",\"B\",\"C\"]\n",
    "x=len(l)\n",
    "for i in range(x):\n",
    "    print(l[i],\"is available at positive index:\",i,\"and at negative index:\",i-x)"
   ]
  },
  {
   "cell_type": "markdown",
   "id": "2220fc69",
   "metadata": {},
   "source": [
    "### To get information about list:\n",
    "#### 1. len():\n",
    "returns the number of elements present in the list"
   ]
  },
  {
   "cell_type": "code",
   "execution_count": 7,
   "id": "1382555c",
   "metadata": {},
   "outputs": [
    {
     "name": "stdout",
     "output_type": "stream",
     "text": [
      "5\n"
     ]
    }
   ],
   "source": [
    "n=[10,20,30,40,50]\n",
    "print(len(n))"
   ]
  },
  {
   "cell_type": "markdown",
   "id": "338aee45",
   "metadata": {},
   "source": [
    "#### 2. count():\n",
    "It returns the number of occurrences of specified item in the list"
   ]
  },
  {
   "cell_type": "code",
   "execution_count": 9,
   "id": "043876d4",
   "metadata": {},
   "outputs": [],
   "source": [
    "n=[11,2,2,2,23,4,5,5,6,]"
   ]
  },
  {
   "cell_type": "code",
   "execution_count": 10,
   "id": "24610079",
   "metadata": {},
   "outputs": [
    {
     "name": "stdout",
     "output_type": "stream",
     "text": [
      "3\n"
     ]
    }
   ],
   "source": [
    "print(n.count(2))"
   ]
  },
  {
   "cell_type": "code",
   "execution_count": 12,
   "id": "c4b6c9fd",
   "metadata": {},
   "outputs": [
    {
     "name": "stdout",
     "output_type": "stream",
     "text": [
      "2\n"
     ]
    }
   ],
   "source": [
    "print(n.count(5))"
   ]
  },
  {
   "cell_type": "markdown",
   "id": "c2464809",
   "metadata": {},
   "source": [
    "#### 3. index():\n",
    "returns the index of first occurrence of the specified item."
   ]
  },
  {
   "cell_type": "code",
   "execution_count": 14,
   "id": "1d9501a2",
   "metadata": {},
   "outputs": [
    {
     "name": "stdout",
     "output_type": "stream",
     "text": [
      "0\n"
     ]
    }
   ],
   "source": [
    "n = [1,2,2,2,3,3]\n",
    "print(n.index(1))"
   ]
  },
  {
   "cell_type": "code",
   "execution_count": 15,
   "id": "3228ad07",
   "metadata": {},
   "outputs": [
    {
     "data": {
      "text/plain": [
       "4"
      ]
     },
     "execution_count": 15,
     "metadata": {},
     "output_type": "execute_result"
    }
   ],
   "source": [
    "n.index(3)"
   ]
  },
  {
   "cell_type": "markdown",
   "id": "0707f566",
   "metadata": {},
   "source": [
    "#### Note:\n",
    "If the specified element not present in the list then we will get ValueError. Hence\n",
    "before index() method we have to check whether item present in the list or not by using in\n",
    "operator.\n",
    "```python\n",
    "print( 4 in n)==>False\n",
    "```"
   ]
  },
  {
   "cell_type": "markdown",
   "id": "b3f68a1f",
   "metadata": {},
   "source": [
    "### Manipulating elements of List:\n",
    "#### 1. append():\n",
    "We can use append() function to add item at the end of the list."
   ]
  },
  {
   "cell_type": "code",
   "execution_count": 27,
   "id": "4df27433",
   "metadata": {},
   "outputs": [],
   "source": [
    "list=[]\n",
    "list.append(\"A\")"
   ]
  },
  {
   "cell_type": "code",
   "execution_count": 28,
   "id": "e01cca14",
   "metadata": {},
   "outputs": [
    {
     "data": {
      "text/plain": [
       "['A']"
      ]
     },
     "execution_count": 28,
     "metadata": {},
     "output_type": "execute_result"
    }
   ],
   "source": [
    "list"
   ]
  },
  {
   "cell_type": "code",
   "execution_count": 29,
   "id": "087db85a",
   "metadata": {},
   "outputs": [],
   "source": [
    "list.append(\"B\")\n",
    "list.append(\"C\")"
   ]
  },
  {
   "cell_type": "code",
   "execution_count": 30,
   "id": "1abd36f8",
   "metadata": {},
   "outputs": [
    {
     "data": {
      "text/plain": [
       "['A', 'B', 'C']"
      ]
     },
     "execution_count": 30,
     "metadata": {},
     "output_type": "execute_result"
    }
   ],
   "source": [
    "list"
   ]
  },
  {
   "cell_type": "code",
   "execution_count": 32,
   "id": "b94ea738",
   "metadata": {},
   "outputs": [],
   "source": [
    " list.append(\"D\")"
   ]
  },
  {
   "cell_type": "code",
   "execution_count": 33,
   "id": "2f768ef7",
   "metadata": {},
   "outputs": [
    {
     "data": {
      "text/plain": [
       "['A', 'B', 'C', 'D']"
      ]
     },
     "execution_count": 33,
     "metadata": {},
     "output_type": "execute_result"
    }
   ],
   "source": [
    "list"
   ]
  },
  {
   "cell_type": "code",
   "execution_count": 36,
   "id": "80307665",
   "metadata": {},
   "outputs": [],
   "source": [
    "list.append(\"E\")"
   ]
  },
  {
   "cell_type": "code",
   "execution_count": 37,
   "id": "eab5728e",
   "metadata": {},
   "outputs": [],
   "source": [
    "list.append(\"F\")"
   ]
  },
  {
   "cell_type": "code",
   "execution_count": null,
   "id": "0fe2f28c",
   "metadata": {},
   "outputs": [],
   "source": [
    "list"
   ]
  },
  {
   "cell_type": "code",
   "execution_count": 40,
   "id": "9ee397fc",
   "metadata": {},
   "outputs": [
    {
     "name": "stdout",
     "output_type": "stream",
     "text": [
      "[0, 10, 20, 30, 40, 50, 60, 70, 80, 90, 100]\n"
     ]
    }
   ],
   "source": [
    "# To add all elements to list upto 100 which are divisible by 10\n",
    "a = []\n",
    "for i in range(101):\n",
    "    if i%10 == 0:\n",
    "        a.append(i)\n",
    "print(a)"
   ]
  },
  {
   "cell_type": "code",
   "execution_count": 41,
   "id": "b0a49f32",
   "metadata": {},
   "outputs": [
    {
     "name": "stdout",
     "output_type": "stream",
     "text": [
      "[0, 10, 20, 30, 40, 50, 60, 70, 80, 90, 100]\n"
     ]
    }
   ],
   "source": [
    "b = []\n",
    "for i in range(0,101,10):\n",
    "    b.append(i)\n",
    "print(b)"
   ]
  },
  {
   "cell_type": "markdown",
   "id": "4b645309",
   "metadata": {},
   "source": [
    "#### 2. insert():\n",
    "To insert item at specified index position"
   ]
  },
  {
   "cell_type": "code",
   "execution_count": 16,
   "id": "cd9047f9",
   "metadata": {},
   "outputs": [
    {
     "name": "stdout",
     "output_type": "stream",
     "text": [
      "[1, 888, 2, 3, 4, 5]\n"
     ]
    }
   ],
   "source": [
    "n=[1,2,3,4,5]\n",
    "n.insert(1,888)\n",
    "print(n)"
   ]
  },
  {
   "cell_type": "code",
   "execution_count": 17,
   "id": "b73acb8f",
   "metadata": {},
   "outputs": [
    {
     "name": "stdout",
     "output_type": "stream",
     "text": [
      "[999, 1, 2, 3, 4, 5, 777]\n"
     ]
    }
   ],
   "source": [
    "n=[1,2,3,4,5]\n",
    "n.insert(10,777)\n",
    "n.insert(-10,999)\n",
    "print(n)"
   ]
  },
  {
   "cell_type": "markdown",
   "id": "38e70870",
   "metadata": {},
   "source": [
    "#### Note:\n",
    "- If the specified index is greater than max index then element will be inserted at last position. \n",
    "- If the specified index is smaller than min index then element will be inserted at first position."
   ]
  },
  {
   "cell_type": "code",
   "execution_count": 47,
   "id": "4389ef08",
   "metadata": {},
   "outputs": [
    {
     "name": "stdout",
     "output_type": "stream",
     "text": [
      "[10, 1, 888, 2, 3, 4, 10, 10, 10, 5, 10]\n"
     ]
    }
   ],
   "source": [
    "n.insert(11,10)\n",
    "print(n)"
   ]
  },
  {
   "cell_type": "markdown",
   "id": "ef1d2579",
   "metadata": {},
   "source": [
    "### Differences between append() and insert()\n",
    "#### append():\n",
    "In List when we add any element it will come in last i.e. it will be last element.\n",
    "#### insert():\n",
    "In List we can insert any element in particular index number."
   ]
  },
  {
   "cell_type": "markdown",
   "id": "8f7a303c",
   "metadata": {},
   "source": [
    "#### 3. extend():\n",
    "To add all items of one list to another list\n",
    "```python\n",
    "l1.extend(l2)\n",
    "all items present in l2 will be added to l1\n",
    "```"
   ]
  },
  {
   "cell_type": "code",
   "execution_count": 18,
   "id": "6619e5d8",
   "metadata": {},
   "outputs": [
    {
     "name": "stdout",
     "output_type": "stream",
     "text": [
      "['Chicken', 'Mutton', 'Fish', 'pepsi', 'sprite', 'appy']\n"
     ]
    }
   ],
   "source": [
    "order1=[\"Chicken\",\"Mutton\",\"Fish\"]\n",
    "order2=[\"pepsi\",\"sprite\",\"appy\"]\n",
    "order1.extend(order2)\n",
    "print(order1)"
   ]
  },
  {
   "cell_type": "code",
   "execution_count": 19,
   "id": "8fdb9794",
   "metadata": {},
   "outputs": [
    {
     "name": "stdout",
     "output_type": "stream",
     "text": [
      "['Chicken', 'Mutton', 'Fish', 'M', 'u', 's', 'h', 'r', 'o', 'o', 'm']\n"
     ]
    }
   ],
   "source": [
    "order=[\"Chicken\",\"Mutton\",\"Fish\"]\n",
    "order.extend(\"Mushroom\")\n",
    "print(order)"
   ]
  },
  {
   "cell_type": "markdown",
   "id": "99c353c4",
   "metadata": {},
   "source": [
    "#### 4. remove():\n",
    "We can use this function to remove specified item from the list. If the item present\n",
    "multiple times then only first occurrence will be removed."
   ]
  },
  {
   "cell_type": "code",
   "execution_count": 20,
   "id": "7a6dc797",
   "metadata": {},
   "outputs": [],
   "source": [
    "n=[10,20,30,40]"
   ]
  },
  {
   "cell_type": "code",
   "execution_count": 21,
   "id": "d7dae9eb",
   "metadata": {},
   "outputs": [
    {
     "name": "stdout",
     "output_type": "stream",
     "text": [
      "[20, 30, 40]\n"
     ]
    }
   ],
   "source": [
    "n.remove(10)\n",
    "print(n)"
   ]
  },
  {
   "cell_type": "code",
   "execution_count": 22,
   "id": "fbfc6acd",
   "metadata": {},
   "outputs": [
    {
     "ename": "ValueError",
     "evalue": "list.remove(x): x not in list",
     "output_type": "error",
     "traceback": [
      "\u001b[1;31m---------------------------------------------------------------------------\u001b[0m",
      "\u001b[1;31mValueError\u001b[0m                                Traceback (most recent call last)",
      "Cell \u001b[1;32mIn[22], line 1\u001b[0m\n\u001b[1;32m----> 1\u001b[0m \u001b[43mn\u001b[49m\u001b[38;5;241;43m.\u001b[39;49m\u001b[43mremove\u001b[49m\u001b[43m(\u001b[49m\u001b[38;5;241;43m50\u001b[39;49m\u001b[43m)\u001b[49m\n\u001b[0;32m      2\u001b[0m \u001b[38;5;28mprint\u001b[39m(n)\n",
      "\u001b[1;31mValueError\u001b[0m: list.remove(x): x not in list"
     ]
    }
   ],
   "source": [
    "n.remove(50)\n",
    "print(n)"
   ]
  },
  {
   "cell_type": "markdown",
   "id": "ebac8c33",
   "metadata": {},
   "source": [
    "#### Note:\n",
    "Hence before using remove() method first we have to check specified element\n",
    "present in the list or not by using in operator."
   ]
  },
  {
   "cell_type": "markdown",
   "id": "31d87e12",
   "metadata": {},
   "source": [
    "#### pop() function:\n",
    "- It removes and returns the last element of the list.\n",
    "- This is only function which manipulates list and returns some element."
   ]
  },
  {
   "cell_type": "code",
   "execution_count": 23,
   "id": "2a54b531",
   "metadata": {},
   "outputs": [
    {
     "name": "stdout",
     "output_type": "stream",
     "text": [
      "40\n",
      "30\n",
      "[10, 20]\n"
     ]
    }
   ],
   "source": [
    "n=[10,20,30,40]\n",
    "print(n.pop())\n",
    "print(n.pop())\n",
    "print(n)"
   ]
  },
  {
   "cell_type": "markdown",
   "id": "37f26b59",
   "metadata": {},
   "source": [
    "#### If the list is empty then pop() function raises IndexError\n",
    "```python\n",
    "n=[]\n",
    "print(n.pop()) ==> IndexError: pop from empty list\n",
    "```\n",
    "#### Note:\n",
    "1. pop() is the only function which manipulates the list and returns some value\n",
    "2. In general we can use append() and pop() functions to implement stack datastructure by using list,which follows LIFO(Last In First Out) order.\n",
    "- In general we can use pop() function to remove last element of the list. But we can use to remove elements based on index.\n"
   ]
  },
  {
   "cell_type": "markdown",
   "id": "7900fecb",
   "metadata": {},
   "source": [
    "1. n.pop(index)===>To remove and return element present at specified index.\n",
    "2. n.pop()==>To remove and return last element of the list"
   ]
  },
  {
   "cell_type": "code",
   "execution_count": 24,
   "id": "63e142da",
   "metadata": {},
   "outputs": [],
   "source": [
    "n=[10,20,30,40,50,60]"
   ]
  },
  {
   "cell_type": "code",
   "execution_count": 25,
   "id": "7e256553",
   "metadata": {},
   "outputs": [
    {
     "data": {
      "text/plain": [
       "60"
      ]
     },
     "execution_count": 25,
     "metadata": {},
     "output_type": "execute_result"
    }
   ],
   "source": [
    "n.pop()"
   ]
  },
  {
   "cell_type": "code",
   "execution_count": 26,
   "id": "3290dc95",
   "metadata": {},
   "outputs": [
    {
     "name": "stdout",
     "output_type": "stream",
     "text": [
      "20\n"
     ]
    }
   ],
   "source": [
    "print(n.pop(1))"
   ]
  },
  {
   "cell_type": "code",
   "execution_count": 27,
   "id": "b12258e2",
   "metadata": {},
   "outputs": [
    {
     "ename": "IndexError",
     "evalue": "pop index out of range",
     "output_type": "error",
     "traceback": [
      "\u001b[1;31m---------------------------------------------------------------------------\u001b[0m",
      "\u001b[1;31mIndexError\u001b[0m                                Traceback (most recent call last)",
      "Cell \u001b[1;32mIn[27], line 1\u001b[0m\n\u001b[1;32m----> 1\u001b[0m \u001b[38;5;28mprint\u001b[39m(\u001b[43mn\u001b[49m\u001b[38;5;241;43m.\u001b[39;49m\u001b[43mpop\u001b[49m\u001b[43m(\u001b[49m\u001b[38;5;241;43m10\u001b[39;49m\u001b[43m)\u001b[49m)\n",
      "\u001b[1;31mIndexError\u001b[0m: pop index out of range"
     ]
    }
   ],
   "source": [
    "print(n.pop(10))"
   ]
  },
  {
   "cell_type": "markdown",
   "id": "5916c325",
   "metadata": {},
   "source": [
    "#### Differences between remove() and pop()\n",
    "##### remove()\n",
    "1) We can use to remove special element from the List.\n",
    "2) It can’t return any value.\n",
    "3) Ifspecial element not available then we get VALUE ERROR\n",
    "##### pop()\n",
    "1) We can use to remove last element from the List.\n",
    "2) It returned removed element.\n",
    "3) If List is empty then we get Error."
   ]
  },
  {
   "cell_type": "markdown",
   "id": "4f5d809e",
   "metadata": {},
   "source": [
    "List objects are dynamic. i.e based on our requirement we can increase and decrease the size.\n",
    "- append(),insert() ,extend() ===>for increasing the size/growable nature\n",
    "- remove(), pop() ======>for decreasing the size /shrinking nature"
   ]
  },
  {
   "cell_type": "markdown",
   "id": "dd9f30e3",
   "metadata": {},
   "source": [
    "#### reverse():\n",
    "We can use to reverse() order of elements of list."
   ]
  },
  {
   "cell_type": "code",
   "execution_count": 28,
   "id": "e92b3aea",
   "metadata": {},
   "outputs": [
    {
     "data": {
      "text/plain": [
       "<function list.reverse()>"
      ]
     },
     "execution_count": 28,
     "metadata": {},
     "output_type": "execute_result"
    }
   ],
   "source": [
    "n.reverse"
   ]
  },
  {
   "cell_type": "code",
   "execution_count": 29,
   "id": "6d5ac27f",
   "metadata": {},
   "outputs": [],
   "source": [
    "n.reverse()"
   ]
  },
  {
   "cell_type": "code",
   "execution_count": 30,
   "id": "569bb4f6",
   "metadata": {},
   "outputs": [
    {
     "data": {
      "text/plain": [
       "[50, 40, 30, 10]"
      ]
     },
     "execution_count": 30,
     "metadata": {},
     "output_type": "execute_result"
    }
   ],
   "source": [
    "n"
   ]
  },
  {
   "cell_type": "markdown",
   "id": "55362d60",
   "metadata": {},
   "source": [
    "#### sort() function:\n",
    "In list by default insertion order is preserved. If want to sort the elements of list\n",
    "according to default natural sorting order then we should go for sort() method.\n",
    "- For numbers ==>default natural sorting order is Ascending Order\n",
    "- For Strings ==> default naturalsorting order is Alphabetical Order"
   ]
  },
  {
   "cell_type": "code",
   "execution_count": 32,
   "id": "a915b97b",
   "metadata": {},
   "outputs": [],
   "source": [
    "n.sort()"
   ]
  },
  {
   "cell_type": "code",
   "execution_count": 33,
   "id": "1e76e040",
   "metadata": {},
   "outputs": [
    {
     "data": {
      "text/plain": [
       "[10, 30, 40, 50]"
      ]
     },
     "execution_count": 33,
     "metadata": {},
     "output_type": "execute_result"
    }
   ],
   "source": [
    "n"
   ]
  },
  {
   "cell_type": "code",
   "execution_count": 34,
   "id": "8358ddb2",
   "metadata": {},
   "outputs": [
    {
     "name": "stdout",
     "output_type": "stream",
     "text": [
      "['Apple', 'Banana', 'Cat', 'Dog']\n"
     ]
    }
   ],
   "source": [
    "s=[\"Dog\",\"Banana\",\"Cat\",\"Apple\"]\n",
    "s.sort() \n",
    "print(s)"
   ]
  },
  {
   "cell_type": "markdown",
   "id": "dec08ec2",
   "metadata": {},
   "source": [
    "#### Note:\n",
    " To use sort() function, compulsory list should contain only homogeneous elements.\n",
    "otherwise we will get TypeError"
   ]
  },
  {
   "cell_type": "code",
   "execution_count": 35,
   "id": "593c24a6",
   "metadata": {},
   "outputs": [
    {
     "ename": "TypeError",
     "evalue": "'<' not supported between instances of 'str' and 'int'",
     "output_type": "error",
     "traceback": [
      "\u001b[1;31m---------------------------------------------------------------------------\u001b[0m",
      "\u001b[1;31mTypeError\u001b[0m                                 Traceback (most recent call last)",
      "Cell \u001b[1;32mIn[35], line 2\u001b[0m\n\u001b[0;32m      1\u001b[0m n\u001b[38;5;241m=\u001b[39m[\u001b[38;5;241m20\u001b[39m,\u001b[38;5;241m10\u001b[39m,\u001b[38;5;124m\"\u001b[39m\u001b[38;5;124mA\u001b[39m\u001b[38;5;124m\"\u001b[39m,\u001b[38;5;124m\"\u001b[39m\u001b[38;5;124mB\u001b[39m\u001b[38;5;124m\"\u001b[39m]\n\u001b[1;32m----> 2\u001b[0m \u001b[43mn\u001b[49m\u001b[38;5;241;43m.\u001b[39;49m\u001b[43msort\u001b[49m\u001b[43m(\u001b[49m\u001b[43m)\u001b[49m\n\u001b[0;32m      3\u001b[0m \u001b[38;5;28mprint\u001b[39m(n)\n",
      "\u001b[1;31mTypeError\u001b[0m: '<' not supported between instances of 'str' and 'int'"
     ]
    }
   ],
   "source": [
    "n=[20,10,\"A\",\"B\"]\n",
    "n.sort()\n",
    "print(n)"
   ]
  },
  {
   "cell_type": "markdown",
   "id": "81468ccf",
   "metadata": {},
   "source": [
    "#### Note: \n",
    "In Python 2 if List contains both numbers and Strings then sort() function first sort\n",
    "numbers followed by strings"
   ]
  },
  {
   "cell_type": "code",
   "execution_count": 36,
   "id": "cb1578d5",
   "metadata": {},
   "outputs": [
    {
     "ename": "TypeError",
     "evalue": "'<' not supported between instances of 'str' and 'int'",
     "output_type": "error",
     "traceback": [
      "\u001b[1;31m---------------------------------------------------------------------------\u001b[0m",
      "\u001b[1;31mTypeError\u001b[0m                                 Traceback (most recent call last)",
      "Cell \u001b[1;32mIn[36], line 2\u001b[0m\n\u001b[0;32m      1\u001b[0m n\u001b[38;5;241m=\u001b[39m[\u001b[38;5;241m20\u001b[39m,\u001b[38;5;124m\"\u001b[39m\u001b[38;5;124mB\u001b[39m\u001b[38;5;124m\"\u001b[39m,\u001b[38;5;241m10\u001b[39m,\u001b[38;5;124m\"\u001b[39m\u001b[38;5;124mA\u001b[39m\u001b[38;5;124m\"\u001b[39m]\n\u001b[1;32m----> 2\u001b[0m \u001b[43mn\u001b[49m\u001b[38;5;241;43m.\u001b[39;49m\u001b[43msort\u001b[49m\u001b[43m(\u001b[49m\u001b[43m)\u001b[49m\n\u001b[0;32m      3\u001b[0m \u001b[38;5;28mprint\u001b[39m(n)\n",
      "\u001b[1;31mTypeError\u001b[0m: '<' not supported between instances of 'str' and 'int'"
     ]
    }
   ],
   "source": [
    "n=[20,\"B\",10,\"A\"]\n",
    "n.sort()\n",
    "print(n)"
   ]
  },
  {
   "cell_type": "markdown",
   "id": "388f76c4",
   "metadata": {},
   "source": [
    "##### To sort in reverse of default natural sorting order:\n",
    "We can sort according to reverse of default natural sorting order by using\n",
    "reverse=True argument."
   ]
  },
  {
   "cell_type": "code",
   "execution_count": 37,
   "id": "e53d28de",
   "metadata": {},
   "outputs": [
    {
     "name": "stdout",
     "output_type": "stream",
     "text": [
      "[10, 20, 30, 40]\n"
     ]
    }
   ],
   "source": [
    "n=[40,10,30,20]\n",
    "n.sort()\n",
    "print(n)"
   ]
  },
  {
   "cell_type": "code",
   "execution_count": 38,
   "id": "26256e10",
   "metadata": {},
   "outputs": [
    {
     "name": "stdout",
     "output_type": "stream",
     "text": [
      "[40, 30, 20, 10]\n"
     ]
    }
   ],
   "source": [
    "n.sort(reverse=True)\n",
    "print(n)"
   ]
  },
  {
   "cell_type": "code",
   "execution_count": 39,
   "id": "0ec5fdaf",
   "metadata": {},
   "outputs": [
    {
     "name": "stdout",
     "output_type": "stream",
     "text": [
      "[10, 20, 30, 40]\n"
     ]
    }
   ],
   "source": [
    "n.sort(reverse=False)\n",
    "print(n)"
   ]
  },
  {
   "cell_type": "markdown",
   "id": "2d8340ce",
   "metadata": {},
   "source": [
    "#### clear():\n",
    "We can use clear() function to remove all elements of List."
   ]
  },
  {
   "cell_type": "code",
   "execution_count": 40,
   "id": "22edf5b3",
   "metadata": {},
   "outputs": [
    {
     "name": "stdout",
     "output_type": "stream",
     "text": [
      "[10, 20, 30, 40]\n"
     ]
    }
   ],
   "source": [
    "n=[10,20,30,40]\n",
    "print(n)"
   ]
  },
  {
   "cell_type": "code",
   "execution_count": 41,
   "id": "04891991",
   "metadata": {},
   "outputs": [
    {
     "name": "stdout",
     "output_type": "stream",
     "text": [
      "[]\n"
     ]
    }
   ],
   "source": [
    "n.clear()\n",
    "print(n)"
   ]
  },
  {
   "cell_type": "markdown",
   "id": "d237b7d6",
   "metadata": {},
   "source": [
    "### Nested Lists:\n",
    "Sometimes we can take one list inside another list. Such type of lists are called nested\n",
    "lists."
   ]
  },
  {
   "cell_type": "code",
   "execution_count": 42,
   "id": "ba6b0a9c",
   "metadata": {},
   "outputs": [
    {
     "name": "stdout",
     "output_type": "stream",
     "text": [
      "[10, 20, [30, 40]]\n"
     ]
    }
   ],
   "source": [
    "n=[10,20,[30,40]]\n",
    "print(n)"
   ]
  },
  {
   "cell_type": "code",
   "execution_count": 43,
   "id": "84dfdcf4",
   "metadata": {},
   "outputs": [
    {
     "name": "stdout",
     "output_type": "stream",
     "text": [
      "10\n"
     ]
    }
   ],
   "source": [
    "print(n[0])"
   ]
  },
  {
   "cell_type": "code",
   "execution_count": 61,
   "id": "b9ce02fd",
   "metadata": {},
   "outputs": [
    {
     "name": "stdout",
     "output_type": "stream",
     "text": [
      "[30, 40]\n"
     ]
    }
   ],
   "source": [
    "print(n[2])"
   ]
  },
  {
   "cell_type": "code",
   "execution_count": 44,
   "id": "9e19c0e2",
   "metadata": {},
   "outputs": [
    {
     "name": "stdout",
     "output_type": "stream",
     "text": [
      "30\n"
     ]
    }
   ],
   "source": [
    "print(n[2][0])"
   ]
  },
  {
   "cell_type": "code",
   "execution_count": 45,
   "id": "4084e6d4",
   "metadata": {},
   "outputs": [
    {
     "name": "stdout",
     "output_type": "stream",
     "text": [
      "40\n"
     ]
    }
   ],
   "source": [
    "print(n[2][1])"
   ]
  },
  {
   "cell_type": "markdown",
   "id": "30c7ca02",
   "metadata": {},
   "source": [
    "#### Note:\n",
    " We can access nested list elements by using index just like accessing multi\n",
    "dimensional array elements."
   ]
  },
  {
   "cell_type": "markdown",
   "id": "7ad7da33",
   "metadata": {},
   "source": [
    "#### List Comprehensions:\n",
    "It is very easy and compact way of creating list objects from any iterable objects(like\n",
    "list,tuple,dictionary,range etc) based on some condition.\n",
    "```python\n",
    "Syntax:\n",
    "list=[expression for item in list if condition]\n",
    "```"
   ]
  },
  {
   "cell_type": "code",
   "execution_count": 46,
   "id": "faf67a98",
   "metadata": {},
   "outputs": [
    {
     "name": "stdout",
     "output_type": "stream",
     "text": [
      "[1, 4, 9, 16, 25, 36, 49, 64, 81, 100]\n"
     ]
    }
   ],
   "source": [
    "s=[ x*x for x in range(1,11)]\n",
    "print(s)"
   ]
  },
  {
   "cell_type": "code",
   "execution_count": 47,
   "id": "ac26a1b1",
   "metadata": {},
   "outputs": [
    {
     "name": "stdout",
     "output_type": "stream",
     "text": [
      "[2, 4, 8, 16, 32]\n"
     ]
    }
   ],
   "source": [
    "v=[2**x for x in range(1,6)]\n",
    "print(v)"
   ]
  },
  {
   "cell_type": "code",
   "execution_count": 48,
   "id": "57ef8bac",
   "metadata": {},
   "outputs": [
    {
     "name": "stdout",
     "output_type": "stream",
     "text": [
      "[4, 16, 36, 64, 100]\n"
     ]
    }
   ],
   "source": [
    "m=[x for x in s if x%2==0]\n",
    "print(m)"
   ]
  },
  {
   "cell_type": "code",
   "execution_count": 49,
   "id": "b6277093",
   "metadata": {},
   "outputs": [
    {
     "name": "stdout",
     "output_type": "stream",
     "text": [
      "['B', 'N', 'V', 'C']\n"
     ]
    }
   ],
   "source": [
    "words=[\"Balaiah\",\"Nag\",\"Venkatesh\",\"Chiranjeevi\"]\n",
    "l=[w[0] for w in words]\n",
    "print(l)"
   ]
  },
  {
   "cell_type": "markdown",
   "id": "5718590b",
   "metadata": {},
   "source": [
    "## Tuple "
   ]
  },
  {
   "cell_type": "markdown",
   "id": "867864f1",
   "metadata": {},
   "source": [
    "![Python logo](data:image/png;base64,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)"
   ]
  },
  {
   "cell_type": "markdown",
   "id": "3877f7d8",
   "metadata": {},
   "source": [
    " 1. Tuple is exactly same as List except that it is immutable. i.e once we creates Tuple object, we cannot perform any changes in that object. Hence Tuple is Read Only version of List.\n",
    "2. If our data is fixed and never changes then we should go for Tuple.\n",
    "3. Insertion Order is preserved\n",
    "4. Duplicates are allowed\n",
    "5. Heterogeneous objects are allowed.\n",
    "6. We can preserve insertion order and we can differentiate duplicate objects by using index.\n",
    "- Hence index will play very important role in Tuple also.\n",
    "- Tuple support both +ve and -ve index.\n",
    "- +ve index means forward direction(from left to right) and\n",
    "- -ve index means backward direction(from right to left)\n",
    "7. We can represent Tuple elements within Parenthesis and with comma separator.Parenthesis are optional but recommended to use.\n",
    "```python\n",
    "t=10,20,30,40\n",
    "print(t)................ (10, 20, 30, 40)\n",
    "print(type(t)).........<class 'tuple'>\n",
    "```\n",
    "#### Note:\n",
    "We have to take special care about single valued tuple. compulsory the value\n",
    "should ends with comma, otherwise it is not treated as tuple."
   ]
  },
  {
   "cell_type": "code",
   "execution_count": 50,
   "id": "9f737f71",
   "metadata": {},
   "outputs": [
    {
     "name": "stdout",
     "output_type": "stream",
     "text": [
      "<class 'int'>\n",
      "<class 'int'>\n",
      "<class 'tuple'>\n"
     ]
    }
   ],
   "source": [
    "t=(10)\n",
    "t1=10\n",
    "t2=10,\n",
    "print(type(t))\n",
    "print(type(t1))\n",
    "print(type(t2))"
   ]
  },
  {
   "cell_type": "markdown",
   "id": "bf1af345",
   "metadata": {},
   "source": [
    "### Tuple creation:\n",
    "##### 1. creation of empty tuple"
   ]
  },
  {
   "cell_type": "code",
   "execution_count": 51,
   "id": "7416a58b",
   "metadata": {},
   "outputs": [
    {
     "name": "stdout",
     "output_type": "stream",
     "text": [
      "<class 'tuple'>\n"
     ]
    }
   ],
   "source": [
    "t=()\n",
    "print(type(t))"
   ]
  },
  {
   "cell_type": "markdown",
   "id": "b14c7d5f",
   "metadata": {},
   "source": [
    "#### 2. creation of single valued tuple ,parenthesis are optional,should ends with comma"
   ]
  },
  {
   "cell_type": "code",
   "execution_count": 55,
   "id": "65b63e6a",
   "metadata": {},
   "outputs": [
    {
     "name": "stdout",
     "output_type": "stream",
     "text": [
      "<class 'tuple'>\n",
      "<class 'tuple'>\n"
     ]
    }
   ],
   "source": [
    "t1=(10,)\n",
    "t2=10,\n",
    "print(type(t1))\n",
    "print(type(t2))"
   ]
  },
  {
   "cell_type": "markdown",
   "id": "c6b63b79",
   "metadata": {},
   "source": [
    "#### 3. creation of multi values tuples & parenthesis are optional"
   ]
  },
  {
   "cell_type": "code",
   "execution_count": 56,
   "id": "98452ea7",
   "metadata": {},
   "outputs": [
    {
     "name": "stdout",
     "output_type": "stream",
     "text": [
      "<class 'tuple'>\n",
      "<class 'tuple'>\n"
     ]
    }
   ],
   "source": [
    "t1=10,20,30\n",
    "t2=(10,20,30)\n",
    "print(type(t1))\n",
    "print(type(t2))"
   ]
  },
  {
   "cell_type": "markdown",
   "id": "489645a8",
   "metadata": {},
   "source": [
    "#### 4. By using tuple() function:"
   ]
  },
  {
   "cell_type": "code",
   "execution_count": 57,
   "id": "13b0c912",
   "metadata": {},
   "outputs": [
    {
     "name": "stdout",
     "output_type": "stream",
     "text": [
      "(10, 20, 30)\n"
     ]
    }
   ],
   "source": [
    "list=[10,20,30]\n",
    "t=tuple(list) \n",
    "print(t)"
   ]
  },
  {
   "cell_type": "code",
   "execution_count": 58,
   "id": "45c23c29",
   "metadata": {},
   "outputs": [
    {
     "name": "stdout",
     "output_type": "stream",
     "text": [
      "(10, 12, 14, 16, 18)\n"
     ]
    }
   ],
   "source": [
    "t1=tuple(range(10,20,2)) \n",
    "print(t1)"
   ]
  },
  {
   "cell_type": "markdown",
   "id": "6b0c5b89",
   "metadata": {},
   "source": [
    "### Accessing elements of tuple:\n",
    "We can access either by index or by slice operator"
   ]
  },
  {
   "cell_type": "markdown",
   "id": "ba60b1f2",
   "metadata": {},
   "source": [
    "#### 1. By using index:"
   ]
  },
  {
   "cell_type": "code",
   "execution_count": 1,
   "id": "c0df83bb",
   "metadata": {},
   "outputs": [],
   "source": [
    "t=(10,20,30,40,50,60)"
   ]
  },
  {
   "cell_type": "code",
   "execution_count": 2,
   "id": "296cd82c",
   "metadata": {},
   "outputs": [
    {
     "name": "stdout",
     "output_type": "stream",
     "text": [
      "10\n"
     ]
    }
   ],
   "source": [
    "print(t[0])"
   ]
  },
  {
   "cell_type": "code",
   "execution_count": 3,
   "id": "e8339af0",
   "metadata": {},
   "outputs": [
    {
     "name": "stdout",
     "output_type": "stream",
     "text": [
      "60\n"
     ]
    }
   ],
   "source": [
    "print(t[-1])"
   ]
  },
  {
   "cell_type": "code",
   "execution_count": 4,
   "id": "420b2b3b",
   "metadata": {},
   "outputs": [
    {
     "ename": "IndexError",
     "evalue": "tuple index out of range",
     "output_type": "error",
     "traceback": [
      "\u001b[1;31m---------------------------------------------------------------------------\u001b[0m",
      "\u001b[1;31mIndexError\u001b[0m                                Traceback (most recent call last)",
      "Cell \u001b[1;32mIn[4], line 1\u001b[0m\n\u001b[1;32m----> 1\u001b[0m \u001b[38;5;28mprint\u001b[39m(\u001b[43mt\u001b[49m\u001b[43m[\u001b[49m\u001b[38;5;241;43m100\u001b[39;49m\u001b[43m]\u001b[49m)\n",
      "\u001b[1;31mIndexError\u001b[0m: tuple index out of range"
     ]
    }
   ],
   "source": [
    "print(t[100])"
   ]
  },
  {
   "cell_type": "markdown",
   "id": "488e7e43",
   "metadata": {},
   "source": [
    "#### 2. By using slice operator:"
   ]
  },
  {
   "cell_type": "code",
   "execution_count": 5,
   "id": "5979a08a",
   "metadata": {},
   "outputs": [
    {
     "name": "stdout",
     "output_type": "stream",
     "text": [
      "(30, 40, 50)\n"
     ]
    }
   ],
   "source": [
    "print(t[2:5])"
   ]
  },
  {
   "cell_type": "code",
   "execution_count": 6,
   "id": "3dd8e742",
   "metadata": {},
   "outputs": [
    {
     "name": "stdout",
     "output_type": "stream",
     "text": [
      "(30, 40, 50, 60)\n"
     ]
    }
   ],
   "source": [
    "print(t[2:100])"
   ]
  },
  {
   "cell_type": "code",
   "execution_count": 8,
   "id": "a9c09732",
   "metadata": {},
   "outputs": [
    {
     "name": "stdout",
     "output_type": "stream",
     "text": [
      "(10, 30, 50)\n"
     ]
    }
   ],
   "source": [
    "print(t[::2])"
   ]
  },
  {
   "cell_type": "markdown",
   "id": "5448d679",
   "metadata": {},
   "source": [
    "### Tuple vs immutability:\n",
    "- Once we creates tuple, we cannot change its content.\n",
    "- Hence tuple objects are immutable."
   ]
  },
  {
   "cell_type": "markdown",
   "id": "d8fdeaf8",
   "metadata": {},
   "source": [
    "```python\n",
    "t=(10,20,30,40)\n",
    "t[1]=70 TypeError: 'tuple' object does not support item assignment\n",
    "```"
   ]
  },
  {
   "cell_type": "markdown",
   "id": "1e2f0212",
   "metadata": {},
   "source": [
    "### Mathematical operators for tuple:\n",
    "We can apply + and * operators for tuple\n",
    "##### 1. Concatenation Operator(+):\n",
    "It concatenates the tuple mentioned on either side of the operator."
   ]
  },
  {
   "cell_type": "code",
   "execution_count": 10,
   "id": "e0d2c51c",
   "metadata": {},
   "outputs": [
    {
     "name": "stdout",
     "output_type": "stream",
     "text": [
      "(10, 20, 30, 40, 50, 60, 70, 80)\n"
     ]
    }
   ],
   "source": [
    "t1 = (10,20,30,40)\n",
    "t2 = (50,60,70,80)\n",
    "t3 = t1+t2\n",
    "print(t3)"
   ]
  },
  {
   "cell_type": "markdown",
   "id": "826bc89b",
   "metadata": {},
   "source": [
    "#### 2. Multiplication operator or repetition operator(*)\n",
    "The repetition operator enables the tuple elements to be repeated multiple times."
   ]
  },
  {
   "cell_type": "code",
   "execution_count": 11,
   "id": "79798864",
   "metadata": {},
   "outputs": [
    {
     "name": "stdout",
     "output_type": "stream",
     "text": [
      "(10, 20, 30, 10, 20, 30, 10, 20, 30)\n"
     ]
    }
   ],
   "source": [
    "t1=(10,20,30)\n",
    "t2=t1*3\n",
    "print(t2)"
   ]
  },
  {
   "cell_type": "markdown",
   "id": "12179c65",
   "metadata": {},
   "source": [
    "#### Important functions of Tuple:\n",
    "###### 1. len():\n",
    "To return number of elements present in the tuple"
   ]
  },
  {
   "cell_type": "code",
   "execution_count": 12,
   "id": "0d5cfcce",
   "metadata": {},
   "outputs": [
    {
     "name": "stdout",
     "output_type": "stream",
     "text": [
      "4\n"
     ]
    }
   ],
   "source": [
    "t = (10,20,30,40)\n",
    "print(len(t))"
   ]
  },
  {
   "cell_type": "markdown",
   "id": "ea067e4c",
   "metadata": {},
   "source": [
    "###### 2. count():\n",
    "To return number of occurrences of given element in the tuple."
   ]
  },
  {
   "cell_type": "code",
   "execution_count": 13,
   "id": "3837e6f9",
   "metadata": {},
   "outputs": [
    {
     "name": "stdout",
     "output_type": "stream",
     "text": [
      "1\n"
     ]
    }
   ],
   "source": [
    "print(t.count(10))"
   ]
  },
  {
   "cell_type": "markdown",
   "id": "e7fc89c5",
   "metadata": {},
   "source": [
    "###### 3. index():\n",
    "returns index of first occurrence of the given element.\n",
    "- If the specified element is not available then we will get ValueError."
   ]
  },
  {
   "cell_type": "code",
   "execution_count": 14,
   "id": "363ec544",
   "metadata": {},
   "outputs": [
    {
     "name": "stdout",
     "output_type": "stream",
     "text": [
      "0\n"
     ]
    }
   ],
   "source": [
    "print(t.index(10))"
   ]
  },
  {
   "cell_type": "code",
   "execution_count": 15,
   "id": "918c4c62",
   "metadata": {},
   "outputs": [
    {
     "name": "stdout",
     "output_type": "stream",
     "text": [
      "2\n"
     ]
    }
   ],
   "source": [
    "print(t.index(30))"
   ]
  },
  {
   "cell_type": "markdown",
   "id": "1be5c417",
   "metadata": {},
   "source": [
    "###### 4. sorted(): \n",
    "To sort elements based on default naturalsorting order."
   ]
  },
  {
   "cell_type": "code",
   "execution_count": 16,
   "id": "10a8982c",
   "metadata": {},
   "outputs": [],
   "source": [
    "t=(40,10,30,20)\n",
    "t1=sorted(t)"
   ]
  },
  {
   "cell_type": "code",
   "execution_count": 17,
   "id": "85127214",
   "metadata": {},
   "outputs": [
    {
     "name": "stdout",
     "output_type": "stream",
     "text": [
      "(40, 10, 30, 20)\n"
     ]
    }
   ],
   "source": [
    "print(t)"
   ]
  },
  {
   "cell_type": "code",
   "execution_count": 18,
   "id": "d77dd8ad",
   "metadata": {},
   "outputs": [
    {
     "name": "stdout",
     "output_type": "stream",
     "text": [
      "[10, 20, 30, 40]\n"
     ]
    }
   ],
   "source": [
    "print(t1)"
   ]
  },
  {
   "cell_type": "markdown",
   "id": "09686c4e",
   "metadata": {},
   "source": [
    "###### 5. min() and max() functions:\n",
    "These functions return min and max values according to default naturalsorting\n",
    "order."
   ]
  },
  {
   "cell_type": "code",
   "execution_count": 19,
   "id": "d88277a8",
   "metadata": {},
   "outputs": [
    {
     "name": "stdout",
     "output_type": "stream",
     "text": [
      "10\n",
      "40\n"
     ]
    }
   ],
   "source": [
    "t = (40,10,30,20)\n",
    "print(min(t))\n",
    "print(max(t))"
   ]
  },
  {
   "cell_type": "markdown",
   "id": "72f9b750",
   "metadata": {},
   "source": [
    "###### 6. cmp():\n",
    "- It compares the elements of both tuples.\n",
    "- If both tuples are equal then returns 0\n",
    "- If the first tuple is less than second tuple then it returns -1\n",
    "- If the first tuple is greater than second tuple then it returns +1"
   ]
  },
  {
   "cell_type": "code",
   "execution_count": 20,
   "id": "9f26ef3b",
   "metadata": {},
   "outputs": [],
   "source": [
    "t1=(10,20,30)\n",
    "t2=(40,50,60)\n",
    "t3=(10,20,30)"
   ]
  },
  {
   "cell_type": "code",
   "execution_count": 22,
   "id": "5dc1456c",
   "metadata": {},
   "outputs": [
    {
     "ename": "NameError",
     "evalue": "name 'cmp' is not defined",
     "output_type": "error",
     "traceback": [
      "\u001b[1;31m---------------------------------------------------------------------------\u001b[0m",
      "\u001b[1;31mNameError\u001b[0m                                 Traceback (most recent call last)",
      "Cell \u001b[1;32mIn[22], line 1\u001b[0m\n\u001b[1;32m----> 1\u001b[0m \u001b[38;5;28mprint\u001b[39m(\u001b[43mcmp\u001b[49m(t1,t2))\n",
      "\u001b[1;31mNameError\u001b[0m: name 'cmp' is not defined"
     ]
    }
   ],
   "source": [
    "print(cmp(t1,t2))"
   ]
  },
  {
   "cell_type": "markdown",
   "id": "5be08035",
   "metadata": {},
   "source": [
    "###### Note:\n",
    "cmp() function is available only in Python2 but not in Python 3"
   ]
  },
  {
   "cell_type": "markdown",
   "id": "f0561d31",
   "metadata": {},
   "source": [
    "#### Tuple Packing and Unpacking:\n",
    "- We can create a tuple by packing a group of variables.\n",
    "```python\n",
    "a=10\n",
    "b=20\n",
    "c=30\n",
    "d=40\n",
    "t=a,b,c,d\n",
    "print(t) ............(10, 20, 30, 40)\n",
    "```\n",
    "Here a,b,c,d are packed into a tuple t. This is nothing but tuple packing.\n",
    "- Tuple unpacking is the reverse process of tuple packing\n",
    "- We can unpack a tuple and assign its values to different variables.\n",
    "```python\n",
    "t=(10,20,30,40)\n",
    "a,b,c,d=t\n",
    "print(\"a=\",a,\"b=\",b,\"c=\",c,\"d=\",d)................... a= 10 b= 20 c= 30 d= 40\n",
    "```\n",
    "##### Note:\n",
    "At the time of tuple unpacking the number of variables and number of values\n",
    "should be same. ,otherwise we will get ValueError.\n",
    "```python\n",
    "t=(10,20,30,40)\n",
    "a,b,c=t ....................ValueError: too many values to unpack (expected 3)\n",
    "```"
   ]
  },
  {
   "cell_type": "markdown",
   "id": "249844e2",
   "metadata": {},
   "source": [
    "#### Tuple Comprehension:\n",
    "Tuple Comprehension is not supported by Python."
   ]
  },
  {
   "cell_type": "code",
   "execution_count": 24,
   "id": "9089cc04",
   "metadata": {},
   "outputs": [
    {
     "name": "stdout",
     "output_type": "stream",
     "text": [
      "<class 'generator'>\n",
      "1\n",
      "4\n",
      "9\n",
      "16\n",
      "25\n"
     ]
    }
   ],
   "source": [
    "t= ( x**2 for x in range(1,6))\n",
    "print(type(t))\n",
    "for x in t:\n",
    "    print(x)"
   ]
  },
  {
   "cell_type": "code",
   "execution_count": 25,
   "id": "9554ff65",
   "metadata": {},
   "outputs": [
    {
     "name": "stdout",
     "output_type": "stream",
     "text": [
      "Enter Tuple of Numbers:10,20,30,40\n",
      "The Sum= 100\n",
      "The Average= 25.0\n"
     ]
    }
   ],
   "source": [
    "# Write a program to take a tuple of numbers from the keyboard and print its sum and average?\n",
    "t=eval(input(\"Enter Tuple of Numbers:\"))\n",
    "l=len(t)\n",
    "sum=0\n",
    "for x in t:\n",
    "    sum=sum+x\n",
    "print(\"The Sum=\",sum)\n",
    "print(\"The Average=\",sum/l)"
   ]
  },
  {
   "cell_type": "markdown",
   "id": "0a53b8f8",
   "metadata": {},
   "source": [
    "#### Differences between List and Tuple:\n",
    "- List and Tuple are exactly same except small difference: List objects are mutable whereas Tuple objects are immutable.\n",
    "- In both cases insertion order is preserved, duplicate objects are allowed, heterogenous objects are allowed, index and slicing are supported"
   ]
  },
  {
   "cell_type": "code",
   "execution_count": null,
   "id": "00ed5adf",
   "metadata": {},
   "outputs": [],
   "source": []
  },
  {
   "cell_type": "markdown",
   "id": "c122eec9",
   "metadata": {},
   "source": [
    "#### Inserting elements in a tuple\n",
    "In Python, tuples are immutable i.e. once created we cannot change its contents. But\n",
    "sometimes we want to modify the existing tuple; in that case we need to create a new tuple\n",
    "with updated elements only from the existing tuple.\n",
    "###### Append an element in Tuple at end\n",
    "- Suppose we have a tuple i.e.\n",
    "```python\n",
    "# Create a tuple\n",
    "tupleObj = (12 , 34, 45, 22, 33 )\n",
    "```\n",
    "- Now to append an element in this tuple, we need to create a copy of existing tuple and then add new element to it using + operator i.e.\n",
    "```python\n",
    "# Append 19 at the end of tuple\n",
    "tupleObj = tupleObj + (19 ,)\n",
    "```\n",
    "- We will assign the new tuple back to original reference, hence it will give an effect that new element is added to existing tuple.\n",
    "- Contents of tuple will be now, (12, 34, 45, 22, 33, 19)\n",
    "- A new Element is appended at the end of tuple."
   ]
  },
  {
   "cell_type": "code",
   "execution_count": 26,
   "id": "81f10ab8",
   "metadata": {},
   "outputs": [
    {
     "name": "stdout",
     "output_type": "stream",
     "text": [
      "enter a tuple values12,23,34\n",
      "t= (12, 23, 34)\n",
      "id(t)= 1666488672960\n",
      "enter new tuple to append12.3,45,67,\n",
      "t1= (12.3, 45, 67)\n",
      "id(t1)= 1666488836160\n",
      "t= (12, 23, 34, 12.3, 45, 67)\n",
      "id(t)= 1666488658496\n"
     ]
    }
   ],
   "source": [
    "t=eval(input(\"enter a tuple values\"))\n",
    "print(\"t=\",t)\n",
    "print(\"id(t)=\",id(t))\n",
    "t1=eval(input(\"enter new tuple to append\"))\n",
    "print(\"t1=\",t1)\n",
    "print(\"id(t1)=\",id(t1))\n",
    "t=t+t1\n",
    "print(\"t=\",t)\n",
    "print(\"id(t)=\",id(t))"
   ]
  },
  {
   "cell_type": "markdown",
   "id": "c5e75484",
   "metadata": {},
   "source": [
    "#### Insert an element at specific position in tuple\n",
    "To insert an element at a specific index in the existing tuple we need to create a new\n",
    "tuple by slicing the existing tuple and copying contents from it.\n",
    "- Suppose we have a tuple i.e\n",
    "```python\n",
    "# Create a tuple \n",
    "tupleObj = (12 , 34, 45, 22, 33 )\n",
    "```\n",
    "- As indexing starts from 0 in tuple, so to insert an element at index n in this tuple, we will create two sliced copies of existing tuple from (0 to n) and (n to end) i.e.\n",
    "```python\n",
    "# Sliced copy containing elements from 0 to n-1\n",
    "tupleObj[ : n]\n",
    "# Sliced copy containing elements from n to end\n",
    "tupleObj[n : ]\n",
    "```\n",
    "- Now join these two sliced copies with new elements in between i.e.\n",
    "```python\n",
    "n = 2\n",
    "# Insert 19,20 in tuple at index 2\n",
    "tupleObj = tupleObj[ : n ] + (19 ,20) + tupleObj[n : ]\n",
    "```\n",
    "- A new Element is inserted at index n. (12, 34, 19, 20,45, 22, 33)"
   ]
  },
  {
   "cell_type": "code",
   "execution_count": 28,
   "id": "29d1204d",
   "metadata": {},
   "outputs": [
    {
     "name": "stdout",
     "output_type": "stream",
     "text": [
      "enter a tuple values11,26\n",
      "t= (11, 26)\n",
      "id(t)= 1666488499008\n",
      "enter a new tuple value to insert11,26\n",
      "new= (11, 26)\n",
      "enter position to insert a new elements:2\n",
      "t= (11, 26, 11, 26)\n",
      "id(t)= 1666488311280\n"
     ]
    }
   ],
   "source": [
    "t=eval(input(\"enter a tuple values\"))\n",
    "print(\"t=\",t)\n",
    "print(\"id(t)=\",id(t))\n",
    "new=eval(input(\"enter a new tuple value to insert\"))\n",
    "print(\"new=\",new)\n",
    "n=int(input(\"enter position to insert a new elements:\"))\n",
    "t=t[0:n]+new+t[n:]\n",
    "print(\"t=\",t)\n",
    "print(\"id(t)=\",id(t))"
   ]
  },
  {
   "cell_type": "markdown",
   "id": "239b7384",
   "metadata": {},
   "source": [
    "#### Delete an element at specific index in tuple\n",
    "- Suppose we have a tuple i.e.\n",
    "```python\n",
    "# Create a tuple\n",
    "tupleObj = (12 , 34, 45, 22, 33 )\n",
    "```\n",
    "- To delete the element at index n in tuple we will use the same slicing logic as above, but we will slice the tuple from from (0 to n-1) and (n+1 to end) i.e.\n",
    "```python\n",
    "# Sliced copy containing elements from 0 to n-1\n",
    "tupleObj[ : n]\n",
    "# Sliced copy containing elements from n to end\n",
    "tupleObj[n + 1 : ]\n",
    "```\n",
    "- Delete the element at index 2, the above sliced copies contains existing element at index n. Now join these two sliced copies i.e\n",
    "```python\n",
    "tupleObj = tupleObj[ : n ] + tupleObj[n+1 : ]\n",
    "```\n",
    "- new tuple after deleting element at index 2 is : (12, 34, 22, 33)"
   ]
  },
  {
   "cell_type": "code",
   "execution_count": 30,
   "id": "90cf1763",
   "metadata": {},
   "outputs": [
    {
     "name": "stdout",
     "output_type": "stream",
     "text": [
      "enter a tuple values11,26,11,26\n",
      "t= (11, 26, 11, 26)\n",
      "id(t)= 1666488549600\n",
      "enter position to delete an element:2\n",
      "t= (11, 26, 26)\n",
      "id(t)= 1666488543104\n"
     ]
    }
   ],
   "source": [
    "t=eval(input(\"enter a tuple values\"))\n",
    "print(\"t=\",t)\n",
    "print(\"id(t)=\",id(t))\n",
    "n=int(input(\"enter position to delete an element:\"))\n",
    "t=t[:n]+t[n+1:]\n",
    "print(\"t=\",t)\n",
    "print(\"id(t)=\",id(t))"
   ]
  },
  {
   "cell_type": "markdown",
   "id": "672d8d25",
   "metadata": {},
   "source": [
    "##  Set Data Structure\n",
    "- If we want to represent a group of unique values as a single entity then we should go for set.\n",
    "- Duplicates are not allowed.\n",
    "- Insertion order is not preserved. But we can sort the elements.\n",
    "- Indexing and slicing not allowed for the set.\n",
    "- Heterogeneous elements are allowed.\n",
    "- Set objects are mutable i.e once we creates set object we can perform any changes in that object based on our requirement.\n",
    "- We can represent set elements within curly braces and with comma separation\n",
    "- We can apply mathematical operations like union,intersection,difference etc on set objects."
   ]
  },
  {
   "cell_type": "code",
   "execution_count": 65,
   "id": "18278b10",
   "metadata": {},
   "outputs": [
    {
     "name": "stdout",
     "output_type": "stream",
     "text": [
      "(10, 20, 30, 40)\n"
     ]
    }
   ],
   "source": [
    "print(t)"
   ]
  },
  {
   "cell_type": "code",
   "execution_count": 66,
   "id": "123737f4",
   "metadata": {},
   "outputs": [],
   "source": [
    "t=10,"
   ]
  },
  {
   "cell_type": "code",
   "execution_count": 67,
   "id": "83309d1f",
   "metadata": {},
   "outputs": [
    {
     "data": {
      "text/plain": [
       "tuple"
      ]
     },
     "execution_count": 67,
     "metadata": {},
     "output_type": "execute_result"
    }
   ],
   "source": [
    "type(t)"
   ]
  },
  {
   "cell_type": "code",
   "execution_count": 68,
   "id": "39b95a5c",
   "metadata": {},
   "outputs": [
    {
     "data": {
      "text/plain": [
       "(10,)"
      ]
     },
     "execution_count": 68,
     "metadata": {},
     "output_type": "execute_result"
    }
   ],
   "source": [
    "t"
   ]
  },
  {
   "cell_type": "code",
   "execution_count": 72,
   "id": "240b7307",
   "metadata": {},
   "outputs": [
    {
     "data": {
      "text/plain": [
       "1464212730832"
      ]
     },
     "execution_count": 72,
     "metadata": {},
     "output_type": "execute_result"
    }
   ],
   "source": [
    "t = 10,20,30,40\n",
    "id(t)"
   ]
  },
  {
   "cell_type": "code",
   "execution_count": 73,
   "id": "c429458d",
   "metadata": {},
   "outputs": [
    {
     "ename": "TypeError",
     "evalue": "'tuple' object does not support item assignment",
     "output_type": "error",
     "traceback": [
      "\u001b[1;31m---------------------------------------------------------------------------\u001b[0m",
      "\u001b[1;31mTypeError\u001b[0m                                 Traceback (most recent call last)",
      "Cell \u001b[1;32mIn[73], line 1\u001b[0m\n\u001b[1;32m----> 1\u001b[0m t[\u001b[38;5;241m1\u001b[39m]\u001b[38;5;241m=\u001b[39m\u001b[38;5;241m1\u001b[39m\n",
      "\u001b[1;31mTypeError\u001b[0m: 'tuple' object does not support item assignment"
     ]
    }
   ],
   "source": [
    "t[1]=1"
   ]
  },
  {
   "cell_type": "code",
   "execution_count": 74,
   "id": "cf0d680b",
   "metadata": {},
   "outputs": [
    {
     "data": {
      "text/plain": [
       "4"
      ]
     },
     "execution_count": 74,
     "metadata": {},
     "output_type": "execute_result"
    }
   ],
   "source": [
    "len(t)"
   ]
  },
  {
   "cell_type": "code",
   "execution_count": 75,
   "id": "85284be3",
   "metadata": {},
   "outputs": [
    {
     "data": {
      "text/plain": [
       "1464212730992"
      ]
     },
     "execution_count": 75,
     "metadata": {},
     "output_type": "execute_result"
    }
   ],
   "source": [
    "t = 10,20,30,40\n",
    "id(t)"
   ]
  },
  {
   "cell_type": "code",
   "execution_count": 76,
   "id": "623e3283",
   "metadata": {},
   "outputs": [
    {
     "name": "stdout",
     "output_type": "stream",
     "text": [
      "{}\n"
     ]
    },
    {
     "data": {
      "text/plain": [
       "dict"
      ]
     },
     "execution_count": 76,
     "metadata": {},
     "output_type": "execute_result"
    }
   ],
   "source": [
    "s={}\n",
    "print(s)\n",
    "type(s)"
   ]
  },
  {
   "cell_type": "code",
   "execution_count": 77,
   "id": "459ac0e1",
   "metadata": {},
   "outputs": [],
   "source": [
    "s=set()"
   ]
  },
  {
   "cell_type": "code",
   "execution_count": 78,
   "id": "72a23933",
   "metadata": {},
   "outputs": [
    {
     "data": {
      "text/plain": [
       "set"
      ]
     },
     "execution_count": 78,
     "metadata": {},
     "output_type": "execute_result"
    }
   ],
   "source": [
    "type(s)"
   ]
  },
  {
   "cell_type": "code",
   "execution_count": 79,
   "id": "6079091c",
   "metadata": {},
   "outputs": [],
   "source": [
    "s = {10,20,30}"
   ]
  },
  {
   "cell_type": "code",
   "execution_count": 80,
   "id": "a61c0569",
   "metadata": {},
   "outputs": [
    {
     "data": {
      "text/plain": [
       "{10, 20, 30}"
      ]
     },
     "execution_count": 80,
     "metadata": {},
     "output_type": "execute_result"
    }
   ],
   "source": [
    "s"
   ]
  },
  {
   "cell_type": "code",
   "execution_count": 81,
   "id": "4392d393",
   "metadata": {},
   "outputs": [],
   "source": [
    "s.add(40)"
   ]
  },
  {
   "cell_type": "code",
   "execution_count": 82,
   "id": "3a912caf",
   "metadata": {},
   "outputs": [
    {
     "data": {
      "text/plain": [
       "{10, 20, 30, 40}"
      ]
     },
     "execution_count": 82,
     "metadata": {},
     "output_type": "execute_result"
    }
   ],
   "source": [
    "s"
   ]
  },
  {
   "cell_type": "code",
   "execution_count": 88,
   "id": "1474bb0e",
   "metadata": {},
   "outputs": [],
   "source": [
    "l=[40,50,60,10]\n",
    "s.update(l)"
   ]
  },
  {
   "cell_type": "code",
   "execution_count": 89,
   "id": "62f24b5e",
   "metadata": {},
   "outputs": [
    {
     "data": {
      "text/plain": [
       "{0, 1, 2, 3, 4, 10, 20, 30, 40, 50, 60}"
      ]
     },
     "execution_count": 89,
     "metadata": {},
     "output_type": "execute_result"
    }
   ],
   "source": [
    "s"
   ]
  },
  {
   "cell_type": "code",
   "execution_count": 90,
   "id": "977853c5",
   "metadata": {},
   "outputs": [],
   "source": [
    "s.discard(10)"
   ]
  },
  {
   "cell_type": "code",
   "execution_count": 91,
   "id": "7f942193",
   "metadata": {},
   "outputs": [
    {
     "data": {
      "text/plain": [
       "{0, 1, 2, 3, 4, 20, 30, 40, 50, 60}"
      ]
     },
     "execution_count": 91,
     "metadata": {},
     "output_type": "execute_result"
    }
   ],
   "source": [
    "s"
   ]
  },
  {
   "cell_type": "code",
   "execution_count": 92,
   "id": "452c1d73",
   "metadata": {},
   "outputs": [
    {
     "name": "stdout",
     "output_type": "stream",
     "text": [
      "{40, 10, 50, 20, 60, 30}\n",
      "{40, 10, 50, 20, 60, 30}\n"
     ]
    }
   ],
   "source": [
    "x={10,20,30,40}\n",
    "y={30,40,50,60}\n",
    "print(x.union(y))\n",
    "print(x|y)"
   ]
  },
  {
   "cell_type": "code",
   "execution_count": 93,
   "id": "4040ac4f",
   "metadata": {},
   "outputs": [
    {
     "name": "stdout",
     "output_type": "stream",
     "text": [
      "{40, 30}\n"
     ]
    }
   ],
   "source": [
    "print(x.intersection(y))"
   ]
  },
  {
   "cell_type": "code",
   "execution_count": 94,
   "id": "a491246f",
   "metadata": {},
   "outputs": [
    {
     "name": "stdout",
     "output_type": "stream",
     "text": [
      "{40, 30}\n"
     ]
    }
   ],
   "source": [
    "print(x&y)"
   ]
  },
  {
   "cell_type": "code",
   "execution_count": 95,
   "id": "ef55b3a0",
   "metadata": {},
   "outputs": [
    {
     "name": "stdout",
     "output_type": "stream",
     "text": [
      "{10, 20}\n"
     ]
    }
   ],
   "source": [
    "print(x-y)"
   ]
  },
  {
   "cell_type": "code",
   "execution_count": 96,
   "id": "fe90131f",
   "metadata": {},
   "outputs": [
    {
     "name": "stdout",
     "output_type": "stream",
     "text": [
      "{50, 60}\n"
     ]
    }
   ],
   "source": [
    "print(y-x)"
   ]
  },
  {
   "cell_type": "code",
   "execution_count": 97,
   "id": "ce1a74ba",
   "metadata": {},
   "outputs": [
    {
     "name": "stdout",
     "output_type": "stream",
     "text": [
      "{10, 50, 20, 60}\n"
     ]
    }
   ],
   "source": [
    "print(x^y)"
   ]
  },
  {
   "cell_type": "markdown",
   "id": "efdce5d0",
   "metadata": {},
   "source": [
    "## Dictionary"
   ]
  },
  {
   "cell_type": "markdown",
   "id": "f3df448e",
   "metadata": {},
   "source": [
    "![Python logo](data:image/png;base64,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)"
   ]
  },
  {
   "cell_type": "markdown",
   "id": "03b15afa",
   "metadata": {},
   "source": [
    "- We can use List, Tuple and Set to represent a group of individual objects as a single entity.\n",
    "- If we want to represent a group of objects as key-value pairs then we should go for Dictionary.\n",
    " \n",
    "- Duplicate keys are not allowed but values can be duplicated.\n",
    "- Heterogeneous objects are allowed for both key and values.\n",
    "- insertion order is not preserved\n",
    "- Dictionaries are mutable\n",
    "- Dictionaries are dynamic\n",
    "- indexing and slicing concepts are not applicable\n",
    "- ***Note:*** In C++ and Java Dictionaries are known as \"Map\" where as in Perl and Ruby it is known as \"Hash\""
   ]
  },
  {
   "cell_type": "code",
   "execution_count": 98,
   "id": "7e3f1358",
   "metadata": {},
   "outputs": [],
   "source": [
    "d={}"
   ]
  },
  {
   "cell_type": "code",
   "execution_count": 99,
   "id": "d6f2a3a9",
   "metadata": {},
   "outputs": [],
   "source": [
    "d[100]=\"sai\"\n",
    "d[200]=\"jaya\""
   ]
  },
  {
   "cell_type": "code",
   "execution_count": 100,
   "id": "bdcd6f46",
   "metadata": {},
   "outputs": [],
   "source": [
    "d[\"300\"]=\"shashi\""
   ]
  },
  {
   "cell_type": "code",
   "execution_count": 101,
   "id": "ea118250",
   "metadata": {},
   "outputs": [
    {
     "data": {
      "text/plain": [
       "{100: 'sai', 200: 'jaya', '300': 'shashi'}"
      ]
     },
     "execution_count": 101,
     "metadata": {},
     "output_type": "execute_result"
    }
   ],
   "source": [
    "d"
   ]
  },
  {
   "cell_type": "code",
   "execution_count": 102,
   "id": "d8de064c",
   "metadata": {},
   "outputs": [
    {
     "data": {
      "text/plain": [
       "'sai'"
      ]
     },
     "execution_count": 102,
     "metadata": {},
     "output_type": "execute_result"
    }
   ],
   "source": [
    "d[100]"
   ]
  },
  {
   "cell_type": "code",
   "execution_count": 105,
   "id": "eb103277",
   "metadata": {},
   "outputs": [
    {
     "ename": "KeyError",
     "evalue": "300",
     "output_type": "error",
     "traceback": [
      "\u001b[1;31m---------------------------------------------------------------------------\u001b[0m",
      "\u001b[1;31mKeyError\u001b[0m                                  Traceback (most recent call last)",
      "Cell \u001b[1;32mIn[105], line 1\u001b[0m\n\u001b[1;32m----> 1\u001b[0m \u001b[38;5;28;01mdel\u001b[39;00m d[\u001b[38;5;241m300\u001b[39m]\n",
      "\u001b[1;31mKeyError\u001b[0m: 300"
     ]
    }
   ],
   "source": [
    "del d[300]"
   ]
  },
  {
   "cell_type": "code",
   "execution_count": 106,
   "id": "a64572c2",
   "metadata": {},
   "outputs": [
    {
     "data": {
      "text/plain": [
       "dict_keys([100, 200, '300'])"
      ]
     },
     "execution_count": 106,
     "metadata": {},
     "output_type": "execute_result"
    }
   ],
   "source": [
    "d.keys()"
   ]
  },
  {
   "cell_type": "code",
   "execution_count": 1,
   "id": "414556cc",
   "metadata": {},
   "outputs": [
    {
     "name": "stdout",
     "output_type": "stream",
     "text": [
      "----------------------------------- THE END -----------------------------------\n"
     ]
    }
   ],
   "source": [
    "print(\"-------\"*5,'THE END',\"-------\"*5)"
   ]
  },
  {
   "cell_type": "markdown",
   "id": "263a4256",
   "metadata": {},
   "source": [
    "Author: [Moguloju_Sai](https://linktr.ee/Moguloju_Sai) "
   ]
  }
 ],
 "metadata": {
  "kernelspec": {
   "display_name": "Python 3 (ipykernel)",
   "language": "python",
   "name": "python3"
  },
  "language_info": {
   "codemirror_mode": {
    "name": "ipython",
    "version": 3
   },
   "file_extension": ".py",
   "mimetype": "text/x-python",
   "name": "python",
   "nbconvert_exporter": "python",
   "pygments_lexer": "ipython3",
   "version": "3.10.9"
  }
 },
 "nbformat": 4,
 "nbformat_minor": 5
}
