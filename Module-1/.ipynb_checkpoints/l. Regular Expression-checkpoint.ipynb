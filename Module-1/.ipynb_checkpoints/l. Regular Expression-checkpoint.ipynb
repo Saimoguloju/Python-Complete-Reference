{
 "cells": [
  {
   "cell_type": "markdown",
   "id": "ca75a25c",
   "metadata": {},
   "source": [
    "## Python RegEx "
   ]
  },
  {
   "cell_type": "markdown",
   "id": "76b33c44",
   "metadata": {},
   "source": [
    "![Python logo](data:image/png;base64,iVBORw0KGgoAAAANSUhEUgAAARsAAACyCAMAAABFl5uBAAAAz1BMVEX///8AAAB3d3fLy8u3t7dNesjg5/X7+/v39/cAVLr8/Pzy8vLt7e3v7+/4+Pje3t7m5ubX19fh4eGtra3Dw8O4uLjR0dGTk5NjY2NSUlLAwMBeXl5ZWVmoqKjNzc2enp6FhYV9fX28yeaSqNhFRUVTU1OampogX75tbW1JSUmNjY18fHxxcXFkh8s3Nzc9PT0nJycbGxsvLy8VFRUjIyMXFxd7mdPU3fDN1uwzasKJotbr7/ipu+G2xeVDcsSluOBUfslwkNANWbycqL9PWm1ifof4AAAcjElEQVR4nO19C3ubOLD2CGjhcBX3u8Gt7QB2jeNkk6Zp0nTP9/9/0ycBjq84JiFt9jx+d5/akUFIr0ajkTQawGbOOAwbGDjjMJgzN604c9OOMzftOHPTjjM37Thz044zN+04c9OOMzftOHPTjv8wN4Gw/o73f+aev8mvfMB/j5vBipJMHfLNVzHbu0yMBJd+upKcvvJJ3bl5bStIMnCDvVRWOHDpUcwkSbEIKcIlaCCZAmBTcy9dsLAUU65wrJJ/hQFDfgYJsJFex68rcTdu5EQHfy9VmpxwK5uHhsnuP1/r8PgKIXAoTcAPESlKNAnMKdJtBuKpl6aElSRFpPWc0TLFU8iulJkRu10fsSpbF27UBRuTslE0HZx8qKCHDoib1x0SrZxckbDkF47RdcsEc6aJjDm59AV7CElgAMTOQI0jCExSFyUAY3ZAiRD4PJfwmZ5ySIiUMcAYIx2nEDFYjhyAuYEI3Rn2PTnlbJ9lpMErxaYbNxzRb3xoamCGIwiHrBn5kC7tKNf1fGK7pNNr01BI8wnOSg7k1FK9qLmVp18mixxPuDlrI9a1r52UtcEDPC5VNCVdK8pl30FQFoysR9cwn5oHC8GCacNQi6amVUjTKDajIFYXVuAlwYiwmUQ2uY+dsznMtHnGxbqxdP4ANzHpEwLictUjdUCxzLALIQNRSyCfmdw1uUJHsmmnE30BEfhxanrPStJXZD11nNizkc0NIbIQyxgyeKIz0gHRK3IdygkSx5AkjIUwCtqKIdQ6SpSASm0FzIMibl9VCa9NRyvj9BpuoRM3uNRnsgeZmecjUh/sR7k6Zy2NEbJYi2kz6x6RqTDTJ3DNRb5nzZ61r+GPFVeDiHUVTtNBcxVbiYYwyWE4EisJ4XjSn3RtJgqBNix0u9zXTh0hs9FrRw6KbrpYcw2IAVsyj3lMWwuLRixBavATR6KtKZJUDTSZJQpINwhRh/vFCeU6rGy6QUztt9z+nvaNkb72TjbNeyzHa/GO3ITXr2/7oN3skcrkYDr/lu5zEH/OLpbUfvKZBN5OillSjeushuqZz0Ev6MaNlIgvX3QYchkeTMddjb9UkBxJAU4CzZB1kiBEQHqgxixsmghkHPCV15ZyC924iaa7yo2rEtyVTGC7beSN2WIvjRIdmPz+xUeAL6M4Kp1h7MsoI2MfmWAlQCwFyTWBiX1qgM1ea9DsoCM3ctWp18LD59Sm4z1SQZroZNO27FxLjx1LmlkQJ1ZlxbMumWsE5XxgeER2FLPVntktMcxZIikjubDMmDQNnsGIpHMBTSRfJCn7C3JjlIXNeNKsxHE4zWn/Zs2YiLX7TyxmZWVijVqkQFqk7KxUMjyS56bvErNHZwr6aHJ/Kft0ijg6rRBDCRiV6BgbF5ouU9tymlMFM5iTLKgUm39F3wx82UCG5mqTQh+pdJgdMh61YELSy3UqDLNW7ZFgCAcQSmOF0SbOlFQhKWnFYgdKiWrX8eA0XVY811zd/tKHRbSFbn3KAyMCZcw4KY4gJJ3A16whSY8cOWJIJ49Ll2kRnIkDtgDY0wWXmI2xCLwrU8nTr5RBSHqq5KXSSWXQ+1EmJ6AbNwsQSTU0tlpg4kmvDurZCpuARmcHjqO3WRnmvir+6OjGDXr9g4TeRf4Zn7+8T77/vTXRfXy5eZ98/y9w8/D7ffLtk5v7Du13c9/bY+Hnt/7y2kSf3NzenX7txefeHgtfP/WX1yb+Fjd3PXJzc9FfXpvok5vvHcp4cdvbY+HTY49Eb6BPbh5O50a4eOO4+/XbM55+Pzyu/+pRL/fJzdfTlcjtxa83Per+7vMaKmz88bs/Y6dPbr49PZx66c+nt40t7SbNlx9vyngTr+Xmy//s4/f9v/uJj2QGKd7tpl7cf9pN+reL0vjVKnaf+xvQO3IjDanDNplFfztVl958OdFwJRexM5q7vkpJlgjtzFwTJq2WeX609pz7x+bOnfTVnR3QkRsXhZ43swH+PfWOh69EEZ3S10ilDMbzPJQ2CXPEmDvOBerSu0R0bfX39wM54KFBZRQgR7PdrXeh9K7R+NRC1+jIDdM0x31lyhjp4S1DzCWTSeJSFP9LBo7fpwiZ+ljLCGoKFKN19Qxt/aCCpv++jfe3nhJkkX8vgKs+a8gbd7ob6aegIzfeVb0A9fmJ/rtA0aGLdLSB/0eu/HSSKvlUTyNW3HjXTbpY0HyuVlwoyAV4ut3rNABD6iUAd+AtVinmnNx5uRI+AXVbJ+nIzWhef95SM6JA1+jQykOATE2iEAhLGpGwu5MmT0/b3Cya7TvpGo0KM0XPYoRmpJowRXtbwl5VGhHmq9XVGVqmJmF2VcjFvgvTMXTkZt4U+DvhBqNpcLglVgt44hIFRMbhQt354SCeauna5cb0qnXWAVrV+KrazNEoRdvwUb3j98yNWS0RFmjlgLPspnA6crPqRN9/0GaS4eroaldES0VYvKMdUbDMwQEqObMGBz+25Wa5ve0rINQw3Fww2hrDSO5W2RSm3F6VL56futyj8yg6cnO13lPU0ZQ+94h6m6L11eqw0j773FyuFFPaJKy4GW3XUEaNVEAjMDba8DmqVBJq9Exebt6IEVpZBe/bp9A695z6juHD2rhCgta1w5dobuom2nehUjWdwGDQcPWIpkCU+q3cVs50l03V0XL1m7RA81gfoNUPm+LBIfS8MTFfQBd05eb5arYue47adAiHrp83/EmjU1YGrVJmoWWzAyM2jxhuq3nSpVbDzQQVUv3ZaGPxCiXVJbU6SdHzsM1FCC3X20IxSrvs6nXlJl19m9ekBNuisN5iYhFal2NRVyxAg4PXgoOeKVapjgqyq/n2CBitW4X0JkSrL6wkKUSVl49E5SXI/pmvLZrFP9nsCkXPbRSgdQd7Gd24WVsI7NqCYaofGqzkfIDQptFVu4XEVcHU1bXPEu6sh1ngKTdceLXNebrRP/n8OrYosdP6EYOmo1fc7N1Jn7oqlDi+qu88DV25Wfm+5GTykM1m0yKvCijOvArTplU0hNaiLK4KZ25fu9qEYzeoId2vHnGHmzLmonI9KHlXzXdc63qvkTmlabh0t+eOVwkz1MnPpRs3KmpciXXUGIFEU6T71+lbomuhxrMtQ4fmGBy62tACcnOxhNZuwSny19Qoz+1TG3siapxXcHOHsjsaZk2WAurmadzR/2ZVLm/dNgeMdyIImxuzSU2JEB7s7CkqN520jBWRzxXhw+cxrL7gedzRaS/imwtJx6y/iLvcXDWPlVA378Nu3OCmXPJaVxDTYnfuT4bNVZKgxyLp8LTLED14wBoSop2xWltVfcWNft3kJiqV8BgbNYxIznxFBWaQ29yhNtyodVeTQrSafaDD3nBteB03xbrtSNqOQxZXK+Uyz/MlolJlIN9MFyhXNLTrjkY634haxnHBRKVUp9STSrWuqUgmUgXnkp9Hl7UK2+SmmjiMUZyQsXqwEiCp4YZDfmEmHnlCo2X+DDfpfCMx3254MP4ZDrPxfHl1dXVZDqnITAhFJW38crfHW+vh7rIuOLuSLZTSf+Xn36+yumdsckMaSaaGL7qaqITN2uYTV5I4re5bn/R4X25k9DqHXdy4V4h7+gZrFQy8sm/s1fh0WY/axs7vhM5NIykhalzVaxU/b4z25fOcgdy8YSax+1P3o+g6Tr3Wl/pkxKuxzEVUFvZ+l5aXbbfKjX/LBLkq7DvhCvOrbp6cXe1iilFP3rC70Ot552q4JjpkdxXTyEabhlMbiI5BO87bOMu7mMQVOnLjcCxrv82djv98++XX168/9tdJZYtlWWttAmHW2llK1z3mZcG9V+mdO+2nkTsbqTnZS+H1+1N3T1+7brXef//17e7u6fePrz8fHo4X8evRJeajXhhffx4vxb+n9qzXcyN8/vX47XRPEeHLj8dPNz9vTzyDeHNoI+EZT8ee2753VeNkj4a37Ws+3J22w6p++fZ486WLy037BhTFUW5+fj2as/iHuIH7xxP2tT/fPN587+Z9fnxLS/x0jJuH47u+1ebeSXjrfrj6+ELvhu/fPj10PswLP49xvtrKOozb464Up28Kv9lXQDjuZXT77dNRzdGG78e2iT8fddS6P+7Gdbozwdv9KI55awk/7l7FDKngBYgVyHdxBy/1mk8/v2wC7h82//x2shNKDz4mP1p13+3dcbV4NNd/L2rcP13s4gWHuM9fN/Ht4fHH5t+nO/70wI160WIw/LzrwXHt4dPT2zK4vXut10kfvkktTfH16dUH0Tbw+Y0eXsC/OoM+uDmsGn89vTljCv6tnoHweLI32Q568Wk75Atwe3Sc7ZL5Wzvm02vJ7YWbQ0ZsH7qmwpsdZL+9cqjsh5sDVvqX3nxZT3PeOYKnv8rNAX++g05nr8LXt558OHV6u4f34uaxx7Mcfwvv1adO9pX8wOiFm5s9XXzf4djHh8U7jeG/Xj9Z+Dh4mZvt7ba0XodVNr1uHvbUjXrxLurmhSA/4qlBgAwQTtkv2eCGSw9dIG9zF9UWXby5371PxO9TzXQZ+OHLV1XIQFg1U3JoD84EIT0xqwiU5ql8Nm8/Y7vmRgstFiwTVBBBm8i6rAGnk9LPAllwNFBYEwKORkkDJ7D8hf5Mz81e//l6snHji06+3ragwqgJ1EOWBokiJa+FVBcBA84nOK0vC5LJAf+vSB5e0ShmuqZrhCkMuithzAE/oeIUDATSEHrBw0SbXEd6QR5BHifrRfvGzJobnhQyTUY4jbm4QJq74GIaoUdBZoTRTItmhc6kME5jHM4xo+GVr9jPvdnUj5MnvmIoTUNM/QH8KAIrZDQf4TgvHb0ckIJHuWmljo8EzmfMpWOkkmYSVnjI9htb9SCgG8psGTI5pOkscRGeLFLb8mVCDVPGs6KYIGHGJdIYDFe3CrrLaYXtfidrbkQhNPxkLKdLMzSQXkzAm9KNwgVE+BLiIE9pNI3lNbZzFlIMcb3D+nC3sxN0/+30I61iDphu7DtxEkylMGPHgPSEtKyYkWe5kSsg3eeRTLffPTAKLfFpheIDfYrPaXQXwk3g6kPsp+rIIA080FPeJbUvPE1F2HeQvKiy0idG5fwkYGiP0LTmRhj5IjZnkFmZ7TmmqQEb0XJPSl2ZgByyjJjnUq6GUuSBOZeqQBTwa9fI+3L30gLyJlzAERHqAXlcMHQLNs0LM9GF+YA+2so4dm4yfmqlRQG+paVQRgHdlS8ObMs7IC8syg0r6W4QxbY34FwNCj1iaSS0oe3aMWNZdk6EvzBicGnHVLNxuxPwzjglb/lEHNjb1Zv02tPq/vfT9jWffz91nf4QzQAS7SMCBAZROYJGpbXa2h44AtD/JBjIMLBo4oCyIuPDu860UM2aUT1PUJ9XkPjnb+IqCJ750smPHW6kTq4GDzsycn9z99q1ktOggtc5xmYLBnj50tLbrn2zHw31EOgAIv58/L3Vn25/3/3sY6XvCMx5bxE/dOZFz4FX2cW3j1++39zdbPae+1+Pn94pZMZfwyu44W8u7h5vvmzM/G+/Pt51dhzoCu21Sw37SE8LoXOYmyYeXG2VBbte+fc/H3/Cbb1Ac//969O/3369NzFk/Bl1O6hxBMlk1+3wMDa4ocED6fBARobYY6nqsSqt7giw5wV1e3Nx8+vr78cL6hrRV5mPIjUqm6F9EVoUqrBSSlVUMizRkUkQ66LjagyrplukoZk6Fg9VrUdlccP2Gy2l1J/Iy7zQvIJPxguYQZkTG1NlRqUC7nwjo193d79/fvn+5hllSsywuQ3hTNVl7JipZhb8rFATLwBurkmhGeSkMso4AY8jlo2SLoFLPFXgg13LWBmVkjueaPkIx5bDeWM2G2vRmFQnBS8fWNEwZUgFAj9S5h4xErkxgqE/lzW5aBv61twExNj0IVRG5N9gAJGOhBAuyQQqA8+JHY7Lt/J46GO0thLTznltYumaO+UspA2QkUxDCeEcRpKSpWlMJ4WMEmnXMXm8LyOVpFmB5e2OMqZl2yNyqQG6ObLsJQTXkIaxTKrDk96YZ6weKXSaOVZzhVrkEhIZ1rQCbtk2fV9zo5Su5s1i7IIXWEM5jzI5UiNIisLweN1Pwnn/QcAGRaHnWE9MXYuWhT0EawiTFCspzAelomWJokekYw+dHBiq9cr0Gg8FNjJGe7572ngsZG4SeEO8ZEIupm1tMhytjj1K7MK1iCDSY+IeZLQDhD6jz0Ar5XLcNphv6BtZB1EDgV7Jxzwv8rwA1BLkxSq6nHIg2vmbEZugMRYULtH4HNaATP7VoSvFgBWW0ZXMxFTLCKleB+3VLNlIVGKcG/th6bECvCOBblBDWuSB/A+sXlVHIBUgnbD27SZ1pmnkZ77OIz6Bm+OQ+LD3QK9dMNk++ZO+wT6ONw8ZCOC3nY47mRu8fG24+n4gbA4pSdF+FLIj3LJ1CfC/GYtM+CPxD7e56eic/CfgdNhWP86YwHQMKr/NTbhfkN6Etw37IVbFDSnnog6zy/1lKmGjdmmcdigW7NrFNRFOrdEdukyrz10QDp0r6A31gdSmUaoPPlwbdpl86ukSSWqKz9bFpytaZKYRE4u4XrzxeJnqrNNHlG27OCsmwPlInHkT8gFuVCRLjKORMS5PC4TaFVkEkYZBG46g4AJtWII9D/zLmA8T3UzJBWObTU3dGulG6rrHRgM8mqvjlIPCX8A4st3xJWTjuIgUNvRYjwbGXoRm7uvMOGYvR/4p3WHbLl5anjRWkMCkkGMkUBmNoIhivBujpydwsSYuyDyg1BDknjoiHyMBK0MYpjOHHurQrzn5nwJGauhM3dg70kATFkSkzSF0EMw5dcYiKkY4hdALWBoSRcpVQA4RU481E2d2gvhs2MXzQhsBNw39oTMzCPeMxhCbrBxYmWm802BmF5pcwszxs7laYn7sLaDEjjKDoSuz1RaSVwV4Ldl0YMb65MjZMN1PsU+MSD/MpFzgcy8UR26s+FqS2lZ1XwgwJ104swPOlLkTtsW27WKLDlU8qFS9kJks6BIxLcHRj0x/34akUKdguI6uycR2HWi65EwdyAKBiaXKuguVqlAFr7ESrx6zzLFBrlR1aserVHERw56McTYG1qgXkceYTruJ6a9QmTlBg350+2bW30TF7WpKf3RupPeS2BPw0bn5mzhz044Px41tH1qnVM3T3EK2YFqHsiL5SKedqtzghhoPovO8hsq/j7X3ElzH3JvV8aBksnDAQeA4Cj3eU78qyDNFOcW62bKLy6URlYV07WeAo1SNlu84UWigMJ6jx1PIUvAisEdYLnLdUTjXFwAnpJEsxlPk6UIul26+4JSxaZnFYJIfGHEw4+mDeAheAWEIXC7jYkTGfc4dC2BMiEa3p5mESVbzuZsvbdnnAq5gJ/kRwjfkBkmcxTDSnEzZcn1s+n9gvQZfqdkA4WTqmZwhLDNtPkBOoaRDO5Ajn77wgXFiaqgbLsgTQmFqI8XMtQNFMxYSYyHZHWaxrSlzT5s7SE9VpjAtwxvR1dAha45lxOsJGAmEqWsiIY70I+bk5nwKnLkbygwMzcjPtSh+5w1coLFHwsBiSLGx7ep4wcLSzeyJnmInT2IaoiMpx3g0XWpayhPzP0sUcwKxJSz2W5u9ilg7BTfF5kTHy4FaFplVGIzEjicxjeMwyX2cMwusF6JRgBdLSQzJQFm2d6/NeThVNaparRfDCLQ/sH7Ekn6jaCCmE0hcsDKsB0IiG6YMmprQc+gTTQWDlTX6vhSPlRhOxmA5YOx3dysmqoRYwMMEJhMIMlkPpATjWAFNSOj+TWHwpE7YECOdDx15ZmMZAh2MdgPq8DhlyL1tIh4Fe+zVl2T2CO7J+tc6NowVpJ2Lzsvdh7lJjngI9gmnvQnkMV30mpwcw4Cdtv6EI5pV0TVE71+2b/gjq5SY2hLKyTHn1COtWbkyyZ1tkg9n+30gnLlpx5mbdpy5aceZm3acuWnHmZt2nLlpx5mbdpy5aceZm3acuWnHmZt2nLlpx5mbdpy5aceZm3acuWnH3+VGVOR6F1VqPp8XQQX5peNS6mqRU3peJO95J/avcBOE8zIFGr6ZICEUZah+a4u+QGiuNL8c24Oo345Dt/BkH6HrihSr7PaaoBfRPzfq9t7RvnM971+ZGrswwC0xgEY4KSYSOPQNFPTEfDajL7nAgNHuBtlqJ4m6fXJTGWQaIntgi+Ax9BTuvOwWDv1F9M2NkXvj9UGr+BrtR1jPV6feZpuPFlaxwOMSoNpvdneihCD0D6ahr6/Wb1tq8vZpRhiingOW98wNpq9iKJtNJaFcOODtcmM/v+tCRtl6iyVYvS1nRAqU0wgBwXLzNj+SIDfJPdyzVtGbd2IMm1tH3V719yJ65sYPaC0b5VjShvd2d9/8tR5Rpyhsutzz21RMejeHuIC52nQzN6/qz8GGN+91pV9GaHVr+bG5QV55PWt20dhKQJhdbi43vRvFSfPOhHnTgZz68H7gZfpWl5uvspmgUVJ3Ka+WKwxi82bLec/HMXp977wIG++cApeeRBDnu32q0Qp8ozglKgjiipqNt3fJW0frNl7KoKeVvvHW788Q6tj7lBu+v5PSvXLz+zuMpqS25hCkQgIzAt7OIwtUV6bH9pqrHFpnOUaxxJF6yClRvUb1Tg8D6jfH1KdwjertHPLqrjAlWdjVuRBhQFpAKiv9W7vBJLXcLNgX4h53RJ/c3HwHhfR+lEmkPzn0nY5oBpFOdCYRhvhZs1pkoEG0482qN3sJRMXkbjZHEVEdRRpdktHHLfL6pS7xSjikklzryZXhM3LAQotJNkJL4OZFMadiI3IJylz7o3JThc5UlMq+qfoWPauNmj+WG31Lqd8IBIKi0IZn4ziJbSo25ItpSfRshVnr80WwcVPlLa9UB8B1egsN6wSDJAloJtIkoXf3+IrsXrnZeTFCdXDda44/ceWBG16EuX+46gW8EGS/E/rk5mG7XDEq5yht/mBfpSO733XSK6dPRJ/c3O7E2ZI17f1dTXdw8nvNT0Cf3IgXn9+Ge+DfmMPni95q07Pt9/PT23Dx+fGNOXzqEuzrJXyota2HT71FPe4DH4qbN8eN7xcfihv+3w8VlupDcQMXfybO0In4WNy88MKOP4yPxc0qpn6Pk+k3oFdueLx/eGd91lg2oFidzdpeCharP3Gyeleb6MNhDE4NQNgLeuWGYfb3BtaLdzYHXmMnr6LtNsDD7UShLY5afijmxLuhX24cWQYNrBTrgRZjCDgOSjBSMSGcBaMFm9GT2sF0EF2RBCNgbQdEO5Ojq4k01TW3mp0r3BBCkwU9JdKlgUsEhTcTDKzLMihLUQSmyQesxE7eO+pKv9xkJpsP3fgSp+4VF4HvTvEYypm1oJ0m0cHLl+BxSLGofHFe6OYQBgjYCYxZW0MjE0AdmXNAdg6joGAcxi3GdJ3LmXHuyBYiGtXXYuYySjGy2npeb9Xpk5sUAyA9CpCeKiMoxdHElyJAAbALIi+xRoSoMCIOydXZIM4qMOP4JpL0BOYgWCmM6Yons4QR+S/EhYP00CV36v8kkxmLTBo2IYfEkwUEcgaLjvFsuqJXbgbzqW6aTmrYE5kFlvUsGQpw55pLuRggJQeccxNnoNDl34DVeSO2E8eREMuWEyepFt4LNpackQOJL5Cb9VEB4KQsGFM5gdyFcCpGoWCCPITBO59+e9cxPHz5kpPg9LxheSLelZt5T5v3zt+xwd6VG7unpS2h85G5XvCx7OKPhTM37Thz044zN+0g3HA2d8Y+bI4BzJ5xGPj/A61gQq8ilOCYAAAAAElFTkSuQmCC)"
   ]
  },
  {
   "cell_type": "markdown",
   "id": "ca930d79",
   "metadata": {},
   "source": [
    "- A regular expression is a series of characters used to search or find a pattern in a string. In other words, a regular expression is a special sequence of characters that form a pattern. The regular expressions are used to perform a variety of operations like searching a substring in a string, replacing a string with another, splitting a string, etc.\n",
    "- The Python programming language provides a built-in module re to work with regular expressions. The re is a built-in module that gives us a variety of built-in methods to work with regular expressions. In Python, the regular expression is known as RegEx in short form.\n",
    "- When we want to use regular expressions, we must import the ***re*** module."
   ]
  },
  {
   "cell_type": "code",
   "execution_count": 1,
   "id": "16735fcc",
   "metadata": {},
   "outputs": [
    {
     "name": "stdout",
     "output_type": "stream",
     "text": [
      "Match found!\n"
     ]
    }
   ],
   "source": [
    "import re\n",
    "result = re.search('smart', 'www.btechsmartclass.com')\n",
    "if result:\n",
    "    print('Match found!')\n",
    "else:\n",
    "    print('Match not found!!')"
   ]
  },
  {
   "cell_type": "markdown",
   "id": "17fdf86f",
   "metadata": {},
   "source": [
    "### Creating Regular Expression\n",
    "The regular expressions are created using the following.\n",
    "1. Metacharacters\n",
    "2. Special Sequences\n",
    "3. Sets"
   ]
  },
  {
   "cell_type": "markdown",
   "id": "b873fa69",
   "metadata": {},
   "source": [
    "#### Metacharacters:\n",
    "Metacharacters are the characters with special meaning in a regular expression. The following table provides a list of \n",
    "metacharacters with their meaning. "
   ]
  },
  {
   "cell_type": "markdown",
   "id": "f6f07426",
   "metadata": {},
   "source": [
    "![python logo](data:image/jpeg;base64,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)"
   ]
  },
  {
   "cell_type": "markdown",
   "id": "1d9ffee4",
   "metadata": {},
   "source": [
    "### Built-in methods of re module:\n",
    "The re module provides the following methods to work with regular expressions.\n",
    "1. search( )\n",
    "2. findall( )\n",
    "3. sub( )\n",
    "4. split( )"
   ]
  },
  {
   "cell_type": "markdown",
   "id": "18dfb255",
   "metadata": {},
   "source": [
    "#### seach( ) in Python:\n",
    "The search( ) method of re object returns a Match object if the pattern found in the string. If there is more than one \n",
    "occurrence, it returns the first occurrence only."
   ]
  },
  {
   "cell_type": "code",
   "execution_count": 1,
   "id": "e5ab32f1",
   "metadata": {},
   "outputs": [
    {
     "name": "stdout",
     "output_type": "stream",
     "text": [
      "<re.Match object; span=(10, 17), match='program'>\n",
      "<re.Match object; span=(4, 5), match='p'>\n"
     ]
    }
   ],
   "source": [
    "import re\n",
    "print(re.search('program', 'www.pythonprogramming.com'))\n",
    "print(re.search('[pig]', 'www.pythonprogramming.com'))"
   ]
  },
  {
   "cell_type": "markdown",
   "id": "d561c459",
   "metadata": {},
   "source": [
    "There are the following methods associated with the search.\n",
    "1. span(): It returns the tuple containing the starting and end position of the match. \n",
    "2. string(): It returns a string passed into the function. \n",
    "3. group(): The part of the string is returned where the match is found. \n",
    "4. import re "
   ]
  },
  {
   "cell_type": "code",
   "execution_count": 2,
   "id": "a2f191ef",
   "metadata": {},
   "outputs": [
    {
     "name": "stdout",
     "output_type": "stream",
     "text": [
      "(0, 3)\n",
      "How\n",
      "How are you. How is everything\n"
     ]
    }
   ],
   "source": [
    "import re\n",
    "str = \"How are you. How is everything\" \n",
    "matches = re.search(\"How\", str) \n",
    "print(matches.span()) \n",
    "print(matches.group()) \n",
    "print(matches.string) "
   ]
  },
  {
   "cell_type": "markdown",
   "id": "5ca6df59",
   "metadata": {},
   "source": [
    "#### findall( ) in Python:\n",
    "The findall( ) method of re object returns a list of all occurrences."
   ]
  },
  {
   "cell_type": "code",
   "execution_count": 3,
   "id": "affa5e0c",
   "metadata": {},
   "outputs": [
    {
     "name": "stdout",
     "output_type": "stream",
     "text": [
      "['program']\n",
      "['p', 't', 'o', 'p', 'o', 'o']\n"
     ]
    }
   ],
   "source": [
    "import re\n",
    "print(re.findall('program', 'www.pythonprogramming.com'))\n",
    "print(re.findall('[pot]', 'www.pythonprogramming.com'))"
   ]
  },
  {
   "cell_type": "markdown",
   "id": "9fce1a52",
   "metadata": {},
   "source": [
    "#### sub( ) in Python:\n",
    "The sub( ) method of re object replaces the match pattern with specified text in a string. The syntax of sub( ) method \n",
    "is sub( pattern, text, string ).\n",
    "The sub( ) method does not modify the actual string instead, it returns the modified string as a new string"
   ]
  },
  {
   "cell_type": "code",
   "execution_count": 4,
   "id": "e46c06f4",
   "metadata": {},
   "outputs": [
    {
     "name": "stdout",
     "output_type": "stream",
     "text": [
      "www.pythonprogramming.in\n",
      "www.pythonprogramming.com\n"
     ]
    }
   ],
   "source": [
    "import re\n",
    "webStr = 'www.pythonprogramming.com'\n",
    "print(re.sub('.com', '.in', webStr))\n",
    "print(webStr)"
   ]
  },
  {
   "cell_type": "markdown",
   "id": "5570ed0c",
   "metadata": {},
   "source": [
    "#### split( ) in Python:\n",
    "The split( ) method of re object returns a list of substrings where the actual string is beeing split at each match."
   ]
  },
  {
   "cell_type": "code",
   "execution_count": 5,
   "id": "6ce5e65d",
   "metadata": {},
   "outputs": [
    {
     "name": "stdout",
     "output_type": "stream",
     "text": [
      "['www', 'pythonprogramming', 'com']\n"
     ]
    }
   ],
   "source": [
    "import re\n",
    "webStr = 'www.pythonprogramming.com'\n",
    "print(re.split('\\.', webStr))"
   ]
  },
  {
   "cell_type": "markdown",
   "id": "ada04aed",
   "metadata": {},
   "source": [
    "#### 1. Matching a Specific String:"
   ]
  },
  {
   "cell_type": "code",
   "execution_count": 1,
   "id": "eaf80fbc",
   "metadata": {},
   "outputs": [
    {
     "name": "stdout",
     "output_type": "stream",
     "text": [
      "['hello']\n"
     ]
    }
   ],
   "source": [
    "import re\n",
    "\n",
    "text = \"hello world\"\n",
    "pattern = \"hello\"\n",
    "matches = re.findall(pattern, text)\n",
    "print(matches)   "
   ]
  },
  {
   "cell_type": "markdown",
   "id": "72aebd78",
   "metadata": {},
   "source": [
    "#### 2. Matching Digits:"
   ]
  },
  {
   "cell_type": "code",
   "execution_count": 2,
   "id": "e4068e34",
   "metadata": {},
   "outputs": [
    {
     "name": "stdout",
     "output_type": "stream",
     "text": [
      "['123', '456']\n"
     ]
    }
   ],
   "source": [
    "import re\n",
    "\n",
    "text = \"abc 123 def 456\"\n",
    "pattern = \"\\d+\"\n",
    "matches = re.findall(pattern, text)\n",
    "print(matches)   "
   ]
  },
  {
   "cell_type": "markdown",
   "id": "a1c09618",
   "metadata": {},
   "source": [
    "#### 3. Matching Words:"
   ]
  },
  {
   "cell_type": "code",
   "execution_count": 4,
   "id": "b1c97b6f",
   "metadata": {},
   "outputs": [
    {
     "name": "stdout",
     "output_type": "stream",
     "text": [
      "['hello', '123', 'world_456']\n"
     ]
    }
   ],
   "source": [
    "import re\n",
    "\n",
    "text = \"hello 123 world_456\"\n",
    "pattern = \"\\w+\"\n",
    "matches = re.findall(pattern, text)\n",
    "print(matches)  "
   ]
  },
  {
   "cell_type": "markdown",
   "id": "ed510b43",
   "metadata": {},
   "source": [
    "#### 4. Matching Email Addresses:"
   ]
  },
  {
   "cell_type": "code",
   "execution_count": 6,
   "id": "837c6638",
   "metadata": {},
   "outputs": [
    {
     "name": "stdout",
     "output_type": "stream",
     "text": [
      "['sai@example.com', 'moguloju@domain.com']\n"
     ]
    }
   ],
   "source": [
    "import re\n",
    "\n",
    "text = \"Contact us at sai@example.com or moguloju@domain.com\"\n",
    "pattern = r\"[\\w\\.-]+@[\\w\\.-]+\"\n",
    "matches = re.findall(pattern, text)\n",
    "print(matches)  "
   ]
  },
  {
   "cell_type": "markdown",
   "id": "51866324",
   "metadata": {},
   "source": [
    "#### 5. Matching URLs:"
   ]
  },
  {
   "cell_type": "code",
   "execution_count": 7,
   "id": "10b549d9",
   "metadata": {},
   "outputs": [
    {
     "name": "stdout",
     "output_type": "stream",
     "text": [
      "['https://www.example.com']\n"
     ]
    }
   ],
   "source": [
    "import re\n",
    "\n",
    "text = \"Visit our website at https://www.example.com\"\n",
    "pattern = r\"https?://(?:www\\.)?[\\w\\.-]+(?:\\.[\\w\\.-]+)+[\\w\\-\\._~:/?#[\\]@!\\$&'\\(\\)\\*\\+,;=.]+\"\n",
    "matches = re.findall(pattern, text)\n",
    "print(matches)  "
   ]
  },
  {
   "cell_type": "markdown",
   "id": "2b028aba",
   "metadata": {},
   "source": [
    "#### 6. Matching Phone Numbers (U.S. format):"
   ]
  },
  {
   "cell_type": "code",
   "execution_count": 8,
   "id": "2c1256fc",
   "metadata": {},
   "outputs": [
    {
     "name": "stdout",
     "output_type": "stream",
     "text": [
      "['123-456-7890', '987.654.3210']\n"
     ]
    }
   ],
   "source": [
    "import re\n",
    "\n",
    "text = \"Call me at 123-456-7890 or 987.654.3210\"\n",
    "pattern = r\"\\b\\d{3}[-.]?\\d{3}[-.]?\\d{4}\\b\"\n",
    "matches = re.findall(pattern, text)\n",
    "print(matches)  "
   ]
  },
  {
   "cell_type": "markdown",
   "id": "e11cc274",
   "metadata": {},
   "source": [
    "#### 7. Matching Hashtags:"
   ]
  },
  {
   "cell_type": "code",
   "execution_count": 9,
   "id": "60fbd4b5",
   "metadata": {},
   "outputs": [
    {
     "name": "stdout",
     "output_type": "stream",
     "text": [
      "['#awesome', '#python']\n"
     ]
    }
   ],
   "source": [
    "import re\n",
    "\n",
    "text = \"Check out this #awesome #python tutorial\"\n",
    "pattern = r\"#\\w+\"\n",
    "matches = re.findall(pattern, text)\n",
    "print(matches)"
   ]
  },
  {
   "cell_type": "markdown",
   "id": "4dfd5971",
   "metadata": {},
   "source": [
    "#### 8. Matching Mentioned Users (Twitter handle format):"
   ]
  },
  {
   "cell_type": "code",
   "execution_count": 11,
   "id": "b21df609",
   "metadata": {},
   "outputs": [
    {
     "name": "stdout",
     "output_type": "stream",
     "text": [
      "['@sai1', '@sai2']\n"
     ]
    }
   ],
   "source": [
    "import re\n",
    "\n",
    "text = \"Hey @sai1, did you see @sai2's tweet?\"\n",
    "pattern = r\"@\\w+\"\n",
    "matches = re.findall(pattern, text)\n",
    "print(matches)  "
   ]
  },
  {
   "cell_type": "markdown",
   "id": "f619db00",
   "metadata": {},
   "source": [
    "#### 9. Extracting HTML Attributes (e.g., href from anchor tags):"
   ]
  },
  {
   "cell_type": "code",
   "execution_count": 12,
   "id": "9e5b726a",
   "metadata": {},
   "outputs": [
    {
     "name": "stdout",
     "output_type": "stream",
     "text": [
      "['https://www.example.com']\n"
     ]
    }
   ],
   "source": [
    "import re\n",
    "\n",
    "html = '<a href=\"https://www.example.com\">Visit Example</a>'\n",
    "pattern = r'href=\"([^\"]*)\"'\n",
    "matches = re.findall(pattern, html)\n",
    "print(matches) "
   ]
  },
  {
   "cell_type": "markdown",
   "id": "6a696c33",
   "metadata": {},
   "source": [
    "#### 10. Extracting Numbers from a String:"
   ]
  },
  {
   "cell_type": "code",
   "execution_count": 13,
   "id": "456eca16",
   "metadata": {},
   "outputs": [
    {
     "name": "stdout",
     "output_type": "stream",
     "text": [
      "[10, 20]\n"
     ]
    }
   ],
   "source": [
    "import re\n",
    "\n",
    "text = \"There are 10 apples and 20 oranges.\"\n",
    "pattern = r\"\\d+\"\n",
    "matches = re.findall(pattern, text)\n",
    "numbers = [int(match) for match in matches]\n",
    "print(numbers) "
   ]
  },
  {
   "cell_type": "markdown",
   "id": "752baf0f",
   "metadata": {},
   "source": [
    "#### 11. Replacing Certain Patterns:"
   ]
  },
  {
   "cell_type": "code",
   "execution_count": 14,
   "id": "6c809a2a",
   "metadata": {},
   "outputs": [
    {
     "name": "stdout",
     "output_type": "stream",
     "text": [
      "Hello, Ms. Sai and Ms. Srinidhi.\n"
     ]
    }
   ],
   "source": [
    "import re\n",
    "\n",
    "text = \"Hello, Mr. Sai and Mrs. Srinidhi.\"\n",
    "pattern = r\"Mr\\.|Mrs\\.\"\n",
    "replaced_text = re.sub(pattern, \"Ms.\", text)\n",
    "print(replaced_text)  "
   ]
  },
  {
   "cell_type": "code",
   "execution_count": 15,
   "id": "c0a54b88",
   "metadata": {},
   "outputs": [
    {
     "name": "stdout",
     "output_type": "stream",
     "text": [
      "----------------------------------- THE END ------------------------------\n"
     ]
    }
   ],
   "source": [
    "print(\"-------\"*5,'THE END',\"------\"*5)"
   ]
  },
  {
   "cell_type": "markdown",
   "id": "6b7ebb59",
   "metadata": {},
   "source": [
    "Author: [Moguloju_Sai](https://linktr.ee/Moguloju_Sai)"
   ]
  }
 ],
 "metadata": {
  "kernelspec": {
   "display_name": "Python 3 (ipykernel)",
   "language": "python",
   "name": "python3"
  },
  "language_info": {
   "codemirror_mode": {
    "name": "ipython",
    "version": 3
   },
   "file_extension": ".py",
   "mimetype": "text/x-python",
   "name": "python",
   "nbconvert_exporter": "python",
   "pygments_lexer": "ipython3",
   "version": "3.10.9"
  }
 },
 "nbformat": 4,
 "nbformat_minor": 5
}
