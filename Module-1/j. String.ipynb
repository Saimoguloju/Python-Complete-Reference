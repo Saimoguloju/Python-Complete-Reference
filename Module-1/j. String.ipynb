{
 "cells": [
  {
   "cell_type": "markdown",
   "id": "436f88b3",
   "metadata": {},
   "source": [
    "## String"
   ]
  },
  {
   "cell_type": "markdown",
   "id": "7f69bc47",
   "metadata": {},
   "source": [
    "![Python logo](data:image/jpeg;base64,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)"
   ]
  },
  {
   "cell_type": "markdown",
   "id": "6453c2e1",
   "metadata": {},
   "source": [
    "Any sequence of characters within either single quotes or double quotes is considered\n",
    "as a String.\n",
    "```python\n",
    "x = \"Moguloju Sai\"\n",
    "x = 'Moguloju Sai'\n",
    "```\n",
    "***Note:*** : In most of other languges like C, C++,Java, a single character with in single quotes is\n",
    "treated as char data type value. But in Python we are not having char data type. Hence it is\n",
    "treated as String only"
   ]
  },
  {
   "cell_type": "markdown",
   "id": "00bc339e",
   "metadata": {},
   "source": [
    "```python\n",
    "x='''Moguloju\n",
    "sai\n",
    "how are you'''\n",
    "```"
   ]
  },
  {
   "cell_type": "markdown",
   "id": "f604d686",
   "metadata": {},
   "source": [
    "#### How to access characters of a String:\n",
    "We can access characters of a string by using the following ways.\n",
    "  1. By using index\n",
    "  2. By using slice operator\n",
    "- ***1. By using index:***\n",
    "- Python supports both +ve and -ve index.\n",
    "- +ve index means left to right(Forward direction)\n",
    "- -ve index means right to left(Backward direction)\n"
   ]
  },
  {
   "cell_type": "code",
   "execution_count": 1,
   "id": "1fdc3a83",
   "metadata": {},
   "outputs": [],
   "source": [
    "x = \"Moguloju Sai\""
   ]
  },
  {
   "cell_type": "code",
   "execution_count": 2,
   "id": "d1bc77ee",
   "metadata": {},
   "outputs": [
    {
     "data": {
      "text/plain": [
       "'M'"
      ]
     },
     "execution_count": 2,
     "metadata": {},
     "output_type": "execute_result"
    }
   ],
   "source": [
    "x[0]"
   ]
  },
  {
   "cell_type": "code",
   "execution_count": 3,
   "id": "c455623f",
   "metadata": {},
   "outputs": [
    {
     "data": {
      "text/plain": [
       "'l'"
      ]
     },
     "execution_count": 3,
     "metadata": {},
     "output_type": "execute_result"
    }
   ],
   "source": [
    "x[4]"
   ]
  },
  {
   "cell_type": "code",
   "execution_count": 5,
   "id": "5d2558f6",
   "metadata": {},
   "outputs": [
    {
     "data": {
      "text/plain": [
       "'i'"
      ]
     },
     "execution_count": 5,
     "metadata": {},
     "output_type": "execute_result"
    }
   ],
   "source": [
    "x[-1]"
   ]
  },
  {
   "cell_type": "code",
   "execution_count": 6,
   "id": "572f45bd",
   "metadata": {},
   "outputs": [
    {
     "data": {
      "text/plain": [
       "'a'"
      ]
     },
     "execution_count": 6,
     "metadata": {},
     "output_type": "execute_result"
    }
   ],
   "source": [
    "x[10]"
   ]
  },
  {
   "cell_type": "markdown",
   "id": "69bac7b4",
   "metadata": {},
   "source": [
    "Note: If we are trying to access characters of a string with out of range index then we will get\n",
    "error saying : IndexError"
   ]
  },
  {
   "cell_type": "code",
   "execution_count": 10,
   "id": "1f828f10",
   "metadata": {},
   "outputs": [
    {
     "name": "stdout",
     "output_type": "stream",
     "text": [
      "Enter Some String: Moguloju Sai\n",
      "The character present at +ve index 0 and at -ve index -12 is M\n",
      "The character present at +ve index 1 and at -ve index -11 is o\n",
      "The character present at +ve index 2 and at -ve index -10 is g\n",
      "The character present at +ve index 3 and at -ve index -9 is u\n",
      "The character present at +ve index 4 and at -ve index -8 is l\n",
      "The character present at +ve index 5 and at -ve index -7 is o\n",
      "The character present at +ve index 6 and at -ve index -6 is j\n",
      "The character present at +ve index 7 and at -ve index -5 is u\n",
      "The character present at +ve index 8 and at -ve index -4 is  \n",
      "The character present at +ve index 9 and at -ve index -3 is S\n",
      "The character present at +ve index 10 and at -ve index -2 is a\n",
      "The character present at +ve index 11 and at -ve index -1 is i\n"
     ]
    }
   ],
   "source": [
    "x=input(\"Enter Some String: \")\n",
    "i=0\n",
    "for y in x:\n",
    "    print(\"The character present at +ve index {} and at -ve index {} is {}\".format(i,i-len(x),y))\n",
    "    i=i+1"
   ]
  },
  {
   "cell_type": "markdown",
   "id": "472c4af5",
   "metadata": {},
   "source": [
    "#### 2. Accessing characters by using slice operator:\n",
    "- Syntax: s[beginindex:endindex:step]\n",
    "- ***beginindex:*** From where we have to consider slice(substring)\n",
    "- ***endindex:*** We have to terminate the slice(substring) at endindex-1\n",
    "- ***step:*** incremented value\n",
    "- ***Note:*** If we are not specifying begin index then it will consider      from beginning of the string.\n",
    "- If we are not specifying end index then it will consider up to end of the string\n",
    "The default value for step is 1\n"
   ]
  },
  {
   "cell_type": "code",
   "execution_count": 11,
   "id": "0c07d130",
   "metadata": {},
   "outputs": [],
   "source": [
    "s = \"Learning Python is very very easy!!!\""
   ]
  },
  {
   "cell_type": "code",
   "execution_count": 12,
   "id": "38ae569b",
   "metadata": {},
   "outputs": [
    {
     "data": {
      "text/plain": [
       "'earnin'"
      ]
     },
     "execution_count": 12,
     "metadata": {},
     "output_type": "execute_result"
    }
   ],
   "source": [
    "s[1:7:1]"
   ]
  },
  {
   "cell_type": "code",
   "execution_count": 13,
   "id": "a6808b7d",
   "metadata": {},
   "outputs": [
    {
     "data": {
      "text/plain": [
       "'earnin'"
      ]
     },
     "execution_count": 13,
     "metadata": {},
     "output_type": "execute_result"
    }
   ],
   "source": [
    "s[1:7]"
   ]
  },
  {
   "cell_type": "code",
   "execution_count": 14,
   "id": "c951a9d5",
   "metadata": {},
   "outputs": [
    {
     "data": {
      "text/plain": [
       "'eri'"
      ]
     },
     "execution_count": 14,
     "metadata": {},
     "output_type": "execute_result"
    }
   ],
   "source": [
    "s[1:7:2]"
   ]
  },
  {
   "cell_type": "code",
   "execution_count": 15,
   "id": "b8434424",
   "metadata": {},
   "outputs": [
    {
     "data": {
      "text/plain": [
       "'Learnin'"
      ]
     },
     "execution_count": 15,
     "metadata": {},
     "output_type": "execute_result"
    }
   ],
   "source": [
    "s[:7]"
   ]
  },
  {
   "cell_type": "code",
   "execution_count": 16,
   "id": "9d1dc6e8",
   "metadata": {},
   "outputs": [
    {
     "data": {
      "text/plain": [
       "'g Python is very very easy!!!'"
      ]
     },
     "execution_count": 16,
     "metadata": {},
     "output_type": "execute_result"
    }
   ],
   "source": [
    "s[7:]"
   ]
  },
  {
   "cell_type": "code",
   "execution_count": 17,
   "id": "f6ee3bc7",
   "metadata": {},
   "outputs": [
    {
     "data": {
      "text/plain": [
       "'Learning Python is very very easy!!!'"
      ]
     },
     "execution_count": 17,
     "metadata": {},
     "output_type": "execute_result"
    }
   ],
   "source": [
    "s[::]"
   ]
  },
  {
   "cell_type": "code",
   "execution_count": 18,
   "id": "bcc16295",
   "metadata": {},
   "outputs": [
    {
     "data": {
      "text/plain": [
       "'Learning Python is very very easy!!!'"
      ]
     },
     "execution_count": 18,
     "metadata": {},
     "output_type": "execute_result"
    }
   ],
   "source": [
    "s[:]"
   ]
  },
  {
   "cell_type": "code",
   "execution_count": 19,
   "id": "a882e261",
   "metadata": {},
   "outputs": [
    {
     "data": {
      "text/plain": [
       "'!!!ysae yrev yrev si nohtyP gninraeL'"
      ]
     },
     "execution_count": 19,
     "metadata": {},
     "output_type": "execute_result"
    }
   ],
   "source": [
    "s[::-1]"
   ]
  },
  {
   "cell_type": "markdown",
   "id": "1c40839c",
   "metadata": {},
   "source": [
    "#### Behaviour of slice operator:\n",
    "s[begin:end:step]\n",
    "- ***step value can be either +ve or –ve***\n",
    "- ***if +ve*** then it should be ***forward direction***(left to right) and   we have to consider begin to ***end-1***\n",
    "- ***if -ve*** then it should be ***backward direction***(right to left)     and we have to consider begin to ***end+1***\n",
    "#### # Note:\n",
    "- In the backward direction ***if end value is -1*** then result is always empty.\n",
    "- In the forward direction ***if end value is 0*** then result is always empty."
   ]
  },
  {
   "cell_type": "markdown",
   "id": "bacd77d8",
   "metadata": {},
   "source": [
    "### Mathematical Operators for String:\n",
    "We can apply the following mathematical operators for Strings.\n",
    "1. + operator for concatenation\n",
    "2. * operator for repetition\n",
    "- print(\"Sai\"+\"M\")......................SaiM\n",
    "- print(\"Sai\"*2)........SaiSai\n",
    "##### Note:\n",
    "1. To use + operator for Strings, compulsory both arguments should be str type\n",
    "2. To use * operator for Strings, compulsory one argument should be str and other argument should be int\n"
   ]
  },
  {
   "cell_type": "markdown",
   "id": "1c6abd74",
   "metadata": {},
   "source": [
    "#### len() function:\n",
    "We can use len() function to find the number of characters present in the string."
   ]
  },
  {
   "cell_type": "code",
   "execution_count": 22,
   "id": "91df93c2",
   "metadata": {},
   "outputs": [
    {
     "name": "stdout",
     "output_type": "stream",
     "text": [
      "12\n"
     ]
    }
   ],
   "source": [
    "a = 'Moguloju Sai'\n",
    "print(len(x))"
   ]
  },
  {
   "cell_type": "markdown",
   "id": "2a4098c2",
   "metadata": {},
   "source": [
    "####  Checking Membership:\n",
    "We can check whether the character or string is the member of another string or not\n",
    "by using in and not in operators"
   ]
  },
  {
   "cell_type": "code",
   "execution_count": 23,
   "id": "ba717563",
   "metadata": {},
   "outputs": [
    {
     "name": "stdout",
     "output_type": "stream",
     "text": [
      "True\n",
      "False\n"
     ]
    }
   ],
   "source": [
    "a = 'Moguloju Sai'\n",
    "print('g' in a)\n",
    "print('z' in a)"
   ]
  },
  {
   "cell_type": "markdown",
   "id": "0336a93b",
   "metadata": {},
   "source": [
    "#### Comparison of Strings:\n",
    "- We can use comparison operators (<,<=,>,>=) and equality operators(==,!=)   for strings.\n",
    "- Comparison will be performed ***based on alphabetical order***"
   ]
  },
  {
   "cell_type": "code",
   "execution_count": 24,
   "id": "7a8f1590",
   "metadata": {},
   "outputs": [
    {
     "name": "stdout",
     "output_type": "stream",
     "text": [
      "Enter first string:Moguloju\n",
      "Enetr second String:Sai\n",
      "First String is less than Second String\n"
     ]
    }
   ],
   "source": [
    "s1 = input(\"Enter first string:\")\n",
    "s2 = input(\"Enetr second String:\")\n",
    "if s1 == s2:\n",
    "    print(\"Both strings are equal\")\n",
    "elif s1<s2:\n",
    "    print(\"First String is less than Second String\")\n",
    "else:\n",
    "    print(\"First String is greater than Second String\")"
   ]
  },
  {
   "cell_type": "markdown",
   "id": "1852812f",
   "metadata": {},
   "source": [
    "#### Removing spaces from the string:\n",
    "We can use the following 3 methods\n",
    "1. rstrip()===>To remove spaces at right hand side\n",
    "2. lstrip()===>To remove spaces at left hand side\n",
    "3. strip() ==>To remove spaces both sides"
   ]
  },
  {
   "cell_type": "markdown",
   "id": "acda5b3d",
   "metadata": {},
   "source": [
    "#### Finding Substrings:\n",
    "- We can use the following 4 methods\n",
    "- For forward direction:\n",
    "- find()\n",
    "- index()\n",
    "- For backward direction:\n",
    "- rfind()\n",
    "- rindex()\n"
   ]
  },
  {
   "cell_type": "markdown",
   "id": "6740472e",
   "metadata": {},
   "source": [
    "#### 1. find():\n",
    "***Syntax:s.find(substring)***\n",
    "- Returns index of first occurrence of the given substring. If it is not available then we will get -1"
   ]
  },
  {
   "cell_type": "code",
   "execution_count": 27,
   "id": "8763c0e9",
   "metadata": {},
   "outputs": [],
   "source": [
    "s = \"Learning Python is very very easy\""
   ]
  },
  {
   "cell_type": "code",
   "execution_count": 28,
   "id": "ee68881b",
   "metadata": {},
   "outputs": [
    {
     "name": "stdout",
     "output_type": "stream",
     "text": [
      "9\n"
     ]
    }
   ],
   "source": [
    "print(s.find(\"Python\"))"
   ]
  },
  {
   "cell_type": "code",
   "execution_count": 29,
   "id": "66999542",
   "metadata": {},
   "outputs": [
    {
     "name": "stdout",
     "output_type": "stream",
     "text": [
      "-1\n"
     ]
    }
   ],
   "source": [
    "print(s.find(\"Java\"))"
   ]
  },
  {
   "cell_type": "code",
   "execution_count": 30,
   "id": "e0849833",
   "metadata": {},
   "outputs": [
    {
     "name": "stdout",
     "output_type": "stream",
     "text": [
      "3\n"
     ]
    }
   ],
   "source": [
    "print(s.find(\"r\"))"
   ]
  },
  {
   "cell_type": "code",
   "execution_count": 31,
   "id": "3c51159b",
   "metadata": {},
   "outputs": [
    {
     "name": "stdout",
     "output_type": "stream",
     "text": [
      "26\n"
     ]
    }
   ],
   "source": [
    "print(s.rfind(\"r\"))"
   ]
  },
  {
   "cell_type": "markdown",
   "id": "ae77abc7",
   "metadata": {},
   "source": [
    "By default find() method can search total string. We can also specify the boundaries to\n",
    "search.\n"
   ]
  },
  {
   "cell_type": "markdown",
   "id": "9577d039",
   "metadata": {},
   "source": [
    "#### s.find(substring,bEgin,end)\n",
    "It will always search from bEgin index to end-1 index"
   ]
  },
  {
   "cell_type": "code",
   "execution_count": 32,
   "id": "b435027b",
   "metadata": {},
   "outputs": [],
   "source": [
    "s = \"Moguloju Shashikala\""
   ]
  },
  {
   "cell_type": "code",
   "execution_count": 33,
   "id": "ee680202",
   "metadata": {},
   "outputs": [
    {
     "name": "stdout",
     "output_type": "stream",
     "text": [
      "11\n"
     ]
    }
   ],
   "source": [
    "print(s.find('a'))"
   ]
  },
  {
   "cell_type": "code",
   "execution_count": 34,
   "id": "9b6d90a4",
   "metadata": {},
   "outputs": [
    {
     "name": "stdout",
     "output_type": "stream",
     "text": [
      "11\n"
     ]
    }
   ],
   "source": [
    "print(s.find('a',7,15))"
   ]
  },
  {
   "cell_type": "code",
   "execution_count": 35,
   "id": "45c5ae03",
   "metadata": {},
   "outputs": [
    {
     "name": "stdout",
     "output_type": "stream",
     "text": [
      "-1\n"
     ]
    }
   ],
   "source": [
    "print(s.find('z',7,15))"
   ]
  },
  {
   "cell_type": "markdown",
   "id": "c4143160",
   "metadata": {},
   "source": [
    "#### 2. index() method:\n",
    "index() method is exactly same as find() method except that if the specified substring is not\n",
    "available then we will get ValueError.\n"
   ]
  },
  {
   "cell_type": "code",
   "execution_count": 36,
   "id": "d6e1c1ef",
   "metadata": {},
   "outputs": [],
   "source": [
    "s = \"Learning Python is very very easy\""
   ]
  },
  {
   "cell_type": "code",
   "execution_count": 37,
   "id": "65f92cc3",
   "metadata": {},
   "outputs": [
    {
     "name": "stdout",
     "output_type": "stream",
     "text": [
      "9\n"
     ]
    }
   ],
   "source": [
    "print(s.index(\"Python\"))"
   ]
  },
  {
   "cell_type": "code",
   "execution_count": 38,
   "id": "d7ee01fe",
   "metadata": {},
   "outputs": [
    {
     "name": "stdout",
     "output_type": "stream",
     "text": [
      "3\n"
     ]
    }
   ],
   "source": [
    "print(s.index(\"r\"))"
   ]
  },
  {
   "cell_type": "code",
   "execution_count": 40,
   "id": "3526cd26",
   "metadata": {},
   "outputs": [
    {
     "name": "stdout",
     "output_type": "stream",
     "text": [
      "26\n"
     ]
    }
   ],
   "source": [
    "print(s.rindex('r'))"
   ]
  },
  {
   "cell_type": "code",
   "execution_count": 41,
   "id": "3422407a",
   "metadata": {},
   "outputs": [
    {
     "ename": "ValueError",
     "evalue": "substring not found",
     "output_type": "error",
     "traceback": [
      "\u001b[1;31m---------------------------------------------------------------------------\u001b[0m",
      "\u001b[1;31mValueError\u001b[0m                                Traceback (most recent call last)",
      "Cell \u001b[1;32mIn[41], line 1\u001b[0m\n\u001b[1;32m----> 1\u001b[0m \u001b[38;5;28mprint\u001b[39m(\u001b[43ms\u001b[49m\u001b[38;5;241;43m.\u001b[39;49m\u001b[43mindex\u001b[49m\u001b[43m(\u001b[49m\u001b[38;5;124;43m\"\u001b[39;49m\u001b[38;5;124;43mJava\u001b[39;49m\u001b[38;5;124;43m\"\u001b[39;49m\u001b[43m)\u001b[49m)\n",
      "\u001b[1;31mValueError\u001b[0m: substring not found"
     ]
    }
   ],
   "source": [
    "print(s.index(\"Java\"))"
   ]
  },
  {
   "cell_type": "markdown",
   "id": "15a57e2a",
   "metadata": {},
   "source": [
    "#### Counting substring in the given String:\n",
    "We can find the number of occurrences of substring present in the given string by using\n",
    "count() method.\n",
    "1. s.count(substring) ==> It will search through out the string\n",
    "2. s.count(substring, bEgin, end) ===> It will search from bEgin index to end-1 index\n"
   ]
  },
  {
   "cell_type": "code",
   "execution_count": 42,
   "id": "6a662ddc",
   "metadata": {},
   "outputs": [],
   "source": [
    "s = \"abcabcabcabcadba\""
   ]
  },
  {
   "cell_type": "code",
   "execution_count": 43,
   "id": "8f7745d4",
   "metadata": {},
   "outputs": [
    {
     "name": "stdout",
     "output_type": "stream",
     "text": [
      "6\n"
     ]
    }
   ],
   "source": [
    "print(s.count('a'))"
   ]
  },
  {
   "cell_type": "code",
   "execution_count": 44,
   "id": "f791c8ad",
   "metadata": {},
   "outputs": [
    {
     "name": "stdout",
     "output_type": "stream",
     "text": [
      "4\n"
     ]
    }
   ],
   "source": [
    "print(s.count('ab'))"
   ]
  },
  {
   "cell_type": "code",
   "execution_count": 45,
   "id": "174653f7",
   "metadata": {},
   "outputs": [
    {
     "name": "stdout",
     "output_type": "stream",
     "text": [
      "2\n"
     ]
    }
   ],
   "source": [
    "print(s.count('a',3,7))"
   ]
  },
  {
   "cell_type": "markdown",
   "id": "387ceef4",
   "metadata": {},
   "source": [
    "#### Replacing a string with another string:\n",
    "***Syntax: s.replace(oldstring,newstring)***\n",
    "- inside s, every occurrence of oldstring will be replaced with newstring."
   ]
  },
  {
   "cell_type": "code",
   "execution_count": 46,
   "id": "3f1d9b1a",
   "metadata": {},
   "outputs": [],
   "source": [
    "s = \"Learning Python is very difficult\""
   ]
  },
  {
   "cell_type": "code",
   "execution_count": 47,
   "id": "e6b02bf7",
   "metadata": {},
   "outputs": [
    {
     "name": "stdout",
     "output_type": "stream",
     "text": [
      "Learning Python is very easy\n"
     ]
    }
   ],
   "source": [
    "s1=s.replace(\"difficult\",\"easy\")\n",
    "print(s1)"
   ]
  },
  {
   "cell_type": "code",
   "execution_count": 48,
   "id": "281705f8",
   "metadata": {},
   "outputs": [
    {
     "name": "stdout",
     "output_type": "stream",
     "text": [
      "bbbbbbbbbbbbbbbbbbbbbbbb\n"
     ]
    }
   ],
   "source": [
    "s = \"ababababababbaabababbaab\"\n",
    "s1=s.replace(\"a\",\"b\")\n",
    "print(s1)"
   ]
  },
  {
   "cell_type": "markdown",
   "id": "febe316a",
   "metadata": {},
   "source": [
    "#### String objects are immutable then how we can change the content by using replace() method.\n",
    "- Once we creates string object, we cannot change the content.This non  changeable behaviour is nothing but immutability. If we are trying to change the content by using any method, then with those changes a new object will be created and changes won't be happend in existing object.\n",
    "- Hence with replace() method also a new object got created but existing object won't be changed."
   ]
  },
  {
   "cell_type": "code",
   "execution_count": 50,
   "id": "ad31c55f",
   "metadata": {},
   "outputs": [
    {
     "name": "stdout",
     "output_type": "stream",
     "text": [
      "ababa is available at : 2370875074672\n",
      "bbbbb is available at : 2370875065968\n"
     ]
    }
   ],
   "source": [
    "s = \"ababa\"\n",
    "s1=s.replace(\"a\",\"b\")\n",
    "print(s,\"is available at :\", id(s))\n",
    "print(s1,\"is available at :\",id(s1))"
   ]
  },
  {
   "cell_type": "markdown",
   "id": "1bb1967d",
   "metadata": {},
   "source": [
    "In the above example, original object is available and we can see new object which was\n",
    "created because of replace() method.\n"
   ]
  },
  {
   "cell_type": "markdown",
   "id": "4a3789cf",
   "metadata": {},
   "source": [
    "### Splitting of Strings:\n",
    "-  We can split the given string according to specified seperator by using split() method.\n",
    "l=s.split(seperator)\n",
    "-  The default seperator is space. The return type ofsplit() method is List"
   ]
  },
  {
   "cell_type": "code",
   "execution_count": 51,
   "id": "503066c9",
   "metadata": {},
   "outputs": [
    {
     "name": "stdout",
     "output_type": "stream",
     "text": [
      "Welcome\n",
      "to\n",
      "Python\n",
      "course\n"
     ]
    }
   ],
   "source": [
    "s = \"Welcome to Python course\"\n",
    "l=s.split()\n",
    "for i in l:\n",
    "    print(i)"
   ]
  },
  {
   "cell_type": "code",
   "execution_count": 52,
   "id": "0c51f177",
   "metadata": {},
   "outputs": [
    {
     "name": "stdout",
     "output_type": "stream",
     "text": [
      "10\n",
      "06\n",
      "2003\n"
     ]
    }
   ],
   "source": [
    "s = \"10-06-2003\"\n",
    "l = s.split('-')\n",
    "for i in l:\n",
    "    print(i)"
   ]
  },
  {
   "cell_type": "markdown",
   "id": "ab0aee92",
   "metadata": {},
   "source": [
    "###  Joining of Strings:\n",
    "- We can join a group of strings(list or tuple or set) wrt the given seperator.\n",
    "s=seperator.join(group of strings)\n"
   ]
  },
  {
   "cell_type": "code",
   "execution_count": 55,
   "id": "6269c22a",
   "metadata": {},
   "outputs": [
    {
     "name": "stdout",
     "output_type": "stream",
     "text": [
      "Welcome$to$Python$course\n"
     ]
    }
   ],
   "source": [
    "s = (\"Welcome\", \"to\", \"Python\", \"course\")\n",
    "l=\"$\".join(s)\n",
    "print(l)"
   ]
  },
  {
   "cell_type": "code",
   "execution_count": 56,
   "id": "0c92f350",
   "metadata": {},
   "outputs": [
    {
     "name": "stdout",
     "output_type": "stream",
     "text": [
      "Welcome:to:Python:course\n"
     ]
    }
   ],
   "source": [
    "s = (\"Welcome\", \"to\", \"Python\", \"course\")\n",
    "l=\":\".join(s)\n",
    "print(l)"
   ]
  },
  {
   "cell_type": "markdown",
   "id": "012b1a8e",
   "metadata": {},
   "source": [
    "### Changing case of a String:\n",
    "We can change case of a string by using the following 4 methods.\n",
    "1. upper()===>To convert all characters to upper case\n",
    "2. lower() ===>To convert all characters to lower case\n",
    "3. swapcase()===>converts all lower case characters to upper case and all upper case characters to lower case\n",
    "4. title() ===>To convert all character to title case. i.e first character in every word should be upper case and all remaining characters should be in lower case.\n",
    "5. capitalize() ==>Only first character will be converted to upper case and all remaining characters can be converted to lower case"
   ]
  },
  {
   "cell_type": "code",
   "execution_count": 57,
   "id": "3ce5abea",
   "metadata": {},
   "outputs": [],
   "source": [
    "s = \"Learning Python is very easy\""
   ]
  },
  {
   "cell_type": "code",
   "execution_count": 58,
   "id": "297d743b",
   "metadata": {},
   "outputs": [
    {
     "name": "stdout",
     "output_type": "stream",
     "text": [
      "LEARNING PYTHON IS VERY EASY\n"
     ]
    }
   ],
   "source": [
    "print(s.upper())"
   ]
  },
  {
   "cell_type": "code",
   "execution_count": 59,
   "id": "a421ac23",
   "metadata": {},
   "outputs": [
    {
     "name": "stdout",
     "output_type": "stream",
     "text": [
      "learning python is very easy\n"
     ]
    }
   ],
   "source": [
    "print(s.lower())"
   ]
  },
  {
   "cell_type": "code",
   "execution_count": 60,
   "id": "47436595",
   "metadata": {},
   "outputs": [
    {
     "name": "stdout",
     "output_type": "stream",
     "text": [
      "lEARNING pYTHON IS VERY EASY\n"
     ]
    }
   ],
   "source": [
    "print(s.swapcase())"
   ]
  },
  {
   "cell_type": "code",
   "execution_count": 61,
   "id": "272ba5c3",
   "metadata": {},
   "outputs": [
    {
     "name": "stdout",
     "output_type": "stream",
     "text": [
      "Learning Python Is Very Easy\n"
     ]
    }
   ],
   "source": [
    "print(s.title())"
   ]
  },
  {
   "cell_type": "code",
   "execution_count": 62,
   "id": "26bd83cf",
   "metadata": {},
   "outputs": [
    {
     "name": "stdout",
     "output_type": "stream",
     "text": [
      "Learning python is very easy\n"
     ]
    }
   ],
   "source": [
    "print(s.capitalize())"
   ]
  },
  {
   "cell_type": "markdown",
   "id": "46c77ff5",
   "metadata": {},
   "source": [
    "### Changing case of a String:\n",
    "We can change case of a string by using the following 4 methods.\n",
    "1. upper()===>To convert all characters to upper case\n",
    "2. lower() ===>To convert all characters to lower case\n",
    "3. swapcase()===>converts all lower case characters to upper case and all upper case characters to lower case\n",
    "4. title() ===>To convert all character to title case. i.e first character in every word should be upper case and all remaining characters should be in lower case.\n",
    "5. capitalize() ==>Only first character will be converted to upper case and all remaining characters can be converted to lower case"
   ]
  },
  {
   "cell_type": "code",
   "execution_count": 63,
   "id": "18b10fd8",
   "metadata": {},
   "outputs": [],
   "source": [
    "s = \"Learning Python is very easy\""
   ]
  },
  {
   "cell_type": "code",
   "execution_count": 64,
   "id": "14bc22d2",
   "metadata": {},
   "outputs": [
    {
     "name": "stdout",
     "output_type": "stream",
     "text": [
      "False\n"
     ]
    }
   ],
   "source": [
    "print(s.startswith(\"learning\"))"
   ]
  },
  {
   "cell_type": "code",
   "execution_count": 65,
   "id": "0ec2bda8",
   "metadata": {},
   "outputs": [
    {
     "name": "stdout",
     "output_type": "stream",
     "text": [
      "False\n"
     ]
    }
   ],
   "source": [
    "print(s.endswith('learning'))"
   ]
  },
  {
   "cell_type": "code",
   "execution_count": 66,
   "id": "576d3a11",
   "metadata": {},
   "outputs": [
    {
     "name": "stdout",
     "output_type": "stream",
     "text": [
      "True\n"
     ]
    }
   ],
   "source": [
    "print(s.endswith('easy'))"
   ]
  },
  {
   "cell_type": "markdown",
   "id": "3536a307",
   "metadata": {},
   "source": [
    "### Changing case of a String:\n",
    "We can change case of a string by using the following 4 methods.\n",
    "1. upper()===>To convert all characters to upper case\n",
    "2. lower() ===>To convert all characters to lower case\n",
    "3. swapcase()===>converts all lower case characters to upper case and all upper case characters to lower case\n",
    "4. title() ===>To convert all character to title case. i.e first character in every word should be upper case and all remaining characters should be in lower case.\n",
    "5. capitalize() ==>Only first character will be converted to upper case and all remaining characters can be converted to lower case"
   ]
  },
  {
   "cell_type": "code",
   "execution_count": 67,
   "id": "b43b077c",
   "metadata": {},
   "outputs": [
    {
     "name": "stdout",
     "output_type": "stream",
     "text": [
      "True\n",
      "False\n",
      "True\n",
      "False\n",
      "True\n",
      "True\n",
      "False\n",
      "True\n",
      "True\n",
      "False\n",
      "True\n",
      "True\n"
     ]
    }
   ],
   "source": [
    "print('Sai726'.isalnum())  \n",
    "print('sai726'.isalpha()) \n",
    "print('sai'.isalpha()) \n",
    "print('sai'.isdigit()) \n",
    "print('6300'.isdigit()) \n",
    "print('abc'.islower()) \n",
    "print('Abc'.islower())  \n",
    "print('abc123'.islower()) \n",
    "print('ABC'.isupper())\n",
    "print('Learning python is Easy'.istitle()) \n",
    "print('Learning Python Is Easy'.istitle()) \n",
    "print(' '.isspace())  "
   ]
  },
  {
   "cell_type": "markdown",
   "id": "a5458624",
   "metadata": {},
   "source": [
    "### Formatting the Strings:\n",
    "We can format the strings with variable values by using replacement operator {} and\n",
    "format() method"
   ]
  },
  {
   "cell_type": "code",
   "execution_count": 68,
   "id": "8ce98ad6",
   "metadata": {},
   "outputs": [
    {
     "name": "stdout",
     "output_type": "stream",
     "text": [
      "sai 's sub is python and his age is 30\n",
      "sai 's sub is python and his age is 30\n",
      "sai 's sub is python and his age is 30\n"
     ]
    }
   ],
   "source": [
    "name='sai'\n",
    "sub='python'\n",
    "age=30\n",
    "print(\"{} 's sub is {} and his age is {}\".format(name,sub,age))\n",
    "print(\"{0} 's sub is {1} and his age is {2}\".format(name,sub,age))\n",
    "print(\"{x} 's sub is {y} and his age is {z}\".format(z=age,y=sub,x=name))"
   ]
  },
  {
   "cell_type": "markdown",
   "id": "2e238f8e",
   "metadata": {},
   "source": [
    "#### 1. Write a program to reverse the given String"
   ]
  },
  {
   "cell_type": "code",
   "execution_count": 69,
   "id": "b4cf9fc6",
   "metadata": {},
   "outputs": [
    {
     "name": "stdout",
     "output_type": "stream",
     "text": [
      "Enter Some String:MogulojuSai\n",
      "iaSujolugoM\n"
     ]
    }
   ],
   "source": [
    "s=input(\"Enter Some String:\")\n",
    "print(s[::-1])"
   ]
  },
  {
   "cell_type": "code",
   "execution_count": 73,
   "id": "e5c0b65c",
   "metadata": {
    "scrolled": true
   },
   "outputs": [
    {
     "name": "stdout",
     "output_type": "stream",
     "text": [
      "Enter Some String:MogulojuSai\n",
      "i a S u j o l u g o M\n"
     ]
    }
   ],
   "source": [
    "s=input(\"Enter Some String:\")\n",
    "print(\" \".join(reversed(s)))"
   ]
  },
  {
   "cell_type": "code",
   "execution_count": 74,
   "id": "ab89cca6",
   "metadata": {},
   "outputs": [
    {
     "name": "stdout",
     "output_type": "stream",
     "text": [
      "Enter Some String:MogulojuSai\n",
      " iaSujolugoM\n"
     ]
    }
   ],
   "source": [
    "s = input(\"Enter Some String:\")\n",
    "i=len(s)-1\n",
    "target=\" \"\n",
    "while i>=0:\n",
    "    target = target+s[i]\n",
    "    i=i-1\n",
    "print(target)"
   ]
  },
  {
   "cell_type": "markdown",
   "id": "6ec37f16",
   "metadata": {},
   "source": [
    "### 2. Program to reverse order of words.\n"
   ]
  },
  {
   "cell_type": "code",
   "execution_count": 76,
   "id": "5fe51400",
   "metadata": {},
   "outputs": [
    {
     "name": "stdout",
     "output_type": "stream",
     "text": [
      "Enter Some String:MogulojuSai\n",
      "MogulojuSai\n"
     ]
    }
   ],
   "source": [
    "s = input(\"Enter Some String:\")\n",
    "l=s.split()\n",
    "l1=[]\n",
    "i=len(l)-1\n",
    "while i>=0:\n",
    "    l1.append(l[i])\n",
    "    i=i-1\n",
    "    res=''.join(l1)\n",
    "print(res)"
   ]
  },
  {
   "cell_type": "markdown",
   "id": "e4a9608d",
   "metadata": {},
   "source": [
    "### 3. Program to reverse internal content of each word.\n"
   ]
  },
  {
   "cell_type": "code",
   "execution_count": 77,
   "id": "440b7db1",
   "metadata": {},
   "outputs": [
    {
     "name": "stdout",
     "output_type": "stream",
     "text": [
      "Enter Some String:MogulojuSai\n",
      "iaSujolugoM\n"
     ]
    }
   ],
   "source": [
    "s=input(\"Enter Some String:\")\n",
    "l=s.split()\n",
    "l1=[]\n",
    "i=0\n",
    "while i<len(l):\n",
    "    l1.append(l[i][::-1])\n",
    "    i=i+1\n",
    "rev=' '.join(l1)\n",
    "print(rev)"
   ]
  },
  {
   "cell_type": "markdown",
   "id": "59edad8e",
   "metadata": {},
   "source": [
    "#### 4. Write a program to find the number of occurrences of each character present in the given String?\n",
    " "
   ]
  },
  {
   "cell_type": "code",
   "execution_count": 79,
   "id": "2af31f01",
   "metadata": {},
   "outputs": [
    {
     "name": "stdout",
     "output_type": "stream",
     "text": [
      "Enter the Some String:MogulojuSai\n",
      "M = 1 Times\n",
      "o = 2 Times\n",
      "g = 1 Times\n",
      "u = 2 Times\n",
      "l = 1 Times\n",
      "j = 1 Times\n",
      "S = 1 Times\n",
      "a = 1 Times\n",
      "i = 1 Times\n"
     ]
    }
   ],
   "source": [
    "s=input(\"Enter the Some String:\")\n",
    "d={}\n",
    "for x in s:\n",
    "    if x in d.keys():\n",
    "        d[x]=d[x]+1\n",
    "    else:\n",
    "        d[x]=1\n",
    "for k,v in d.items():\n",
    "    print(\"{} = {} Times\".format(k,v))"
   ]
  },
  {
   "cell_type": "code",
   "execution_count": 1,
   "id": "d4d73f68",
   "metadata": {},
   "outputs": [
    {
     "name": "stdout",
     "output_type": "stream",
     "text": [
      "------------------------------ THE END ------------------------------\n"
     ]
    }
   ],
   "source": [
    "print(\"------\"*5,'THE END',\"------\"*5)"
   ]
  },
  {
   "cell_type": "markdown",
   "id": "20a82068",
   "metadata": {},
   "source": [
    "Author: [Moguloju_Sai](https://linktr.ee/Moguloju_Sai)"
   ]
  }
 ],
 "metadata": {
  "kernelspec": {
   "display_name": "Python 3 (ipykernel)",
   "language": "python",
   "name": "python3"
  },
  "language_info": {
   "codemirror_mode": {
    "name": "ipython",
    "version": 3
   },
   "file_extension": ".py",
   "mimetype": "text/x-python",
   "name": "python",
   "nbconvert_exporter": "python",
   "pygments_lexer": "ipython3",
   "version": "3.10.9"
  }
 },
 "nbformat": 4,
 "nbformat_minor": 5
}
