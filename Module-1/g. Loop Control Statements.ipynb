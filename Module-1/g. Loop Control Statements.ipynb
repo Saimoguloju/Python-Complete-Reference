{
 "cells": [
  {
   "cell_type": "markdown",
   "id": "13ca5718",
   "metadata": {},
   "source": [
    "## Loop Control Statements"
   ]
  },
  {
   "cell_type": "markdown",
   "id": "fd4743e1",
   "metadata": {},
   "source": [
    "Loop control statements change execution from its normal sequence. When execution leaves a scope,\n",
    "all automatic objects that were created in that scope are destroyed.\n"
   ]
  },
  {
   "cell_type": "markdown",
   "id": "eec92457",
   "metadata": {},
   "source": [
    "### Break Statement\n",
    "- ***Break*** statement can be used within for as well as while loops. Python Interpreter terminates the\n",
    "  current loop when it executes break statement and resumes execution with the statement following\n",
    "  the loop body, just like the traditional break statement in C.\n",
    "- The most common use for break is when some external condition is triggered requiring a hasty exit\n",
    "  from a loop.\n",
    "- In case of nested loops, the successful execution of ‘break statement’ causes Python interpreter to\n",
    "  terminate the execution of the loop having ‘break statement’ and continues with the execution of\n",
    "  statements of outer loop/enclosing loop.\n",
    "+ The syntax of the break is given below."
   ]
  },
  {
   "cell_type": "markdown",
   "id": "87d03533",
   "metadata": {},
   "source": [
    "### Examples:"
   ]
  },
  {
   "cell_type": "code",
   "execution_count": 1,
   "id": "1f7ca5c6",
   "metadata": {},
   "outputs": [
    {
     "name": "stdout",
     "output_type": "stream",
     "text": [
      "h\n"
     ]
    }
   ],
   "source": [
    "# Example 1\n",
    "str_value = \"python\"\n",
    "for i in range(len(str_value)):\n",
    "    if str_value[i] == 'o':\n",
    "        print(str_value[i-1])\n",
    "        break"
   ]
  },
  {
   "cell_type": "code",
   "execution_count": 2,
   "id": "39505d33",
   "metadata": {},
   "outputs": [
    {
     "name": "stdout",
     "output_type": "stream",
     "text": [
      "0\n",
      "1\n",
      "2\n",
      "3\n",
      "4\n"
     ]
    }
   ],
   "source": [
    "# Using break to exit a loop prematurely\n",
    "for i in range(10):\n",
    "    if i == 5:\n",
    "        break\n",
    "    print(i)"
   ]
  },
  {
   "cell_type": "code",
   "execution_count": 3,
   "id": "edf301e0",
   "metadata": {},
   "outputs": [
    {
     "name": "stdout",
     "output_type": "stream",
     "text": [
      "Number found!\n"
     ]
    }
   ],
   "source": [
    "numbers = [10, 20, 30, 40, 50]\n",
    "target = 30\n",
    "\n",
    "for num in numbers:\n",
    "    if num == target:\n",
    "        print(\"Number found!\")\n",
    "        break\n",
    "else:\n",
    "    print(\"Number not found!\")"
   ]
  },
  {
   "cell_type": "code",
   "execution_count": 4,
   "id": "4010b5d6",
   "metadata": {},
   "outputs": [
    {
     "name": "stdout",
     "output_type": "stream",
     "text": [
      "Enter 'quit' to exit: \n",
      "You entered: \n",
      "Enter 'quit' to exit: 76\n",
      "You entered: 76\n",
      "Enter 'quit' to exit: 89\n",
      "You entered: 89\n",
      "Enter 'quit' to exit: 90\n",
      "You entered: 90\n",
      "Enter 'quit' to exit: 90\n",
      "You entered: 90\n",
      "Enter 'quit' to exit: 00\n",
      "You entered: 00\n",
      "Enter 'quit' to exit: quit\n",
      "Exiting the loop...\n"
     ]
    }
   ],
   "source": [
    "while True:\n",
    "    user_input = input(\"Enter 'quit' to exit: \")\n",
    "    if user_input.lower() == 'quit':\n",
    "        print(\"Exiting the loop...\")\n",
    "        break\n",
    "    print(\"You entered:\", user_input)"
   ]
  },
  {
   "cell_type": "code",
   "execution_count": 6,
   "id": "f1833d5f",
   "metadata": {},
   "outputs": [
    {
     "name": "stdout",
     "output_type": "stream",
     "text": [
      "11 is a prime number\n",
      "13 is a prime number\n",
      "17 is a prime number\n",
      "19 is a prime number\n"
     ]
    }
   ],
   "source": [
    "start = 10\n",
    "end = 20\n",
    "\n",
    "for num in range(start, end+1):\n",
    "    if num < 2:\n",
    "        continue  # Skip 0, 1, and negative numbers\n",
    "    for i in range(2, num):\n",
    "        if num % i == 0:\n",
    "            break  # Not a prime number, move to the next number\n",
    "    else:\n",
    "        print(num, \"is a prime number\")"
   ]
  },
  {
   "cell_type": "code",
   "execution_count": 7,
   "id": "1a05af66",
   "metadata": {},
   "outputs": [
    {
     "name": "stdout",
     "output_type": "stream",
     "text": [
      "Current value of x: 0\n",
      "Current value of x: 1\n",
      "Current value of x: 2\n",
      "Current value of x: 3\n",
      "Current value of x: 4\n",
      "Current value of x: 5\n",
      "x is now 5, exiting the loop.\n"
     ]
    }
   ],
   "source": [
    "x = 0\n",
    "while True:\n",
    "    print(\"Current value of x:\", x)\n",
    "    if x == 5:\n",
    "        print(\"x is now 5, exiting the loop.\")\n",
    "        break\n",
    "    x += 1"
   ]
  },
  {
   "cell_type": "code",
   "execution_count": 8,
   "id": "152fd8e1",
   "metadata": {},
   "outputs": [],
   "source": [
    "for i in range(3):\n",
    "    for j in range(3):\n",
    "        if i * j > 4:\n",
    "            print(\"Breaking the nested loop\")\n",
    "            break  # Breaks out of the inner loop\n",
    "    else:\n",
    "        continue  # Continue if the inner loop was not broken\n",
    "    break  # Breaks out of the outer loop"
   ]
  },
  {
   "cell_type": "code",
   "execution_count": 9,
   "id": "a1daf233",
   "metadata": {},
   "outputs": [
    {
     "name": "stdout",
     "output_type": "stream",
     "text": [
      "Enter a number for the multiplication table (type 'exit' to quit): tr\n",
      "Please enter a valid number or 'exit' to quit.\n",
      "Enter a number for the multiplication table (type 'exit' to quit): exit\n",
      "Exiting the program...\n"
     ]
    }
   ],
   "source": [
    "while True:\n",
    "    # Get the number for which multiplication table is to be displayed\n",
    "    number = input(\"Enter a number for the multiplication table (type 'exit' to quit): \")\n",
    "\n",
    "    # Check if the user wants to exit\n",
    "    if number.lower() == 'exit':\n",
    "        print(\"Exiting the program...\")\n",
    "        break\n",
    "\n",
    "    # Check if the input is a valid integer\n",
    "    if not number.isdigit():\n",
    "        print(\"Please enter a valid number or 'exit' to quit.\")\n",
    "        continue\n",
    "\n",
    "    # Convert the input to an integer\n",
    "    number = int(number)\n",
    "\n",
    "    # Print the multiplication table\n",
    "    print(\"Multiplication table for\", number)\n",
    "    for i in range(1, 11):\n",
    "        print(number, \"x\", i, \"=\", number * i)"
   ]
  },
  {
   "cell_type": "markdown",
   "id": "3d7502cb",
   "metadata": {},
   "source": [
    "### Python Continue Statement\n",
    "The continue statement in python is used to bring the program control to the beginning of the loop. The continue\n",
    "statement skips the remaining lines of code inside the loop and continues with the next iteration.\n"
   ]
  },
  {
   "cell_type": "code",
   "execution_count": 10,
   "id": "5d3f2680",
   "metadata": {},
   "outputs": [
    {
     "name": "stdout",
     "output_type": "stream",
     "text": [
      "Example 1: Skipping even numbers\n",
      "1\n",
      "3\n",
      "5\n",
      "7\n",
      "9\n",
      "\n",
      "Example 2: Skipping specific values\n",
      "1\n",
      "2\n",
      "4\n",
      "5\n",
      "7\n",
      "8\n",
      "10\n",
      "\n",
      "Example 3: Skipping iterations based on user input\n",
      "Do you want to skip this iteration? (yes/no): y\n",
      "Iteration: 0\n",
      "Do you want to skip this iteration? (yes/no): y\n",
      "Iteration: 1\n",
      "Do you want to skip this iteration? (yes/no): n\n",
      "Iteration: 2\n",
      "Do you want to skip this iteration? (yes/no): nn\n",
      "Iteration: 3\n",
      "Do you want to skip this iteration? (yes/no): y\n",
      "Iteration: 4\n",
      "End of examples\n"
     ]
    }
   ],
   "source": [
    "# Example 1: Skipping even numbers in a loop\n",
    "print(\"Example 1: Skipping even numbers\")\n",
    "for i in range(1, 11):\n",
    "    if i % 2 == 0:\n",
    "        continue  # Skip even numbers\n",
    "    print(i)\n",
    "\n",
    "# Example 2: Skipping specific values in a list\n",
    "print(\"\\nExample 2: Skipping specific values\")\n",
    "numbers = [1, 2, 3, 4, 5, 6, 7, 8, 9, 10]\n",
    "for num in numbers:\n",
    "    if num % 3 == 0:\n",
    "        continue  # Skip multiples of 3\n",
    "    print(num)\n",
    "\n",
    "# Example 3: Skipping iterations based on user input\n",
    "print(\"\\nExample 3: Skipping iterations based on user input\")\n",
    "for i in range(5):\n",
    "    user_input = input(\"Do you want to skip this iteration? (yes/no): \")\n",
    "    if user_input.lower() == 'yes':\n",
    "        continue  # Skip this iteration\n",
    "    print(\"Iteration:\", i)\n",
    "\n",
    "print(\"End of examples\")\n"
   ]
  },
  {
   "cell_type": "code",
   "execution_count": 11,
   "id": "139bfca8",
   "metadata": {},
   "outputs": [
    {
     "name": "stdout",
     "output_type": "stream",
     "text": [
      "1\n",
      "2\n",
      "3\n",
      "4\n",
      "5\n"
     ]
    }
   ],
   "source": [
    "# Skip negative numbers and zero\n",
    "for i in range(-5, 6):\n",
    "    if i <= 0:\n",
    "        continue\n",
    "    print(i)"
   ]
  },
  {
   "cell_type": "code",
   "execution_count": 12,
   "id": "9e093c6a",
   "metadata": {},
   "outputs": [
    {
     "name": "stdout",
     "output_type": "stream",
     "text": [
      "apple\n",
      "kiwi\n"
     ]
    }
   ],
   "source": [
    "# Skip processing for strings longer than 5 characters\n",
    "words = [\"apple\", \"banana\", \"orange\", \"grapefruit\", \"kiwi\"]\n",
    "for word in words:\n",
    "    if len(word) > 5:\n",
    "        continue\n",
    "    print(word)"
   ]
  },
  {
   "cell_type": "code",
   "execution_count": 13,
   "id": "8bdb38c6",
   "metadata": {},
   "outputs": [
    {
     "name": "stdout",
     "output_type": "stream",
     "text": [
      "1\n",
      "2\n",
      "3\n",
      "4\n",
      "5\n",
      "7\n",
      "8\n",
      "9\n",
      "10\n"
     ]
    }
   ],
   "source": [
    "# Skip values divisible by both 2 and 3\n",
    "for i in range(1, 11):\n",
    "    if i % 2 == 0 and i % 3 == 0:\n",
    "        continue\n",
    "    print(i)"
   ]
  },
  {
   "cell_type": "markdown",
   "id": "82676a50",
   "metadata": {},
   "source": [
    "###  Pass Statement\n",
    "- The pass statement is a null operation since nothing happens when it is executed. It is used in the cases where a\n",
    "  statement is syntactically needed but we don't want to use any executable statement at its place.\n",
    "- For example, it can be used while overriding a parent class method in the subclass but don't want to give its\n",
    "  specific implementation in the subclass.\n",
    "- Pass is also used where the code will be written somewhere but not yet written in the program file"
   ]
  },
  {
   "cell_type": "code",
   "execution_count": 14,
   "id": "57e78250",
   "metadata": {},
   "outputs": [],
   "source": [
    "def my_function():\n",
    "    pass  # Placeholder for function implementation"
   ]
  },
  {
   "cell_type": "code",
   "execution_count": 15,
   "id": "1cc9d0d4",
   "metadata": {},
   "outputs": [],
   "source": [
    "class MyClass:\n",
    "    pass  # Placeholder for class definition"
   ]
  },
  {
   "cell_type": "code",
   "execution_count": 16,
   "id": "174a122d",
   "metadata": {},
   "outputs": [],
   "source": [
    "if True:\n",
    "    pass  # Placeholder for future action"
   ]
  },
  {
   "cell_type": "code",
   "execution_count": 1,
   "id": "d9a40a35",
   "metadata": {},
   "outputs": [
    {
     "name": "stdout",
     "output_type": "stream",
     "text": [
      "Implementation of my_method in SubClass\n"
     ]
    }
   ],
   "source": [
    "class BaseClass:\n",
    "    def my_method(self):\n",
    "        pass  # To be implemented by subclasses\n",
    "\n",
    "class SubClass(BaseClass):\n",
    "    def my_method(self):\n",
    "        print(\"Implementation of my_method in SubClass\")\n",
    "\n",
    "obj = SubClass()\n",
    "obj.my_method()  # This will print the message"
   ]
  },
  {
   "cell_type": "code",
   "execution_count": 3,
   "id": "594bdf2f",
   "metadata": {},
   "outputs": [
    {
     "name": "stdout",
     "output_type": "stream",
     "text": [
      "------------------------------ THE END ------------------------------\n"
     ]
    }
   ],
   "source": [
    "print(\"------\"*5,'THE END',\"------\"*5)"
   ]
  },
  {
   "cell_type": "markdown",
   "id": "27262179",
   "metadata": {},
   "source": [
    "Author: [Moguloju_Sai](https://linktr.ee/Moguloju_Sai)"
   ]
  }
 ],
 "metadata": {
  "kernelspec": {
   "display_name": "Python 3 (ipykernel)",
   "language": "python",
   "name": "python3"
  },
  "language_info": {
   "codemirror_mode": {
    "name": "ipython",
    "version": 3
   },
   "file_extension": ".py",
   "mimetype": "text/x-python",
   "name": "python",
   "nbconvert_exporter": "python",
   "pygments_lexer": "ipython3",
   "version": "3.10.9"
  }
 },
 "nbformat": 4,
 "nbformat_minor": 5
}
