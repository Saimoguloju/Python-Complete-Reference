{
 "cells": [
  {
   "cell_type": "markdown",
   "id": "c0bb3a1a",
   "metadata": {},
   "source": [
    "## Conditional Statements\n",
    "                                                                                                         "
   ]
  },
  {
   "cell_type": "markdown",
   "id": "6c325268",
   "metadata": {},
   "source": [
    "![Python logo](data:image/png;base64,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)"
   ]
  },
  {
   "cell_type": "markdown",
   "id": "b102c8c2",
   "metadata": {},
   "source": [
    "### The if statement\n",
    "- The if statement is used to execute one or more statements depending on\n",
    "  whether a condition is true or not. The condition of if statement can be any\n",
    "  valid logical expression which can be either evaluated to true or false. "
   ]
  },
  {
   "cell_type": "markdown",
   "id": "15bd9f86",
   "metadata": {},
   "source": [
    "### The if-else statement\n",
    "- The if-else statement provides an else block combined with the if statement which is executed in the false case of\n",
    "  the condition.\n",
    "- If the condition is true, then the if-block is executed. Otherwise, the else-block is executed."
   ]
  },
  {
   "cell_type": "markdown",
   "id": "8e500597",
   "metadata": {},
   "source": [
    "### The elif statement\n",
    "- The elif statement enables us to check multiple conditions and execute the specific block of statements\n",
    "  depending upon the true condition among them. We can have any number of elif statements in our\n",
    "  program depending upon our need. However, using elif is optional.\n",
    "- The elif statement works like an if-else-if ladder statement in C. It must be succeeded by an if\n",
    "  statement. "
   ]
  },
  {
   "cell_type": "markdown",
   "id": "a4ed866b",
   "metadata": {},
   "source": [
    "#### Examples "
   ]
  },
  {
   "cell_type": "code",
   "execution_count": 1,
   "id": "859befb8",
   "metadata": {},
   "outputs": [
    {
     "name": "stdout",
     "output_type": "stream",
     "text": [
      "x is positive.\n"
     ]
    }
   ],
   "source": [
    "# Example using the 'if' statement\n",
    "x = 10\n",
    "\n",
    "if x > 0:\n",
    "    print(\"x is positive.\")\n"
   ]
  },
  {
   "cell_type": "code",
   "execution_count": 2,
   "id": "71f9b0c6",
   "metadata": {},
   "outputs": [
    {
     "name": "stdout",
     "output_type": "stream",
     "text": [
      "x is non-positive.\n"
     ]
    }
   ],
   "source": [
    "# Example using the 'if-else' statement\n",
    "x = -5\n",
    "\n",
    "if x > 0:\n",
    "    print(\"x is positive.\")\n",
    "else:\n",
    "    print(\"x is non-positive.\")\n"
   ]
  },
  {
   "cell_type": "code",
   "execution_count": 3,
   "id": "5f124598",
   "metadata": {},
   "outputs": [
    {
     "name": "stdout",
     "output_type": "stream",
     "text": [
      "x is zero.\n"
     ]
    }
   ],
   "source": [
    "# Example using the 'if-elif-else' statement\n",
    "x = 0\n",
    "\n",
    "if x > 0:\n",
    "    print(\"x is positive.\")\n",
    "elif x == 0:\n",
    "    print(\"x is zero.\")\n",
    "else:\n",
    "    print(\"x is negative.\")\n"
   ]
  },
  {
   "cell_type": "code",
   "execution_count": 4,
   "id": "179f157d",
   "metadata": {},
   "outputs": [
    {
     "name": "stdout",
     "output_type": "stream",
     "text": [
      "x is a positive even number.\n"
     ]
    }
   ],
   "source": [
    "# Example of nested if statements\n",
    "x = 10\n",
    "\n",
    "if x > 0:\n",
    "    if x % 2 == 0:\n",
    "        print(\"x is a positive even number.\")\n",
    "    else:\n",
    "        print(\"x is a positive odd number.\")\n",
    "else:\n",
    "    print(\"x is non-positive.\")\n"
   ]
  },
  {
   "cell_type": "code",
   "execution_count": 5,
   "id": "230bcde6",
   "metadata": {},
   "outputs": [
    {
     "name": "stdout",
     "output_type": "stream",
     "text": [
      "x is a positive odd number.\n"
     ]
    }
   ],
   "source": [
    "# Example of multiple conditions in a single if statement\n",
    "x = 15\n",
    "\n",
    "if x > 0 and x % 2 == 0:\n",
    "    print(\"x is a positive even number.\")\n",
    "elif x > 0 and x % 2 != 0:\n",
    "    print(\"x is a positive odd number.\")\n",
    "else:\n",
    "    print(\"x is non-positive.\")\n"
   ]
  },
  {
   "cell_type": "code",
   "execution_count": 6,
   "id": "2ee33a21",
   "metadata": {},
   "outputs": [
    {
     "name": "stdout",
     "output_type": "stream",
     "text": [
      "x is positive\n"
     ]
    }
   ],
   "source": [
    "# Example of using conditional expressions\n",
    "x = 10\n",
    "\n",
    "# If x is greater than 0, assign 'positive' to result; otherwise, assign 'non-positive'\n",
    "result = 'positive' if x > 0 else 'non-positive'\n",
    "print(\"x is\", result)\n"
   ]
  },
  {
   "cell_type": "code",
   "execution_count": 7,
   "id": "f402ce1a",
   "metadata": {},
   "outputs": [
    {
     "name": "stdout",
     "output_type": "stream",
     "text": [
      "3 is present in the list.\n"
     ]
    }
   ],
   "source": [
    "# Example of using the 'in' operator in a conditional statement\n",
    "my_list = [1, 2, 3, 4, 5]\n",
    "\n",
    "if 3 in my_list:\n",
    "    print(\"3 is present in the list.\")\n"
   ]
  },
  {
   "cell_type": "code",
   "execution_count": 8,
   "id": "09243151",
   "metadata": {},
   "outputs": [
    {
     "name": "stdout",
     "output_type": "stream",
     "text": [
      "The string contains 'world'.\n"
     ]
    }
   ],
   "source": [
    "# Example of checking if a string contains a substring\n",
    "my_string = \"Hello, world!\"\n",
    "\n",
    "if \"world\" in my_string:\n",
    "    print(\"The string contains 'world'.\")\n"
   ]
  },
  {
   "cell_type": "code",
   "execution_count": 9,
   "id": "a82fc001",
   "metadata": {},
   "outputs": [
    {
     "name": "stdout",
     "output_type": "stream",
     "text": [
      "Even numbers: [2, 4]\n"
     ]
    }
   ],
   "source": [
    "# Example of using conditional statements inside list comprehensions\n",
    "numbers = [1, 2, 3, 4, 5]\n",
    "\n",
    "# Create a new list containing only even numbers from the original list\n",
    "even_numbers = [x for x in numbers if x % 2 == 0]\n",
    "print(\"Even numbers:\", even_numbers)\n"
   ]
  },
  {
   "cell_type": "code",
   "execution_count": 10,
   "id": "b13f8b64",
   "metadata": {},
   "outputs": [
    {
     "name": "stdout",
     "output_type": "stream",
     "text": [
      "John is an adult.\n"
     ]
    }
   ],
   "source": [
    "# Example of using conditional statements with dictionaries\n",
    "person = {\n",
    "    \"name\": \"John\",\n",
    "    \"age\": 30,\n",
    "    \"gender\": \"male\"\n",
    "}\n",
    "\n",
    "# Check if the person is an adult\n",
    "if person[\"age\"] >= 18:\n",
    "    print(person[\"name\"], \"is an adult.\")\n",
    "else:\n",
    "    print(person[\"name\"], \"is not an adult yet.\")\n"
   ]
  },
  {
   "cell_type": "code",
   "execution_count": 11,
   "id": "61858325",
   "metadata": {},
   "outputs": [
    {
     "name": "stdout",
     "output_type": "stream",
     "text": [
      "At least one element in the list is True.\n",
      "Not all elements in the list are True.\n"
     ]
    }
   ],
   "source": [
    "# Example of using any() and all() with conditional statements\n",
    "my_list = [True, False, True, True]\n",
    "\n",
    "# Check if any element in the list is True\n",
    "if any(my_list):\n",
    "    print(\"At least one element in the list is True.\")\n",
    "\n",
    "# Check if all elements in the list are True\n",
    "if all(my_list):\n",
    "    print(\"All elements in the list are True.\")\n",
    "else:\n",
    "    print(\"Not all elements in the list are True.\")\n"
   ]
  },
  {
   "cell_type": "code",
   "execution_count": 12,
   "id": "f3dffb75",
   "metadata": {},
   "outputs": [],
   "source": [
    "# Example of using conditional statements with zip()\n",
    "numbers1 = [1, 2, 3, 4, 5]\n",
    "numbers2 = [6, 7, 8, 9, 10]\n",
    "\n",
    "# Print pairs of numbers where the sum is even\n",
    "for num1, num2 in zip(numbers1, numbers2):\n",
    "    if (num1 + num2) % 2 == 0:\n",
    "        print(f\"Sum of {num1} and {num2} is even.\")\n"
   ]
  },
  {
   "cell_type": "code",
   "execution_count": 13,
   "id": "dd9cf084",
   "metadata": {},
   "outputs": [
    {
     "name": "stdout",
     "output_type": "stream",
     "text": [
      "Fruit at index 1: banana\n"
     ]
    }
   ],
   "source": [
    "# Example of using conditional statements with enumerate()\n",
    "fruits = [\"apple\", \"banana\", \"cherry\", \"date\"]\n",
    "\n",
    "# Print the index and fruit name for fruits starting with 'b'\n",
    "for idx, fruit in enumerate(fruits):\n",
    "    if fruit.startswith('b'):\n",
    "        print(f\"Fruit at index {idx}: {fruit}\")\n"
   ]
  },
  {
   "cell_type": "code",
   "execution_count": 14,
   "id": "6fdbdd1a",
   "metadata": {},
   "outputs": [
    {
     "name": "stdout",
     "output_type": "stream",
     "text": [
      "0 is even.\n",
      "1 is odd.\n",
      "2 is even.\n",
      "3 is odd.\n",
      "4 is even.\n",
      "5 is odd.\n",
      "6 is even.\n",
      "7 is odd.\n",
      "8 is even.\n",
      "9 is odd.\n"
     ]
    }
   ],
   "source": [
    "# Example of using conditional statements with range()\n",
    "for num in range(10):\n",
    "    if num % 2 == 0:\n",
    "        print(f\"{num} is even.\")\n",
    "    else:\n",
    "        print(f\"{num} is odd.\")\n"
   ]
  },
  {
   "cell_type": "code",
   "execution_count": 15,
   "id": "5568e4ac",
   "metadata": {},
   "outputs": [
    {
     "name": "stdout",
     "output_type": "stream",
     "text": [
      "All numbers in the list are even.\n",
      "All numbers in the list are multiples of 2.\n"
     ]
    }
   ],
   "source": [
    "# Example of using any() and all() functions with conditional statements\n",
    "numbers = [2, 4, 6, 8, 10]\n",
    "\n",
    "# Check if any number in the list is odd\n",
    "if any(num % 2 != 0 for num in numbers):\n",
    "    print(\"At least one number in the list is odd.\")\n",
    "else:\n",
    "    print(\"All numbers in the list are even.\")\n",
    "\n",
    "# Check if all numbers in the list are multiples of 2\n",
    "if all(num % 2 == 0 for num in numbers):\n",
    "    print(\"All numbers in the list are multiples of 2.\")\n",
    "else:\n",
    "    print(\"Not all numbers in the list are multiples of 2.\")\n"
   ]
  },
  {
   "cell_type": "code",
   "execution_count": 16,
   "id": "3520a675",
   "metadata": {},
   "outputs": [
    {
     "name": "stdout",
     "output_type": "stream",
     "text": [
      "Cannot divide by zero.\n"
     ]
    }
   ],
   "source": [
    "# Example of using conditional statements with exception handling\n",
    "try:\n",
    "    result = 10 / 0\n",
    "except ZeroDivisionError:\n",
    "    print(\"Cannot divide by zero.\")\n",
    "else:\n",
    "    print(\"Division result:\", result)\n"
   ]
  },
  {
   "cell_type": "code",
   "execution_count": 1,
   "id": "7648f45b",
   "metadata": {},
   "outputs": [
    {
     "name": "stdout",
     "output_type": "stream",
     "text": [
      "------------------------------ THE END ------------------------------\n"
     ]
    }
   ],
   "source": [
    "print(\"------\"*5,'THE END',\"------\"*5)"
   ]
  },
  {
   "cell_type": "markdown",
   "id": "4e218f98",
   "metadata": {},
   "source": [
    "Author: [Moguloju_Sai](https://linktr.ee/Moguloju_Sai)"
   ]
  }
 ],
 "metadata": {
  "kernelspec": {
   "display_name": "Python 3 (ipykernel)",
   "language": "python",
   "name": "python3"
  },
  "language_info": {
   "codemirror_mode": {
    "name": "ipython",
    "version": 3
   },
   "file_extension": ".py",
   "mimetype": "text/x-python",
   "name": "python",
   "nbconvert_exporter": "python",
   "pygments_lexer": "ipython3",
   "version": "3.10.9"
  }
 },
 "nbformat": 4,
 "nbformat_minor": 5
}
