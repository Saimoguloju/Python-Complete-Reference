{
 "cells": [
  {
   "cell_type": "markdown",
   "id": "1e7d8725",
   "metadata": {},
   "source": [
    "## Input and output statements\n",
    "                                                                                                    "
   ]
  },
  {
   "cell_type": "markdown",
   "id": "d02c2c90",
   "metadata": {},
   "source": [
    "![Python logo](https://www.computerhope.com/jargon/i/input-output-statement.png)"
   ]
  },
  {
   "cell_type": "markdown",
   "id": "add4bd44",
   "metadata": {},
   "source": [
    "#### Reading dynamic input from the keyboard:"
   ]
  },
  {
   "cell_type": "markdown",
   "id": "537ad691",
   "metadata": {},
   "source": [
    "***input():***\n",
    "This function always reads the data from the keyboard in the form of String Format.\n",
    "We have to convert that string type to our required type by using the corresponding type\n",
    "casting methods.\n"
   ]
  },
  {
   "cell_type": "code",
   "execution_count": 1,
   "id": "41de8c02",
   "metadata": {},
   "outputs": [
    {
     "name": "stdout",
     "output_type": "stream",
     "text": [
      "Enter First Number:20 26\n",
      "<class 'str'>\n"
     ]
    }
   ],
   "source": [
    "# only takes string\n",
    "x = input(\"Enter First Number:\")\n",
    "print(type(x))"
   ]
  },
  {
   "cell_type": "code",
   "execution_count": 2,
   "id": "25a4d3b4",
   "metadata": {},
   "outputs": [
    {
     "name": "stdout",
     "output_type": "stream",
     "text": [
      "Enter First Number:4\n",
      "<class 'int'>\n"
     ]
    }
   ],
   "source": [
    "# with int() we can write int values\n",
    "x = int(input(\"Enter First Number:\"))\n",
    "print(type(x))"
   ]
  },
  {
   "cell_type": "code",
   "execution_count": 3,
   "id": "95559fe7",
   "metadata": {},
   "outputs": [
    {
     "name": "stdout",
     "output_type": "stream",
     "text": [
      "Enter 2 numbers:34 45\n",
      "Product is : 1530\n"
     ]
    }
   ],
   "source": [
    "a, b = [int(x) for x in input(\"Enter 2 numbers:\").split()]\n",
    "print(\"Product is :\", a*b)"
   ]
  },
  {
   "cell_type": "markdown",
   "id": "2faa54e0",
   "metadata": {},
   "source": [
    "#### Note:\n",
    "***split()*** function can take space as seperator by default. But we can pass anything as seperator"
   ]
  },
  {
   "cell_type": "markdown",
   "id": "543f6125",
   "metadata": {},
   "source": [
    "### Out put statements \n",
    "we can ***use print()*** function to display output  "
   ]
  },
  {
   "cell_type": "markdown",
   "id": "421aaa49",
   "metadata": {},
   "source": [
    "##### Form-1: print() without any argument\n",
    "    Just it prints new line character"
   ]
  },
  {
   "cell_type": "markdown",
   "id": "90c36e15",
   "metadata": {},
   "source": [
    "##### Form-2:print() with variable number of arguments:"
   ]
  },
  {
   "cell_type": "code",
   "execution_count": 4,
   "id": "c7676c04",
   "metadata": {},
   "outputs": [
    {
     "name": "stdout",
     "output_type": "stream",
     "text": [
      "The Values are: 10 20 30\n"
     ]
    }
   ],
   "source": [
    "a,b,c = 10,20,30\n",
    "print(\"The Values are:\", a,b,c)"
   ]
  },
  {
   "cell_type": "markdown",
   "id": "e3b663cb",
   "metadata": {},
   "source": [
    "By default output values are seperated by space.If we want we can specify seperator by using \"sep\" attribute.\n"
   ]
  },
  {
   "cell_type": "markdown",
   "id": "6cdd0818",
   "metadata": {},
   "source": [
    "#### Form-3:print() with end attribute:"
   ]
  },
  {
   "cell_type": "code",
   "execution_count": 5,
   "id": "5cd52557",
   "metadata": {},
   "outputs": [
    {
     "name": "stdout",
     "output_type": "stream",
     "text": [
      "Data\n",
      "Science\n",
      "Engineer\n"
     ]
    }
   ],
   "source": [
    "print(\"Data\")\n",
    "print(\"Science\")\n",
    "print(\"Engineer\")"
   ]
  },
  {
   "cell_type": "markdown",
   "id": "8f7fd485",
   "metadata": {},
   "source": [
    "#### Form-4: print(object) statement:\n",
    "We can pass any object (like list,tuple,set etc)as argument to the print() statement."
   ]
  },
  {
   "cell_type": "code",
   "execution_count": 6,
   "id": "eeb2d9c6",
   "metadata": {},
   "outputs": [
    {
     "name": "stdout",
     "output_type": "stream",
     "text": [
      "[10, 20, 30, 40, 50]\n",
      "[10, 20, 30, 40]\n"
     ]
    }
   ],
   "source": [
    "l=[10,20,30,40,50]\n",
    "t=[10,20,30,40]\n",
    "print(l)\n",
    "print(t)"
   ]
  },
  {
   "cell_type": "markdown",
   "id": "54a626c1",
   "metadata": {},
   "source": [
    "#### Form-5: print(String,variable list):\n",
    "We can use print() statement with String and any number of arguments."
   ]
  },
  {
   "cell_type": "code",
   "execution_count": 7,
   "id": "bd074956",
   "metadata": {},
   "outputs": [
    {
     "name": "stdout",
     "output_type": "stream",
     "text": [
      "Hello Sai Your age is  26\n",
      "You are teaching java and python\n"
     ]
    }
   ],
   "source": [
    "s=\"Sai\"\n",
    "a=26\n",
    "s1=\"java\"\n",
    "s2=\"python\"\n",
    "print(\"Hello\",s,\"Your age is \",a)\n",
    "print(\"You are teaching\",s1 , \"and\" , s2)"
   ]
  },
  {
   "cell_type": "markdown",
   "id": "143b4673",
   "metadata": {},
   "source": [
    "# Form-6: print(formatted string):\n",
    "- %i====>int\n",
    "- %d====>int\n",
    "- %f=====>float\n",
    "- %s======>String type\n",
    "- ***Syntax***\n",
    "print(\"formatted string\" %(variable list))"
   ]
  },
  {
   "cell_type": "code",
   "execution_count": 8,
   "id": "00b95707",
   "metadata": {},
   "outputs": [
    {
     "name": "stdout",
     "output_type": "stream",
     "text": [
      "a value is 10\n",
      "b value is 20 and c value is 30\n"
     ]
    }
   ],
   "source": [
    "a=10\n",
    "b=20\n",
    "c=30\n",
    "print(\"a value is %i\" %a)\n",
    "print(\"b value is %d and c value is %d\" %(b,c))"
   ]
  },
  {
   "cell_type": "code",
   "execution_count": 9,
   "id": "a4350d66",
   "metadata": {},
   "outputs": [
    {
     "name": "stdout",
     "output_type": "stream",
     "text": [
      "Hello Sai The List of Items are [10, 20, 30, 40]\n"
     ]
    }
   ],
   "source": [
    "s=\"Sai\"\n",
    "list=[10,20,30,40]\n",
    "print(\"Hello %s The List of Items are %s\" %(s,list))"
   ]
  },
  {
   "cell_type": "markdown",
   "id": "075b5f88",
   "metadata": {},
   "source": [
    "#### Form-7: print() with replacement operator {}"
   ]
  },
  {
   "cell_type": "code",
   "execution_count": 10,
   "id": "aff71908",
   "metadata": {},
   "outputs": [
    {
     "name": "stdout",
     "output_type": "stream",
     "text": [
      "Hello Durga your salary is 10000 and Your Friend Sunny is waiting\n",
      "Hello Durga your salary is 10000 and Your Friend Sunny is waiting\n"
     ]
    }
   ],
   "source": [
    "name=\"Durga\"\n",
    "salary=10000\n",
    "gf=\"Sunny\"\n",
    "print(\"Hello {0} your salary is {1} and Your Friend {2} is waiting\".format(name,salary,gf))\n",
    "print(\"Hello {x} your salary is {y} and Your Friend {z} is waiting\".format(x=name,y=salary,z=gf))"
   ]
  },
  {
   "cell_type": "markdown",
   "id": "25db73b4",
   "metadata": {},
   "source": [
    "### Indentation"
   ]
  },
  {
   "cell_type": "markdown",
   "id": "2c048b28",
   "metadata": {},
   "source": [
    " - Most of the programming languages like C, C++, Java use braces { } to       define a block of code. Python uses indentation.\n",
    "- A code block (body of a function, loop etc.) starts with indentation and     ends with the first unindented line. The amount of indentation is up to       you, but it must be consistent throughout that block.\n",
    "- Generally four whitespaces are used for indentation and is preferred over     tabs.The enforcement of indentation in Python makes the code look neat and   clean. This results into Python programs that look similar and consistent.\n",
    "- Indentation can be ignored in line continuation. But it's a good idea to     always indent. It makes the code more readable. For example:\n",
    "\n"
   ]
  },
  {
   "cell_type": "code",
   "execution_count": 11,
   "id": "c257e1c5",
   "metadata": {},
   "outputs": [
    {
     "name": "stdout",
     "output_type": "stream",
     "text": [
      "Hello\n"
     ]
    }
   ],
   "source": [
    "if True:\n",
    "    print(\"Hello\")\n",
    "    a=50"
   ]
  },
  {
   "cell_type": "code",
   "execution_count": 12,
   "id": "b79390e9",
   "metadata": {},
   "outputs": [
    {
     "name": "stdout",
     "output_type": "stream",
     "text": [
      "Hello\n"
     ]
    }
   ],
   "source": [
    "if True: print(\"Hello\"); a=5"
   ]
  },
  {
   "cell_type": "markdown",
   "id": "bf1d3a2a",
   "metadata": {},
   "source": [
    "Both are valid and do the same thing. But the former style is clearer.  "
   ]
  },
  {
   "cell_type": "code",
   "execution_count": 2,
   "id": "448d977b",
   "metadata": {},
   "outputs": [
    {
     "name": "stdout",
     "output_type": "stream",
     "text": [
      "------------------------- THE END -------------------------\n"
     ]
    }
   ],
   "source": [
    "print(\"-----\"*5,'THE END',\"-----\"*5)"
   ]
  },
  {
   "cell_type": "markdown",
   "id": "63d2ab32",
   "metadata": {},
   "source": [
    "Author: [Moguloju_Sai](https://linktr.ee/Moguloju_Sai)"
   ]
  }
 ],
 "metadata": {
  "kernelspec": {
   "display_name": "Python 3 (ipykernel)",
   "language": "python",
   "name": "python3"
  },
  "language_info": {
   "codemirror_mode": {
    "name": "ipython",
    "version": 3
   },
   "file_extension": ".py",
   "mimetype": "text/x-python",
   "name": "python",
   "nbconvert_exporter": "python",
   "pygments_lexer": "ipython3",
   "version": "3.10.9"
  }
 },
 "nbformat": 4,
 "nbformat_minor": 5
}
