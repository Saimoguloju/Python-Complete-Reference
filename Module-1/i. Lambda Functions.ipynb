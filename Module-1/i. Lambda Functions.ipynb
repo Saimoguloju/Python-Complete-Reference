{
 "cells": [
  {
   "cell_type": "markdown",
   "id": "9d2a3395",
   "metadata": {},
   "source": [
    "## Lambda Functions\n",
    "                                                                                                        "
   ]
  },
  {
   "cell_type": "markdown",
   "id": "3ff57921",
   "metadata": {},
   "source": [
    "![Python logo](data:image/png;base64,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)"
   ]
  },
  {
   "cell_type": "markdown",
   "id": "9757052a",
   "metadata": {},
   "source": [
    "***A function without a name is called ‘anonymous function’.*** Python allows us to not\n",
    "declare the function in the standard manner, i.e., by using the def keyword. Rather, the\n",
    "anonymous functions are declared by using lambda keyword. However, Lambda functions\n",
    "can accept any number of arguments, but they can return only one value in the form of\n",
    "expression."
   ]
  },
  {
   "cell_type": "markdown",
   "id": "c59e2545",
   "metadata": {},
   "source": [
    "The anonymous function contains a small piece of code. It simulates inline functions of C\n",
    "and C++, but it is not exactly an inline function."
   ]
  },
  {
   "cell_type": "code",
   "execution_count": 1,
   "id": "7e1d747b",
   "metadata": {},
   "outputs": [
    {
     "name": "stdout",
     "output_type": "stream",
     "text": [
      "sum =  30\n"
     ]
    }
   ],
   "source": [
    "x = lambda a:a+10 \n",
    "print(\"sum = \",x(20))"
   ]
  },
  {
   "cell_type": "code",
   "execution_count": 2,
   "id": "085e9f49",
   "metadata": {},
   "outputs": [
    {
     "name": "stdout",
     "output_type": "stream",
     "text": [
      "sum =  30\n"
     ]
    }
   ],
   "source": [
    "x = lambda a,b:a+b \n",
    "print(\"sum = \",x(20,10))"
   ]
  },
  {
   "cell_type": "code",
   "execution_count": 3,
   "id": "78a76421",
   "metadata": {},
   "outputs": [
    {
     "name": "stdout",
     "output_type": "stream",
     "text": [
      "Enter the number?11\n",
      "11 X 1 = 11\n",
      "11 X 2 = 22\n",
      "11 X 3 = 33\n",
      "11 X 4 = 44\n",
      "11 X 5 = 55\n",
      "11 X 6 = 66\n",
      "11 X 7 = 77\n",
      "11 X 8 = 88\n",
      "11 X 9 = 99\n",
      "11 X 10 = 110\n"
     ]
    }
   ],
   "source": [
    "def table(n):\n",
    "    return lambda a:a*n;\n",
    "n = int(input(\"Enter the number?\"))\n",
    "b = table(n)\n",
    "for i in range(1,11):\n",
    "    print(n,\"X\",i,\"=\",b(i));"
   ]
  },
  {
   "cell_type": "code",
   "execution_count": 4,
   "id": "4b46bd9f",
   "metadata": {},
   "outputs": [
    {
     "name": "stdout",
     "output_type": "stream",
     "text": [
      "[3, 123]\n"
     ]
    }
   ],
   "source": [
    "List = {1,2,3,4,10,123,22}\n",
    "Oddlist = list(filter(lambda x:(x%3 == 0),List))\n",
    "print(Oddlist)"
   ]
  },
  {
   "cell_type": "code",
   "execution_count": 5,
   "id": "c9ad34be",
   "metadata": {},
   "outputs": [
    {
     "name": "stdout",
     "output_type": "stream",
     "text": [
      "[3, 6, 9, 12, 66, 30, 369]\n"
     ]
    }
   ],
   "source": [
    "List = {1,2,3,4,10,123,22}\n",
    "new_list = list(map(lambda x:x*3,List))\n",
    "print(new_list)"
   ]
  },
  {
   "cell_type": "code",
   "execution_count": 6,
   "id": "d3a00b89",
   "metadata": {},
   "outputs": [
    {
     "name": "stdout",
     "output_type": "stream",
     "text": [
      "[(5, 0), (3, 1), (1, 2)]\n"
     ]
    }
   ],
   "source": [
    "data = [(1, 2), (3, 1), (5, 0)]\n",
    "sorted_data = sorted(data, key=lambda x: x[1])\n",
    "print(sorted_data)   "
   ]
  },
  {
   "cell_type": "code",
   "execution_count": 7,
   "id": "d09a7e35",
   "metadata": {},
   "outputs": [
    {
     "name": "stdout",
     "output_type": "stream",
     "text": [
      "[1, 3, 5]\n"
     ]
    }
   ],
   "source": [
    "numbers = [1, 2, 3, 4, 5, 6]\n",
    "odd_numbers = list(filter(lambda x: x % 2 != 0, numbers))\n",
    "print(odd_numbers)   "
   ]
  },
  {
   "cell_type": "code",
   "execution_count": 8,
   "id": "56fc96b9",
   "metadata": {},
   "outputs": [
    {
     "name": "stdout",
     "output_type": "stream",
     "text": [
      "[1, 4, 9, 16, 25]\n"
     ]
    }
   ],
   "source": [
    "numbers = [1, 2, 3, 4, 5]\n",
    "squared_numbers = list(map(lambda x: x ** 2, numbers))\n",
    "print(squared_numbers)  "
   ]
  },
  {
   "cell_type": "code",
   "execution_count": 9,
   "id": "970fd859",
   "metadata": {},
   "outputs": [
    {
     "name": "stdout",
     "output_type": "stream",
     "text": [
      "[1, 4, 9, 16, 25]\n"
     ]
    }
   ],
   "source": [
    "numbers = [1, 2, 3, 4, 5]\n",
    "squared_numbers = list(map(lambda x: x ** 2, numbers))\n",
    "print(squared_numbers)   "
   ]
  },
  {
   "cell_type": "code",
   "execution_count": 10,
   "id": "7fc5f469",
   "metadata": {},
   "outputs": [
    {
     "name": "stdout",
     "output_type": "stream",
     "text": [
      "8\n"
     ]
    }
   ],
   "source": [
    "power = lambda base, exponent: base ** exponent\n",
    "print(power(2, 3))   "
   ]
  },
  {
   "cell_type": "code",
   "execution_count": 11,
   "id": "6fa111e9",
   "metadata": {},
   "outputs": [
    {
     "name": "stdout",
     "output_type": "stream",
     "text": [
      "10\n"
     ]
    }
   ],
   "source": [
    "max_num = lambda a, b: a if a > b else b\n",
    "print(max_num(5, 10))   "
   ]
  },
  {
   "cell_type": "code",
   "execution_count": 12,
   "id": "b7827c5e",
   "metadata": {},
   "outputs": [
    {
     "name": "stdout",
     "output_type": "stream",
     "text": [
      "15\n"
     ]
    }
   ],
   "source": [
    "def make_incrementor(n):\n",
    "    return lambda x: x + n\n",
    "\n",
    "increment_by_5 = make_incrementor(5)\n",
    "print(increment_by_5(10))   "
   ]
  },
  {
   "cell_type": "code",
   "execution_count": 13,
   "id": "baf72f2f",
   "metadata": {},
   "outputs": [
    {
     "name": "stdout",
     "output_type": "stream",
     "text": [
      "15\n",
      "10\n"
     ]
    }
   ],
   "source": [
    "default_add = lambda x, y=10: x + y\n",
    "print(default_add(5))     \n",
    "print(default_add(5, 5))  "
   ]
  },
  {
   "cell_type": "code",
   "execution_count": 14,
   "id": "ac6a9a1b",
   "metadata": {},
   "outputs": [
    {
     "name": "stdout",
     "output_type": "stream",
     "text": [
      "------------------------------ THE END ------------------------------\n"
     ]
    }
   ],
   "source": [
    "print(\"------\"*5,'THE END',\"------\"*5)"
   ]
  },
  {
   "cell_type": "markdown",
   "id": "f88614c7",
   "metadata": {},
   "source": [
    "Author: [Moguloju_Sai](https://linktr.ee/Moguloju_Sai)"
   ]
  }
 ],
 "metadata": {
  "kernelspec": {
   "display_name": "Python 3 (ipykernel)",
   "language": "python",
   "name": "python3"
  },
  "language_info": {
   "codemirror_mode": {
    "name": "ipython",
    "version": 3
   },
   "file_extension": ".py",
   "mimetype": "text/x-python",
   "name": "python",
   "nbconvert_exporter": "python",
   "pygments_lexer": "ipython3",
   "version": "3.10.9"
  }
 },
 "nbformat": 4,
 "nbformat_minor": 5
}
