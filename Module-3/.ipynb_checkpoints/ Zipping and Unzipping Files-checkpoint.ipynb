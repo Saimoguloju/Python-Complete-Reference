{
 "cells": [
  {
   "cell_type": "markdown",
   "id": "34b7ee37",
   "metadata": {},
   "source": [
    "## Zipping and Unzipping Files:"
   ]
  },
  {
   "cell_type": "markdown",
   "id": "917625d0",
   "metadata": {},
   "source": [
    "### What is Zip File?\n",
    "Zip is an archive file format which supports the lossless data compression. The Zip file is a single \n",
    "file containing one or more compressed files.\n",
    "#### Uses for Zip File\n",
    "- Zip files help you to put all related files in one place.\n",
    "- Zip files help to reduce the data size.\n",
    "- Zip files transfer faster than the individual file over many connections\n",
    "To perform zip and unzip operations, Python contains one in-bulit module zipfile.\n",
    "This module contains a class : ZipFile."
   ]
  },
  {
   "cell_type": "markdown",
   "id": "38b1ddd0",
   "metadata": {},
   "source": [
    "### To create Zip file:\n",
    "- We have to create ZipFile class object with name of the zipfile, mode and constant ZIP_DEFLATED. This constant represents we are creating zip file.\n",
    "###### f = ZipFile(\"files.zip\",\"w\",\"ZIP_DEFLATED\")\n",
    "- Once we create ZipFile object,we can add files by using write() method.\n",
    "###### f.write(filename)"
   ]
  },
  {
   "cell_type": "code",
   "execution_count": 1,
   "id": "2333272d",
   "metadata": {},
   "outputs": [
    {
     "name": "stdout",
     "output_type": "stream",
     "text": [
      "----------------------------------- THE END -----------------------------------\n"
     ]
    }
   ],
   "source": [
    "print(\"-------\"*5,'THE END',\"-------\"*5)"
   ]
  },
  {
   "cell_type": "markdown",
   "id": "281e797d",
   "metadata": {},
   "source": [
    "Author: [Moguloju_Sai](https://linktr.ee/Moguloju_Sai)"
   ]
  }
 ],
 "metadata": {
  "kernelspec": {
   "display_name": "Python 3 (ipykernel)",
   "language": "python",
   "name": "python3"
  },
  "language_info": {
   "codemirror_mode": {
    "name": "ipython",
    "version": 3
   },
   "file_extension": ".py",
   "mimetype": "text/x-python",
   "name": "python",
   "nbconvert_exporter": "python",
   "pygments_lexer": "ipython3",
   "version": "3.10.9"
  }
 },
 "nbformat": 4,
 "nbformat_minor": 5
}
