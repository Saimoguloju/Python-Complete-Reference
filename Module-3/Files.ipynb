{
 "cells": [
  {
   "cell_type": "markdown",
   "id": "d7b94e64",
   "metadata": {},
   "source": [
    "## File Handling"
   ]
  },
  {
   "cell_type": "markdown",
   "id": "79ba7651",
   "metadata": {},
   "source": [
    "- Till now, we were taking the input from the console and writing it back to the console to interact with the user.\n",
    "- Sometimes, it is not enough to only display the data on the console. The data to be displayed may be very large, and only a limited amount of data can be displayed on the console, and since the memory is volatile, it is impossible to recover the programmatically generated data again and again.\n",
    "- If the data is stored in a place, it is called a file.\n",
    "- Each & every organization depends on its data for its day to day activities that has been accumulating since its inception.\n",
    "- Data being generated over the years is vast and require measures to handle. This is the reason computers are used to handle data, especially for storing and retrieving. Later on, programs are developed to process the data stored in computers.\n",
    "- In computers, we store data in the form of files.\n",
    "#### Ex:\n",
    "We can stores details of employees (i.e employee data) working in a organization like employee \n",
    "number, name, contact info, salary & so on in a file in the computer.\n",
    "- From the perspective of computer, a file is a collection of data that is available to a program for processing.\n",
    "- However, if we need to do so, we may store it onto the local file system which is volatile and can be accessed every time. Here, comes the need of file handling."
   ]
  },
  {
   "cell_type": "markdown",
   "id": "b5fede38",
   "metadata": {},
   "source": [
    "Advantages of storing data in a file.\n",
    "1. Data can be stored permanently.\n",
    "2. It enables the updating of the file data.\n",
    "3. It enables the sharing of file across various programs.\n",
    "4. Large amount of data can be stored"
   ]
  },
  {
   "cell_type": "markdown",
   "id": "2b3e5b16",
   "metadata": {},
   "source": [
    "### Types of Files:\n",
    "There are 2 types of files\n",
    "#### 1. Text Files:\n",
    "we can use text files to store character data\n",
    "###### eg: abc.txt\n",
    "#### 2. Binary Files:\n",
    "Binary files store entire data in the form of bytes, i.e a group of 8 bits each.\n",
    "Binary files can be used to store text, images, audio & video"
   ]
  },
  {
   "cell_type": "markdown",
   "id": "cafd8d57",
   "metadata": {},
   "source": [
    "### Opening a File:\n",
    "Before performing any operation (like read or write) on the file, first we have to open that file. For \n",
    "this we should use Python's inbuilt function open(). But at the time of open, we have to specify mode, which \n",
    "represents the purpose of opening file.\n",
    "###### f = open(filename, mode)\n",
    "- open() function accepts two arguments, file name and access mode in which the file is accessed. The function returns a file object which can be used to perform various operations like reading, writing, etc.\n",
    "- ‘file_name” refers to name of the file which is to be opened in the “mode” specified using “open_mode” argument.\n",
    "The allowed modes in Python are:\n",
    "1. r :open an existing file for read operation. The file pointer is positioned at the beginning of the file.If the specified file does not exist then we will get FileNotFoundError. This is default mode.\n",
    "2. w: open an existing file for write operation. If the file already contains some data then it will be overridden. If the specified file is not already available then this mode will create that file.\n",
    "3. a : open an existing file for append operation. It won't override existing data. If the specified file is not already available then this mode will create a new file.\n",
    "4. r+: To read and write data into the file. The previous data in the file will not be deleted. The file pointer is placed at the beginning of the file.\n",
    "5. w+: To write and read data. It will override existing data.\n",
    "6. a+ : To append and read data from the file. It won’t override existing data.\n",
    "7. x : To open a file in exclusive creation mode for write operation. If the file already exists then we will get FileExistsError.(compulsory file should not be available)\n",
    "###### Note:\n",
    "All the above modes are applicable for text files. If the above modes suffixed with 'b' then these \n",
    "represents for binary files.\n",
    "###### Eg: rb,wb,ab,rb+,wb+,ab+\n",
    "###### f = open(\"abc.txt\",\"wb\")\n",
    "We are opening abc.txt file for writing data.\n",
    "1. rb :It opens the file to read only in binary format. The file pointer exists at the beginning of the file.\n",
    "2. rb+:It opens the file to read and write both in binary format. The file pointer exists at the beginning of the file.\n",
    "3. wb: It opens the file to write only in binary format. It overwrites the file if it exists previously or creates a new one if no file exists with the same name. The file pointer exists at the beginning of the file.\n",
    "4. wb+:It opens the file to write and read both in binary format. The file pointer exists at the beginning of the file.\n",
    "5. ab: It opens the file in the append mode in binary format. The pointer exists at the end of the previously written file. It creates a new file in binary format if no file exists with the same name.\n",
    "6. ab+:It opens a file to append and read both in binary format. The file pointer remains at the end of the file."
   ]
  },
  {
   "cell_type": "markdown",
   "id": "a6f025ba",
   "metadata": {},
   "source": [
    "#### Closing a File:\n",
    "After completing our operations on the file, it is highly recommended to close the file.\n",
    "For this we have to use close() function.\n",
    "```python\n",
    "f.close()\n",
    "```\n",
    "#### Properties of File Object:\n",
    "Once we opend a file and we got file object, we can get various details related to that file by using its \n",
    "properties.\n",
    "- name :Name of opened file\n",
    "- mode: Mode in which the file is opened\n",
    "- closed: Returns boolean value indicates that file is closed or not\n",
    "- readable(): Retruns boolean value indicates that whether file is readable or not\n",
    "- writable(): Returns boolean value indicates that whether file is writable or not"
   ]
  },
  {
   "cell_type": "code",
   "execution_count": 1,
   "id": "7ddf90e1",
   "metadata": {},
   "outputs": [
    {
     "name": "stdout",
     "output_type": "stream",
     "text": [
      "File Name:  abc.txt\n",
      "File Mode:  w\n",
      "Is File Readable:  False\n",
      "Is File Writable:  True\n",
      "Is File Closed :  False\n",
      "Is File Closed :  True\n"
     ]
    }
   ],
   "source": [
    "f=open(\"abc.txt\",'w')\n",
    "print(\"File Name: \",f.name)\n",
    "print(\"File Mode: \",f.mode)\n",
    "print(\"Is File Readable: \",f.readable())\n",
    "print(\"Is File Writable: \",f.writable())\n",
    "print(\"Is File Closed : \",f.closed)\n",
    "f.close()\n",
    "print(\"Is File Closed : \",f.closed)"
   ]
  },
  {
   "cell_type": "markdown",
   "id": "6f1d0e2a",
   "metadata": {},
   "source": [
    "### Writing data to text files:\n",
    "- We can write character data to the text files by using the following 2 methods.\n",
    "- write(str)…….used to write single line of text\n",
    "- writelines(list of lines)…. Used to write multiple lines of text"
   ]
  },
  {
   "cell_type": "code",
   "execution_count": 2,
   "id": "84dd591a",
   "metadata": {},
   "outputs": [
    {
     "name": "stdout",
     "output_type": "stream",
     "text": [
      "Data written to the file successfully\n"
     ]
    }
   ],
   "source": [
    "f=open(\"abcd.txt\",'w')\n",
    "f.write(\"Master\\n\")\n",
    "f.write(\"Leo\\n\")\n",
    "f.write(\"Sarkar\\n\")\n",
    "print(\"Data written to the file successfully\")\n",
    "f.close()"
   ]
  },
  {
   "cell_type": "markdown",
   "id": "f3819149",
   "metadata": {},
   "source": [
    "In the above program, data present in the file will be overridden everytime if we run the program. \n",
    "Instead of overriding if we want append operation then we should open the file as follows.\n",
    "f = open(\"abcd.txt\",\"a\")"
   ]
  },
  {
   "cell_type": "code",
   "execution_count": 3,
   "id": "484777ec",
   "metadata": {},
   "outputs": [
    {
     "name": "stdout",
     "output_type": "stream",
     "text": [
      "List of lines written to the file successfully\n"
     ]
    }
   ],
   "source": [
    "f=open(\"abcd.txt\",'w')\n",
    "list=[\"sunny\\n\",\"bunny\\n\",\"vinny\\n\",\"chinny\"]\n",
    "f.writelines(list)\n",
    "print(\"List of lines written to the file successfully\")\n",
    "f.close()"
   ]
  },
  {
   "cell_type": "markdown",
   "id": "5129b71f",
   "metadata": {},
   "source": [
    "##### Note:\n",
    "while writing data by using write() methods, compulsory we have to provide line seperator(\\n),\n",
    "otherwise total data should be written to a single line."
   ]
  },
  {
   "cell_type": "markdown",
   "id": "19ec7a43",
   "metadata": {},
   "source": [
    "### Reading Character Data from text files:\n",
    "We can read character data from text file by using the following read methods.\n",
    "- read(): To read total data from the file\n",
    "- read(n): To read 'n' characters from the file\n",
    "- readline():To read only one line\n",
    "- readlines(): To read all lines into a list"
   ]
  },
  {
   "cell_type": "code",
   "execution_count": 4,
   "id": "c73218a0",
   "metadata": {},
   "outputs": [
    {
     "name": "stdout",
     "output_type": "stream",
     "text": [
      "sunny\n",
      "bunny\n",
      "vinny\n",
      "chinny\n"
     ]
    }
   ],
   "source": [
    "# To read total data from the file\n",
    "f=open(\"abcd.txt\",'r')\n",
    "data=f.read()\n",
    "print(data)\n",
    "f.close()"
   ]
  },
  {
   "cell_type": "code",
   "execution_count": 5,
   "id": "46e2e1c0",
   "metadata": {},
   "outputs": [
    {
     "name": "stdout",
     "output_type": "stream",
     "text": [
      "sunny\n",
      "bunn\n"
     ]
    }
   ],
   "source": [
    "# To read only first 10 characters:\n",
    "f=open(\"abcd.txt\",'r')\n",
    "data=f.read(10)\n",
    "print(data)\n",
    "f.close()"
   ]
  },
  {
   "cell_type": "code",
   "execution_count": 6,
   "id": "0a3f69f8",
   "metadata": {},
   "outputs": [
    {
     "name": "stdout",
     "output_type": "stream",
     "text": [
      "sunny\n",
      "bunny\n"
     ]
    }
   ],
   "source": [
    "# To read data line by line:\n",
    "f=open(\"abcd.txt\",'r')\n",
    "line1=f.readline()\n",
    "print(line1,end='')\n",
    "line2=f.readline()\n",
    "print(line2,end='')\n",
    "f.close()"
   ]
  },
  {
   "cell_type": "code",
   "execution_count": 7,
   "id": "396e20f7",
   "metadata": {},
   "outputs": [],
   "source": [
    "# To read all lines into list:\n",
    "f=open(\"abc.txt\",'r')\n",
    "lines=f.readlines()\n",
    "for line in lines:\n",
    "    print(line,end='')\n",
    "f.close()"
   ]
  },
  {
   "cell_type": "markdown",
   "id": "c5d7ce59",
   "metadata": {},
   "source": [
    "### with statement:\n",
    "The with statement can be used while opening a file.We can use this to group file operation \n",
    "statements within a block.\n",
    "The advantage of with statement is it will take care closing of file,after completing all operations \n",
    "automatically even in the case of exceptions also, and we are not required to close explicitly."
   ]
  },
  {
   "cell_type": "code",
   "execution_count": 8,
   "id": "9932c976",
   "metadata": {},
   "outputs": [
    {
     "name": "stdout",
     "output_type": "stream",
     "text": [
      "Is File Closed:  True\n",
      "Is File Closed:  True\n"
     ]
    }
   ],
   "source": [
    "with open(\"abcd.txt\",\"w\") as f:\n",
    "  f.write(\"naresh\\n\")\n",
    "  f.write(\"shankar\\n\")\n",
    "  f.write(\"dleep kumar\\n\")\n",
    "print(\"Is File Closed: \",f.closed)\n",
    "print(\"Is File Closed: \",f.closed)"
   ]
  },
  {
   "cell_type": "markdown",
   "id": "addb3709",
   "metadata": {},
   "source": [
    "###  seek() and tell() methods:\n",
    "##### tell():\n",
    "We can use tell() method to return current position of the cursor(file pointer) from beginning of the \n",
    "file. [ can you please tell current cursor position]\n",
    "- The position(index) of first character in files is zero just like string index."
   ]
  },
  {
   "cell_type": "code",
   "execution_count": 9,
   "id": "40350883",
   "metadata": {},
   "outputs": [
    {
     "name": "stdout",
     "output_type": "stream",
     "text": [
      "0\n",
      "naresh\n",
      "sha\n",
      "11\n",
      "nka\n",
      "14\n"
     ]
    }
   ],
   "source": [
    "f=open(\"abcd.txt\",\"r\")\n",
    "print(f.tell())\n",
    "print(f.read(10))\n",
    "print(f.tell())\n",
    "print(f.read(3))\n",
    "print(f.tell())"
   ]
  },
  {
   "cell_type": "markdown",
   "id": "b5cee03b",
   "metadata": {},
   "source": [
    "##### seek():\n",
    "We can use seek() method to move cursor(file pointer) to specified location.\n",
    "[Can you please seek the cursor to a particular location]\n",
    "###### Syntax:f.seek(offset, fromwhere)\n",
    "- offset represents the number of positions\n",
    "- The allowed values for second attribute(from where) are\n",
    "- 0---->From beginning of file(default value)\n",
    "- 1---->From current position\n",
    "- 2--->From end of the file\n",
    "###### Note: \n",
    "Python 2 supports all 3 values but Python 3 supports only zero."
   ]
  },
  {
   "cell_type": "code",
   "execution_count": 10,
   "id": "c1745472",
   "metadata": {},
   "outputs": [
    {
     "name": "stdout",
     "output_type": "stream",
     "text": [
      "welcome to tkr college \n",
      "The Current Cursor Position:  23\n",
      "The Current Cursor Position:  23\n",
      "Data After Modification:\n",
      "welcome to tkr college students\n"
     ]
    }
   ],
   "source": [
    "data=\"welcome to tkr college \"\n",
    "f=open(\"abc.txt\",\"w\")\n",
    "f.write(data)\n",
    "with open(\"abc.txt\",\"r+\") as f:\n",
    "    text=f.read()\n",
    "    print(text)\n",
    "    print(\"The Current Cursor Position: \",f.tell())\n",
    "    f.seek(23)\n",
    "    print(\"The Current Cursor Position: \",f.tell())\n",
    "    f.write(\"students\")\n",
    "    f.seek(0)\n",
    "    text=f.read()\n",
    "    print(\"Data After Modification:\")\n",
    "    print(text)"
   ]
  },
  {
   "cell_type": "markdown",
   "id": "d5f7a65e",
   "metadata": {},
   "source": [
    "#### How to check a particular file exists or not?\n",
    "- We can use os library to get information about files in our computer.\n",
    "- os module has path sub module,which contains isFile() function to check whether a particular file exists or not?\n",
    "###### Syntax: os.path.isfile(fname)"
   ]
  },
  {
   "cell_type": "code",
   "execution_count": 11,
   "id": "f16302e0",
   "metadata": {},
   "outputs": [
    {
     "name": "stdout",
     "output_type": "stream",
     "text": [
      "Enter File Name: \n",
      "File does not exist: \n"
     ]
    },
    {
     "ename": "SystemExit",
     "evalue": "0",
     "output_type": "error",
     "traceback": [
      "An exception has occurred, use %tb to see the full traceback.\n",
      "\u001b[1;31mSystemExit\u001b[0m\u001b[1;31m:\u001b[0m 0\n"
     ]
    },
    {
     "name": "stderr",
     "output_type": "stream",
     "text": [
      "C:\\Users\\Saimo\\AppData\\Local\\anaconda3\\lib\\site-packages\\IPython\\core\\interactiveshell.py:3468: UserWarning: To exit: use 'exit', 'quit', or Ctrl-D.\n",
      "  warn(\"To exit: use 'exit', 'quit', or Ctrl-D.\", stacklevel=1)\n"
     ]
    }
   ],
   "source": [
    "# Program to print the number of lines, words and characters present in the given file?\n",
    "import os,sys\n",
    "fname=input(\"Enter File Name: \")\n",
    "if os.path.isfile(fname):\n",
    "    print(\"File exists:\",fname)\n",
    "    f=open(fname,\"r\")\n",
    "else:\n",
    "    print(\"File does not exist:\",fname)\n",
    "    sys.exit(0)\n",
    "lcount=wcount=ccount=0\n",
    "for line in f:\n",
    "    lcount=lcount+1\n",
    "    ccount=ccount+len(line)\n",
    "    words=line.split()\n",
    "    wcount=wcount+len(words)\n",
    "print(\"The number of Lines:\",lcount)\n",
    "print(\"The number of Words:\",wcount)\n",
    "print(\"The number of Characters:\",ccount)"
   ]
  },
  {
   "cell_type": "markdown",
   "id": "0342af25",
   "metadata": {},
   "source": [
    "### Handling Binary Data:\n",
    "It is very common requirement to read or write binary data like images, video files, audio\n",
    "files etc."
   ]
  },
  {
   "cell_type": "code",
   "execution_count": 12,
   "id": "64531285",
   "metadata": {},
   "outputs": [
    {
     "name": "stdout",
     "output_type": "stream",
     "text": [
      "New Image is available with the name: newpic.jpg\n"
     ]
    }
   ],
   "source": [
    "# Program to read image file and write to a new image file?\n",
    "f1=open(\"p1.jpg\",\"rb\")\n",
    "f2=open(\"newpic.jpg\",\"wb\")\n",
    "bytes=f1.read()\n",
    "f2.write(bytes)\n",
    "print(\"New Image is available with the name: newpic.jpg\")"
   ]
  },
  {
   "cell_type": "markdown",
   "id": "ad97f20b",
   "metadata": {},
   "source": [
    "## Directory in Python:\n",
    "- A directory or folder is a collection of files and sub directories\n",
    "- very common requirement to perform operations for directories like\n",
    "1. To know current working directory\n",
    "2. To create a new directory\n",
    "3. To remove an existing directory\n",
    "4. To rename a directory\n",
    "5. To list contents of the directory\n",
    "To perform these operations,Python provides inbuilt module os,"
   ]
  },
  {
   "cell_type": "markdown",
   "id": "e5792025",
   "metadata": {},
   "source": [
    "### OS Module\n",
    "The python OS module provides functions used for interacting with the operating system and also \n",
    "gets related information about it. The OS comes under Python's standard utility modules. This module offers \n",
    "a portable way of using operating system dependent functionality.\n",
    "- The python OS module lets us work with the files and directories.\n",
    "- There are some functions in the OS module which are given below:"
   ]
  },
  {
   "cell_type": "code",
   "execution_count": 13,
   "id": "62ec6ff5",
   "metadata": {},
   "outputs": [
    {
     "name": "stdout",
     "output_type": "stream",
     "text": [
      "Current Working Directory: C:\\Users\\Saimo\\Documents\\Python\\Module-3\n"
     ]
    }
   ],
   "source": [
    "# To Know Current Working Directory: getcwd()\n",
    "import os\n",
    "cwd=os.getcwd()\n",
    "print(\"Current Working Directory:\",cwd)"
   ]
  },
  {
   "cell_type": "code",
   "execution_count": 14,
   "id": "aeba5502",
   "metadata": {},
   "outputs": [
    {
     "name": "stdout",
     "output_type": "stream",
     "text": [
      "mysub directory created in cwd\n"
     ]
    }
   ],
   "source": [
    "# To create a sub directory in the current working directory:\n",
    "import os\n",
    "os.mkdir(\"mysub\")\n",
    "print(\"mysub directory created in cwd\")"
   ]
  },
  {
   "cell_type": "code",
   "execution_count": 15,
   "id": "1a71ef2a",
   "metadata": {},
   "outputs": [
    {
     "name": "stdout",
     "output_type": "stream",
     "text": [
      "mysub2 created inside mysub\n"
     ]
    }
   ],
   "source": [
    "# To create a sub directory in mysub directory: mkdir()\n",
    "import os\n",
    "os.mkdir(\"mysub/mysub2\")\n",
    "print(\"mysub2 created inside mysub\")\n",
    "# Note: Assume mysub already present in cwd."
   ]
  },
  {
   "cell_type": "code",
   "execution_count": 16,
   "id": "27a758f7",
   "metadata": {},
   "outputs": [
    {
     "name": "stdout",
     "output_type": "stream",
     "text": [
      "sub1 and in that sub2 and in that sub3 directories created\n"
     ]
    }
   ],
   "source": [
    "# To create multiple directories like sub1 in that sub2 in that sub3: makedirs()\n",
    "import os\n",
    "os.makedirs(\"sub1/sub2/sub3\")\n",
    "print(\"sub1 and in that sub2 and in that sub3 directories created\")"
   ]
  },
  {
   "cell_type": "code",
   "execution_count": 17,
   "id": "dff2a740",
   "metadata": {},
   "outputs": [
    {
     "name": "stdout",
     "output_type": "stream",
     "text": [
      "mysub2 directory deleted\n"
     ]
    }
   ],
   "source": [
    "# To remove a directory: rmdir()\n",
    "import os\n",
    "os.rmdir(\"mysub/mysub2\")\n",
    "print(\"mysub2 directory deleted\")"
   ]
  },
  {
   "cell_type": "code",
   "execution_count": 18,
   "id": "5953a7a9",
   "metadata": {},
   "outputs": [
    {
     "name": "stdout",
     "output_type": "stream",
     "text": [
      "All 3 directories sub1,sub2 and sub3 removed\n"
     ]
    }
   ],
   "source": [
    "# To remove multiple directories in the path: removedirs()\n",
    "import os\n",
    "os.removedirs(\"sub1/sub2/sub3\")\n",
    "print(\"All 3 directories sub1,sub2 and sub3 removed\")"
   ]
  },
  {
   "cell_type": "code",
   "execution_count": 19,
   "id": "95b07ed5",
   "metadata": {},
   "outputs": [
    {
     "name": "stdout",
     "output_type": "stream",
     "text": [
      "mysub directory renamed to newdir\n"
     ]
    }
   ],
   "source": [
    "# To rename a directory: rename()\n",
    "import os\n",
    "os.rename(\"mysub\",\"newdir\")\n",
    "print(\"mysub directory renamed to newdir\")"
   ]
  },
  {
   "cell_type": "markdown",
   "id": "56f2dae5",
   "metadata": {},
   "source": [
    "#### To know contents of directory:\n",
    "os module provides listdir() to list out the contents of the specified directory. It won't display the \n",
    "contents of sub directory."
   ]
  },
  {
   "cell_type": "code",
   "execution_count": 20,
   "id": "585c031c",
   "metadata": {},
   "outputs": [
    {
     "name": "stdout",
     "output_type": "stream",
     "text": [
      "[' Zipping and Unzipping Files.ipynb', '.ipynb_checkpoints', 'abc.txt', 'abcd.txt', 'Files.ipynb', 'files.zip', 'Modules.ipynb', 'newdir', 'newpic.jpg', 'p1.jpg']\n"
     ]
    }
   ],
   "source": [
    "import os\n",
    "print(os.listdir(\".\"))"
   ]
  },
  {
   "cell_type": "markdown",
   "id": "ead9d6f9",
   "metadata": {},
   "source": [
    "- The above program display contents of current working directory but not contents of sub directories.\n",
    "- If we want the contents of a directory including sub directories then we should go for walk() function."
   ]
  },
  {
   "cell_type": "markdown",
   "id": "32b64399",
   "metadata": {},
   "source": [
    "#### To know contents of directory including sub directories:\n",
    "We have to use walk() function\n",
    "###### os.walk(path,topdown=True,onerror=None,followlinks=False)\n",
    "It returns an Iterator object whose contents can be displayed by using for loop\n",
    "- path-->Directory path. (cwd means ‘.’)\n",
    "- topdown=True --->Travel from top to bottom\n",
    "- onerror=None --->on error detected which function has to execute.\n",
    "- followlinks=True -->To visit directories pointed by symbolic links"
   ]
  },
  {
   "cell_type": "code",
   "execution_count": 21,
   "id": "fe6a0b71",
   "metadata": {},
   "outputs": [
    {
     "name": "stdout",
     "output_type": "stream",
     "text": [
      "Current Directory Path: .\n",
      "Directories: ['.ipynb_checkpoints', 'newdir']\n",
      "Files: [' Zipping and Unzipping Files.ipynb', 'abc.txt', 'abcd.txt', 'Files.ipynb', 'files.zip', 'Modules.ipynb', 'newpic.jpg', 'p1.jpg']\n",
      "\n",
      "Current Directory Path: .\\.ipynb_checkpoints\n",
      "Directories: []\n",
      "Files: [' Zipping and Unzipping Files-checkpoint.ipynb', 'Files-checkpoint.ipynb', 'Modules-checkpoint.ipynb']\n",
      "\n",
      "Current Directory Path: .\\newdir\n",
      "Directories: []\n",
      "Files: []\n",
      "\n"
     ]
    }
   ],
   "source": [
    "# To display all contents of Current working directory including sub directories:\n",
    "import os\n",
    "for dirpath,dirnames,filenames in os.walk('.'):\n",
    "    print(\"Current Directory Path:\",dirpath)\n",
    "    print(\"Directories:\",dirnames)\n",
    "    print(\"Files:\",filenames)\n",
    "    print()"
   ]
  },
  {
   "cell_type": "markdown",
   "id": "8e8de465",
   "metadata": {},
   "source": [
    "- To display contents of particular directory, we have to provide that directory name as argument to walk() function.\n",
    "```python \n",
    "os.walk(\"directoryname\")\n",
    "```"
   ]
  },
  {
   "cell_type": "markdown",
   "id": "88cb1d60",
   "metadata": {},
   "source": [
    "#### What is the difference between listdir() and walk() functions?\n",
    "- listdir(): we will get contents of specified directory but not sub directory contents. \n",
    "- walk() : we will get contents of specified directory and its sub directories also.\n",
    "##### To get information about a File:\n",
    "We can get statistics of a file like size, last accessed time, last modified time etc by using stat()\n",
    "function of os module.\n",
    "###### stats = os.stat(\"abc.txt\")\n",
    "- The statistics of a file includes the following parameters:\n",
    "- st_mode==>Protection Bits\n",
    "- st_ino==>Inode number\n",
    "- st_dev===>device\n",
    "- st_nlink===>no of hard links\n",
    "- st_uid===>userid of owner\n",
    "- st_gid==>group id of owner\n",
    "- st_size===>size of file in bytes\n",
    "- st_atime==>Time of most recent access\n",
    "- st_mtime==>Time of Most recent modification\n",
    "- st_ctime==> Time of Most recent meta data change\n",
    "##### Note:\n",
    "st_atime, st_mtime and st_ctime returns the time as number of milli seconds since Jan 1st\n",
    "1970 ,12:00AM. By using datetime module fromtimestamp() function,we can get exact\n",
    "date and time."
   ]
  },
  {
   "cell_type": "code",
   "execution_count": 22,
   "id": "e9acc3b1",
   "metadata": {},
   "outputs": [
    {
     "name": "stdout",
     "output_type": "stream",
     "text": [
      "os.stat_result(st_mode=33206, st_ino=34058472182142436, st_dev=4173581871, st_nlink=1, st_uid=0, st_gid=0, st_size=31, st_atime=1717575002, st_mtime=1717575002, st_ctime=1717574987)\n"
     ]
    }
   ],
   "source": [
    "# To print all statistics of file abc.txt:\n",
    "import os\n",
    "stats=os.stat(\"abc.txt\")\n",
    "print(stats)"
   ]
  },
  {
   "cell_type": "code",
   "execution_count": 23,
   "id": "8aaff445",
   "metadata": {},
   "outputs": [
    {
     "name": "stdout",
     "output_type": "stream",
     "text": [
      "File Size in Bytes: 31\n"
     ]
    }
   ],
   "source": [
    "# To print specified properties:\n",
    "import os\n",
    "from datetime import *\n",
    "stats=os.stat(\"abc.txt\")\n",
    "print(\"File Size in Bytes:\",stats.st_size)"
   ]
  },
  {
   "cell_type": "code",
   "execution_count": 24,
   "id": "ac04dd28",
   "metadata": {},
   "outputs": [
    {
     "name": "stdout",
     "output_type": "stream",
     "text": [
      "--------------- THE END ---------------\n"
     ]
    }
   ],
   "source": [
    "print(\"-----\"*3+\" \"+\"THE END\"+\" \" + \"-----\"*3)"
   ]
  },
  {
   "cell_type": "markdown",
   "id": "1a6a13ca",
   "metadata": {},
   "source": [
    "Author: [Moguloju_Sai](https://linktr.ee/Moguloju_Sai)"
   ]
  }
 ],
 "metadata": {
  "kernelspec": {
   "display_name": "Python 3 (ipykernel)",
   "language": "python",
   "name": "python3"
  },
  "language_info": {
   "codemirror_mode": {
    "name": "ipython",
    "version": 3
   },
   "file_extension": ".py",
   "mimetype": "text/x-python",
   "name": "python",
   "nbconvert_exporter": "python",
   "pygments_lexer": "ipython3",
   "version": "3.10.9"
  }
 },
 "nbformat": 4,
 "nbformat_minor": 5
}
