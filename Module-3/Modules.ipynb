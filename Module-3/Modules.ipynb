{
 "cells": [
  {
   "cell_type": "markdown",
   "id": "36a14200",
   "metadata": {},
   "source": [
    "## Modules\n",
    "A python module can be defined as a python program file which contains a python code \n",
    "including python functions, class, or variables. In other words, we can say that our python code file \n",
    "saved with the extension (.py) is treated as the module. We may have a runnable code inside the python \n",
    "module.\n",
    "- Modules in Python provide us the flexibility to organize the code in a logical way.\n",
    "- To use the functionality of one module into another, we must have to import the specific module"
   ]
  },
  {
   "cell_type": "markdown",
   "id": "0baa780b",
   "metadata": {},
   "source": [
    "#### Example:\n",
    "In this example, we will create a module named as file.py which contains a function func that contains a \n",
    "code to print some message on the console.\n",
    "-  Let's create the module named as calc.py."
   ]
  },
  {
   "cell_type": "markdown",
   "id": "fc987f7f",
   "metadata": {},
   "source": [
    "### Loading the module in our python code\n",
    "We need to load the module in our python code to use its functionality. Python provides two types \n",
    "of statements as defined below.\n",
    "1. import statement\n",
    "2. from-import statement"
   ]
  },
  {
   "cell_type": "markdown",
   "id": "b6b19321",
   "metadata": {},
   "source": [
    "### 1. import statement\n",
    "The import statement is used to import all the functionality of one module into another. Here, we \n",
    "must notice that we can use the functionality of any python source file by importing that file as the \n",
    "module into another python source file.\n",
    "We can import multiple modules with a single import statement, but a module is loaded once \n",
    "regardless of the number of times, it has been imported into our file\n",
    "```python\n",
    "The syntax to use the import statement is\n",
    "import module1,module2,........ module n \n",
    "```"
   ]
  },
  {
   "cell_type": "markdown",
   "id": "eccddad5",
   "metadata": {},
   "source": [
    "#### We can access members by using module name.\n",
    "```python\n",
    "modulename.variable\n",
    "modulename.function()\n",
    "```"
   ]
  },
  {
   "cell_type": "code",
   "execution_count": 2,
   "id": "e692839a",
   "metadata": {},
   "outputs": [
    {
     "name": "stdout",
     "output_type": "stream",
     "text": [
      "----------------------------------- THE END -----------------------------------\n"
     ]
    }
   ],
   "source": [
    "print(\"-------\"*5,'THE END',\"-------\"*5)"
   ]
  },
  {
   "cell_type": "markdown",
   "id": "3d0c0685",
   "metadata": {},
   "source": [
    "Author: [Moguloju_Sai](https://linktr.ee/Moguloju_Sai)"
   ]
  }
 ],
 "metadata": {
  "kernelspec": {
   "display_name": "Python 3 (ipykernel)",
   "language": "python",
   "name": "python3"
  },
  "language_info": {
   "codemirror_mode": {
    "name": "ipython",
    "version": 3
   },
   "file_extension": ".py",
   "mimetype": "text/x-python",
   "name": "python",
   "nbconvert_exporter": "python",
   "pygments_lexer": "ipython3",
   "version": "3.10.9"
  }
 },
 "nbformat": 4,
 "nbformat_minor": 5
}
