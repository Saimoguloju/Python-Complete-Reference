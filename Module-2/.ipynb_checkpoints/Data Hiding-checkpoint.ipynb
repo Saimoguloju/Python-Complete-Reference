{
 "cells": [
  {
   "cell_type": "markdown",
   "id": "e5566d98",
   "metadata": {},
   "source": [
    "![Python logo](data:image/jpeg;base64,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)"
   ]
  },
  {
   "cell_type": "markdown",
   "id": "465643f0",
   "metadata": {},
   "source": [
    "### Data Hiding:\n",
    "- Data hiding is one of the important features of Object Oriented Programming which allows preventing the functions of a program to access directly the internal representation of a class type.\n",
    "- By default all members of a class can be accessed outside of class.\n",
    "- You can prevent this by making class members private or protected.\n",
    "- In Python, we use double underscore ( ) before the attributes name to make those attributes private.\n",
    "- We can use single underscore (_) before the attributes name to make those attributes protected."
   ]
  },
  {
   "cell_type": "code",
   "execution_count": 1,
   "id": "eac65b61",
   "metadata": {},
   "outputs": [
    {
     "name": "stdout",
     "output_type": "stream",
     "text": [
      "4\n",
      "10\n",
      "0\n"
     ]
    }
   ],
   "source": [
    "class MyClass:\n",
    "    __hiddenVar = 0 # Private member of MyClass\n",
    "    _protectedVar = 0 # Protected member of MyClass\n",
    "\n",
    "    # A member method that changes __hiddenVar\n",
    "    def add(self, increment):\n",
    "        MyClass.__hiddenVar += increment  # Use class name to access the private variable\n",
    "        print(MyClass.__hiddenVar)\n",
    "\n",
    "m = MyClass()\n",
    "m.add(4)\n",
    "m.add(6)\n",
    "\n",
    "# This will cause an error as intended because __hiddenVar is private\n",
    "# print(MyClass.__hiddenVar)\n",
    "\n",
    "# Accessing the protected variable\n",
    "print(MyClass._protectedVar)"
   ]
  },
  {
   "cell_type": "code",
   "execution_count": 2,
   "id": "9f49e9d9",
   "metadata": {},
   "outputs": [
    {
     "name": "stdout",
     "output_type": "stream",
     "text": [
      "I am public\n",
      "I am protected\n",
      "I am private\n",
      "I am private\n",
      "New private value\n"
     ]
    }
   ],
   "source": [
    "class MyClass:\n",
    "    def __init__(self):\n",
    "        self.publicVar = \"I am public\"\n",
    "        self._protectedVar = \"I am protected\"\n",
    "        self.__privateVar = \"I am private\"\n",
    "\n",
    "    def get_private_var(self):\n",
    "        return self.__privateVar\n",
    "\n",
    "    def set_private_var(self, value):\n",
    "        self.__privateVar = value\n",
    "\n",
    "# Create an instance of MyClass\n",
    "m = MyClass()\n",
    "\n",
    "# Accessing public member\n",
    "print(m.publicVar)   \n",
    "\n",
    "# Accessing protected member (by convention, should not be accessed directly)\n",
    "print(m._protectedVar)   \n",
    "\n",
    "# Accessing private member (will cause an error)\n",
    "# print(m.__privateVar)  # AttributeError: 'MyClass' object has no attribute '__privateVar'\n",
    "\n",
    "# Accessing private member via name mangling\n",
    "print(m._MyClass__privateVar)   \n",
    "\n",
    "# Using getter and setter methods to access private member\n",
    "print(m.get_private_var())   \n",
    "m.set_private_var(\"New private value\")\n",
    "print(m.get_private_var())  "
   ]
  },
  {
   "cell_type": "code",
   "execution_count": 3,
   "id": "5046b473",
   "metadata": {},
   "outputs": [
    {
     "name": "stdout",
     "output_type": "stream",
     "text": [
      "Alice\n",
      "30\n",
      "123-45-6789\n"
     ]
    }
   ],
   "source": [
    "# Basic Encapsulation and Data Hiding\n",
    "class Person:\n",
    "    def __init__(self, name, age):\n",
    "        self.name = name          # Public attribute\n",
    "        self._age = age           # Protected attribute\n",
    "        self.__ssn = None         # Private attribute\n",
    "\n",
    "    def set_ssn(self, ssn):\n",
    "        self.__ssn = ssn\n",
    "\n",
    "    def get_ssn(self):\n",
    "        return self.__ssn\n",
    "\n",
    "# Creating an instance of Person\n",
    "person = Person(\"Alice\", 30)\n",
    "\n",
    "# Accessing public attribute\n",
    "print(person.name)   \n",
    "\n",
    "# Accessing protected attribute (discouraged)\n",
    "print(person._age)  \n",
    "\n",
    "# Trying to access private attribute directly (will cause an error)\n",
    "# print(person.__ssn)  # AttributeError: 'Person' object has no attribute '__ssn'\n",
    "\n",
    "# Accessing private attribute via getter method\n",
    "person.set_ssn(\"123-45-6789\")\n",
    "print(person.get_ssn())   "
   ]
  },
  {
   "cell_type": "code",
   "execution_count": 4,
   "id": "e3093ffb",
   "metadata": {},
   "outputs": [
    {
     "name": "stdout",
     "output_type": "stream",
     "text": [
      "Bob\n",
      "HR\n",
      "50000\n",
      "60000\n"
     ]
    }
   ],
   "source": [
    "# Data Hiding with Inheritance\n",
    "class Employee:\n",
    "    def __init__(self, name, salary):\n",
    "        self.name = name            # Public attribute\n",
    "        self.__salary = salary      # Private attribute\n",
    "\n",
    "    def get_salary(self):\n",
    "        return self.__salary\n",
    "\n",
    "    def set_salary(self, salary):\n",
    "        if salary > 0:\n",
    "            self.__salary = salary\n",
    "        else:\n",
    "            raise ValueError(\"Salary must be positive\")\n",
    "\n",
    "class Manager(Employee):\n",
    "    def __init__(self, name, salary, department):\n",
    "        super().__init__(name, salary)\n",
    "        self.department = department  # Public attribute\n",
    "\n",
    "# Creating an instance of Manager\n",
    "manager = Manager(\"Bob\", 50000, \"HR\")\n",
    "\n",
    "# Accessing public attribute\n",
    "print(manager.name)   \n",
    "\n",
    "# Accessing public attribute in subclass\n",
    "print(manager.department)   \n",
    "\n",
    "# Accessing private attribute using getter method\n",
    "print(manager.get_salary())   \n",
    "\n",
    "# Modifying private attribute using setter method\n",
    "manager.set_salary(60000)\n",
    "print(manager.get_salary())  "
   ]
  },
  {
   "cell_type": "code",
   "execution_count": 5,
   "id": "a7b0b8d7",
   "metadata": {},
   "outputs": [
    {
     "name": "stdout",
     "output_type": "stream",
     "text": [
      "1000\n",
      "1500\n"
     ]
    }
   ],
   "source": [
    "# Using Properties for Encapsulation\n",
    "class Account:\n",
    "    def __init__(self, owner, balance):\n",
    "        self.owner = owner\n",
    "        self.__balance = balance\n",
    "\n",
    "    @property\n",
    "    def balance(self):\n",
    "        return self.__balance\n",
    "\n",
    "    @balance.setter\n",
    "    def balance(self, amount):\n",
    "        if amount < 0:\n",
    "            raise ValueError(\"Balance cannot be negative\")\n",
    "        self.__balance = amount\n",
    "\n",
    "# Creating an instance of Account\n",
    "account = Account(\"Charlie\", 1000)\n",
    "\n",
    "# Accessing balance using property\n",
    "print(account.balance)  \n",
    "# Modifying balance using property setter\n",
    "account.balance = 1500\n",
    "print(account.balance)  \n",
    "\n",
    "# Attempting to set a negative balance (will raise an error)\n",
    "# account.balance = -500  # ValueError: Balance cannot be negative"
   ]
  },
  {
   "cell_type": "code",
   "execution_count": 6,
   "id": "68d41c53",
   "metadata": {},
   "outputs": [
    {
     "name": "stdout",
     "output_type": "stream",
     "text": [
      "Deposited 200. New balance is 700.\n",
      "Withdrew 100. New balance is 600.\n",
      "600\n"
     ]
    }
   ],
   "source": [
    "#  Encapsulation in a Banking System\n",
    "class BankAccount:\n",
    "    def __init__(self, account_number, owner, balance=0):\n",
    "        self.account_number = account_number  # Public attribute\n",
    "        self.owner = owner                    # Public attribute\n",
    "        self.__balance = balance              # Private attribute\n",
    "\n",
    "    def deposit(self, amount):\n",
    "        if amount > 0:\n",
    "            self.__balance += amount\n",
    "            print(f\"Deposited {amount}. New balance is {self.__balance}.\")\n",
    "        else:\n",
    "            print(\"Deposit amount must be positive.\")\n",
    "\n",
    "    def withdraw(self, amount):\n",
    "        if amount > 0 and amount <= self.__balance:\n",
    "            self.__balance -= amount\n",
    "            print(f\"Withdrew {amount}. New balance is {self.__balance}.\")\n",
    "        else:\n",
    "            print(\"Insufficient balance or invalid amount.\")\n",
    "\n",
    "    def get_balance(self):\n",
    "        return self.__balance\n",
    "\n",
    "# Creating an instance of BankAccount\n",
    "account = BankAccount(\"12345\", \"Dana\", 500)\n",
    "\n",
    "# Making deposits and withdrawals\n",
    "account.deposit(200)    \n",
    "account.withdraw(100)   \n",
    "# Accessing balance using a getter method\n",
    "print(account.get_balance())   \n",
    "\n",
    "# Trying to access private balance directly (will cause an error)\n",
    "# print(account.__balance)  # AttributeError: 'BankAccount' object has no attribute '__balance'"
   ]
  },
  {
   "cell_type": "code",
   "execution_count": 7,
   "id": "d9c6beb0",
   "metadata": {},
   "outputs": [
    {
     "name": "stdout",
     "output_type": "stream",
     "text": [
      "The book '1984' has been borrowed.\n",
      "True\n",
      "The book '1984' has been returned.\n",
      "False\n"
     ]
    }
   ],
   "source": [
    "# Encapsulation with a Library System\n",
    "class Book:\n",
    "    def __init__(self, title, author):\n",
    "        self.title = title          # Public attribute\n",
    "        self.author = author        # Public attribute\n",
    "        self.__is_borrowed = False  # Private attribute\n",
    "\n",
    "    def borrow(self):\n",
    "        if not self.__is_borrowed:\n",
    "            self.__is_borrowed = True\n",
    "            print(f\"The book '{self.title}' has been borrowed.\")\n",
    "        else:\n",
    "            print(f\"The book '{self.title}' is already borrowed.\")\n",
    "\n",
    "    def return_book(self):\n",
    "        if self.__is_borrowed:\n",
    "            self.__is_borrowed = False\n",
    "            print(f\"The book '{self.title}' has been returned.\")\n",
    "        else:\n",
    "            print(f\"The book '{self.title}' was not borrowed.\")\n",
    "\n",
    "    def is_borrowed(self):\n",
    "        return self.__is_borrowed\n",
    "\n",
    "# Creating an instance of Book\n",
    "book = Book(\"1984\", \"George Orwell\")\n",
    "\n",
    "# Borrowing the book\n",
    "book.borrow()\n",
    "print(book.is_borrowed())\n",
    "\n",
    "# Returning the book\n",
    "book.return_book()\n",
    "print(book.is_borrowed())\n",
    "\n",
    "# Trying to access private attribute directly (will cause an error)\n",
    "# print(book.__is_borrowed)"
   ]
  },
  {
   "cell_type": "code",
   "execution_count": 8,
   "id": "9037a936",
   "metadata": {},
   "outputs": [
    {
     "name": "stdout",
     "output_type": "stream",
     "text": [
      "John Doe\n",
      "12345\n",
      "A\n",
      "B\n"
     ]
    }
   ],
   "source": [
    "# Encapsulation with a Student Management System\n",
    "class Student:\n",
    "    def __init__(self, name, roll_number, grade):\n",
    "        self.name = name                  # Public attribute\n",
    "        self.roll_number = roll_number    # Public attribute\n",
    "        self.__grade = grade              # Private attribute\n",
    "\n",
    "    def set_grade(self, grade):\n",
    "        if grade in ['A', 'B', 'C', 'D', 'F']:\n",
    "            self.__grade = grade\n",
    "        else:\n",
    "            raise ValueError(\"Invalid grade\")\n",
    "\n",
    "    def get_grade(self):\n",
    "        return self.__grade\n",
    "\n",
    "# Creating an instance of Student\n",
    "student = Student(\"John Doe\", \"12345\", \"A\")\n",
    "\n",
    "# Accessing public attributes\n",
    "print(student.name)\n",
    "print(student.roll_number)\n",
    "\n",
    "# Accessing private attribute using getter method\n",
    "print(student.get_grade())\n",
    "\n",
    "# Modifying private attribute using setter method\n",
    "student.set_grade(\"B\")\n",
    "print(student.get_grade())\n",
    "\n",
    "# Trying to access private attribute directly (will cause an error)\n",
    "# print(student.__grade)"
   ]
  },
  {
   "cell_type": "code",
   "execution_count": 9,
   "id": "4dbb5471",
   "metadata": {},
   "outputs": [
    {
     "name": "stdout",
     "output_type": "stream",
     "text": [
      "Toyota\n",
      "Camry\n",
      "2020\n",
      "2021\n"
     ]
    }
   ],
   "source": [
    "# Encapsulation in a Vehicle System\n",
    "class Vehicle:\n",
    "    def __init__(self, make, model, year):\n",
    "        self.make = make          # Public attribute\n",
    "        self.model = model        # Public attribute\n",
    "        self.__year = year        # Private attribute\n",
    "\n",
    "    def get_year(self):\n",
    "        return self.__year\n",
    "\n",
    "    def set_year(self, year):\n",
    "        if year > 1885:  # The first gasoline-powered automobile was made in 1885\n",
    "            self.__year = year\n",
    "        else:\n",
    "            raise ValueError(\"Invalid year for a vehicle\")\n",
    "\n",
    "# Creating an instance of Vehicle\n",
    "vehicle = Vehicle(\"Toyota\", \"Camry\", 2020)\n",
    "\n",
    "# Accessing public attributes\n",
    "print(vehicle.make)\n",
    "print(vehicle.model)\n",
    "\n",
    "# Accessing private attribute using getter method\n",
    "print(vehicle.get_year())\n",
    "\n",
    "# Modifying private attribute using setter method\n",
    "vehicle.set_year(2021)\n",
    "print(vehicle.get_year())\n",
    "\n",
    "# Trying to access private attribute directly (will cause an error)\n",
    "# print(vehicle.__year)"
   ]
  },
  {
   "cell_type": "code",
   "execution_count": 10,
   "id": "835cbfb7",
   "metadata": {},
   "outputs": [
    {
     "name": "stdout",
     "output_type": "stream",
     "text": [
      "1300\n"
     ]
    }
   ],
   "source": [
    "# Encapsulation with a Bank Account System\n",
    "class BankAccount:\n",
    "    def __init__(self, account_number, owner, balance=0):\n",
    "        self.account_number = account_number  # Public attribute\n",
    "        self.owner = owner                    # Public attribute\n",
    "        self.__balance = balance              # Private attribute\n",
    "\n",
    "    def deposit(self, amount):\n",
    "        if amount > 0:\n",
    "            self.__balance += amount\n",
    "        else:\n",
    "            raise ValueError(\"Deposit amount must be positive\")\n",
    "\n",
    "    def withdraw(self, amount):\n",
    "        if 0 < amount <= self.__balance:\n",
    "            self.__balance -= amount\n",
    "        else:\n",
    "            raise ValueError(\"Invalid withdrawal amount\")\n",
    "\n",
    "    def get_balance(self):\n",
    "        return self.__balance\n",
    "\n",
    "# Creating an instance of BankAccount\n",
    "account = BankAccount(\"12345\", \"Alice\", 1000)\n",
    "\n",
    "# Making deposits and withdrawals\n",
    "account.deposit(500)\n",
    "account.withdraw(200)\n",
    "\n",
    "# Accessing balance using getter method\n",
    "print(account.get_balance())\n",
    "\n",
    "# Trying to access private balance directly (will cause an error)\n",
    "# print(account.__balance)"
   ]
  },
  {
   "cell_type": "code",
   "execution_count": 11,
   "id": "ac1faa03",
   "metadata": {},
   "outputs": [
    {
     "name": "stdout",
     "output_type": "stream",
     "text": [
      "['To Kill a Mockingbird']\n"
     ]
    }
   ],
   "source": [
    "# Encapsulation with a Library System\n",
    "class Library:\n",
    "    def __init__(self, name):\n",
    "        self.name = name                    # Public attribute\n",
    "        self.__books = []                   # Private attribute\n",
    "\n",
    "    def add_book(self, book):\n",
    "        self.__books.append(book)\n",
    "\n",
    "    def remove_book(self, book):\n",
    "        if book in self.__books:\n",
    "            self.__books.remove(book)\n",
    "        else:\n",
    "            print(f\"Book '{book}' not found in the library\")\n",
    "\n",
    "    def list_books(self):\n",
    "        return self.__books\n",
    "\n",
    "# Creating an instance of Library\n",
    "library = Library(\"City Library\")\n",
    "\n",
    "# Adding and removing books\n",
    "library.add_book(\"1984\")\n",
    "library.add_book(\"To Kill a Mockingbird\")\n",
    "library.remove_book(\"1984\")\n",
    "\n",
    "# Listing books using a public method\n",
    "print(library.list_books())\n",
    "\n",
    "# Trying to access private books list directly (will cause an error)\n",
    "# print(library.__books)"
   ]
  },
  {
   "cell_type": "code",
   "execution_count": 12,
   "id": "f4235c7b",
   "metadata": {},
   "outputs": [
    {
     "name": "stdout",
     "output_type": "stream",
     "text": [
      "Laptop\n",
      "1000\n",
      "1200\n",
      "50\n",
      "45\n"
     ]
    }
   ],
   "source": [
    "# Encapsulation with a Product Inventory System\n",
    "class Product:\n",
    "    def __init__(self, name, price, stock):\n",
    "        self.name = name          # Public attribute\n",
    "        self.__price = price      # Private attribute\n",
    "        self.__stock = stock      # Private attribute\n",
    "\n",
    "    def set_price(self, price):\n",
    "        if price > 0:\n",
    "            self.__price = price\n",
    "        else:\n",
    "            raise ValueError(\"Price must be positive\")\n",
    "\n",
    "    def get_price(self):\n",
    "        return self.__price\n",
    "\n",
    "    def set_stock(self, stock):\n",
    "        if stock >= 0:\n",
    "            self.__stock = stock\n",
    "        else:\n",
    "            raise ValueError(\"Stock cannot be negative\")\n",
    "\n",
    "    def get_stock(self):\n",
    "        return self.__stock\n",
    "\n",
    "# Creating an instance of Product\n",
    "product = Product(\"Laptop\", 1000, 50)\n",
    "\n",
    "# Accessing public attribute\n",
    "print(product.name)\n",
    "\n",
    "# Accessing and modifying private attributes using getter and setter methods\n",
    "print(product.get_price())\n",
    "product.set_price(1200)\n",
    "print(product.get_price())\n",
    "\n",
    "print(product.get_stock())\n",
    "product.set_stock(45)\n",
    "print(product.get_stock())\n",
    "\n",
    "# Trying to access private attributes directly (will cause an error)\n",
    "# print(product.__price)\n",
    "# print(product.__stock)"
   ]
  },
  {
   "cell_type": "code",
   "execution_count": 13,
   "id": "a1d6b398",
   "metadata": {},
   "outputs": [
    {
     "name": "stdout",
     "output_type": "stream",
     "text": [
      "Alice borrowed The Great Gatsby\n",
      "Alice borrowed 1984\n",
      "Alice returned 1984\n",
      "['The Great Gatsby']\n"
     ]
    }
   ],
   "source": [
    "# Encapsulation with a Library Member System\n",
    "class LibraryMember:\n",
    "    def __init__(self, member_id, name):\n",
    "        self.member_id = member_id    # Public attribute\n",
    "        self.name = name              # Public attribute\n",
    "        self.__books_borrowed = []    # Private attribute\n",
    "\n",
    "    def borrow_book(self, book):\n",
    "        self.__books_borrowed.append(book)\n",
    "        print(f\"{self.name} borrowed {book}\")\n",
    "\n",
    "    def return_book(self, book):\n",
    "        if book in self.__books_borrowed:\n",
    "            self.__books_borrowed.remove(book)\n",
    "            print(f\"{self.name} returned {book}\")\n",
    "        else:\n",
    "            print(f\"{self.name} has not borrowed {book}\")\n",
    "\n",
    "    def get_borrowed_books(self):\n",
    "        return self.__books_borrowed\n",
    "\n",
    "# Creating an instance of LibraryMember\n",
    "member = LibraryMember(\"M001\", \"Alice\")\n",
    "\n",
    "# Borrowing and returning books\n",
    "member.borrow_book(\"The Great Gatsby\")\n",
    "member.borrow_book(\"1984\")\n",
    "member.return_book(\"1984\")\n",
    "\n",
    "# Accessing borrowed books using a getter method\n",
    "print(member.get_borrowed_books())\n",
    "\n",
    "# Trying to access private borrowed books directly (will cause an error)\n",
    "# print(member.__books_borrowed)"
   ]
  },
  {
   "cell_type": "code",
   "execution_count": 14,
   "id": "e8179be7",
   "metadata": {},
   "outputs": [
    {
     "name": "stdout",
     "output_type": "stream",
     "text": [
      "The car Toyota Camry (2021) has been rented.\n",
      "True\n",
      "The car Toyota Camry (2021) has been returned.\n",
      "False\n"
     ]
    }
   ],
   "source": [
    "# Encapsulation with a Car Rental System\n",
    "class Car:\n",
    "    def __init__(self, make, model, year):\n",
    "        self.make = make            # Public attribute\n",
    "        self.model = model          # Public attribute\n",
    "        self.__year = year          # Private attribute\n",
    "        self.__is_rented = False    # Private attribute\n",
    "\n",
    "    def rent(self):\n",
    "        if not self.__is_rented:\n",
    "            self.__is_rented = True\n",
    "            print(f\"The car {self.make} {self.model} ({self.__year}) has been rented.\")\n",
    "        else:\n",
    "            print(f\"The car {self.make} {self.model} ({self.__year}) is already rented.\")\n",
    "\n",
    "    def return_car(self):\n",
    "        if self.__is_rented:\n",
    "            self.__is_rented = False\n",
    "            print(f\"The car {self.make} {self.model} ({self.__year}) has been returned.\")\n",
    "        else:\n",
    "            print(f\"The car {self.make} {self.model} ({self.__year}) was not rented.\")\n",
    "\n",
    "    def is_rented(self):\n",
    "        return self.__is_rented\n",
    "\n",
    "# Creating an instance of Car\n",
    "car = Car(\"Toyota\", \"Camry\", 2021)\n",
    "\n",
    "# Renting and returning the car\n",
    "car.rent()\n",
    "print(car.is_rented())\n",
    "car.return_car()\n",
    "print(car.is_rented())\n",
    "\n",
    "# Trying to access private attribute directly (will cause an error)\n",
    "# print(car.__is_rented)"
   ]
  },
  {
   "cell_type": "code",
   "execution_count": 15,
   "id": "86c60100",
   "metadata": {},
   "outputs": [
    {
     "name": "stdout",
     "output_type": "stream",
     "text": [
      "John Doe has been enrolled in Introduction to Computer Science\n",
      "Jane Smith has been enrolled in Introduction to Computer Science\n",
      "John Doe has been removed from Introduction to Computer Science\n",
      "['Jane Smith']\n"
     ]
    }
   ],
   "source": [
    "#  Encapsulation with a University Course System\n",
    "class Course:\n",
    "    def __init__(self, course_id, course_name):\n",
    "        self.course_id = course_id             # Public attribute\n",
    "        self.course_name = course_name         # Public attribute\n",
    "        self.__students_enrolled = []          # Private attribute\n",
    "\n",
    "    def enroll_student(self, student_name):\n",
    "        self.__students_enrolled.append(student_name)\n",
    "        print(f\"{student_name} has been enrolled in {self.course_name}\")\n",
    "\n",
    "    def remove_student(self, student_name):\n",
    "        if student_name in self.__students_enrolled:\n",
    "            self.__students_enrolled.remove(student_name)\n",
    "            print(f\"{student_name} has been removed from {self.course_name}\")\n",
    "        else:\n",
    "            print(f\"{student_name} is not enrolled in {self.course_name}\")\n",
    "\n",
    "    def get_students_enrolled(self):\n",
    "        return self.__students_enrolled\n",
    "\n",
    "# Creating an instance of Course\n",
    "course = Course(\"CS101\", \"Introduction to Computer Science\")\n",
    "\n",
    "# Enrolling and removing students\n",
    "course.enroll_student(\"John Doe\")\n",
    "course.enroll_student(\"Jane Smith\")\n",
    "course.remove_student(\"John Doe\")\n",
    "\n",
    "# Accessing students enrolled using a getter method\n",
    "print(course.get_students_enrolled())\n",
    "\n",
    "# Trying to access private attribute directly (will cause an error)\n",
    "# print(course.__students_enrolled)"
   ]
  },
  {
   "cell_type": "code",
   "execution_count": 16,
   "id": "16c3db27",
   "metadata": {},
   "outputs": [
    {
     "name": "stdout",
     "output_type": "stream",
     "text": [
      "Alice's membership has been deactivated.\n",
      "False\n",
      "Alice's membership has been activated.\n",
      "True\n",
      "Gold\n",
      "Platinum\n"
     ]
    }
   ],
   "source": [
    "# Encapsulation with a Gym Membership System\n",
    "class GymMember:\n",
    "    def __init__(self, member_id, name, membership_type):\n",
    "        self.member_id = member_id            # Public attribute\n",
    "        self.name = name                      # Public attribute\n",
    "        self.__membership_type = membership_type  # Private attribute\n",
    "        self.__active = True                  # Private attribute\n",
    "\n",
    "    def deactivate_membership(self):\n",
    "        self.__active = False\n",
    "        print(f\"{self.name}'s membership has been deactivated.\")\n",
    "\n",
    "    def activate_membership(self):\n",
    "        self.__active = True\n",
    "        print(f\"{self.name}'s membership has been activated.\")\n",
    "\n",
    "    def is_active(self):\n",
    "        return self.__active\n",
    "\n",
    "    def get_membership_type(self):\n",
    "        return self.__membership_type\n",
    "\n",
    "    def set_membership_type(self, membership_type):\n",
    "        self.__membership_type = membership_type\n",
    "\n",
    "# Creating an instance of GymMember\n",
    "member = GymMember(\"GM001\", \"Alice\", \"Gold\")\n",
    "\n",
    "# Activating and deactivating membership\n",
    "member.deactivate_membership()\n",
    "print(member.is_active())\n",
    "member.activate_membership()\n",
    "print(member.is_active())\n",
    "\n",
    "# Accessing and modifying membership type using getter and setter methods\n",
    "print(member.get_membership_type())\n",
    "member.set_membership_type(\"Platinum\")\n",
    "print(member.get_membership_type())\n",
    "\n",
    "# Trying to access private attributes directly (will cause an error)\n",
    "# print(member.__membership_type)\n",
    "# print(member.__active)"
   ]
  },
  {
   "cell_type": "code",
   "execution_count": 17,
   "id": "40840d02",
   "metadata": {},
   "outputs": [
    {
     "name": "stdout",
     "output_type": "stream",
     "text": [
      "Added Laptop to the shopping cart.\n",
      "Added Smartphone to the shopping cart.\n",
      "Removed Laptop from the shopping cart.\n",
      "['Smartphone']\n",
      "1\n"
     ]
    }
   ],
   "source": [
    "# Encapsulation with an Online Shopping Cart\n",
    "class ShoppingCart:\n",
    "    def __init__(self):\n",
    "        self.__items = []    # Private attribute\n",
    "\n",
    "    def add_item(self, item):\n",
    "        self.__items.append(item)\n",
    "        print(f\"Added {item} to the shopping cart.\")\n",
    "\n",
    "    def remove_item(self, item):\n",
    "        if item in self.__items:\n",
    "            self.__items.remove(item)\n",
    "            print(f\"Removed {item} from the shopping cart.\")\n",
    "        else:\n",
    "            print(f\"{item} is not in the shopping cart.\")\n",
    "\n",
    "    def get_items(self):\n",
    "        return self.__items\n",
    "\n",
    "    def get_total_items(self):\n",
    "        return len(self.__items)\n",
    "\n",
    "# Creating an instance of ShoppingCart\n",
    "cart = ShoppingCart()\n",
    "\n",
    "# Adding and removing items\n",
    "cart.add_item(\"Laptop\")\n",
    "cart.add_item(\"Smartphone\")\n",
    "cart.remove_item(\"Laptop\")\n",
    "\n",
    "# Accessing items using getter methods\n",
    "print(cart.get_items())\n",
    "print(cart.get_total_items())\n",
    "\n",
    "# Trying to access private attribute directly (will cause an error)\n",
    "# print(cart.__items)"
   ]
  },
  {
   "cell_type": "code",
   "execution_count": 18,
   "id": "67a2999b",
   "metadata": {},
   "outputs": [
    {
     "name": "stdout",
     "output_type": "stream",
     "text": [
      "------------------------------ THE END ------------------------------\n"
     ]
    }
   ],
   "source": [
    "print(\"------\"*5, 'THE END', \"------\"*5)"
   ]
  },
  {
   "cell_type": "markdown",
   "id": "2e99648b",
   "metadata": {},
   "source": [
    "Author: [Moguloju_Sai](https://linktr.ee/Moguloju_Sai)"
   ]
  }
 ],
 "metadata": {
  "kernelspec": {
   "display_name": "Python 3 (ipykernel)",
   "language": "python",
   "name": "python3"
  },
  "language_info": {
   "codemirror_mode": {
    "name": "ipython",
    "version": 3
   },
   "file_extension": ".py",
   "mimetype": "text/x-python",
   "name": "python",
   "nbconvert_exporter": "python",
   "pygments_lexer": "ipython3",
   "version": "3.10.9"
  }
 },
 "nbformat": 4,
 "nbformat_minor": 5
}
