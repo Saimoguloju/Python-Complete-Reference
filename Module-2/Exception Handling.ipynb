{
 "cells": [
  {
   "cell_type": "markdown",
   "id": "0b617be1",
   "metadata": {},
   "source": [
    "## Exception Handling"
   ]
  },
  {
   "cell_type": "markdown",
   "id": "0ce36c54",
   "metadata": {},
   "source": [
    "![Python logo](data:image/jpeg;base64,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)"
   ]
  },
  {
   "cell_type": "markdown",
   "id": "047d959d",
   "metadata": {},
   "source": [
    "### What is an error:\n",
    "Errors are the conditions that cannot be handled and irrecoverable. Every time when Error \n",
    "occurs, the program terminates suddenly and unexpectedly. \n",
    "In any programming language there are 2 types of errors are possible.\n",
    "1. Syntax Errors\n",
    "2. Runtime Errors "
   ]
  },
  {
   "cell_type": "markdown",
   "id": "09d1d1da",
   "metadata": {},
   "source": [
    "### 1. Syntax Errors:\n",
    "The errors which occurs because of invalid syntax are called syntax errors. \n",
    "```python\n",
    "Eg 1:\n",
    ">>> if a < 3 \n",
    "File \"<interactive input>\", line 1 \n",
    "if a < 3 \n",
    "^ \n",
    "SyntaxError: invalid syntax i.e We can notice here that a colon(:) is missing in the if statement.\n",
    "Eg 2:\n",
    "print \"Hello\"\n",
    "SyntaxError: Missing parentheses in call to 'print'\n",
    "```\n",
    "##### Note:\n",
    ":Programmer is responsible to correct these syntax errors. Once all syntax errors are corrected then only\n",
    "program execution will be started."
   ]
  },
  {
   "cell_type": "markdown",
   "id": "2bcee8b2",
   "metadata": {},
   "source": [
    "### 2. Runtime Errors: \n",
    "Also known as exceptions. While executing the program if something goes wrong because\n",
    "of end user input or programming logic or memory problems etc.. then we will get Runtime Errors. \n",
    "```python\n",
    "Eg1:\n",
    "Eg2:\n",
    "print(10/0) ==>ZeroDivisionError: division by zero\n",
    "print(10/\"ten\") ==>TypeError: unsupported operand type(s) for /: 'int' and 'str'\n",
    "x=int(input(\"Enter Number:\")) \n",
    "print(x)\n",
    "output: Enter Number:ten\n",
    "ValueError: invalid literal for int() with base 10: 'ten'\n",
    "Exception Handling concept applicable for Runtime Errors but not for syntax errors.\n",
    "```"
   ]
  },
  {
   "cell_type": "markdown",
   "id": "0e5324cb",
   "metadata": {},
   "source": [
    "### What is an Exception:\n",
    "- An unwanted and unexpected event that disturbs normal flow of program is called exception. Whenever an exception occurs, the program halts the execution, and thus the further code is not executed. Therefore, an exception is the error which python script is unable to tackle with.\n",
    "- The main objective of exception handling is Graceful Termination of the program(i.e we should not block our resources and we should not miss anything).\n",
    "- Exception handling does not mean repairing exception. We have to define alternative way to continue rest of the program normally."
   ]
  },
  {
   "cell_type": "markdown",
   "id": "16cd76d8",
   "metadata": {},
   "source": [
    "### Error /Syntax errors:\n",
    "1. Errors are the conditions that cannot be handled and\n",
    "   irrecoverable. Every time when Error occurs, the\n",
    "   program terminates suddenly and unexpectedly.\n",
    "2. It is also called as syntax errors i.e The errors which\n",
    "   occurs because of invalid syntax are called syntax\n",
    "   errors.\n",
    "3. Programmer is responsible to correct these syntax\n",
    "   errors. Once all syntax errors are corrected then only\n",
    "   program execution will be started.\n",
    "4. following are the example for syntax errors\n",
    "            -  leaving out a keyword,\n",
    "- putting a keyword in the wrong place,\n",
    "- leaving out a symbol, such as a colon, comma\n",
    "   or brackets,\n",
    "- misspelling a keyword\n",
    "- incorrect indentation"
   ]
  },
  {
   "cell_type": "markdown",
   "id": "d3dae835",
   "metadata": {},
   "source": [
    "## Exceptions /Runtime errors\n",
    "1. An unwanted and unexpected event that disturbs\n",
    "   normal flow of program is called exception. Whenever\n",
    "   an exception occurs, the program halts the execution,\n",
    "   and thus the further code is not executed\n",
    "2. It is also called as runtime errors i.e While executing\n",
    "   the program if something goes wrong because of end\n",
    "   user input or programming logic or memory problems\n",
    "   etc.. then we will get Runtime Errors. \n",
    "3. exceptions are handled by using try, except and\n",
    "   finally blocks\n",
    "4. following are the example for exceptions/runtime\n",
    "   errors \n",
    "- division by zero\n",
    "- performing an operation on incompatible types\n",
    "- using an identifier which has not been defined\n",
    "- accessing a list element, dictionary value or\n",
    "  object attribute which doesn’t exist\n",
    "- trying to access a file which doesn’t exist"
   ]
  },
  {
   "cell_type": "markdown",
   "id": "fadf26cb",
   "metadata": {},
   "source": [
    "## Types of Exceptions:\n",
    "In Python there are 2 types of exceptions are possible.\n",
    "1. Predefined Exceptions\n",
    "2. User Defined Exceptions"
   ]
  },
  {
   "cell_type": "markdown",
   "id": "485f60e6",
   "metadata": {},
   "source": [
    "### 1. Predefined Exceptions: \n",
    "Also known as in-built exceptions.The exceptions which are raised automatically by Python virtual\n",
    "machine whenver a particular event occurs, are called pre defined exceptions.\n",
    "###### Examples:\n",
    "1. ZeroDivisionError: Occurs when a number is divided by zero.\n",
    "2. NameError: It occurs when a name is not found. It may be local or global.\n",
    "3. IndentationError: If incorrect indentation is given.\n",
    "4. IOError: It occurs when Input Output operation fails.\n",
    "5. EOFError: It occurs when the end of the file is reached, and yet operations are being performed."
   ]
  },
  {
   "cell_type": "markdown",
   "id": "2b9f1192",
   "metadata": {},
   "source": [
    "### 2. User Defined Exceptions:\n",
    "- Also known as Customized Exceptions or Programatic Exceptions\n",
    "- Some time we have to define and raise exceptions explicitly to indicate that something goes wrong ,such type of exceptions are called User Defined Exceptions or Customized Exceptions\n",
    "- Programmer is responsible to define these exceptions and Python not having any idea about these. Hence\n",
    "  we have to raise explicitly based on our requirement by using \"raise\" keyword."
   ]
  },
  {
   "cell_type": "markdown",
   "id": "5c32ff7a",
   "metadata": {},
   "source": [
    "### Python's Exception Hierarchy"
   ]
  },
  {
   "cell_type": "markdown",
   "id": "33ad69fa",
   "metadata": {},
   "source": [
    "- Every Exception in Python is a class.\n",
    "- All exception classes are child classes of BaseException.i.e every exception class extends BaseException either directly or indirectly. Hence BaseException acts as root for Python Exception Hierarchy."
   ]
  },
  {
   "cell_type": "markdown",
   "id": "a4040209",
   "metadata": {},
   "source": [
    "### Exception handling in python:\n",
    "In python we can handle the exceptions by using following key words\n",
    "1. try \n",
    "2. except \n",
    "3. finally\n",
    "- If the program contains suspicious code or risky code that may throw the exception, we must place that code in the try block. The try block must be followed with the except statement which contains a block of code that will\n",
    "  be executed if there is some exception in the try block.\n",
    "```python\n",
    "Syntax:\n",
    "try: \n",
    "    Risky Code\n",
    "except XXX:\n",
    "    Handlingcode/Alternative Code\n",
    "Other code...\n",
    "```"
   ]
  },
  {
   "cell_type": "code",
   "execution_count": 1,
   "id": "ab808079",
   "metadata": {},
   "outputs": [
    {
     "name": "stdout",
     "output_type": "stream",
     "text": [
      "hello\n"
     ]
    },
    {
     "ename": "ZeroDivisionError",
     "evalue": "division by zero",
     "output_type": "error",
     "traceback": [
      "\u001b[1;31m---------------------------------------------------------------------------\u001b[0m",
      "\u001b[1;31mZeroDivisionError\u001b[0m                         Traceback (most recent call last)",
      "Cell \u001b[1;32mIn[1], line 3\u001b[0m\n\u001b[0;32m      1\u001b[0m \u001b[38;5;66;03m# without try-except:\u001b[39;00m\n\u001b[0;32m      2\u001b[0m \u001b[38;5;28mprint\u001b[39m(\u001b[38;5;124m\"\u001b[39m\u001b[38;5;124mhello\u001b[39m\u001b[38;5;124m\"\u001b[39m)\n\u001b[1;32m----> 3\u001b[0m \u001b[38;5;28mprint\u001b[39m(\u001b[38;5;241;43m10\u001b[39;49m\u001b[38;5;241;43m/\u001b[39;49m\u001b[38;5;241;43m0\u001b[39;49m)\n\u001b[0;32m      4\u001b[0m \u001b[38;5;28mprint\u001b[39m(\u001b[38;5;124m\"\u001b[39m\u001b[38;5;124mhaii\u001b[39m\u001b[38;5;124m\"\u001b[39m)\n",
      "\u001b[1;31mZeroDivisionError\u001b[0m: division by zero"
     ]
    }
   ],
   "source": [
    "# without try-except:\n",
    "print(\"hello\")\n",
    "print(10/0)\n",
    "print(\"haii\")"
   ]
  },
  {
   "cell_type": "code",
   "execution_count": 2,
   "id": "9988909e",
   "metadata": {},
   "outputs": [
    {
     "name": "stdout",
     "output_type": "stream",
     "text": [
      "hello\n",
      "5.0\n",
      "haii\n"
     ]
    }
   ],
   "source": [
    "# with try-except:\n",
    "print(\"hello\")\n",
    "try: \n",
    "    print(10/0)\n",
    "except ZeroDivisionError:\n",
    "    print(10/2)\n",
    "    print(\"haii\")"
   ]
  },
  {
   "cell_type": "markdown",
   "id": "fa3cbfb6",
   "metadata": {},
   "source": [
    "We can also use the else statement with the try-except statement in which, we can place the code which\n",
    "will be executed in the scenario if no exception occurs in the try block. \n",
    "```python\n",
    "Syntax:\n",
    "try: \n",
    "   #block of code\n",
    "except Exception1:\n",
    "   #block of code\n",
    "else:\n",
    "   #this code executes if no except block is\n",
    "executed\n",
    "```"
   ]
  },
  {
   "cell_type": "code",
   "execution_count": 3,
   "id": "9951579d",
   "metadata": {},
   "outputs": [
    {
     "name": "stdout",
     "output_type": "stream",
     "text": [
      "Enter a:10\n",
      "Enter b:0\n",
      "can't divide by zero\n"
     ]
    }
   ],
   "source": [
    "try: \n",
    "    a = int(input(\"Enter a:\"))\n",
    "    b = int(input(\"Enter b:\")) \n",
    "    c = a/b;\n",
    "    print(\"a/b = %d\"%c)\n",
    "except Exception:\n",
    "    print(\"can't divide by zero\")\n",
    "else:\n",
    "    print(\"Hi I am else block\")"
   ]
  },
  {
   "cell_type": "markdown",
   "id": "2cac7678",
   "metadata": {},
   "source": [
    "### try with multiple except blocks:\n",
    "The way of handling exception is varied from exception to exception.Hence for every exception type a \n",
    "seperate except block we have to provide. i.e try with multiple except blocks is possible and recommended to use.\n",
    "```python\n",
    "Syntax:\n",
    "Eg: \n",
    "try: \n",
    "    stmnt1\n",
    "    stmnt2\n",
    "    stmnt3\n",
    "except exception1:\n",
    "    stmnt4\n",
    "except exception2:\n",
    "    stmnt5\n",
    "```\n",
    "If try with multiple except blocks available then based on raised exception the corresponding except block will be\n",
    "executed."
   ]
  },
  {
   "cell_type": "code",
   "execution_count": 4,
   "id": "c0dae5c6",
   "metadata": {},
   "outputs": [
    {
     "name": "stdout",
     "output_type": "stream",
     "text": [
      "Enter First Number: 100\n",
      "Enter Second Number: 0\n",
      "Can't Divide with Zero\n"
     ]
    }
   ],
   "source": [
    "try: \n",
    "    x=int(input(\"Enter First Number: \"))\n",
    "    y=int(input(\"Enter Second Number: \")) \n",
    "    print(x/y)\n",
    "except ZeroDivisionError : \n",
    "    print(\"Can't Divide with Zero\")\n",
    "except ValueError: \n",
    "    print(\"please provide int value only\")"
   ]
  },
  {
   "cell_type": "markdown",
   "id": "5aab70fe",
   "metadata": {},
   "source": [
    "If try with multiple except blocks available then the order of these except blocks is important .Python interpreter\n",
    "will always consider from top to bottom until matched except block identified."
   ]
  },
  {
   "cell_type": "code",
   "execution_count": 5,
   "id": "8a5c97b8",
   "metadata": {},
   "outputs": [
    {
     "name": "stdout",
     "output_type": "stream",
     "text": [
      "Enter First Number: 25\n",
      "Enter Second Number: 0\n",
      "ArithmeticError\n"
     ]
    }
   ],
   "source": [
    "try: \n",
    "    x=int(input(\"Enter First Number: \"))\n",
    "    y=int(input(\"Enter Second Number: \")) \n",
    "    print(x/y)\n",
    "except ArithmeticError : \n",
    "    print(\"ArithmeticError\")\n",
    "except ZeroDivisionError : \n",
    "    print(\"ZeroDivisionError\")"
   ]
  },
  {
   "cell_type": "markdown",
   "id": "80c16e43",
   "metadata": {},
   "source": [
    "####  Single except block that can handle multiple exceptions:\n",
    "- We can write a single except block that can handle multiple different types of exceptions.\n",
    "```python\n",
    "except (Exception1,Exception2,exception3,..): or\n",
    "except (Exception1,Exception2,exception3,..) as msg : \n",
    "```\n",
    "- Parenthesis are mandatory and this group of exceptions internally considered as tuple."
   ]
  },
  {
   "cell_type": "code",
   "execution_count": 6,
   "id": "498277f7",
   "metadata": {},
   "outputs": [
    {
     "name": "stdout",
     "output_type": "stream",
     "text": [
      "Enter First Number: 25\n",
      "Enter Second Number: ten\n",
      "Plz Provide valid numbers only and problem is:  invalid literal for int() with base 10: 'ten'\n"
     ]
    }
   ],
   "source": [
    "try: \n",
    "    x=int(input(\"Enter First Number: \"))\n",
    "    y=int(input(\"Enter Second Number: \")) \n",
    "    print(x/y)\n",
    "except (ArithmeticError,ValueError) as msg:\n",
    "    print(\"Plz Provide valid numbers only and problem is: \",msg)"
   ]
  },
  {
   "cell_type": "markdown",
   "id": "c100f89b",
   "metadata": {},
   "source": [
    "#### Default except block:\n",
    "We can use default except block to handle any type of exceptions. In default except block generally we\n",
    "can print normal error messages.\n",
    "```python\n",
    "Syntax:\n",
    "    except:\n",
    "         statements\n",
    "```"
   ]
  },
  {
   "cell_type": "code",
   "execution_count": 7,
   "id": "45e416d5",
   "metadata": {},
   "outputs": [
    {
     "name": "stdout",
     "output_type": "stream",
     "text": [
      "Enter First Number: 20\n",
      "Enter Second Number: 0\n",
      "Can't Divide with Zero\n"
     ]
    }
   ],
   "source": [
    "try: \n",
    "    x=int(input(\"Enter First Number: \"))\n",
    "    y=int(input(\"Enter Second Number: \")) \n",
    "    print(x/y)\n",
    "except ArithmeticError:\n",
    "    print(\"Can't Divide with Zero\")\n",
    "except:\n",
    "    print(\"Plz Provide valid numbers only\")"
   ]
  },
  {
   "cell_type": "code",
   "execution_count": 1,
   "id": "c43a9369",
   "metadata": {},
   "outputs": [
    {
     "name": "stdout",
     "output_type": "stream",
     "text": [
      "----------------------------------- THE END -----------------------------------\n"
     ]
    }
   ],
   "source": [
    "print(\"-------\"*5,'THE END',\"-------\"*5)"
   ]
  },
  {
   "cell_type": "markdown",
   "id": "d183365f",
   "metadata": {},
   "source": [
    "Author: [Moguloju_Sai](https://linktr.ee/Moguloju_Sai)"
   ]
  }
 ],
 "metadata": {
  "kernelspec": {
   "display_name": "Python 3 (ipykernel)",
   "language": "python",
   "name": "python3"
  },
  "language_info": {
   "codemirror_mode": {
    "name": "ipython",
    "version": 3
   },
   "file_extension": ".py",
   "mimetype": "text/x-python",
   "name": "python",
   "nbconvert_exporter": "python",
   "pygments_lexer": "ipython3",
   "version": "3.10.9"
  }
 },
 "nbformat": 4,
 "nbformat_minor": 5
}
