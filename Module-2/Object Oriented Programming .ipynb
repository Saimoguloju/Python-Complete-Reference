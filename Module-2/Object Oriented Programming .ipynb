{
 "cells": [
  {
   "cell_type": "markdown",
   "id": "4bda97b5",
   "metadata": {},
   "source": [
    "![Python logo](data:image/png;base64,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)"
   ]
  },
  {
   "cell_type": "markdown",
   "id": "b2c881a9",
   "metadata": {},
   "source": [
    "## Object Oriented Programming\n",
    "Object Oriented Programming is a way of computer programming using the idea of “objects” to\n",
    "represents data and methods. It is also, an approach used for creating neat and reusable code instead of a\n",
    "redundant one. the program is divided into self-contained objects or several mini-programs. Every Individual\n",
    "object represents a different part of the application having its own logic and data to communicate within\n",
    "themselves."
   ]
  },
  {
   "cell_type": "markdown",
   "id": "687ca95a",
   "metadata": {},
   "source": [
    "#### What is Class:\n",
    "- In Python everything is an object. To create objects we required some Model or Plan or Blue Print, which is nothing but class.\n",
    "- We can write a class to represent properties (attributes) and actions (behaviour) of object.\n",
    "- Properties can be represented by variables\n",
    "- Actions can be represented by Methods.\n",
    "We can define a class by using class keyword.\n",
    "#### Syntax:\n",
    "```python\n",
    "class className:\n",
    "''' documenttation string'''\n",
    "```"
   ]
  },
  {
   "cell_type": "markdown",
   "id": "a870f9fd",
   "metadata": {},
   "source": [
    "#### Example:\n",
    "```python\n",
    "class student(): //student is the name of the class\n",
    "```"
   ]
  },
  {
   "cell_type": "markdown",
   "id": "3aad5b11",
   "metadata": {},
   "source": [
    "#### Objects:\n",
    "- Objects are an instance of a class. It is an entity that has state and behaviour.\n",
    "- State represents the attributes and behaviour represents the functionality or actions\n",
    "- In a nutshell, it is an instance of a class that can access the data.\n",
    "For example students is a object\n",
    "- State: attributes for students ---- name, age, gender, mobile no., etc.\n",
    "- Behaviour: functionality of student—reading, learning, attend_classes, etc.\n",
    "```python\n",
    "Syntax to create object: referencevariable = classname()\n",
    "Example: s = student()\n",
    "```"
   ]
  },
  {
   "cell_type": "markdown",
   "id": "30038508",
   "metadata": {},
   "source": [
    "#### What is Reference Variable: \n",
    "The variable which can be used to refer object is called reference variable. By using reference variable,\n",
    "we can access properties and methods of object."
   ]
  },
  {
   "cell_type": "code",
   "execution_count": 1,
   "id": "145df2d5",
   "metadata": {},
   "outputs": [
    {
     "name": "stdout",
     "output_type": "stream",
     "text": [
      "Hello, my name is: Sai\n",
      "My roll number is: 726\n",
      "My marks are: 100\n"
     ]
    }
   ],
   "source": [
    "class Student:\n",
    "    def __init__(self, name, rollno, marks):\n",
    "        self.name = name\n",
    "        self.rollno = rollno\n",
    "        self.marks = marks\n",
    "\n",
    "    def talk(self):\n",
    "        print(\"Hello, my name is:\", self.name)\n",
    "        print(\"My roll number is:\", self.rollno)\n",
    "        print(\"My marks are:\", self.marks)\n",
    "\n",
    "s1 = Student(\"Sai\", 726, 100)\n",
    "s1.talk()"
   ]
  },
  {
   "cell_type": "markdown",
   "id": "88de3f46",
   "metadata": {},
   "source": [
    "#### Self variable: \n",
    "Self is the default variable or is an implicit variable which is always pointing to current object (like this\n",
    "keyword in Java) provided by PVM. By using self we can access instance variables and instance methods of\n",
    "object.\n",
    "##### Note:\n",
    "1. self should be first parameter inside constructor\n",
    "***def init (self):*** \n",
    "2. self should be first parameter inside instance methods\n",
    "***def talk(self):***"
   ]
  },
  {
   "cell_type": "code",
   "execution_count": 10,
   "id": "ee3215d2",
   "metadata": {},
   "outputs": [
    {
     "name": "stdout",
     "output_type": "stream",
     "text": [
      "Address of s1 object is: 2606684186096\n",
      "Address of self object is: 2606684186096\n",
      "Hello, my name is: SAI\n",
      "My roll number is: 1219\n",
      "My marks are: 75\n",
      "****************************************\n",
      "Address of s2 object is: 2606684178032\n",
      "Address of self object is: 2606684178032\n",
      "Hello, my name is: SRINIDHI\n",
      "My roll number is: 1220\n",
      "My marks are: 80\n"
     ]
    }
   ],
   "source": [
    "class Student:\n",
    "    def __init__(self, name, rollno, marks):\n",
    "        self.name = name\n",
    "        self.rollno = rollno\n",
    "        self.marks = marks\n",
    "\n",
    "    def display(self):\n",
    "        print(\"Address of self object is:\", id(self))\n",
    "        print(\"Hello, my name is:\", self.name)\n",
    "        print(\"My roll number is:\", self.rollno)\n",
    "        print(\"My marks are:\", self.marks)\n",
    "\n",
    "s1 = Student(\"SAI\", 1219, 75)\n",
    "print(\"Address of s1 object is:\", id(s1))\n",
    "s1.display()\n",
    "print(\"*\" * 40)\n",
    "s2 = Student(\"SRINIDHI\", 1220, 80)\n",
    "print(\"Address of s2 object is:\", id(s2))\n",
    "s2.display()"
   ]
  },
  {
   "cell_type": "markdown",
   "id": "94686795",
   "metadata": {},
   "source": [
    "#### Constructor:\n",
    "- Constructor is a special method in python.\n",
    "- The name of the constructor should be init (self)\n",
    "- Constructor will be executed automatically at the time of object creation.\n",
    "- The main purpose of constructor is to declare and initialize instance variables.\n",
    "- Per object constructor will be executed only once.\n",
    "- Constructor can take atleast one argument(atleast self)\n",
    "- Constructor is optional and if we are not providing any constructor then python will provide default constructor. "
   ]
  },
  {
   "cell_type": "markdown",
   "id": "b2e8fab2",
   "metadata": {},
   "source": [
    " ```python\n",
    "def init (self,name,rollno,marks):\n",
    "self.name=name\n",
    "self.rollno=rollno\n",
    "self.marks=marks\n",
    "```"
   ]
  },
  {
   "cell_type": "code",
   "execution_count": 3,
   "id": "24a69f86",
   "metadata": {},
   "outputs": [
    {
     "name": "stdout",
     "output_type": "stream",
     "text": [
      "Constructor execution...\n",
      "Constructor execution...\n",
      "Constructor execution...\n",
      "Method execution...\n"
     ]
    }
   ],
   "source": [
    "class Test:\n",
    "    def __init__(self):\n",
    "        print(\"Constructor execution...\")\n",
    "\n",
    "    def m1(self):\n",
    "        print(\"Method execution...\")\n",
    "\n",
    "t1 = Test()\n",
    "t2 = Test()\n",
    "t3 = Test()\n",
    "t1.m1()"
   ]
  },
  {
   "cell_type": "markdown",
   "id": "b8885d5c",
   "metadata": {},
   "source": [
    "#### Types of Variables: \n",
    "Inside Python class 3 types of variables are allowed.\n",
    "1. Instance Variables (Object Level Variables)\n",
    "2. Static Variables (Class Level Variables)\n",
    "3. Local variables (Method Level Variables)"
   ]
  },
  {
   "cell_type": "markdown",
   "id": "5bdce496",
   "metadata": {},
   "source": [
    "####  1. Instance Variables: \n",
    "If the value of a variable is varied from object to object, then such type of variables are called instance\n",
    "variables.\n",
    "- For every object a separate copy of instance variables will be created.\n",
    "Where we can declare Instance variables:\n",
    "1. Inside Constructor by using self variable\n",
    "2. Inside Instance Method by using self variable\n",
    "3. Outside of the class by using object reference variable"
   ]
  },
  {
   "cell_type": "markdown",
   "id": "eb54a4b6",
   "metadata": {},
   "source": [
    "##### Inside Constructor by using self variable:\n",
    "We can declare instance variables inside a constructor by using self keyword. Once we creates\n",
    "object, automatically these variables will be added to the object."
   ]
  },
  {
   "cell_type": "code",
   "execution_count": 4,
   "id": "b7e48c5c",
   "metadata": {},
   "outputs": [
    {
     "name": "stdout",
     "output_type": "stream",
     "text": [
      "{'eno': 100, 'ename': 'SAI', 'esal': 10000}\n"
     ]
    }
   ],
   "source": [
    "class Employee:\n",
    "    def __init__(self):\n",
    "        self.eno = 100\n",
    "        self.ename = 'SAI'\n",
    "        self.esal = 10000\n",
    "\n",
    "e = Employee()\n",
    "print(e.__dict__)"
   ]
  },
  {
   "cell_type": "markdown",
   "id": "171ed7f2",
   "metadata": {},
   "source": [
    "####  Inside Instance Method by using self variable:\n",
    "We can also declare instance variables inside instance method by using self variable. If any instance\n",
    "variable declared inside instance method, that instance variable will be added once we call taht method."
   ]
  },
  {
   "cell_type": "code",
   "execution_count": 9,
   "id": "9c183c6a",
   "metadata": {},
   "outputs": [
    {
     "name": "stdout",
     "output_type": "stream",
     "text": [
      "{'eno': 100, 'ename': 'SAI'}\n",
      "{'eno': 100, 'ename': 'SAI', 'esal': 10000}\n"
     ]
    }
   ],
   "source": [
    "class Employee:\n",
    "    def __init__(self):\n",
    "        self.eno = 100\n",
    "        self.ename = 'SAI'\n",
    "\n",
    "    def method1(self):\n",
    "        self.esal = 10000\n",
    "\n",
    "e = Employee()\n",
    "print(e.__dict__)\n",
    "e.method1()\n",
    "print(e.__dict__)"
   ]
  },
  {
   "cell_type": "markdown",
   "id": "1f40c347",
   "metadata": {},
   "source": [
    "####  Outside of the class by using object reference variable:\n",
    "We can also add instance variables outside of a class to a particular object"
   ]
  },
  {
   "cell_type": "code",
   "execution_count": 8,
   "id": "c6cbb4f8",
   "metadata": {},
   "outputs": [
    {
     "name": "stdout",
     "output_type": "stream",
     "text": [
      "{'eno': 100, 'ename': 'SAI', 'esal': 10000, 'age': 28}\n"
     ]
    }
   ],
   "source": [
    "class Employee:\n",
    "    def __init__(self): \n",
    "        self.eno = 100\n",
    "        self.ename = 'SAI'\n",
    "\n",
    "    def method1(self):\n",
    "        self.esal = 10000\n",
    "\n",
    "e = Employee()\n",
    "e.method1()\n",
    "e.age = 28\n",
    "print(e.__dict__)"
   ]
  },
  {
   "cell_type": "markdown",
   "id": "de1be2d5",
   "metadata": {},
   "source": [
    "#### How to access Instance variables: \n",
    "We can access instance variables with in the class by using self variable and outside of the class by\n",
    "using object reference."
   ]
  },
  {
   "cell_type": "code",
   "execution_count": 7,
   "id": "7c3c3581",
   "metadata": {},
   "outputs": [
    {
     "name": "stdout",
     "output_type": "stream",
     "text": [
      "100\n",
      "SAI\n",
      "100 SAI\n"
     ]
    }
   ],
   "source": [
    "class Employee:\n",
    "    def __init__(self): \n",
    "        self.eno = 100\n",
    "        self.ename = 'SAI'\n",
    "\n",
    "    def display(self):\n",
    "        print(self.eno)\n",
    "        print(self.ename)\n",
    "\n",
    "e = Employee()\n",
    "e.display()\n",
    "print(e.eno, e.ename)"
   ]
  },
  {
   "cell_type": "markdown",
   "id": "db5141cb",
   "metadata": {},
   "source": [
    "#### How to delete instance variable from the object:\n",
    "1. Within a class we can delete instance variable as follows\n",
    "del self.variableName\n",
    "2. From outside of class we can delete instance variables as follows\n",
    "del objectreference.variableName"
   ]
  },
  {
   "cell_type": "code",
   "execution_count": 11,
   "id": "d9b50c57",
   "metadata": {},
   "outputs": [
    {
     "name": "stdout",
     "output_type": "stream",
     "text": [
      "{'eno': 100, 'ename': 'SAI', 'eage': 28, 'esal': 30000}\n",
      "{'eno': 100, 'ename': 'SAI', 'esal': 30000}\n",
      "{'eno': 100, 'esal': 30000}\n"
     ]
    }
   ],
   "source": [
    "class Employee:\n",
    "    def __init__(self):\n",
    "        self.eno = 100\n",
    "        self.ename = 'SAI'\n",
    "        self.eage = 28\n",
    "        self.esal = 30000\n",
    "\n",
    "    def display(self):\n",
    "        del self.eage\n",
    "\n",
    "e = Employee()\n",
    "print(e.__dict__)\n",
    "e.display()\n",
    "print(e.__dict__)\n",
    "del e.ename\n",
    "print(e.__dict__)"
   ]
  },
  {
   "cell_type": "markdown",
   "id": "0e67cf6c",
   "metadata": {},
   "source": [
    "#### Note:\n",
    ": The instance variables which are deleted from one object,will not be deleted from other objects"
   ]
  },
  {
   "cell_type": "code",
   "execution_count": 12,
   "id": "2586fc58",
   "metadata": {},
   "outputs": [
    {
     "name": "stdout",
     "output_type": "stream",
     "text": [
      "{'eno': 100, 'eage': 28, 'esal': 30000}\n",
      "{'eno': 100, 'ename': 'Sai', 'eage': 28, 'esal': 30000}\n"
     ]
    }
   ],
   "source": [
    "class Employee:\n",
    "    def __init__(self): \n",
    "        self.eno = 100\n",
    "        self.ename = 'Sai' \n",
    "        self.eage = 28\n",
    "        self.esal = 30000\n",
    "\n",
    "e1 = Employee()\n",
    "e2 = Employee()\n",
    "\n",
    "del e1.ename\n",
    "\n",
    "print(e1.__dict__)\n",
    "print(e2.__dict__)"
   ]
  },
  {
   "cell_type": "markdown",
   "id": "b163c5fa",
   "metadata": {},
   "source": [
    "If we change the values of instance variables of one object then those changes won't be reflected\n",
    "to the remaining objects, because for every object we are separate copy of instance variables are available."
   ]
  },
  {
   "cell_type": "markdown",
   "id": "15af7836",
   "metadata": {},
   "source": [
    "### 2.Static variables:\n",
    "- If the value of a variable is not varied from object to object, such type of variables we have to declare with in the class directly but outside of methods. Such type of variables are called Static variables.\n",
    "- For total class only one copy of static variable will be created and shared by all objects of that class.\n",
    "- We can access static variables either by class name or by object reference. But recommended to use class name."
   ]
  },
  {
   "cell_type": "code",
   "execution_count": 13,
   "id": "5b47430d",
   "metadata": {},
   "outputs": [
    {
     "name": "stdout",
     "output_type": "stream",
     "text": [
      "e1: 100 SAI 30000\n",
      "e2: 100 SAI 30000\n"
     ]
    }
   ],
   "source": [
    "class Employee:\n",
    "    esal = 30000\n",
    "\n",
    "    def __init__(self):\n",
    "        self.eno = 100\n",
    "        self.ename = 'SAI'\n",
    "\n",
    "e1 = Employee()\n",
    "e2 = Employee()\n",
    "\n",
    "print(\"e1:\", e1.eno, e1.ename, e1.esal)\n",
    "print(\"e2:\", e2.eno, e2.ename, e2.esal)\n",
    "\n",
    "Employee.esal = 40000"
   ]
  },
  {
   "cell_type": "markdown",
   "id": "a35416fe",
   "metadata": {},
   "source": [
    "###  Various places to declare static variables: \n",
    "1. In general we can declare static variable within the class directly but declare outside of any method\n",
    "2. Inside constructor by using class name\n",
    "3. Inside instance method by using class name\n",
    "4. Inside class_method by using either class name or cls variable\n",
    "5. Inside static method by using class name"
   ]
  },
  {
   "cell_type": "code",
   "execution_count": 14,
   "id": "aaecba19",
   "metadata": {},
   "outputs": [
    {
     "name": "stdout",
     "output_type": "stream",
     "text": [
      "{'eno': 100, 'ename': 'SAI'}\n"
     ]
    }
   ],
   "source": [
    "class Employee:\n",
    "    esal = 30000  # class variable\n",
    "\n",
    "    def __init__(self):  # constructor\n",
    "        self.eno = 100  # instance variable\n",
    "\n",
    "    def m1(self):  # instance method\n",
    "        self.ename = \"SAI\"  # instance variable\n",
    "\n",
    "    @classmethod\n",
    "    def m2(cls):  # class method\n",
    "        cls.elocation = \"HYD\"  # class variable\n",
    "        cls.eage = 28  # class variable\n",
    "\n",
    "    @staticmethod\n",
    "    def m3():  # static method\n",
    "        Employee.edist = \"RR\"  # class variable\n",
    "\n",
    "# Creating an instance\n",
    "e = Employee()\n",
    "\n",
    "# Calling methods to add attributes\n",
    "e.m1()\n",
    "Employee.m2()\n",
    "Employee.m3()\n",
    "\n",
    "# Printing the dictionary of instance attributes\n",
    "print(e.__dict__)"
   ]
  },
  {
   "cell_type": "markdown",
   "id": "5363fdb2",
   "metadata": {},
   "source": [
    "#### How to access static variables: \n",
    "1. inside constructor: by using either self or classname\n",
    "2. inside instance method: by using either self or classname\n",
    "3. inside class method: by using either cls variable or classname\n",
    "4. inside static method: by using classname\n",
    "5. From outside of class: by using either object reference or classnmae\n",
    "#### Where we can modify the value of static variable:\n",
    "Anywhere either with in the class or outside of class we can modify by using classname. But inside class method, by using cls variable. \n",
    "#### How to delete static variables of a class:\n",
    "We can delete static variables from anywhere by using the following syntax\n",
    "- del classname.variablename\n",
    "But inside classmethod we can also use cls variable\n",
    "- del cls.variablename\n"
   ]
  },
  {
   "cell_type": "markdown",
   "id": "fc8ff154",
   "metadata": {},
   "source": [
    "#### Note:\n",
    "- By using object reference variable/self we can read static variables, but we cannot modify or delete.\n",
    "- If we are trying to modify, then a new instance variable will be added to that particular object.\n",
    "- If we are trying to delete then we will get error. \n",
    "- We can modify or delete static variables only by using classname or cls variable."
   ]
  },
  {
   "cell_type": "markdown",
   "id": "22fd6228",
   "metadata": {},
   "source": [
    "#### Instance Variable vs Static Variable:\n",
    "In the case of instance variables for every object a seperate copy will be created, but in the case of static\n",
    "variables for total class only one copy will be created and shared by every object of that class."
   ]
  },
  {
   "cell_type": "markdown",
   "id": "1a06b048",
   "metadata": {},
   "source": [
    "### 3.Local variables:\n",
    "- Sometimes to meet temporary requirements of programmer, we can declare variables inside a method directly, such type of variables are called local variable or temporary variables.\n",
    "- Local variables will be created at the time of method execution and destroyed once method completes.\n",
    "- Local variables of a method cannot be accessed from outside of method. "
   ]
  },
  {
   "cell_type": "code",
   "execution_count": 15,
   "id": "55019bf9",
   "metadata": {},
   "outputs": [
    {
     "name": "stdout",
     "output_type": "stream",
     "text": [
      "m1 method local variable value is: 1000\n",
      "m2 method local variable value is: 2000\n"
     ]
    }
   ],
   "source": [
    "class Test:\n",
    "    def m1(self): \n",
    "        self.a = 1000\n",
    "        print(\"m1 method local variable value is:\", self.a)\n",
    "    \n",
    "    def m2(self): \n",
    "        self.b = 2000\n",
    "        print(\"m2 method local variable value is:\", self.b)\n",
    "\n",
    "t = Test()\n",
    "t.m1()\n",
    "t.m2()"
   ]
  },
  {
   "cell_type": "code",
   "execution_count": 16,
   "id": "27b875de",
   "metadata": {},
   "outputs": [
    {
     "name": "stdout",
     "output_type": "stream",
     "text": [
      "m1 method local variable value is: 1000\n",
      "m2 method local variable value is: 2000\n"
     ]
    }
   ],
   "source": [
    "class Test:\n",
    "    def m1(self): \n",
    "        a = 1000\n",
    "        print(\"m1 method local variable value is:\", a)\n",
    "    \n",
    "    def m2(self): \n",
    "        b = 2000\n",
    "        print(\"m2 method local variable value is:\", b)\n",
    "\n",
    "t = Test()\n",
    "t.m1()\n",
    "t.m2()"
   ]
  },
  {
   "cell_type": "markdown",
   "id": "db87a5c2",
   "metadata": {},
   "source": [
    "### Types of Methods:\n",
    "Inside Python class 3 types of methods are allowed\n",
    "1. Instance Methods\n",
    "2. Class Methods\n",
    "3. Static Methods"
   ]
  },
  {
   "cell_type": "markdown",
   "id": "adf42615",
   "metadata": {},
   "source": [
    "### 1. Instance Methods:\n",
    "- Inside method implementation if we are using instance variables then such type of methods are called instance methods.\n",
    "- Inside instance method declaration,we have to pass self variable.\n",
    "  def m1(self): \n",
    "- By using self variable inside method we can able to access instance variables.\n",
    "- Within the class we can call instance method by using self variable and from outside of the class we can call by using object reference"
   ]
  },
  {
   "cell_type": "code",
   "execution_count": 17,
   "id": "ab245c1f",
   "metadata": {},
   "outputs": [
    {
     "name": "stdout",
     "output_type": "stream",
     "text": [
      "Enter number of students: 50\n",
      "Enter Name: SAI\n",
      "Enter Marks: 90\n",
      "Hi SAI\n",
      "Your Marks are: 90\n",
      "You got First Grade\n",
      "********************\n",
      "Enter Name: 6\n",
      "Enter Marks: 6\n",
      "Hi 6\n",
      "Your Marks are: 6\n",
      "You are Failed\n",
      "********************\n",
      "Enter Name: 67\n",
      "Enter Marks: 67\n",
      "Hi 67\n",
      "Your Marks are: 67\n",
      "You got First Grade\n",
      "********************\n",
      "Enter Name: exit()\n",
      "Enter Marks: dd\n"
     ]
    },
    {
     "ename": "ValueError",
     "evalue": "invalid literal for int() with base 10: 'dd'",
     "output_type": "error",
     "traceback": [
      "\u001b[1;31m---------------------------------------------------------------------------\u001b[0m",
      "\u001b[1;31mValueError\u001b[0m                                Traceback (most recent call last)",
      "Cell \u001b[1;32mIn[17], line 23\u001b[0m\n\u001b[0;32m     21\u001b[0m \u001b[38;5;28;01mfor\u001b[39;00m i \u001b[38;5;129;01min\u001b[39;00m \u001b[38;5;28mrange\u001b[39m(n): \n\u001b[0;32m     22\u001b[0m     name \u001b[38;5;241m=\u001b[39m \u001b[38;5;28minput\u001b[39m(\u001b[38;5;124m'\u001b[39m\u001b[38;5;124mEnter Name: \u001b[39m\u001b[38;5;124m'\u001b[39m)\n\u001b[1;32m---> 23\u001b[0m     marks \u001b[38;5;241m=\u001b[39m \u001b[38;5;28;43mint\u001b[39;49m\u001b[43m(\u001b[49m\u001b[38;5;28;43minput\u001b[39;49m\u001b[43m(\u001b[49m\u001b[38;5;124;43m'\u001b[39;49m\u001b[38;5;124;43mEnter Marks: \u001b[39;49m\u001b[38;5;124;43m'\u001b[39;49m\u001b[43m)\u001b[49m\u001b[43m)\u001b[49m \n\u001b[0;32m     24\u001b[0m     s \u001b[38;5;241m=\u001b[39m Student(name, marks)\n\u001b[0;32m     25\u001b[0m     s\u001b[38;5;241m.\u001b[39mdisplay()\n",
      "\u001b[1;31mValueError\u001b[0m: invalid literal for int() with base 10: 'dd'"
     ]
    }
   ],
   "source": [
    "class Student:\n",
    "    def __init__(self, name, marks):\n",
    "        self.name = name\n",
    "        self.marks = marks\n",
    "\n",
    "    def display(self): \n",
    "        print('Hi', self.name)\n",
    "        print('Your Marks are:', self.marks)\n",
    "\n",
    "    def grade(self):\n",
    "        if self.marks >= 60:\n",
    "            print('You got First Grade')\n",
    "        elif self.marks >= 50:\n",
    "            print('You got Second Grade')\n",
    "        elif self.marks >= 35:\n",
    "            print('You got Third Grade')\n",
    "        else:\n",
    "            print('You are Failed')\n",
    "\n",
    "n = int(input('Enter number of students: '))\n",
    "for i in range(n): \n",
    "    name = input('Enter Name: ')\n",
    "    marks = int(input('Enter Marks: ')) \n",
    "    s = Student(name, marks)\n",
    "    s.display()\n",
    "    s.grade()\n",
    "    print(\"**\" * 10)"
   ]
  },
  {
   "cell_type": "markdown",
   "id": "239e5c5c",
   "metadata": {},
   "source": [
    "### Setter and Getter Methods:\n",
    "- We can set and get the values of instance variables by using getter and setter methods.\n",
    "##### Setter Method:\n",
    "- setter methods can be used to set values to the instance variables. setter methods also known as mutator methods.\n",
    "```python\n",
    "syntax:\n",
    "def setVariable(self,variable):\n",
    "self.variable=variable\n",
    "Example:\n",
    "def setName(self,name):\n",
    "self.name=name\n",
    "```\n",
    "#### Getter Method:\n",
    "- Getter methods can be used to get values of the instance variables. Getter methods also known as accessor methods.\n",
    "```python \n",
    "syntax:\n",
    "def getVariable(self):\n",
    "return self.variable\n",
    "Example:\n",
    "def getName(self):\n",
    "return self.name\n",
    "```"
   ]
  },
  {
   "cell_type": "code",
   "execution_count": 19,
   "id": "46a0fce1",
   "metadata": {
    "collapsed": true
   },
   "outputs": [
    {
     "name": "stdout",
     "output_type": "stream",
     "text": [
      "Enter number of students: 60\n",
      "Enter Name: sai\n",
      "Enter Marks: 100\n",
      "Hi sai\n",
      "Your Marks are: 100\n",
      "********************\n",
      "Enter Name: eee\n",
      "Enter Marks: hf\n"
     ]
    },
    {
     "ename": "ValueError",
     "evalue": "invalid literal for int() with base 10: 'hf'",
     "output_type": "error",
     "traceback": [
      "\u001b[1;31m---------------------------------------------------------------------------\u001b[0m",
      "\u001b[1;31mValueError\u001b[0m                                Traceback (most recent call last)",
      "Cell \u001b[1;32mIn[19], line 23\u001b[0m\n\u001b[0;32m     21\u001b[0m name \u001b[38;5;241m=\u001b[39m \u001b[38;5;28minput\u001b[39m(\u001b[38;5;124m'\u001b[39m\u001b[38;5;124mEnter Name: \u001b[39m\u001b[38;5;124m'\u001b[39m)\n\u001b[0;32m     22\u001b[0m s\u001b[38;5;241m.\u001b[39msetName(name)\n\u001b[1;32m---> 23\u001b[0m marks \u001b[38;5;241m=\u001b[39m \u001b[38;5;28;43mint\u001b[39;49m\u001b[43m(\u001b[49m\u001b[38;5;28;43minput\u001b[39;49m\u001b[43m(\u001b[49m\u001b[38;5;124;43m'\u001b[39;49m\u001b[38;5;124;43mEnter Marks: \u001b[39;49m\u001b[38;5;124;43m'\u001b[39;49m\u001b[43m)\u001b[49m\u001b[43m)\u001b[49m \n\u001b[0;32m     24\u001b[0m s\u001b[38;5;241m.\u001b[39msetMarks(marks)\n\u001b[0;32m     25\u001b[0m \u001b[38;5;28mprint\u001b[39m(\u001b[38;5;124m'\u001b[39m\u001b[38;5;124mHi\u001b[39m\u001b[38;5;124m'\u001b[39m, s\u001b[38;5;241m.\u001b[39mgetName())\n",
      "\u001b[1;31mValueError\u001b[0m: invalid literal for int() with base 10: 'hf'"
     ]
    }
   ],
   "source": [
    "class Student:\n",
    "    def __init__(self):\n",
    "        self.name = \"\"\n",
    "        self.marks = 0\n",
    "\n",
    "    def setName(self, name):\n",
    "        self.name = name\n",
    "\n",
    "    def getName(self):\n",
    "        return self.name\n",
    "\n",
    "    def setMarks(self, marks):\n",
    "        self.marks = marks\n",
    "\n",
    "    def getMarks(self):\n",
    "        return self.marks\n",
    "\n",
    "n = int(input('Enter number of students: '))\n",
    "for i in range(n): \n",
    "    s = Student()\n",
    "    name = input('Enter Name: ')\n",
    "    s.setName(name)\n",
    "    marks = int(input('Enter Marks: ')) \n",
    "    s.setMarks(marks)\n",
    "    print('Hi', s.getName())\n",
    "    print('Your Marks are:', s.getMarks())\n",
    "    print(\"**\" * 10)"
   ]
  },
  {
   "cell_type": "markdown",
   "id": "400fd1f2",
   "metadata": {},
   "source": [
    "### Class Methods:\n",
    "- Inside method implementation if we are using only class variables (static variables), then such type of methods we should declare as class method.\n",
    "- We can declare class method explicitly by using @classmethod decorator.\n",
    "- For class method we should provide cls variable at the time of declaration\n",
    "- We can call classmethod by using classname or object reference variable"
   ]
  },
  {
   "cell_type": "code",
   "execution_count": 20,
   "id": "b7b05d0a",
   "metadata": {},
   "outputs": [
    {
     "name": "stdout",
     "output_type": "stream",
     "text": [
      "Dog walks with 4 legs\n",
      "Cat walks with 4 legs\n"
     ]
    }
   ],
   "source": [
    "class Animal:\n",
    "    legs = 4\n",
    "\n",
    "    @classmethod\n",
    "    def walk(cls, name):\n",
    "        # name is a local variable and legs is a class variable\n",
    "        print('{} walks with {} legs'.format(name, cls.legs))\n",
    "\n",
    "Animal.walk('Dog')\n",
    "Animal.walk('Cat')"
   ]
  },
  {
   "cell_type": "markdown",
   "id": "5946d648",
   "metadata": {},
   "source": [
    "### Static Methods: \n",
    "- In general static methods are general utility methods. \n",
    "- Inside these methods we won't use any instance or class variables. \n",
    "- Here we won't provide self or cls arguments at the time of declaration. \n",
    "- We can declare static method explicitly by using @staticmethod decorator \n",
    "- We can access static methods by using classname or object reference variable"
   ]
  },
  {
   "cell_type": "markdown",
   "id": "3417608b",
   "metadata": {},
   "source": [
    "###### Note:\n",
    " In general we can use only instance and static methods. Inside static method we can access \n",
    "class level variables by using class name. "
   ]
  },
  {
   "cell_type": "code",
   "execution_count": 1,
   "id": "b34bb583",
   "metadata": {},
   "outputs": [
    {
     "name": "stdout",
     "output_type": "stream",
     "text": [
      "----------------------------------- THE END ----------------------------------------\n"
     ]
    }
   ],
   "source": [
    "print(\"-------\"*5,'THE END',\"--------\"*5)"
   ]
  },
  {
   "cell_type": "markdown",
   "id": "dffdfa04",
   "metadata": {},
   "source": [
    "Author: [Moguloju_Sai](https://linktr.ee/Moguloju_Sai)"
   ]
  }
 ],
 "metadata": {
  "kernelspec": {
   "display_name": "Python 3 (ipykernel)",
   "language": "python",
   "name": "python3"
  },
  "language_info": {
   "codemirror_mode": {
    "name": "ipython",
    "version": 3
   },
   "file_extension": ".py",
   "mimetype": "text/x-python",
   "name": "python",
   "nbconvert_exporter": "python",
   "pygments_lexer": "ipython3",
   "version": "3.10.9"
  }
 },
 "nbformat": 4,
 "nbformat_minor": 5
}
