{
 "cells": [
  {
   "cell_type": "markdown",
   "id": "1e366504",
   "metadata": {},
   "source": [
    "![Python logo](https://encrypted-tbn0.gstatic.com/images?q=tbn:ANd9GcRbWYPL9iA0pbUf8Wo_NK9fYve8gJh8I0dIjGJfHvw4Tg&s)"
   ]
  },
  {
   "cell_type": "markdown",
   "id": "21bcc4c4",
   "metadata": {},
   "source": [
    "### Inheritance\n",
    "The process by which one class acquires the properties and functionalities of another class is called\n",
    "inheritance. Inheritance provides the idea of reusability of code and each sub class defines only those features that\n",
    "are unique to it, rest of the features can be inherited from the parent class."
   ]
  },
  {
   "cell_type": "markdown",
   "id": "e4c6efec",
   "metadata": {},
   "source": [
    "### 1. Single level:\n",
    "Single level inheritance enables a derived class to inherit characteristics from a single \n",
    "parent class.\n",
    "```python\n",
    "Syntax\n",
    "class base_class:\n",
    "base_class defination\n",
    "class derived_class(<base class>):\n",
    "derived class definition\n",
    "```\n",
    "A class can inherit multiple classes by mentioning all of them inside the bracket. Consider the following syntax.\n",
    "```python\n",
    "Syntax\n",
    "class derive_class(<base class 1>, <base class 2>,.......<base class n>):\n",
    "derive_class definition\n",
    "```"
   ]
  },
  {
   "cell_type": "code",
   "execution_count": 1,
   "id": "4bf7a99d",
   "metadata": {},
   "outputs": [
    {
     "name": "stdout",
     "output_type": "stream",
     "text": [
      "dog barking\n",
      "Animal Speaking\n"
     ]
    }
   ],
   "source": [
    "class Animal:\n",
    "    def speak(self):\n",
    "        print(\"Animal Speaking\")\n",
    "#child class Dog inherits the base class Animal\n",
    "class Dog(Animal):\n",
    "    def bark(self):\n",
    "        print(\"dog barking\")\n",
    "d = Dog()\n",
    "d.bark()\n",
    "d.speak()"
   ]
  },
  {
   "cell_type": "markdown",
   "id": "dcf27af9",
   "metadata": {},
   "source": [
    "### 2.Multi-Level inheritance:\n",
    "Multi-Level inheritance is possible in python like other object-oriented languages. Multi-level inheritance is\n",
    "archived when a derived class inherits another derived class. There is no limit on the number of levels up to\n",
    "which, the multi-level inheritance is archived in python.\n",
    "The syntax of multi-level inheritance is given below.\n",
    "```python\n",
    "Syntax\n",
    "class class1:\n",
    "   class1 defination\n",
    "………..….. \n",
    "class class2(class1):\n",
    "   class2 defination\n",
    "………..….. \n",
    "class class3(class2):\n",
    "   class3 defination\n",
    "………..….. . \n",
    "```"
   ]
  },
  {
   "cell_type": "code",
   "execution_count": 2,
   "id": "59c70333",
   "metadata": {},
   "outputs": [
    {
     "name": "stdout",
     "output_type": "stream",
     "text": [
      "dog barking\n",
      "Animal Speaking\n",
      "Eating bread...\n"
     ]
    }
   ],
   "source": [
    "class Animal:\n",
    "    def speak(self):\n",
    "        print(\"Animal Speaking\")\n",
    "#The child class Dog inherits the base class Animal\n",
    "class Dog(Animal):\n",
    "    def bark(self):\n",
    "        print(\"dog barking\")\n",
    "#The child class Dogchild inherits another child class Dog\n",
    "class DogChild(Dog):\n",
    "    def eat(self):\n",
    "        print(\"Eating bread...\")\n",
    "d = DogChild()\n",
    "d.bark()\n",
    "d.speak()\n",
    "d.eat()"
   ]
  },
  {
   "cell_type": "markdown",
   "id": "722db231",
   "metadata": {},
   "source": [
    "### 3. Multiple inheritance:\n",
    "Python provides us the flexibility to inherit multiple base classes in the child class.\n",
    "The syntax to perform multiple inheritance is given below.\n",
    "```python\n",
    "Syntax\n",
    "class Base1:\n",
    "     Base1 defination\n",
    "class Base2:\n",
    "      Base2 defination\n",
    "class BaseN:\n",
    "     Base N defination\n",
    "class Derived(Base1, Base2,....... BaseN):\n",
    "     derived class defination\n",
    "```"
   ]
  },
  {
   "cell_type": "code",
   "execution_count": 5,
   "id": "40916bac",
   "metadata": {},
   "outputs": [
    {
     "name": "stdout",
     "output_type": "stream",
     "text": [
      "110\n",
      "3000\n",
      "5.0\n"
     ]
    }
   ],
   "source": [
    "class Calc1:\n",
    "    def Sum(self,a,b): \n",
    "        return a+b;\n",
    "class Calc2:\n",
    "    def Mul(self,a,b):\n",
    "        return a*b;\n",
    "class Derived(Calc1,Calc2):\n",
    "    def Divide(self,a,b):\n",
    "        return a/b;\n",
    "d = Derived()\n",
    "print(d.Sum(50,60))\n",
    "print(d.Mul(60,50)) \n",
    "print(d.Divide(100,20))  "
   ]
  },
  {
   "cell_type": "markdown",
   "id": "19497d80",
   "metadata": {},
   "source": [
    "### 4. Hierarchical Inheritance:\n",
    "Hierarchical inheritance involves multiple inheritances from the same base or parent class.\n",
    "```python\n",
    "Syntax:\n",
    "class A:\n",
    "    definition of A \n",
    "class B(A): \n",
    "    definition of B \n",
    "class C(A): \n",
    "    definition of C \n",
    "class D(A):\n",
    "    definition of D \n",
    "```"
   ]
  },
  {
   "cell_type": "code",
   "execution_count": 6,
   "id": "00eedaed",
   "metadata": {},
   "outputs": [
    {
     "name": "stdout",
     "output_type": "stream",
     "text": [
      "this is function 1\n",
      "this is function 2\n",
      "this is function 1\n",
      "this is function 3\n"
     ]
    }
   ],
   "source": [
    "class Parent:\n",
    "    def func1(self): \n",
    "        print(\"this is function 1\")\n",
    "class Child1(Parent): \n",
    "    def func2(self): \n",
    "        print(\"this is function 2\")\n",
    "class Child2(Parent): \n",
    "    def func3(self): \n",
    "        print(\"this is function 3\")\n",
    "ob = Child1()\n",
    "ob1 = Child2()\n",
    "ob.func1()\n",
    "ob.func2()\n",
    "ob1.func1()\n",
    "ob1.func3()"
   ]
  },
  {
   "cell_type": "markdown",
   "id": "9eb0626a",
   "metadata": {},
   "source": [
    "### 5. Hybrid Inheritance:\n",
    "Hybrid inheritance involves multiple inheritance (combination of any two inheritances) taking place in a \n",
    "single program.\n",
    "```python\n",
    "Syntax:\n",
    "    class A:\n",
    "        definition of A \n",
    "    class B(A): \n",
    "        definition of B\n",
    "    class C(A):\n",
    "        definition of C\n",
    "    class D(B,C)\n",
    "        efinition of D\n",
    "```"
   ]
  },
  {
   "cell_type": "code",
   "execution_count": 8,
   "id": "6113f605",
   "metadata": {},
   "outputs": [
    {
     "name": "stdout",
     "output_type": "stream",
     "text": [
      "this is function one\n",
      "this is function 2\n"
     ]
    }
   ],
   "source": [
    "class A:\n",
    "    def func1(self): \n",
    "        print(\"this is function one\")\n",
    "class B(A): \n",
    "     def func2(self): \n",
    "        print(\"this is function 2\")\n",
    "class C(A): \n",
    "    def func3(self): \n",
    "        print(\" this is function 3\")\n",
    "class D(B,C): \n",
    "    def func4(self):\n",
    "        print(\" this is function 4\")\n",
    "ob = D()\n",
    "ob.func1()\n",
    "ob.func2()"
   ]
  },
  {
   "cell_type": "markdown",
   "id": "6dd39892",
   "metadata": {},
   "source": [
    "### The issubclass(sub,sup) method:\n",
    "The issubclass(sub, sup) method is used to check the relationships between the specified classes. It returns \n",
    "true if the first class is the subclass of the second class, and false otherwise."
   ]
  },
  {
   "cell_type": "code",
   "execution_count": 9,
   "id": "943e6ea9",
   "metadata": {},
   "outputs": [
    {
     "name": "stdout",
     "output_type": "stream",
     "text": [
      "True\n",
      "False\n"
     ]
    }
   ],
   "source": [
    "class Calc1:\n",
    "    def Sum(self,a,b):\n",
    "        return a+b;\n",
    "class Calc2:\n",
    "    def Mul(self,a,b):\n",
    "        return a*b;\n",
    "class Derived(Calc1,Calc2):\n",
    "    def Divide(self,a,b):\n",
    "        return a/b;\n",
    "d = Derived()\n",
    "print(issubclass(Derived,Calc2))\n",
    "print(issubclass(Calc1,Calc2)) "
   ]
  },
  {
   "cell_type": "markdown",
   "id": "7e9b2561",
   "metadata": {},
   "source": [
    "### The isinstance (obj, class) method:\n",
    "The isinstance() method is used to check the relationship between the objects and classes. It returns true if\n",
    "the first parameter, i.e., obj is the instance of the second parameter, i.e., class."
   ]
  },
  {
   "cell_type": "code",
   "execution_count": 10,
   "id": "9995f603",
   "metadata": {},
   "outputs": [
    {
     "name": "stdout",
     "output_type": "stream",
     "text": [
      "True\n",
      "True\n",
      "True\n"
     ]
    }
   ],
   "source": [
    "class Calc1:\n",
    "    def Sum(self,a,b):\n",
    "        return a+b;\n",
    "class Calc2:\n",
    "    def Mul(self,a,b):\n",
    "        return a*b;\n",
    "class Derived(Calc1,Calc2):\n",
    "    def Divide(self,a,b):\n",
    "        return a/b;\n",
    "d = Derived()\n",
    "print(isinstance(d,Derived))\n",
    "print(isinstance(d,Calc1))\n",
    "print(isinstance(d,Calc2)) "
   ]
  },
  {
   "cell_type": "markdown",
   "id": "09f0afc7",
   "metadata": {},
   "source": [
    "### Method overriding: \n",
    "What ever members available in the parent class are by default available to the child class through\n",
    "inheritance. If the child class not satisfied with parent class implementation then child class is allowed to redefine\n",
    "that method in the child class based on its requirement. This concept is called overriding.\n",
    "Overriding concept applicable for both methods and constructors."
   ]
  },
  {
   "cell_type": "code",
   "execution_count": 11,
   "id": "46426497",
   "metadata": {},
   "outputs": [
    {
     "name": "stdout",
     "output_type": "stream",
     "text": [
      "Bank Rate of interest: 10\n",
      "SBI Rate of interest: 7\n",
      "ICICI Rate of interest: 8\n"
     ]
    }
   ],
   "source": [
    "class Bank:\n",
    "    def getroi(self):\n",
    "        return 10\n",
    "class SBI(Bank):\n",
    "    def getroi(self):\n",
    "        return 7 \n",
    "class ICICI(Bank):\n",
    "    def getroi(self): \n",
    "        return 8 \n",
    "b1 = Bank()\n",
    "b2 = SBI()\n",
    "b3 = ICICI() \n",
    "print(\"Bank Rate of interest:\",b1.getroi())\n",
    "print(\"SBI Rate of interest:\",b2.getroi())\n",
    "print(\"ICICI Rate of interest:\",b3.getroi())"
   ]
  },
  {
   "cell_type": "markdown",
   "id": "4e3cbb4a",
   "metadata": {},
   "source": [
    "### Constructor overriding: "
   ]
  },
  {
   "cell_type": "code",
   "execution_count": 13,
   "id": "f3c08920",
   "metadata": {},
   "outputs": [],
   "source": [
    "class P:\n",
    "    def init (self): \n",
    "        print('Parent Constructor')\n",
    "class C(P): \n",
    "    def init (self): \n",
    "        print('Child Constructor')\n",
    "c=C()"
   ]
  },
  {
   "cell_type": "markdown",
   "id": "43168d46",
   "metadata": {},
   "source": [
    "In the above example, if child class does not contain constructor then parent class constructor will be\n",
    "executed. From child class constructor we can call parent class constructor by using super() method."
   ]
  },
  {
   "cell_type": "code",
   "execution_count": 1,
   "id": "b6a02ce4",
   "metadata": {},
   "outputs": [
    {
     "name": "stdout",
     "output_type": "stream",
     "text": [
      "Employee Name: Prasanna\n",
      "Employee Age: 28\n",
      "Employee Number: 1001\n",
      "Employee Salary: 25000\n",
      "****************************************\n",
      "Employee Name: Shankar\n",
      "Employee Age: 28\n",
      "Employee Number: 1002\n",
      "Employee Salary: 26000\n"
     ]
    }
   ],
   "source": [
    "class Person:\n",
    "    def __init__(self, name, age):\n",
    "        self.name = name\n",
    "        self.age = age\n",
    "\n",
    "class Employee(Person):\n",
    "    def __init__(self, name, age, eno, esal):\n",
    "        super().__init__(name, age)\n",
    "        self.eno = eno\n",
    "        self.esal = esal\n",
    "    \n",
    "    def display(self):\n",
    "        print('Employee Name:', self.name)\n",
    "        print('Employee Age:', self.age)\n",
    "        print('Employee Number:', self.eno)\n",
    "        print('Employee Salary:', self.esal)\n",
    "\n",
    "# Creating Employee objects\n",
    "e1 = Employee('Prasanna', 28, 1001, 25000)\n",
    "e1.display()\n",
    "print(\"**\" * 20)\n",
    "e2 = Employee('Shankar', 28, 1002, 26000)\n",
    "e2.display()"
   ]
  },
  {
   "cell_type": "code",
   "execution_count": 2,
   "id": "31e755c0",
   "metadata": {},
   "outputs": [
    {
     "name": "stdout",
     "output_type": "stream",
     "text": [
      "------------------------------ THE END ------------------------------\n"
     ]
    }
   ],
   "source": [
    "print(\"------\"*5,'THE END',\"------\"*5)"
   ]
  },
  {
   "cell_type": "markdown",
   "id": "39547b08",
   "metadata": {},
   "source": [
    "Author: [Moguloju_Sai](https://linktr.ee/Moguloju_Sai)"
   ]
  }
 ],
 "metadata": {
  "kernelspec": {
   "display_name": "Python 3 (ipykernel)",
   "language": "python",
   "name": "python3"
  },
  "language_info": {
   "codemirror_mode": {
    "name": "ipython",
    "version": 3
   },
   "file_extension": ".py",
   "mimetype": "text/x-python",
   "name": "python",
   "nbconvert_exporter": "python",
   "pygments_lexer": "ipython3",
   "version": "3.10.9"
  }
 },
 "nbformat": 4,
 "nbformat_minor": 5
}
