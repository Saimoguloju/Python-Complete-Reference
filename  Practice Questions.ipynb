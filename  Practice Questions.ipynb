{
 "cells": [
  {
   "cell_type": "markdown",
   "id": "da7a57d2",
   "metadata": {},
   "source": [
    "## Python Practice Questions\n",
    "                                                                                                        Author: Moguloju Sai\n",
    "                                                                                                        Date: 05|05|2024"
   ]
  },
  {
   "cell_type": "markdown",
   "id": "397733d5",
   "metadata": {},
   "source": [
    "### Write a Python program to print \"Hello Python\""
   ]
  },
  {
   "cell_type": "code",
   "execution_count": 1,
   "id": "60aec4e4",
   "metadata": {},
   "outputs": [
    {
     "name": "stdout",
     "output_type": "stream",
     "text": [
      "Hello Sai\n"
     ]
    }
   ],
   "source": [
    "print(\"Hello Sai\")"
   ]
  },
  {
   "cell_type": "markdown",
   "id": "ab31dcfe",
   "metadata": {},
   "source": [
    "### Write a Python program to do arithmetical operations addition and division."
   ]
  },
  {
   "cell_type": "code",
   "execution_count": 2,
   "id": "346908a9",
   "metadata": {},
   "outputs": [
    {
     "name": "stdout",
     "output_type": "stream",
     "text": [
      "Enter a value:11\n",
      "Enter b value:26\n",
      "37\n"
     ]
    }
   ],
   "source": [
    "a=int(input(\"Enter a value:\"))\n",
    "b=int(input(\"Enter b value:\"))\n",
    "res=a+b\n",
    "print(res)"
   ]
  },
  {
   "cell_type": "code",
   "execution_count": 3,
   "id": "ca9dd1ef",
   "metadata": {},
   "outputs": [
    {
     "name": "stdout",
     "output_type": "stream",
     "text": [
      "Enter x value:11\n",
      "Enter y value:26\n",
      "0.4230769230769231\n"
     ]
    }
   ],
   "source": [
    "x=int(input(\"Enter x value:\"))\n",
    "y=int(input(\"Enter y value:\"))\n",
    "if y==0:\n",
    "    print(\"Error\")\n",
    "else:\n",
    "    res=x/y\n",
    "    print(res)"
   ]
  },
  {
   "cell_type": "markdown",
   "id": "5d8c05a5",
   "metadata": {},
   "source": [
    "### Write a Python program to find the area of a triangle."
   ]
  },
  {
   "cell_type": "code",
   "execution_count": 4,
   "id": "844d61e4",
   "metadata": {},
   "outputs": [
    {
     "name": "stdout",
     "output_type": "stream",
     "text": [
      "Enter base value:11\n",
      "Enter height value:26\n",
      "143.0\n"
     ]
    }
   ],
   "source": [
    "b=int(input(\"Enter base value:\"))\n",
    "h=int(input(\"Enter height value:\"))\n",
    "area=1/2*b*h\n",
    "print(area)"
   ]
  },
  {
   "cell_type": "markdown",
   "id": "fa0010f9",
   "metadata": {},
   "source": [
    "### Write a Python program to swap two variables"
   ]
  },
  {
   "cell_type": "code",
   "execution_count": 5,
   "id": "3b537206",
   "metadata": {},
   "outputs": [
    {
     "name": "stdout",
     "output_type": "stream",
     "text": [
      "11\n",
      "26\n",
      "11 26\n",
      "26 11\n"
     ]
    }
   ],
   "source": [
    "a=input()\n",
    "b=input()\n",
    "print(a,b)\n",
    "temp = a  # a,b = b,a\n",
    "a = b\n",
    "b = temp\n",
    "print(a,b)"
   ]
  },
  {
   "cell_type": "markdown",
   "id": "90c4e545",
   "metadata": {},
   "source": [
    "### Write a Python program to generate a random number"
   ]
  },
  {
   "cell_type": "code",
   "execution_count": 6,
   "id": "64894ba6",
   "metadata": {},
   "outputs": [
    {
     "name": "stdout",
     "output_type": "stream",
     "text": [
      "4\n"
     ]
    }
   ],
   "source": [
    "import random \n",
    "print(random.randint(1,100))"
   ]
  },
  {
   "cell_type": "markdown",
   "id": "a2f88c15",
   "metadata": {},
   "source": [
    "### Write a Python program to convert kilometers to miles."
   ]
  },
  {
   "cell_type": "code",
   "execution_count": 7,
   "id": "d4fee2e8",
   "metadata": {},
   "outputs": [
    {
     "name": "stdout",
     "output_type": "stream",
     "text": [
      "Enter a number:11\n",
      "6.835081\n"
     ]
    }
   ],
   "source": [
    "a=float(input(\"Enter a number:\"))\n",
    "conversion_factor  =  0.621371\n",
    "miles = a*conversion_factor\n",
    "print(miles)"
   ]
  },
  {
   "cell_type": "markdown",
   "id": "8c8a4985",
   "metadata": {},
   "source": [
    "### Write a Python program to convert Celsius to Fahrenheit."
   ]
  },
  {
   "cell_type": "code",
   "execution_count": 8,
   "id": "f1f32d3c",
   "metadata": {},
   "outputs": [
    {
     "name": "stdout",
     "output_type": "stream",
     "text": [
      "enter the value:11\n",
      "51.8\n"
     ]
    }
   ],
   "source": [
    "c = float(input(\"enter the value:\"))\n",
    "f = (c*9/5)+32\n",
    "print(f)"
   ]
  },
  {
   "cell_type": "markdown",
   "id": "30238480",
   "metadata": {},
   "source": [
    "### Write a Python program to display calendar"
   ]
  },
  {
   "cell_type": "code",
   "execution_count": 11,
   "id": "814bac6e",
   "metadata": {},
   "outputs": [
    {
     "name": "stdout",
     "output_type": "stream",
     "text": [
      "Enter year:2020\n",
      "Enter month:11\n",
      "   November 2020\n",
      "Mo Tu We Th Fr Sa Su\n",
      "                   1\n",
      " 2  3  4  5  6  7  8\n",
      " 9 10 11 12 13 14 15\n",
      "16 17 18 19 20 21 22\n",
      "23 24 25 26 27 28 29\n",
      "30\n",
      "\n"
     ]
    }
   ],
   "source": [
    "import calendar\n",
    "year = int(input(\"Enter year:\"))\n",
    "month = int(input(\"Enter month:\"))\n",
    "cal = calendar.month(year, month)\n",
    "print(cal)"
   ]
  },
  {
   "cell_type": "markdown",
   "id": "dc7a26a6",
   "metadata": {},
   "source": [
    "### Write a Python program to solve quadratic equation."
   ]
  },
  {
   "cell_type": "code",
   "execution_count": 12,
   "id": "c73e3c67",
   "metadata": {},
   "outputs": [
    {
     "name": "stdout",
     "output_type": "stream",
     "text": [
      "Enter coefficient a: 11\n",
      "Enter coefficient b: 26\n",
      "Enter coefficient c: 11\n",
      "Root 1: -0.5519815245204083\n",
      "Root 2: -1.8116548391159553\n"
     ]
    }
   ],
   "source": [
    "import math\n",
    "# Input coefficients\n",
    "a = float(input(\"Enter coefficient a: \"))\n",
    "b = float(input(\"Enter coefficient b: \"))\n",
    "c = float(input(\"Enter coefficient c: \"))\n",
    "# Calculate the discriminant\n",
    "discriminant = b**2 - 4*a*c\n",
    "# Check if the discriminant is positive, negative, or zero\n",
    "if discriminant > 0:\n",
    " # Two real and distinct roots\n",
    "    root1 = (-b + math.sqrt(discriminant)) / (2*a)\n",
    "    root2 = (-b - math.sqrt(discriminant)) / (2*a)\n",
    "    print(f\"Root 1: {root1}\")\n",
    "    print(f\"Root 2: {root2}\")\n",
    "elif discriminant == 0:\n",
    " # One real root (repeated)\n",
    "    root = -b / (2*a)\n",
    "    print(f\"Root: {root}\")\n",
    "else:\n",
    " # Complex roots\n",
    "    real_part = -b / (2*a)\n",
    "    imaginary_part = math.sqrt(abs(discriminant)) / (2*a)\n",
    "    print(f\"Root 1: {real_part} + {imaginary_part}i\")\n",
    "    print(f\"Root 2: {real_part} - {imaginary_part}i\")"
   ]
  },
  {
   "cell_type": "markdown",
   "id": "ebdbf3f1",
   "metadata": {},
   "source": [
    "#### Write a Python program to swap two variables without temp variable."
   ]
  },
  {
   "cell_type": "code",
   "execution_count": 13,
   "id": "6af8ac7c",
   "metadata": {},
   "outputs": [
    {
     "name": "stdout",
     "output_type": "stream",
     "text": [
      "After swapping:\n",
      "a = 10\n",
      "b = 5\n"
     ]
    }
   ],
   "source": [
    "a = 5\n",
    "b = 10\n",
    "# Swapping without a temporary variable\n",
    "a, b = b, a\n",
    "print(\"After swapping:\")\n",
    "print(\"a =\", a)\n",
    "print(\"b =\", b)"
   ]
  },
  {
   "cell_type": "markdown",
   "id": "f87d3ea4",
   "metadata": {},
   "source": [
    "#### Write a Python Program to Check if a Number is Positive, Negative or Zero.\n"
   ]
  },
  {
   "cell_type": "code",
   "execution_count": 14,
   "id": "edfe3935",
   "metadata": {},
   "outputs": [
    {
     "name": "stdout",
     "output_type": "stream",
     "text": [
      "Enter a number: 11\n",
      "Positive number\n"
     ]
    }
   ],
   "source": [
    "num = float(input(\"Enter a number: \"))\n",
    "if num > 0:\n",
    "    print(\"Positive number\")\n",
    "elif num == 0:\n",
    "    print(\"Zero\")\n",
    "else:\n",
    "    print(\"Negative number\")\n"
   ]
  },
  {
   "cell_type": "markdown",
   "id": "6f29a899",
   "metadata": {},
   "source": [
    "#### Write a Python Program to Check if a Number is Odd or Even."
   ]
  },
  {
   "cell_type": "code",
   "execution_count": 15,
   "id": "bbe529e7",
   "metadata": {},
   "outputs": [
    {
     "name": "stdout",
     "output_type": "stream",
     "text": [
      "Enter a number: 11\n",
      "This is a odd number\n"
     ]
    }
   ],
   "source": [
    "num = int(input(\"Enter a number: \"))\n",
    "if num%2 == 0:\n",
    "    print(\"This is a even number\")\n",
    "else:\n",
    "    print(\"This is a odd number\")"
   ]
  },
  {
   "cell_type": "markdown",
   "id": "731c3833",
   "metadata": {},
   "source": [
    "#### Write a Python Program to Check Leap Year."
   ]
  },
  {
   "cell_type": "code",
   "execution_count": 17,
   "id": "00576375",
   "metadata": {},
   "outputs": [
    {
     "name": "stdout",
     "output_type": "stream",
     "text": [
      "Enter a year: 11\n",
      "11 is not a leap year\n"
     ]
    }
   ],
   "source": [
    "year = int(input(\"Enter a year: \"))\n",
    "# divided by 100 means century year (ending with 00)\n",
    "# century year divided by 400 is leap year\n",
    "if (year % 400 == 0) and (year % 100 == 0):\n",
    "    print(\"{0} is a leap year\".format(year))\n",
    "# not divided by 100 means not a century year\n",
    "# year divided by 4 is a leap year\n",
    "elif (year % 4 ==0) and (year % 100 != 0):\n",
    "    print(\"{0} is a leap year\".format(year))\n",
    "# if not divided by both 400 (century year) and 4 (not century year)\n",
    "# year is not leap year\n",
    "else:\n",
    "    print(\"{0} is not a leap year\".format(year))"
   ]
  },
  {
   "cell_type": "markdown",
   "id": "4210f968",
   "metadata": {},
   "source": [
    "#### Write a Python Program to Check Prime Number."
   ]
  },
  {
   "cell_type": "code",
   "execution_count": 18,
   "id": "ab69ca2c",
   "metadata": {},
   "outputs": [
    {
     "name": "stdout",
     "output_type": "stream",
     "text": [
      "Enter a number: 11\n",
      "11, is a prime number\n"
     ]
    }
   ],
   "source": [
    "num = int(input(\"Enter a number: \"))\n",
    "# define a flag variable\n",
    "flag = False\n",
    "if num == 1:\n",
    "    print(f\"{num}, is not a prime number\")\n",
    "elif num > 1:\n",
    " # check for factors\n",
    " for i in range(2, num):\n",
    "    if (num % i) == 0:\n",
    "        flag = True # if factor is found, set flag to True\n",
    " # break out of loop\n",
    "        break\n",
    " # check if flag is True\n",
    "if flag:\n",
    "    print(f\"{num}, is not a prime number\")\n",
    "else:\n",
    "    print(f\"{num}, is a prime number\")"
   ]
  },
  {
   "cell_type": "markdown",
   "id": "a51b56bf",
   "metadata": {},
   "source": [
    "#### Write a Python Program to Print all Prime Numbers in an Interval of 1-10."
   ]
  },
  {
   "cell_type": "code",
   "execution_count": 19,
   "id": "73a72a3d",
   "metadata": {},
   "outputs": [
    {
     "name": "stdout",
     "output_type": "stream",
     "text": [
      "Prime numbers between 1 and 10 are:\n",
      "2\n",
      "3\n",
      "5\n",
      "7\n"
     ]
    }
   ],
   "source": [
    "# Python program to display all the prime numbers within an interval\n",
    "lower = 1\n",
    "upper = 10\n",
    "print(\"Prime numbers between\", lower, \"and\", upper, \"are:\")\n",
    "for num in range(lower, upper + 1):\n",
    " # all prime numbers are greater than 1\n",
    "   if num > 1:\n",
    "        for i in range(2, num):\n",
    "            if (num % i) == 0:\n",
    "                break\n",
    "        else:\n",
    "            print(num)"
   ]
  },
  {
   "cell_type": "markdown",
   "id": "53bfa1fc",
   "metadata": {},
   "source": [
    "#### Write a Python Program to Find the Factorial of a Number."
   ]
  },
  {
   "cell_type": "code",
   "execution_count": 20,
   "id": "f5f417dd",
   "metadata": {},
   "outputs": [
    {
     "name": "stdout",
     "output_type": "stream",
     "text": [
      "Enter a number: 11\n",
      "The factorial of 11 is 39916800\n"
     ]
    }
   ],
   "source": [
    "num = int(input(\"Enter a number: \"))\n",
    "factorial = 1\n",
    "if num <0:\n",
    "    print(\"Factirial does not exist for negative numbers\")\n",
    "elif num == 0:\n",
    "    print(\"Factorial of 0 is 1\")\n",
    "else:\n",
    "    for i in range(1, num+1):\n",
    "        factorial = factorial*i\n",
    "    print(f'The factorial of {num} is {factorial}')"
   ]
  },
  {
   "cell_type": "markdown",
   "id": "82756746",
   "metadata": {},
   "source": [
    "#### Write a Python Program to Display the multiplication Table."
   ]
  },
  {
   "cell_type": "code",
   "execution_count": 21,
   "id": "494cebfe",
   "metadata": {},
   "outputs": [
    {
     "name": "stdout",
     "output_type": "stream",
     "text": [
      "Display multiplication table of: 11\n",
      "11 X 1 = 11\n",
      "11 X 2 = 22\n",
      "11 X 3 = 33\n",
      "11 X 4 = 44\n",
      "11 X 5 = 55\n",
      "11 X 6 = 66\n",
      "11 X 7 = 77\n",
      "11 X 8 = 88\n",
      "11 X 9 = 99\n",
      "11 X 10 = 110\n"
     ]
    }
   ],
   "source": [
    "num = int(input(\"Display multiplication table of: \"))\n",
    "for i in range(1, 11):\n",
    "    print(f\"{num} X {i} = {num*i}\")"
   ]
  },
  {
   "cell_type": "markdown",
   "id": "afcb5242",
   "metadata": {},
   "source": [
    "#### Write a Python Program to Print the Fibonacci sequence."
   ]
  },
  {
   "cell_type": "code",
   "execution_count": 22,
   "id": "55ed1a96",
   "metadata": {},
   "outputs": [
    {
     "name": "stdout",
     "output_type": "stream",
     "text": [
      "How many terms? 11\n",
      "Fibonacci sequence:\n",
      "0\n",
      "1\n",
      "1\n",
      "2\n",
      "3\n",
      "5\n",
      "8\n",
      "13\n",
      "21\n",
      "34\n",
      "55\n"
     ]
    }
   ],
   "source": [
    "nterms = int(input(\"How many terms? \"))\n",
    "# first two terms\n",
    "n1, n2 = 0, 1\n",
    "count = 0\n",
    "# check if the number of terms is valid\n",
    "if nterms <= 0:\n",
    "    print(\"Please enter a positive integer\")\n",
    "# if there is only one term, return n1\n",
    "elif nterms == 1:\n",
    "    print(\"Fibonacci sequence upto\",nterms,\":\")\n",
    "    print(n1)\n",
    "# generate fibonacci sequence\n",
    "else:\n",
    "    print(\"Fibonacci sequence:\")\n",
    "    while count < nterms:\n",
    "        print(n1)\n",
    "        nth = n1 + n2\n",
    "       # update values\n",
    "        n1 = n2\n",
    "        n2 = nth\n",
    "        count += 1"
   ]
  },
  {
   "cell_type": "markdown",
   "id": "fa55ad4f",
   "metadata": {},
   "source": [
    "#### Write a Python Program to Check Armstrong Number?"
   ]
  },
  {
   "cell_type": "code",
   "execution_count": 23,
   "id": "e5cc53ac",
   "metadata": {},
   "outputs": [
    {
     "name": "stdout",
     "output_type": "stream",
     "text": [
      "Enter a number: 11\n",
      "11 is not an Armstrong number.\n"
     ]
    }
   ],
   "source": [
    "num = int(input(\"Enter a number: \"))\n",
    "# Calculate the number of digits in num\n",
    "num_str = str(num)\n",
    "num_digits = len(num_str)\n",
    "# Initialize variables\n",
    "sum_of_powers = 0\n",
    "temp_num = num\n",
    "# Calculate the sum of digits raised to the power of num_digits\n",
    "while temp_num > 0:\n",
    "    digit = temp_num % 10\n",
    "    sum_of_powers += digit ** num_digits\n",
    "    temp_num //= 10\n",
    "# Check if it's an Armstrong number\n",
    "if sum_of_powers == num:\n",
    "    print(f\"{num} is an Armstrong number.\")\n",
    "else:\n",
    "     print(f\"{num} is not an Armstrong number.\")"
   ]
  },
  {
   "cell_type": "markdown",
   "id": "60fdfdff",
   "metadata": {},
   "source": [
    "####  Write a Python Program to Find Armstrong Number in an Interval."
   ]
  },
  {
   "cell_type": "code",
   "execution_count": 24,
   "id": "1a712aff",
   "metadata": {},
   "outputs": [
    {
     "name": "stdout",
     "output_type": "stream",
     "text": [
      "Enter the lower limit of the interval: 11\n",
      "Enter the upper limit of the interval: 26\n"
     ]
    }
   ],
   "source": [
    "lower = int(input(\"Enter the lower limit of the interval: \"))\n",
    "upper = int(input(\"Enter the upper limit of the interval: \"))\n",
    "for num in range(lower, upper + 1): # Iterate through the numbers i\n",
    "    order = len(str(num)) # Find the number of digits in 'num'\n",
    "    temp_num = num\n",
    "    sum = 0\n",
    "    while temp_num > 0:\n",
    "        digit = temp_num % 10\n",
    "        sum += digit ** order\n",
    "        temp_num //= 10\n",
    "    # Check if 'num' is an Armstrong number\n",
    "    if num == sum:\n",
    "        print(num)"
   ]
  },
  {
   "cell_type": "markdown",
   "id": "5637e29f",
   "metadata": {},
   "source": [
    "#### Write a Python Program to Find the Sum of Natural Numbers."
   ]
  },
  {
   "cell_type": "code",
   "execution_count": 25,
   "id": "882e06fd",
   "metadata": {},
   "outputs": [
    {
     "name": "stdout",
     "output_type": "stream",
     "text": [
      "Enter the limit: 11\n",
      "The sum of natural numbers up to 11 is: 66\n"
     ]
    }
   ],
   "source": [
    "limit = int(input(\"Enter the limit: \"))\n",
    "# Initialize the sum\n",
    "sum = 0\n",
    "# Use a for loop to calculate the sum of natural numbers\n",
    "for i in range(1, limit + 1):\n",
    "    sum += i\n",
    "# Print the sum\n",
    "print(\"The sum of natural numbers up to\", limit, \"is:\", sum)"
   ]
  },
  {
   "cell_type": "markdown",
   "id": "df05a6b7",
   "metadata": {},
   "source": [
    "#### Write a Python Program to Find LCM."
   ]
  },
  {
   "cell_type": "code",
   "execution_count": 26,
   "id": "d274a433",
   "metadata": {},
   "outputs": [
    {
     "name": "stdout",
     "output_type": "stream",
     "text": [
      "Enter the number: 11\n",
      "Enter the number: 26\n",
      "The L.C.M. is 286\n"
     ]
    }
   ],
   "source": [
    "def compute_lcm(x, y):\n",
    "    if x > y: # choose the greater number\n",
    "        greater = x\n",
    "    else:\n",
    "        greater = y\n",
    "    while(True):\n",
    "        if((greater % x == 0) and (greater % y == 0)):\n",
    "            lcm = greater\n",
    "            break\n",
    "        greater += 1\n",
    "    return lcm\n",
    "num1 = int(input('Enter the number: '))\n",
    "num2 = int(input('Enter the number: '))\n",
    "print(\"The L.C.M. is\", compute_lcm(num1, num2))"
   ]
  },
  {
   "cell_type": "markdown",
   "id": "e5cdb607",
   "metadata": {},
   "source": [
    "#### Write a Python Program to Find HCF."
   ]
  },
  {
   "cell_type": "code",
   "execution_count": 27,
   "id": "409b0ced",
   "metadata": {},
   "outputs": [
    {
     "name": "stdout",
     "output_type": "stream",
     "text": [
      "Enter the number: 11\n",
      "Enter the number: 26\n",
      "The H.C.F. is 1\n"
     ]
    }
   ],
   "source": [
    "# Python program to find H.C.F of two numbers\n",
    "# define a function\n",
    "def compute_hcf(x, y):\n",
    "# choose the smaller number\n",
    "    if x > y:\n",
    "        smaller = y\n",
    "    else:\n",
    "        smaller = x\n",
    "    for i in range(1, smaller+1):\n",
    "        if((x % i == 0) and (y % i == 0)):\n",
    "            hcf = i\n",
    "    return hcf\n",
    "num1 = int(input('Enter the number: '))\n",
    "num2 = int(input('Enter the number: '))\n",
    "print(\"The H.C.F. is\", compute_hcf(num1, num2))"
   ]
  },
  {
   "cell_type": "markdown",
   "id": "6621067c",
   "metadata": {},
   "source": [
    "#### Write a Python Program to Convert Decimal to Binary, Octal and Hexadecimal."
   ]
  },
  {
   "cell_type": "code",
   "execution_count": 28,
   "id": "b7f2b483",
   "metadata": {},
   "outputs": [
    {
     "name": "stdout",
     "output_type": "stream",
     "text": [
      "Enter a decimal number: 11\n",
      "The decimal value of 11 is:\n",
      "0b1011 in binary.\n",
      "0o13 in octal.\n",
      "0xb in hexadecimal.\n"
     ]
    }
   ],
   "source": [
    "dec_num = int(input('Enter a decimal number: '))\n",
    "print(\"The decimal value of\", dec_num, \"is:\")\n",
    "print(bin(dec_num), \"in binary.\")\n",
    "print(oct(dec_num), \"in octal.\")\n",
    "print(hex(dec_num), \"in hexadecimal.\")"
   ]
  },
  {
   "cell_type": "markdown",
   "id": "fc9a4d6b",
   "metadata": {},
   "source": [
    "#### Write a Python Program To Find ASCII value of a character."
   ]
  },
  {
   "cell_type": "code",
   "execution_count": 30,
   "id": "0035e959",
   "metadata": {},
   "outputs": [
    {
     "name": "stdout",
     "output_type": "stream",
     "text": [
      "Enter the character: S\n",
      "The ASCII value of 'S' is 83\n"
     ]
    }
   ],
   "source": [
    "char = str(input(\"Enter the character: \"))\n",
    "print(\"The ASCII value of '\" + char + \"' is\", ord(char))"
   ]
  },
  {
   "cell_type": "markdown",
   "id": "52c1e40a",
   "metadata": {},
   "source": [
    "#### Write a Python Program to Make a Simple Calculator with 4 basic mathematical operations.\n"
   ]
  },
  {
   "cell_type": "code",
   "execution_count": 31,
   "id": "3e0db03f",
   "metadata": {},
   "outputs": [
    {
     "name": "stdout",
     "output_type": "stream",
     "text": [
      "Select operation.\n",
      "1.Add\n",
      "2.Subtract\n",
      "3.Multiply\n",
      "4.Divide\n",
      "Enter choice(1/2/3/4): \n",
      "Invalid Input\n",
      "Enter choice(1/2/3/4): 11\n",
      "Invalid Input\n",
      "Enter choice(1/2/3/4): 11\n",
      "Invalid Input\n",
      "Enter choice(1/2/3/4): 2\n",
      "Enter first number: 3\n",
      "Enter second number: 4\n",
      "3.0 - 4.0 = -1.0\n",
      "Let's do next calculation? (yes/no):5\n",
      "Enter choice(1/2/3/4): no\n",
      "Invalid Input\n",
      "Enter choice(1/2/3/4): \n",
      "Invalid Input\n",
      "Enter choice(1/2/3/4): 4\n",
      "Enter first number: 5\n",
      "Enter second number: \n",
      "Invalid input. Please enter a number.\n",
      "Enter choice(1/2/3/4): 2\n",
      "Enter first number: 1\n",
      "Enter second number: 1\n",
      "1.0 - 1.0 = 0.0\n",
      "Let's do next calculation? (yes/no):no\n"
     ]
    }
   ],
   "source": [
    "# This function adds two numbers\n",
    "def add(x, y):\n",
    "    return x + y\n",
    "# This function subtracts two numbers\n",
    "def subtract(x, y):\n",
    "    return x - y\n",
    "# This function multiplies two numbers\n",
    "def multiply(x, y):\n",
    "    return x * y\n",
    "# This function divides two numbers\n",
    "def divide(x, y):\n",
    "    return x / y\n",
    "print(\"Select operation.\")\n",
    "print(\"1.Add\")\n",
    "print(\"2.Subtract\")\n",
    "print(\"3.Multiply\")\n",
    "print(\"4.Divide\")\n",
    "while True:\n",
    " # take input from the user\n",
    "    choice = input(\"Enter choice(1/2/3/4): \")\n",
    " # check if choice is one of the four options\n",
    "    if choice in ('1', '2', '3', '4'):\n",
    "        try:\n",
    "            num1 = float(input(\"Enter first number: \"))\n",
    "            num2 = float(input(\"Enter second number: \"))\n",
    "        except ValueError:\n",
    "            print(\"Invalid input. Please enter a number.\")\n",
    "            continue\n",
    "        if choice == '1':\n",
    "            print(num1, \"+\", num2, \"=\", add(num1, num2))\n",
    "        elif choice == '2':\n",
    "            print(num1, \"-\", num2, \"=\", subtract(num1, num2))\n",
    "        elif choice == '3':\n",
    "            print(num1, \"*\", num2, \"=\", multiply(num1, num2))\n",
    "        elif choice == '4':\n",
    "            print(num1, \"/\", num2, \"=\", divide(num1, num2))\n",
    " \n",
    " # check if user wants another calculation\n",
    " # break the while loop if answer is no\n",
    "        next_calculation = input(\"Let's do next calculation? (yes/no):\")\n",
    "        if next_calculation == \"no\":\n",
    "          break\n",
    "    else:\n",
    "        print(\"Invalid Input\")"
   ]
  },
  {
   "cell_type": "markdown",
   "id": "f1157a38",
   "metadata": {},
   "source": [
    "#### Write a Python Program to Display Fibonacci Sequence Using Recursion."
   ]
  },
  {
   "cell_type": "code",
   "execution_count": 32,
   "id": "3c63afa8",
   "metadata": {},
   "outputs": [
    {
     "name": "stdout",
     "output_type": "stream",
     "text": [
      "Enter the number of terms (greater than 0): 11\n",
      "Fibonacci sequence:\n",
      "0\n",
      "1\n",
      "1\n",
      "2\n",
      "3\n",
      "5\n",
      "8\n",
      "13\n",
      "21\n",
      "34\n",
      "55\n"
     ]
    }
   ],
   "source": [
    "def recur_fibo(n):\n",
    "    if n <= 1:\n",
    "        return n\n",
    "    else:\n",
    "        return(recur_fibo(n-1) + recur_fibo(n-2))\n",
    "nterms = int(input(\"Enter the number of terms (greater than 0): \"))\n",
    "# check if the number of terms is valid\n",
    "if nterms <= 0:\n",
    "    print(\"Plese enter a positive integer\")\n",
    "else:\n",
    "    print(\"Fibonacci sequence:\")\n",
    "    for i in range(nterms):\n",
    "        print(recur_fibo(i))"
   ]
  },
  {
   "cell_type": "markdown",
   "id": "35248a89",
   "metadata": {},
   "source": [
    "#### Write a Python Program to Find Factorial of Number Using Recursion."
   ]
  },
  {
   "cell_type": "code",
   "execution_count": 34,
   "id": "940493ad",
   "metadata": {},
   "outputs": [
    {
     "name": "stdout",
     "output_type": "stream",
     "text": [
      "Enter the number: 11\n",
      "The factorial of 11 is 39916800\n"
     ]
    }
   ],
   "source": [
    "def recur_factorial(n):\n",
    "    if n == 1:\n",
    "        return n\n",
    "    else:\n",
    "        return n*recur_factorial(n-1)\n",
    "num = int(input(\"Enter the number: \"))\n",
    "# check if the number is negative\n",
    "if num < 0:\n",
    "    print(\"Sorry, factorial does not exist for negative numbers\")\n",
    "elif num == 0:\n",
    "    print(\"The factorial of 0 is 1\")\n",
    "else:\n",
    "    print(\"The factorial of\", num, \"is\", recur_factorial(num))"
   ]
  },
  {
   "cell_type": "markdown",
   "id": "90896b21",
   "metadata": {},
   "source": [
    "#### Write a Python Program to calculate your Body Mass Index."
   ]
  },
  {
   "cell_type": "code",
   "execution_count": 35,
   "id": "8341784e",
   "metadata": {},
   "outputs": [
    {
     "name": "stdout",
     "output_type": "stream",
     "text": [
      "Enter your height in meters: 11\n",
      "Enter your weight in kg: 26\n",
      "Welcome to the BMI calculator.\n",
      "Your BMI is:  0.21\n",
      "You are underweight.\n"
     ]
    }
   ],
   "source": [
    "def bodymassindex(height, weight):\n",
    "    return round((weight / height**2),2)\n",
    "h = float(input(\"Enter your height in meters: \"))\n",
    "w = float(input(\"Enter your weight in kg: \"))\n",
    "print(\"Welcome to the BMI calculator.\")\n",
    "bmi = bodymassindex(h, w)\n",
    "print(\"Your BMI is: \", bmi)\n",
    "if bmi <= 18.5:\n",
    "    print(\"You are underweight.\")\n",
    "elif 18.5 < bmi <= 24.9:\n",
    "    print(\"Your weight is normal.\")\n",
    "elif 25 < bmi <= 29.29:\n",
    "    print(\"You are overweight.\")\n",
    "else:\n",
    "    print(\"You are obese.\")"
   ]
  },
  {
   "cell_type": "markdown",
   "id": "88505208",
   "metadata": {},
   "source": [
    "#### Write a Python Program to calculate the natural logarithm of any number. "
   ]
  },
  {
   "cell_type": "code",
   "execution_count": 36,
   "id": "88b44220",
   "metadata": {},
   "outputs": [
    {
     "name": "stdout",
     "output_type": "stream",
     "text": [
      "Enter a number: 11\n",
      "The natural logarithm of 11.0 is: 2.3978952727983707\n"
     ]
    }
   ],
   "source": [
    "import math\n",
    "num = float(input(\"Enter a number: \"))\n",
    "if num <= 0:\n",
    "    print(\"Please enter a positive number.\")\n",
    "else:\n",
    " # Calculate the natural logarithm (base e) of the number\n",
    "    result = math.log(num)\n",
    "    print(f\"The natural logarithm of {num} is: {result}\")"
   ]
  },
  {
   "cell_type": "markdown",
   "id": "8fab1971",
   "metadata": {},
   "source": [
    "#### Write a Python Program for cube sum of first n natural numbers?"
   ]
  },
  {
   "cell_type": "code",
   "execution_count": 39,
   "id": "669e2aef",
   "metadata": {},
   "outputs": [
    {
     "name": "stdout",
     "output_type": "stream",
     "text": [
      "Enter the value of n: 0\n",
      "Please enter a positive integer.\n"
     ]
    }
   ],
   "source": [
    "def cube_sum_of_natural_numbers(n):\n",
    "    if n <= 0:\n",
    "        return 0\n",
    "    else:\n",
    "        total = sum([i**3 for i in range(1, n + 1)])\n",
    "        return total\n",
    "# Input the number of natural numbers\n",
    "n = int(input(\"Enter the value of n: \"))\n",
    "if n <= 0:\n",
    "    print(\"Please enter a positive integer.\")\n",
    "else:\n",
    "    result = cube_sum_of_natural_numbers(n)\n",
    "    print(f\"The cube sum of the first {n} natural numbers is: {result}\")"
   ]
  },
  {
   "cell_type": "code",
   "execution_count": 1,
   "id": "78b8fc7f",
   "metadata": {},
   "outputs": [
    {
     "name": "stdout",
     "output_type": "stream",
     "text": [
      "---------------------------------------- THE END ---------------------------------------------\n"
     ]
    }
   ],
   "source": [
    "print(\"--------\"*5,'THE END',\"---------\"*5)"
   ]
  }
 ],
 "metadata": {
  "kernelspec": {
   "display_name": "Python 3 (ipykernel)",
   "language": "python",
   "name": "python3"
  },
  "language_info": {
   "codemirror_mode": {
    "name": "ipython",
    "version": 3
   },
   "file_extension": ".py",
   "mimetype": "text/x-python",
   "name": "python",
   "nbconvert_exporter": "python",
   "pygments_lexer": "ipython3",
   "version": "3.10.9"
  }
 },
 "nbformat": 4,
 "nbformat_minor": 5
}
